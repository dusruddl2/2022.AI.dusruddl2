{
 "cells": [
  {
   "cell_type": "code",
   "execution_count": 1,
   "id": "9f5596ec",
   "metadata": {
    "_cell_guid": "b1076dfc-b9ad-4769-8c92-a6c4dae69d19",
    "_uuid": "8f2839f25d086af736a60e9eeb907d3b93b6e0e5",
    "execution": {
     "iopub.execute_input": "2022-09-26T03:29:50.173677Z",
     "iopub.status.busy": "2022-09-26T03:29:50.173181Z",
     "iopub.status.idle": "2022-09-26T03:29:50.187102Z",
     "shell.execute_reply": "2022-09-26T03:29:50.185922Z"
    },
    "papermill": {
     "duration": 0.027614,
     "end_time": "2022-09-26T03:29:50.190588",
     "exception": false,
     "start_time": "2022-09-26T03:29:50.162974",
     "status": "completed"
    },
    "tags": []
   },
   "outputs": [
    {
     "name": "stdout",
     "output_type": "stream",
     "text": [
      "/kaggle/input/2022-ai-w4p1/submit.csv\n",
      "/kaggle/input/2022-ai-w4p1/train.csv\n",
      "/kaggle/input/2022-ai-w4p1/test.csv\n"
     ]
    }
   ],
   "source": [
    "# This Python 3 environment comes with many helpful analytics libraries installed\n",
    "# It is defined by the kaggle/python Docker image: https://github.com/kaggle/docker-python\n",
    "# For example, here's several helpful packages to load\n",
    "\n",
    "import numpy as np # linear algebra\n",
    "import pandas as pd # data processing, CSV file I/O (e.g. pd.read_csv)\n",
    "\n",
    "# Input data files are available in the read-only \"../input/\" directory\n",
    "# For example, running this (by clicking run or pressing Shift+Enter) will list all files under the input directory\n",
    "\n",
    "import os\n",
    "for dirname, _, filenames in os.walk('/kaggle/input'):\n",
    "    for filename in filenames:\n",
    "        print(os.path.join(dirname, filename))\n",
    "\n",
    "# You can write up to 20GB to the current directory (/kaggle/working/) that gets preserved as output when you create a version using \"Save & Run All\" \n",
    "# You can also write temporary files to /kaggle/temp/, but they won't be saved outside of the current session"
   ]
  },
  {
   "cell_type": "code",
   "execution_count": 2,
   "id": "ef881d1c",
   "metadata": {
    "execution": {
     "iopub.execute_input": "2022-09-26T03:29:50.206621Z",
     "iopub.status.busy": "2022-09-26T03:29:50.206160Z",
     "iopub.status.idle": "2022-09-26T03:29:52.009041Z",
     "shell.execute_reply": "2022-09-26T03:29:52.007874Z"
    },
    "papermill": {
     "duration": 1.813788,
     "end_time": "2022-09-26T03:29:52.011834",
     "exception": false,
     "start_time": "2022-09-26T03:29:50.198046",
     "status": "completed"
    },
    "tags": []
   },
   "outputs": [],
   "source": [
    "import random\n",
    "import torch\n",
    "import torch.optim as optim\n",
    "import torch.nn as nn\n",
    "\n",
    "seed = 42\n",
    "random.seed(seed)\n",
    "np.random.seed(seed)\n",
    "torch.manual_seed(seed)\n",
    "if torch.cuda.is_available():\n",
    "    torch.cuda.manual_seed(seed)\n",
    "    torch.cuda.manual_seed_all(seed)\n",
    "torch.backends.cudnn.benchmark = False\n",
    "torch.backends.cudnn.deterministic = True"
   ]
  },
  {
   "cell_type": "code",
   "execution_count": 3,
   "id": "c96ef1a7",
   "metadata": {
    "execution": {
     "iopub.execute_input": "2022-09-26T03:29:52.027086Z",
     "iopub.status.busy": "2022-09-26T03:29:52.026509Z",
     "iopub.status.idle": "2022-09-26T03:29:52.071195Z",
     "shell.execute_reply": "2022-09-26T03:29:52.069904Z"
    },
    "papermill": {
     "duration": 0.055373,
     "end_time": "2022-09-26T03:29:52.073983",
     "exception": false,
     "start_time": "2022-09-26T03:29:52.018610",
     "status": "completed"
    },
    "tags": []
   },
   "outputs": [
    {
     "data": {
      "text/html": [
       "<div>\n",
       "<style scoped>\n",
       "    .dataframe tbody tr th:only-of-type {\n",
       "        vertical-align: middle;\n",
       "    }\n",
       "\n",
       "    .dataframe tbody tr th {\n",
       "        vertical-align: top;\n",
       "    }\n",
       "\n",
       "    .dataframe thead th {\n",
       "        text-align: right;\n",
       "    }\n",
       "</style>\n",
       "<table border=\"1\" class=\"dataframe\">\n",
       "  <thead>\n",
       "    <tr style=\"text-align: right;\">\n",
       "      <th></th>\n",
       "      <th>Pregnancies</th>\n",
       "      <th>Glucose</th>\n",
       "      <th>BloodPressure</th>\n",
       "      <th>SkinThickness</th>\n",
       "      <th>Insulin</th>\n",
       "      <th>BMI</th>\n",
       "      <th>DiabetesPedigreeFunction</th>\n",
       "      <th>Age</th>\n",
       "      <th>Diabetes</th>\n",
       "    </tr>\n",
       "  </thead>\n",
       "  <tbody>\n",
       "    <tr>\n",
       "      <th>0</th>\n",
       "      <td>1</td>\n",
       "      <td>95</td>\n",
       "      <td>60</td>\n",
       "      <td>18</td>\n",
       "      <td>58</td>\n",
       "      <td>23.9</td>\n",
       "      <td>0.260</td>\n",
       "      <td>22</td>\n",
       "      <td>0</td>\n",
       "    </tr>\n",
       "    <tr>\n",
       "      <th>1</th>\n",
       "      <td>5</td>\n",
       "      <td>105</td>\n",
       "      <td>72</td>\n",
       "      <td>29</td>\n",
       "      <td>325</td>\n",
       "      <td>36.9</td>\n",
       "      <td>0.159</td>\n",
       "      <td>28</td>\n",
       "      <td>0</td>\n",
       "    </tr>\n",
       "    <tr>\n",
       "      <th>2</th>\n",
       "      <td>0</td>\n",
       "      <td>135</td>\n",
       "      <td>68</td>\n",
       "      <td>42</td>\n",
       "      <td>250</td>\n",
       "      <td>42.3</td>\n",
       "      <td>0.365</td>\n",
       "      <td>24</td>\n",
       "      <td>1</td>\n",
       "    </tr>\n",
       "    <tr>\n",
       "      <th>3</th>\n",
       "      <td>4</td>\n",
       "      <td>131</td>\n",
       "      <td>68</td>\n",
       "      <td>21</td>\n",
       "      <td>166</td>\n",
       "      <td>33.1</td>\n",
       "      <td>0.160</td>\n",
       "      <td>28</td>\n",
       "      <td>0</td>\n",
       "    </tr>\n",
       "    <tr>\n",
       "      <th>4</th>\n",
       "      <td>1</td>\n",
       "      <td>103</td>\n",
       "      <td>30</td>\n",
       "      <td>38</td>\n",
       "      <td>83</td>\n",
       "      <td>43.3</td>\n",
       "      <td>0.183</td>\n",
       "      <td>33</td>\n",
       "      <td>0</td>\n",
       "    </tr>\n",
       "    <tr>\n",
       "      <th>...</th>\n",
       "      <td>...</td>\n",
       "      <td>...</td>\n",
       "      <td>...</td>\n",
       "      <td>...</td>\n",
       "      <td>...</td>\n",
       "      <td>...</td>\n",
       "      <td>...</td>\n",
       "      <td>...</td>\n",
       "      <td>...</td>\n",
       "    </tr>\n",
       "    <tr>\n",
       "      <th>532</th>\n",
       "      <td>5</td>\n",
       "      <td>139</td>\n",
       "      <td>64</td>\n",
       "      <td>35</td>\n",
       "      <td>140</td>\n",
       "      <td>28.6</td>\n",
       "      <td>0.411</td>\n",
       "      <td>26</td>\n",
       "      <td>0</td>\n",
       "    </tr>\n",
       "    <tr>\n",
       "      <th>533</th>\n",
       "      <td>1</td>\n",
       "      <td>96</td>\n",
       "      <td>122</td>\n",
       "      <td>0</td>\n",
       "      <td>0</td>\n",
       "      <td>22.4</td>\n",
       "      <td>0.207</td>\n",
       "      <td>27</td>\n",
       "      <td>0</td>\n",
       "    </tr>\n",
       "    <tr>\n",
       "      <th>534</th>\n",
       "      <td>10</td>\n",
       "      <td>101</td>\n",
       "      <td>86</td>\n",
       "      <td>37</td>\n",
       "      <td>0</td>\n",
       "      <td>45.6</td>\n",
       "      <td>1.136</td>\n",
       "      <td>38</td>\n",
       "      <td>1</td>\n",
       "    </tr>\n",
       "    <tr>\n",
       "      <th>535</th>\n",
       "      <td>0</td>\n",
       "      <td>141</td>\n",
       "      <td>0</td>\n",
       "      <td>0</td>\n",
       "      <td>0</td>\n",
       "      <td>42.4</td>\n",
       "      <td>0.205</td>\n",
       "      <td>29</td>\n",
       "      <td>1</td>\n",
       "    </tr>\n",
       "    <tr>\n",
       "      <th>536</th>\n",
       "      <td>0</td>\n",
       "      <td>125</td>\n",
       "      <td>96</td>\n",
       "      <td>0</td>\n",
       "      <td>0</td>\n",
       "      <td>22.5</td>\n",
       "      <td>0.262</td>\n",
       "      <td>21</td>\n",
       "      <td>0</td>\n",
       "    </tr>\n",
       "  </tbody>\n",
       "</table>\n",
       "<p>537 rows × 9 columns</p>\n",
       "</div>"
      ],
      "text/plain": [
       "     Pregnancies  Glucose  BloodPressure  SkinThickness  Insulin   BMI  \\\n",
       "0              1       95             60             18       58  23.9   \n",
       "1              5      105             72             29      325  36.9   \n",
       "2              0      135             68             42      250  42.3   \n",
       "3              4      131             68             21      166  33.1   \n",
       "4              1      103             30             38       83  43.3   \n",
       "..           ...      ...            ...            ...      ...   ...   \n",
       "532            5      139             64             35      140  28.6   \n",
       "533            1       96            122              0        0  22.4   \n",
       "534           10      101             86             37        0  45.6   \n",
       "535            0      141              0              0        0  42.4   \n",
       "536            0      125             96              0        0  22.5   \n",
       "\n",
       "     DiabetesPedigreeFunction  Age  Diabetes  \n",
       "0                       0.260   22         0  \n",
       "1                       0.159   28         0  \n",
       "2                       0.365   24         1  \n",
       "3                       0.160   28         0  \n",
       "4                       0.183   33         0  \n",
       "..                        ...  ...       ...  \n",
       "532                     0.411   26         0  \n",
       "533                     0.207   27         0  \n",
       "534                     1.136   38         1  \n",
       "535                     0.205   29         1  \n",
       "536                     0.262   21         0  \n",
       "\n",
       "[537 rows x 9 columns]"
      ]
     },
     "execution_count": 3,
     "metadata": {},
     "output_type": "execute_result"
    }
   ],
   "source": [
    "train = pd.read_csv('../input/2022-ai-w4p1/train.csv')\n",
    "train"
   ]
  },
  {
   "cell_type": "code",
   "execution_count": 4,
   "id": "c4a104a0",
   "metadata": {
    "execution": {
     "iopub.execute_input": "2022-09-26T03:29:52.090199Z",
     "iopub.status.busy": "2022-09-26T03:29:52.089222Z",
     "iopub.status.idle": "2022-09-26T03:29:52.096724Z",
     "shell.execute_reply": "2022-09-26T03:29:52.095550Z"
    },
    "papermill": {
     "duration": 0.018238,
     "end_time": "2022-09-26T03:29:52.099311",
     "exception": false,
     "start_time": "2022-09-26T03:29:52.081073",
     "status": "completed"
    },
    "tags": []
   },
   "outputs": [],
   "source": [
    "x_train = train.iloc[:,:-1]\n",
    "y_train = train.iloc[:,-1]"
   ]
  },
  {
   "cell_type": "code",
   "execution_count": 5,
   "id": "7a636f0b",
   "metadata": {
    "execution": {
     "iopub.execute_input": "2022-09-26T03:29:52.114653Z",
     "iopub.status.busy": "2022-09-26T03:29:52.114213Z",
     "iopub.status.idle": "2022-09-26T03:29:52.119698Z",
     "shell.execute_reply": "2022-09-26T03:29:52.118781Z"
    },
    "papermill": {
     "duration": 0.015957,
     "end_time": "2022-09-26T03:29:52.122074",
     "exception": false,
     "start_time": "2022-09-26T03:29:52.106117",
     "status": "completed"
    },
    "tags": []
   },
   "outputs": [
    {
     "name": "stdout",
     "output_type": "stream",
     "text": [
      "(537, 8)\n",
      "(537,)\n"
     ]
    }
   ],
   "source": [
    "print(x_train.shape)\n",
    "print(y_train.shape)"
   ]
  },
  {
   "cell_type": "markdown",
   "id": "c9cbfd77",
   "metadata": {
    "papermill": {
     "duration": 0.006676,
     "end_time": "2022-09-26T03:29:52.135858",
     "exception": false,
     "start_time": "2022-09-26T03:29:52.129182",
     "status": "completed"
    },
    "tags": []
   },
   "source": [
    "# 데이터 정규화"
   ]
  },
  {
   "cell_type": "code",
   "execution_count": 6,
   "id": "4e0b3074",
   "metadata": {
    "execution": {
     "iopub.execute_input": "2022-09-26T03:29:52.151385Z",
     "iopub.status.busy": "2022-09-26T03:29:52.150950Z",
     "iopub.status.idle": "2022-09-26T03:29:53.129797Z",
     "shell.execute_reply": "2022-09-26T03:29:53.128612Z"
    },
    "papermill": {
     "duration": 0.989506,
     "end_time": "2022-09-26T03:29:53.132295",
     "exception": false,
     "start_time": "2022-09-26T03:29:52.142789",
     "status": "completed"
    },
    "tags": []
   },
   "outputs": [
    {
     "data": {
      "text/plain": [
       "array([[-0.8362943 , -0.80005088, -0.53576428, ..., -1.06015343,\n",
       "        -0.61421636, -0.94861028],\n",
       "       [ 0.39072767, -0.49054341,  0.12804365, ...,  0.64646721,\n",
       "        -0.90973787, -0.43466673],\n",
       "       [-1.14304979,  0.43797901, -0.09322566, ...,  1.35537117,\n",
       "        -0.30699103, -0.77729576],\n",
       "       ...,\n",
       "       [ 1.92450513, -0.6143464 ,  0.90248622, ...,  1.78859026,\n",
       "         1.94892066,  0.42190587],\n",
       "       [-1.14304979,  0.62368349, -3.8548039 , ...,  1.36849903,\n",
       "        -0.77514391, -0.34900947],\n",
       "       [-1.14304979,  0.12847154,  1.45565949, ..., -1.24394334,\n",
       "        -0.60836445, -1.03426754]])"
      ]
     },
     "execution_count": 6,
     "metadata": {},
     "output_type": "execute_result"
    }
   ],
   "source": [
    "from sklearn.preprocessing import StandardScaler\n",
    "scaler = StandardScaler()\n",
    "x_train = scaler.fit_transform(x_train)\n",
    "x_train"
   ]
  },
  {
   "cell_type": "code",
   "execution_count": 7,
   "id": "f423cfd1",
   "metadata": {
    "execution": {
     "iopub.execute_input": "2022-09-26T03:29:53.147978Z",
     "iopub.status.busy": "2022-09-26T03:29:53.147547Z",
     "iopub.status.idle": "2022-09-26T03:29:53.158494Z",
     "shell.execute_reply": "2022-09-26T03:29:53.157201Z"
    },
    "papermill": {
     "duration": 0.021847,
     "end_time": "2022-09-26T03:29:53.161042",
     "exception": false,
     "start_time": "2022-09-26T03:29:53.139195",
     "status": "completed"
    },
    "tags": []
   },
   "outputs": [
    {
     "data": {
      "text/plain": [
       "tensor([[-0.8363, -0.8001, -0.5358,  ..., -1.0602, -0.6142, -0.9486],\n",
       "        [ 0.3907, -0.4905,  0.1280,  ...,  0.6465, -0.9097, -0.4347],\n",
       "        [-1.1430,  0.4380, -0.0932,  ...,  1.3554, -0.3070, -0.7773],\n",
       "        ...,\n",
       "        [ 1.9245, -0.6143,  0.9025,  ...,  1.7886,  1.9489,  0.4219],\n",
       "        [-1.1430,  0.6237, -3.8548,  ...,  1.3685, -0.7751, -0.3490],\n",
       "        [-1.1430,  0.1285,  1.4557,  ..., -1.2439, -0.6084, -1.0343]])"
      ]
     },
     "execution_count": 7,
     "metadata": {},
     "output_type": "execute_result"
    }
   ],
   "source": [
    "x_train = torch.FloatTensor(x_train)\n",
    "x_train"
   ]
  },
  {
   "cell_type": "code",
   "execution_count": 8,
   "id": "18f99a9a",
   "metadata": {
    "execution": {
     "iopub.execute_input": "2022-09-26T03:29:53.177549Z",
     "iopub.status.busy": "2022-09-26T03:29:53.177091Z",
     "iopub.status.idle": "2022-09-26T03:29:53.184742Z",
     "shell.execute_reply": "2022-09-26T03:29:53.183921Z"
    },
    "papermill": {
     "duration": 0.018625,
     "end_time": "2022-09-26T03:29:53.186999",
     "exception": false,
     "start_time": "2022-09-26T03:29:53.168374",
     "status": "completed"
    },
    "tags": []
   },
   "outputs": [
    {
     "data": {
      "text/plain": [
       "tensor([0., 0., 1., 0., 0.])"
      ]
     },
     "execution_count": 8,
     "metadata": {},
     "output_type": "execute_result"
    }
   ],
   "source": [
    "y_train = torch.FloatTensor(y_train.to_numpy())\n",
    "y_train[:5]"
   ]
  },
  {
   "cell_type": "markdown",
   "id": "105ebe1d",
   "metadata": {
    "papermill": {
     "duration": 0.006917,
     "end_time": "2022-09-26T03:29:53.201294",
     "exception": false,
     "start_time": "2022-09-26T03:29:53.194377",
     "status": "completed"
    },
    "tags": []
   },
   "source": [
    "# 모델 학습하기"
   ]
  },
  {
   "cell_type": "code",
   "execution_count": 9,
   "id": "f57b2ca9",
   "metadata": {
    "execution": {
     "iopub.execute_input": "2022-09-26T03:29:53.217875Z",
     "iopub.status.busy": "2022-09-26T03:29:53.216794Z",
     "iopub.status.idle": "2022-09-26T03:29:53.223722Z",
     "shell.execute_reply": "2022-09-26T03:29:53.222906Z"
    },
    "papermill": {
     "duration": 0.017439,
     "end_time": "2022-09-26T03:29:53.225922",
     "exception": false,
     "start_time": "2022-09-26T03:29:53.208483",
     "status": "completed"
    },
    "tags": []
   },
   "outputs": [],
   "source": [
    "class CustomModel(nn.Module):\n",
    "    def __init__(self):\n",
    "        super(CustomModel, self).__init__()\n",
    "        self.layer = nn.Sequential(\n",
    "            nn.Linear(8, 120),\n",
    "            nn.Linear(120, 84),\n",
    "            nn.Linear(84, 1),\n",
    "            nn.Sigmoid()\n",
    "        )\n",
    "\n",
    "    def forward(self, x):\n",
    "        x = self.layer(x)\n",
    "        return x"
   ]
  },
  {
   "cell_type": "code",
   "execution_count": 10,
   "id": "88fd125d",
   "metadata": {
    "execution": {
     "iopub.execute_input": "2022-09-26T03:29:53.243198Z",
     "iopub.status.busy": "2022-09-26T03:29:53.242499Z",
     "iopub.status.idle": "2022-09-26T03:29:53.251199Z",
     "shell.execute_reply": "2022-09-26T03:29:53.250254Z"
    },
    "papermill": {
     "duration": 0.019397,
     "end_time": "2022-09-26T03:29:53.253601",
     "exception": false,
     "start_time": "2022-09-26T03:29:53.234204",
     "status": "completed"
    },
    "tags": []
   },
   "outputs": [],
   "source": [
    "model = CustomModel()"
   ]
  },
  {
   "cell_type": "code",
   "execution_count": 11,
   "id": "4bc76e05",
   "metadata": {
    "execution": {
     "iopub.execute_input": "2022-09-26T03:29:53.270248Z",
     "iopub.status.busy": "2022-09-26T03:29:53.269562Z",
     "iopub.status.idle": "2022-09-26T03:32:14.485699Z",
     "shell.execute_reply": "2022-09-26T03:32:14.484379Z"
    },
    "papermill": {
     "duration": 141.227863,
     "end_time": "2022-09-26T03:32:14.488767",
     "exception": false,
     "start_time": "2022-09-26T03:29:53.260904",
     "status": "completed"
    },
    "tags": []
   },
   "outputs": [
    {
     "name": "stdout",
     "output_type": "stream",
     "text": [
      "Epoch:    0/100000  Cost:0.725053\n",
      "Epoch: 10000/100000  Cost:0.459388\n",
      "Epoch: 20000/100000  Cost:0.459388\n",
      "Epoch: 30000/100000  Cost:0.459388\n",
      "Epoch: 40000/100000  Cost:0.459388\n",
      "Epoch: 50000/100000  Cost:0.459388\n",
      "Epoch: 60000/100000  Cost:0.459388\n",
      "Epoch: 70000/100000  Cost:0.459388\n",
      "Epoch: 80000/100000  Cost:0.459388\n",
      "Epoch: 90000/100000  Cost:0.459388\n",
      "Epoch: 100000/100000  Cost:0.459388\n"
     ]
    }
   ],
   "source": [
    "# optimzier 선택\n",
    "optimizer = optim.Adam(model.parameters(),lr=1e-5)\n",
    "\n",
    "nb_epochs = 100000\n",
    "for epoch in range(nb_epochs+1):\n",
    "\n",
    "    \n",
    "    #H(x)\n",
    "    hypothesis = model(x_train)\n",
    "    \n",
    "    #cost\n",
    "    loss = nn.BCELoss()\n",
    "    cost = loss(hypothesis, y_train.unsqueeze(1))\n",
    "    \n",
    "    \n",
    "    #\n",
    "    optimizer.zero_grad()\n",
    "    cost.backward()\n",
    "    optimizer.step()\n",
    "    \n",
    "    if epoch%10000==0:\n",
    "        print('Epoch: {:4d}/{}  Cost:{:.6f}'.format(\n",
    "            epoch, nb_epochs, cost.item()\n",
    "        ))"
   ]
  },
  {
   "cell_type": "code",
   "execution_count": 12,
   "id": "1fa36588",
   "metadata": {
    "execution": {
     "iopub.execute_input": "2022-09-26T03:32:14.507295Z",
     "iopub.status.busy": "2022-09-26T03:32:14.506882Z",
     "iopub.status.idle": "2022-09-26T03:32:14.517765Z",
     "shell.execute_reply": "2022-09-26T03:32:14.516865Z"
    },
    "papermill": {
     "duration": 0.02299,
     "end_time": "2022-09-26T03:32:14.519939",
     "exception": false,
     "start_time": "2022-09-26T03:32:14.496949",
     "status": "completed"
    },
    "tags": []
   },
   "outputs": [
    {
     "data": {
      "text/plain": [
       "0.7821229050279329"
      ]
     },
     "execution_count": 12,
     "metadata": {},
     "output_type": "execute_result"
    }
   ],
   "source": [
    "hypothesis = model(x_train)\n",
    "hypothesis[:5]\n",
    "\n",
    "prediction = hypothesis >= torch.FloatTensor([0.5])\n",
    "\n",
    "correct_prediction = prediction.float() == y_train.unsqueeze(1)\n",
    "accuracy = correct_prediction.sum().item() / len(correct_prediction)\n",
    "accuracy"
   ]
  },
  {
   "cell_type": "markdown",
   "id": "533e1719",
   "metadata": {
    "papermill": {
     "duration": 0.00769,
     "end_time": "2022-09-26T03:32:14.535813",
     "exception": false,
     "start_time": "2022-09-26T03:32:14.528123",
     "status": "completed"
    },
    "tags": []
   },
   "source": [
    "# 모델 테스트하기"
   ]
  },
  {
   "cell_type": "code",
   "execution_count": 13,
   "id": "779bce74",
   "metadata": {
    "execution": {
     "iopub.execute_input": "2022-09-26T03:32:14.554721Z",
     "iopub.status.busy": "2022-09-26T03:32:14.553695Z",
     "iopub.status.idle": "2022-09-26T03:32:14.579051Z",
     "shell.execute_reply": "2022-09-26T03:32:14.577939Z"
    },
    "papermill": {
     "duration": 0.037381,
     "end_time": "2022-09-26T03:32:14.581630",
     "exception": false,
     "start_time": "2022-09-26T03:32:14.544249",
     "status": "completed"
    },
    "tags": []
   },
   "outputs": [
    {
     "data": {
      "text/html": [
       "<div>\n",
       "<style scoped>\n",
       "    .dataframe tbody tr th:only-of-type {\n",
       "        vertical-align: middle;\n",
       "    }\n",
       "\n",
       "    .dataframe tbody tr th {\n",
       "        vertical-align: top;\n",
       "    }\n",
       "\n",
       "    .dataframe thead th {\n",
       "        text-align: right;\n",
       "    }\n",
       "</style>\n",
       "<table border=\"1\" class=\"dataframe\">\n",
       "  <thead>\n",
       "    <tr style=\"text-align: right;\">\n",
       "      <th></th>\n",
       "      <th>Pregnancies</th>\n",
       "      <th>Glucose</th>\n",
       "      <th>BloodPressure</th>\n",
       "      <th>SkinThickness</th>\n",
       "      <th>Insulin</th>\n",
       "      <th>BMI</th>\n",
       "      <th>DiabetesPedigreeFunction</th>\n",
       "      <th>Age</th>\n",
       "    </tr>\n",
       "  </thead>\n",
       "  <tbody>\n",
       "    <tr>\n",
       "      <th>0</th>\n",
       "      <td>6</td>\n",
       "      <td>98</td>\n",
       "      <td>58</td>\n",
       "      <td>33</td>\n",
       "      <td>190</td>\n",
       "      <td>34.0</td>\n",
       "      <td>0.430</td>\n",
       "      <td>43</td>\n",
       "    </tr>\n",
       "    <tr>\n",
       "      <th>1</th>\n",
       "      <td>2</td>\n",
       "      <td>112</td>\n",
       "      <td>75</td>\n",
       "      <td>32</td>\n",
       "      <td>0</td>\n",
       "      <td>35.7</td>\n",
       "      <td>0.148</td>\n",
       "      <td>21</td>\n",
       "    </tr>\n",
       "    <tr>\n",
       "      <th>2</th>\n",
       "      <td>2</td>\n",
       "      <td>108</td>\n",
       "      <td>64</td>\n",
       "      <td>0</td>\n",
       "      <td>0</td>\n",
       "      <td>30.8</td>\n",
       "      <td>0.158</td>\n",
       "      <td>21</td>\n",
       "    </tr>\n",
       "    <tr>\n",
       "      <th>3</th>\n",
       "      <td>8</td>\n",
       "      <td>107</td>\n",
       "      <td>80</td>\n",
       "      <td>0</td>\n",
       "      <td>0</td>\n",
       "      <td>24.6</td>\n",
       "      <td>0.856</td>\n",
       "      <td>34</td>\n",
       "    </tr>\n",
       "    <tr>\n",
       "      <th>4</th>\n",
       "      <td>7</td>\n",
       "      <td>136</td>\n",
       "      <td>90</td>\n",
       "      <td>0</td>\n",
       "      <td>0</td>\n",
       "      <td>29.9</td>\n",
       "      <td>0.210</td>\n",
       "      <td>50</td>\n",
       "    </tr>\n",
       "    <tr>\n",
       "      <th>...</th>\n",
       "      <td>...</td>\n",
       "      <td>...</td>\n",
       "      <td>...</td>\n",
       "      <td>...</td>\n",
       "      <td>...</td>\n",
       "      <td>...</td>\n",
       "      <td>...</td>\n",
       "      <td>...</td>\n",
       "    </tr>\n",
       "    <tr>\n",
       "      <th>226</th>\n",
       "      <td>0</td>\n",
       "      <td>119</td>\n",
       "      <td>0</td>\n",
       "      <td>0</td>\n",
       "      <td>0</td>\n",
       "      <td>32.4</td>\n",
       "      <td>0.141</td>\n",
       "      <td>24</td>\n",
       "    </tr>\n",
       "    <tr>\n",
       "      <th>227</th>\n",
       "      <td>4</td>\n",
       "      <td>109</td>\n",
       "      <td>64</td>\n",
       "      <td>44</td>\n",
       "      <td>99</td>\n",
       "      <td>34.8</td>\n",
       "      <td>0.905</td>\n",
       "      <td>26</td>\n",
       "    </tr>\n",
       "    <tr>\n",
       "      <th>228</th>\n",
       "      <td>0</td>\n",
       "      <td>127</td>\n",
       "      <td>80</td>\n",
       "      <td>37</td>\n",
       "      <td>210</td>\n",
       "      <td>36.3</td>\n",
       "      <td>0.804</td>\n",
       "      <td>23</td>\n",
       "    </tr>\n",
       "    <tr>\n",
       "      <th>229</th>\n",
       "      <td>6</td>\n",
       "      <td>105</td>\n",
       "      <td>70</td>\n",
       "      <td>32</td>\n",
       "      <td>68</td>\n",
       "      <td>30.8</td>\n",
       "      <td>0.122</td>\n",
       "      <td>37</td>\n",
       "    </tr>\n",
       "    <tr>\n",
       "      <th>230</th>\n",
       "      <td>5</td>\n",
       "      <td>77</td>\n",
       "      <td>82</td>\n",
       "      <td>41</td>\n",
       "      <td>42</td>\n",
       "      <td>35.8</td>\n",
       "      <td>0.156</td>\n",
       "      <td>35</td>\n",
       "    </tr>\n",
       "  </tbody>\n",
       "</table>\n",
       "<p>231 rows × 8 columns</p>\n",
       "</div>"
      ],
      "text/plain": [
       "     Pregnancies  Glucose  BloodPressure  SkinThickness  Insulin   BMI  \\\n",
       "0              6       98             58             33      190  34.0   \n",
       "1              2      112             75             32        0  35.7   \n",
       "2              2      108             64              0        0  30.8   \n",
       "3              8      107             80              0        0  24.6   \n",
       "4              7      136             90              0        0  29.9   \n",
       "..           ...      ...            ...            ...      ...   ...   \n",
       "226            0      119              0              0        0  32.4   \n",
       "227            4      109             64             44       99  34.8   \n",
       "228            0      127             80             37      210  36.3   \n",
       "229            6      105             70             32       68  30.8   \n",
       "230            5       77             82             41       42  35.8   \n",
       "\n",
       "     DiabetesPedigreeFunction  Age  \n",
       "0                       0.430   43  \n",
       "1                       0.148   21  \n",
       "2                       0.158   21  \n",
       "3                       0.856   34  \n",
       "4                       0.210   50  \n",
       "..                        ...  ...  \n",
       "226                     0.141   24  \n",
       "227                     0.905   26  \n",
       "228                     0.804   23  \n",
       "229                     0.122   37  \n",
       "230                     0.156   35  \n",
       "\n",
       "[231 rows x 8 columns]"
      ]
     },
     "execution_count": 13,
     "metadata": {},
     "output_type": "execute_result"
    }
   ],
   "source": [
    "x_test = pd.read_csv('../input/2022-ai-w4p1/test.csv')\n",
    "x_test"
   ]
  },
  {
   "cell_type": "markdown",
   "id": "d7231627",
   "metadata": {
    "papermill": {
     "duration": 0.007846,
     "end_time": "2022-09-26T03:32:14.597858",
     "exception": false,
     "start_time": "2022-09-26T03:32:14.590012",
     "status": "completed"
    },
    "tags": []
   },
   "source": [
    "# 정규화"
   ]
  },
  {
   "cell_type": "code",
   "execution_count": 14,
   "id": "91c5db7d",
   "metadata": {
    "execution": {
     "iopub.execute_input": "2022-09-26T03:32:14.616070Z",
     "iopub.status.busy": "2022-09-26T03:32:14.615241Z",
     "iopub.status.idle": "2022-09-26T03:32:14.626149Z",
     "shell.execute_reply": "2022-09-26T03:32:14.624990Z"
    },
    "papermill": {
     "duration": 0.022389,
     "end_time": "2022-09-26T03:32:14.628342",
     "exception": false,
     "start_time": "2022-09-26T03:32:14.605953",
     "status": "completed"
    },
    "tags": []
   },
   "outputs": [
    {
     "data": {
      "text/plain": [
       "array([[ 0.69748316, -0.70719864, -0.64639893, ...,  0.26575953,\n",
       "        -0.11680393,  0.85019217],\n",
       "       [-0.52953881, -0.27388818,  0.29399563, ...,  0.488933  ,\n",
       "        -0.94192338, -1.03426754],\n",
       "       [-0.52953881, -0.39769117, -0.31449497, ..., -0.1543317 ,\n",
       "        -0.91266382, -1.03426754],\n",
       "       ...,\n",
       "       [-1.14304979,  0.19037303,  0.57058226, ...,  0.56770011,\n",
       "         0.97750343, -0.86295302],\n",
       "       [ 0.69748316, -0.49054341,  0.01740899, ..., -0.1543317 ,\n",
       "        -1.01799822,  0.33624861],\n",
       "       [ 0.39072767, -1.35716433,  0.68121692, ...,  0.50206085,\n",
       "        -0.91851573,  0.16493409]])"
      ]
     },
     "execution_count": 14,
     "metadata": {},
     "output_type": "execute_result"
    }
   ],
   "source": [
    "x_test = scaler.transform(x_test)\n",
    "x_test"
   ]
  },
  {
   "cell_type": "code",
   "execution_count": 15,
   "id": "d5cc2ebf",
   "metadata": {
    "execution": {
     "iopub.execute_input": "2022-09-26T03:32:14.647301Z",
     "iopub.status.busy": "2022-09-26T03:32:14.646547Z",
     "iopub.status.idle": "2022-09-26T03:32:14.654646Z",
     "shell.execute_reply": "2022-09-26T03:32:14.653844Z"
    },
    "papermill": {
     "duration": 0.020142,
     "end_time": "2022-09-26T03:32:14.656746",
     "exception": false,
     "start_time": "2022-09-26T03:32:14.636604",
     "status": "completed"
    },
    "tags": []
   },
   "outputs": [
    {
     "data": {
      "text/plain": [
       "tensor([[ 0.6975, -0.7072, -0.6464,  ...,  0.2658, -0.1168,  0.8502],\n",
       "        [-0.5295, -0.2739,  0.2940,  ...,  0.4889, -0.9419, -1.0343],\n",
       "        [-0.5295, -0.3977, -0.3145,  ..., -0.1543, -0.9127, -1.0343],\n",
       "        ...,\n",
       "        [-1.1430,  0.1904,  0.5706,  ...,  0.5677,  0.9775, -0.8630],\n",
       "        [ 0.6975, -0.4905,  0.0174,  ..., -0.1543, -1.0180,  0.3362],\n",
       "        [ 0.3907, -1.3572,  0.6812,  ...,  0.5021, -0.9185,  0.1649]])"
      ]
     },
     "execution_count": 15,
     "metadata": {},
     "output_type": "execute_result"
    }
   ],
   "source": [
    "x_test = torch.FloatTensor(x_test)\n",
    "x_test"
   ]
  },
  {
   "cell_type": "code",
   "execution_count": 16,
   "id": "01608fa2",
   "metadata": {
    "execution": {
     "iopub.execute_input": "2022-09-26T03:32:14.675672Z",
     "iopub.status.busy": "2022-09-26T03:32:14.675228Z",
     "iopub.status.idle": "2022-09-26T03:32:14.683309Z",
     "shell.execute_reply": "2022-09-26T03:32:14.682483Z"
    },
    "papermill": {
     "duration": 0.019919,
     "end_time": "2022-09-26T03:32:14.685448",
     "exception": false,
     "start_time": "2022-09-26T03:32:14.665529",
     "status": "completed"
    },
    "tags": []
   },
   "outputs": [
    {
     "data": {
      "text/plain": [
       "tensor([[0.2659],\n",
       "        [0.1878],\n",
       "        [0.1224],\n",
       "        [0.1486],\n",
       "        [0.5023]], grad_fn=<SliceBackward0>)"
      ]
     },
     "execution_count": 16,
     "metadata": {},
     "output_type": "execute_result"
    }
   ],
   "source": [
    "hypothesis = model(x_test)\n",
    "hypothesis[:5]"
   ]
  },
  {
   "cell_type": "code",
   "execution_count": 17,
   "id": "0d6629ab",
   "metadata": {
    "execution": {
     "iopub.execute_input": "2022-09-26T03:32:14.706401Z",
     "iopub.status.busy": "2022-09-26T03:32:14.706004Z",
     "iopub.status.idle": "2022-09-26T03:32:14.712791Z",
     "shell.execute_reply": "2022-09-26T03:32:14.712000Z"
    },
    "papermill": {
     "duration": 0.018958,
     "end_time": "2022-09-26T03:32:14.714708",
     "exception": false,
     "start_time": "2022-09-26T03:32:14.695750",
     "status": "completed"
    },
    "tags": []
   },
   "outputs": [
    {
     "data": {
      "text/plain": [
       "tensor([[0],\n",
       "        [0],\n",
       "        [0],\n",
       "        [0],\n",
       "        [1]], dtype=torch.int32)"
      ]
     },
     "execution_count": 17,
     "metadata": {},
     "output_type": "execute_result"
    }
   ],
   "source": [
    "prediction = hypothesis >= torch.FloatTensor([0.5])\n",
    "prediction = prediction.int()\n",
    "prediction[:5]"
   ]
  },
  {
   "cell_type": "markdown",
   "id": "680b08dc",
   "metadata": {
    "papermill": {
     "duration": 0.008275,
     "end_time": "2022-09-26T03:32:14.731629",
     "exception": false,
     "start_time": "2022-09-26T03:32:14.723354",
     "status": "completed"
    },
    "tags": []
   },
   "source": [
    "# 제출용 파일 만들기"
   ]
  },
  {
   "cell_type": "code",
   "execution_count": 18,
   "id": "6de8aa53",
   "metadata": {
    "execution": {
     "iopub.execute_input": "2022-09-26T03:32:14.750989Z",
     "iopub.status.busy": "2022-09-26T03:32:14.750559Z",
     "iopub.status.idle": "2022-09-26T03:32:14.765018Z",
     "shell.execute_reply": "2022-09-26T03:32:14.763874Z"
    },
    "papermill": {
     "duration": 0.026536,
     "end_time": "2022-09-26T03:32:14.767247",
     "exception": false,
     "start_time": "2022-09-26T03:32:14.740711",
     "status": "completed"
    },
    "tags": []
   },
   "outputs": [
    {
     "data": {
      "text/html": [
       "<div>\n",
       "<style scoped>\n",
       "    .dataframe tbody tr th:only-of-type {\n",
       "        vertical-align: middle;\n",
       "    }\n",
       "\n",
       "    .dataframe tbody tr th {\n",
       "        vertical-align: top;\n",
       "    }\n",
       "\n",
       "    .dataframe thead th {\n",
       "        text-align: right;\n",
       "    }\n",
       "</style>\n",
       "<table border=\"1\" class=\"dataframe\">\n",
       "  <thead>\n",
       "    <tr style=\"text-align: right;\">\n",
       "      <th></th>\n",
       "      <th>Diabetes</th>\n",
       "    </tr>\n",
       "  </thead>\n",
       "  <tbody>\n",
       "    <tr>\n",
       "      <th>0</th>\n",
       "      <td>0</td>\n",
       "    </tr>\n",
       "    <tr>\n",
       "      <th>1</th>\n",
       "      <td>0</td>\n",
       "    </tr>\n",
       "    <tr>\n",
       "      <th>2</th>\n",
       "      <td>0</td>\n",
       "    </tr>\n",
       "    <tr>\n",
       "      <th>3</th>\n",
       "      <td>0</td>\n",
       "    </tr>\n",
       "    <tr>\n",
       "      <th>4</th>\n",
       "      <td>1</td>\n",
       "    </tr>\n",
       "    <tr>\n",
       "      <th>...</th>\n",
       "      <td>...</td>\n",
       "    </tr>\n",
       "    <tr>\n",
       "      <th>226</th>\n",
       "      <td>0</td>\n",
       "    </tr>\n",
       "    <tr>\n",
       "      <th>227</th>\n",
       "      <td>0</td>\n",
       "    </tr>\n",
       "    <tr>\n",
       "      <th>228</th>\n",
       "      <td>0</td>\n",
       "    </tr>\n",
       "    <tr>\n",
       "      <th>229</th>\n",
       "      <td>0</td>\n",
       "    </tr>\n",
       "    <tr>\n",
       "      <th>230</th>\n",
       "      <td>0</td>\n",
       "    </tr>\n",
       "  </tbody>\n",
       "</table>\n",
       "<p>231 rows × 1 columns</p>\n",
       "</div>"
      ],
      "text/plain": [
       "     Diabetes\n",
       "0           0\n",
       "1           0\n",
       "2           0\n",
       "3           0\n",
       "4           1\n",
       "..        ...\n",
       "226         0\n",
       "227         0\n",
       "228         0\n",
       "229         0\n",
       "230         0\n",
       "\n",
       "[231 rows x 1 columns]"
      ]
     },
     "execution_count": 18,
     "metadata": {},
     "output_type": "execute_result"
    }
   ],
   "source": [
    "prediction = np.array(prediction)\n",
    "prediction = pd.DataFrame(prediction,columns=['Diabetes'])\n",
    "prediction"
   ]
  },
  {
   "cell_type": "code",
   "execution_count": 19,
   "id": "6cee1d84",
   "metadata": {
    "execution": {
     "iopub.execute_input": "2022-09-26T03:32:14.787148Z",
     "iopub.status.busy": "2022-09-26T03:32:14.786409Z",
     "iopub.status.idle": "2022-09-26T03:32:14.803401Z",
     "shell.execute_reply": "2022-09-26T03:32:14.802170Z"
    },
    "papermill": {
     "duration": 0.030175,
     "end_time": "2022-09-26T03:32:14.806345",
     "exception": false,
     "start_time": "2022-09-26T03:32:14.776170",
     "status": "completed"
    },
    "tags": []
   },
   "outputs": [
    {
     "data": {
      "text/html": [
       "<div>\n",
       "<style scoped>\n",
       "    .dataframe tbody tr th:only-of-type {\n",
       "        vertical-align: middle;\n",
       "    }\n",
       "\n",
       "    .dataframe tbody tr th {\n",
       "        vertical-align: top;\n",
       "    }\n",
       "\n",
       "    .dataframe thead th {\n",
       "        text-align: right;\n",
       "    }\n",
       "</style>\n",
       "<table border=\"1\" class=\"dataframe\">\n",
       "  <thead>\n",
       "    <tr style=\"text-align: right;\">\n",
       "      <th></th>\n",
       "      <th>ID</th>\n",
       "      <th>Diabetes</th>\n",
       "    </tr>\n",
       "  </thead>\n",
       "  <tbody>\n",
       "    <tr>\n",
       "      <th>0</th>\n",
       "      <td>0</td>\n",
       "      <td>0</td>\n",
       "    </tr>\n",
       "    <tr>\n",
       "      <th>1</th>\n",
       "      <td>1</td>\n",
       "      <td>0</td>\n",
       "    </tr>\n",
       "    <tr>\n",
       "      <th>2</th>\n",
       "      <td>2</td>\n",
       "      <td>0</td>\n",
       "    </tr>\n",
       "    <tr>\n",
       "      <th>3</th>\n",
       "      <td>3</td>\n",
       "      <td>0</td>\n",
       "    </tr>\n",
       "    <tr>\n",
       "      <th>4</th>\n",
       "      <td>4</td>\n",
       "      <td>0</td>\n",
       "    </tr>\n",
       "    <tr>\n",
       "      <th>...</th>\n",
       "      <td>...</td>\n",
       "      <td>...</td>\n",
       "    </tr>\n",
       "    <tr>\n",
       "      <th>226</th>\n",
       "      <td>226</td>\n",
       "      <td>0</td>\n",
       "    </tr>\n",
       "    <tr>\n",
       "      <th>227</th>\n",
       "      <td>227</td>\n",
       "      <td>0</td>\n",
       "    </tr>\n",
       "    <tr>\n",
       "      <th>228</th>\n",
       "      <td>228</td>\n",
       "      <td>0</td>\n",
       "    </tr>\n",
       "    <tr>\n",
       "      <th>229</th>\n",
       "      <td>229</td>\n",
       "      <td>0</td>\n",
       "    </tr>\n",
       "    <tr>\n",
       "      <th>230</th>\n",
       "      <td>230</td>\n",
       "      <td>0</td>\n",
       "    </tr>\n",
       "  </tbody>\n",
       "</table>\n",
       "<p>231 rows × 2 columns</p>\n",
       "</div>"
      ],
      "text/plain": [
       "      ID  Diabetes\n",
       "0      0         0\n",
       "1      1         0\n",
       "2      2         0\n",
       "3      3         0\n",
       "4      4         0\n",
       "..   ...       ...\n",
       "226  226         0\n",
       "227  227         0\n",
       "228  228         0\n",
       "229  229         0\n",
       "230  230         0\n",
       "\n",
       "[231 rows x 2 columns]"
      ]
     },
     "execution_count": 19,
     "metadata": {},
     "output_type": "execute_result"
    }
   ],
   "source": [
    "submit = pd.read_csv('../input/2022-ai-w4p1/submit.csv')\n",
    "submit"
   ]
  },
  {
   "cell_type": "code",
   "execution_count": 20,
   "id": "70495004",
   "metadata": {
    "execution": {
     "iopub.execute_input": "2022-09-26T03:32:14.826213Z",
     "iopub.status.busy": "2022-09-26T03:32:14.825807Z",
     "iopub.status.idle": "2022-09-26T03:32:14.845363Z",
     "shell.execute_reply": "2022-09-26T03:32:14.844346Z"
    },
    "papermill": {
     "duration": 0.032201,
     "end_time": "2022-09-26T03:32:14.847670",
     "exception": false,
     "start_time": "2022-09-26T03:32:14.815469",
     "status": "completed"
    },
    "tags": []
   },
   "outputs": [
    {
     "data": {
      "text/html": [
       "<div>\n",
       "<style scoped>\n",
       "    .dataframe tbody tr th:only-of-type {\n",
       "        vertical-align: middle;\n",
       "    }\n",
       "\n",
       "    .dataframe tbody tr th {\n",
       "        vertical-align: top;\n",
       "    }\n",
       "\n",
       "    .dataframe thead th {\n",
       "        text-align: right;\n",
       "    }\n",
       "</style>\n",
       "<table border=\"1\" class=\"dataframe\">\n",
       "  <thead>\n",
       "    <tr style=\"text-align: right;\">\n",
       "      <th></th>\n",
       "      <th>ID</th>\n",
       "      <th>Diabetes</th>\n",
       "    </tr>\n",
       "  </thead>\n",
       "  <tbody>\n",
       "    <tr>\n",
       "      <th>0</th>\n",
       "      <td>0</td>\n",
       "      <td>0</td>\n",
       "    </tr>\n",
       "    <tr>\n",
       "      <th>1</th>\n",
       "      <td>1</td>\n",
       "      <td>0</td>\n",
       "    </tr>\n",
       "    <tr>\n",
       "      <th>2</th>\n",
       "      <td>2</td>\n",
       "      <td>0</td>\n",
       "    </tr>\n",
       "    <tr>\n",
       "      <th>3</th>\n",
       "      <td>3</td>\n",
       "      <td>0</td>\n",
       "    </tr>\n",
       "    <tr>\n",
       "      <th>4</th>\n",
       "      <td>4</td>\n",
       "      <td>1</td>\n",
       "    </tr>\n",
       "    <tr>\n",
       "      <th>...</th>\n",
       "      <td>...</td>\n",
       "      <td>...</td>\n",
       "    </tr>\n",
       "    <tr>\n",
       "      <th>226</th>\n",
       "      <td>226</td>\n",
       "      <td>0</td>\n",
       "    </tr>\n",
       "    <tr>\n",
       "      <th>227</th>\n",
       "      <td>227</td>\n",
       "      <td>0</td>\n",
       "    </tr>\n",
       "    <tr>\n",
       "      <th>228</th>\n",
       "      <td>228</td>\n",
       "      <td>0</td>\n",
       "    </tr>\n",
       "    <tr>\n",
       "      <th>229</th>\n",
       "      <td>229</td>\n",
       "      <td>0</td>\n",
       "    </tr>\n",
       "    <tr>\n",
       "      <th>230</th>\n",
       "      <td>230</td>\n",
       "      <td>0</td>\n",
       "    </tr>\n",
       "  </tbody>\n",
       "</table>\n",
       "<p>231 rows × 2 columns</p>\n",
       "</div>"
      ],
      "text/plain": [
       "      ID  Diabetes\n",
       "0      0         0\n",
       "1      1         0\n",
       "2      2         0\n",
       "3      3         0\n",
       "4      4         1\n",
       "..   ...       ...\n",
       "226  226         0\n",
       "227  227         0\n",
       "228  228         0\n",
       "229  229         0\n",
       "230  230         0\n",
       "\n",
       "[231 rows x 2 columns]"
      ]
     },
     "execution_count": 20,
     "metadata": {},
     "output_type": "execute_result"
    }
   ],
   "source": [
    "submit.update(prediction)\n",
    "submit"
   ]
  },
  {
   "cell_type": "code",
   "execution_count": 21,
   "id": "df034c8f",
   "metadata": {
    "execution": {
     "iopub.execute_input": "2022-09-26T03:32:14.868609Z",
     "iopub.status.busy": "2022-09-26T03:32:14.868169Z",
     "iopub.status.idle": "2022-09-26T03:32:14.881611Z",
     "shell.execute_reply": "2022-09-26T03:32:14.880795Z"
    },
    "papermill": {
     "duration": 0.026324,
     "end_time": "2022-09-26T03:32:14.883609",
     "exception": false,
     "start_time": "2022-09-26T03:32:14.857285",
     "status": "completed"
    },
    "tags": []
   },
   "outputs": [
    {
     "data": {
      "text/html": [
       "<div>\n",
       "<style scoped>\n",
       "    .dataframe tbody tr th:only-of-type {\n",
       "        vertical-align: middle;\n",
       "    }\n",
       "\n",
       "    .dataframe tbody tr th {\n",
       "        vertical-align: top;\n",
       "    }\n",
       "\n",
       "    .dataframe thead th {\n",
       "        text-align: right;\n",
       "    }\n",
       "</style>\n",
       "<table border=\"1\" class=\"dataframe\">\n",
       "  <thead>\n",
       "    <tr style=\"text-align: right;\">\n",
       "      <th></th>\n",
       "      <th>ID</th>\n",
       "      <th>Diabetes</th>\n",
       "    </tr>\n",
       "  </thead>\n",
       "  <tbody>\n",
       "    <tr>\n",
       "      <th>0</th>\n",
       "      <td>0</td>\n",
       "      <td>0</td>\n",
       "    </tr>\n",
       "    <tr>\n",
       "      <th>1</th>\n",
       "      <td>1</td>\n",
       "      <td>0</td>\n",
       "    </tr>\n",
       "    <tr>\n",
       "      <th>2</th>\n",
       "      <td>2</td>\n",
       "      <td>0</td>\n",
       "    </tr>\n",
       "    <tr>\n",
       "      <th>3</th>\n",
       "      <td>3</td>\n",
       "      <td>0</td>\n",
       "    </tr>\n",
       "    <tr>\n",
       "      <th>4</th>\n",
       "      <td>4</td>\n",
       "      <td>1</td>\n",
       "    </tr>\n",
       "    <tr>\n",
       "      <th>...</th>\n",
       "      <td>...</td>\n",
       "      <td>...</td>\n",
       "    </tr>\n",
       "    <tr>\n",
       "      <th>226</th>\n",
       "      <td>226</td>\n",
       "      <td>0</td>\n",
       "    </tr>\n",
       "    <tr>\n",
       "      <th>227</th>\n",
       "      <td>227</td>\n",
       "      <td>0</td>\n",
       "    </tr>\n",
       "    <tr>\n",
       "      <th>228</th>\n",
       "      <td>228</td>\n",
       "      <td>0</td>\n",
       "    </tr>\n",
       "    <tr>\n",
       "      <th>229</th>\n",
       "      <td>229</td>\n",
       "      <td>0</td>\n",
       "    </tr>\n",
       "    <tr>\n",
       "      <th>230</th>\n",
       "      <td>230</td>\n",
       "      <td>0</td>\n",
       "    </tr>\n",
       "  </tbody>\n",
       "</table>\n",
       "<p>231 rows × 2 columns</p>\n",
       "</div>"
      ],
      "text/plain": [
       "      ID  Diabetes\n",
       "0      0         0\n",
       "1      1         0\n",
       "2      2         0\n",
       "3      3         0\n",
       "4      4         1\n",
       "..   ...       ...\n",
       "226  226         0\n",
       "227  227         0\n",
       "228  228         0\n",
       "229  229         0\n",
       "230  230         0\n",
       "\n",
       "[231 rows x 2 columns]"
      ]
     },
     "execution_count": 21,
     "metadata": {},
     "output_type": "execute_result"
    }
   ],
   "source": [
    "submit.to_csv('submit.csv',index=False)\n",
    "submit"
   ]
  }
 ],
 "metadata": {
  "kernelspec": {
   "display_name": "Python 3",
   "language": "python",
   "name": "python3"
  },
  "language_info": {
   "codemirror_mode": {
    "name": "ipython",
    "version": 3
   },
   "file_extension": ".py",
   "mimetype": "text/x-python",
   "name": "python",
   "nbconvert_exporter": "python",
   "pygments_lexer": "ipython3",
   "version": "3.7.12"
  },
  "papermill": {
   "default_parameters": {},
   "duration": 155.218835,
   "end_time": "2022-09-26T03:32:15.816623",
   "environment_variables": {},
   "exception": null,
   "input_path": "__notebook__.ipynb",
   "output_path": "__notebook__.ipynb",
   "parameters": {},
   "start_time": "2022-09-26T03:29:40.597788",
   "version": "2.3.4"
  }
 },
 "nbformat": 4,
 "nbformat_minor": 5
}
