{
 "cells": [
  {
   "cell_type": "code",
   "execution_count": 1,
   "id": "fae22959",
   "metadata": {
    "_cell_guid": "b1076dfc-b9ad-4769-8c92-a6c4dae69d19",
    "_uuid": "8f2839f25d086af736a60e9eeb907d3b93b6e0e5",
    "execution": {
     "iopub.execute_input": "2022-10-09T21:39:42.273297Z",
     "iopub.status.busy": "2022-10-09T21:39:42.272207Z",
     "iopub.status.idle": "2022-10-09T21:39:42.301853Z",
     "shell.execute_reply": "2022-10-09T21:39:42.299697Z"
    },
    "papermill": {
     "duration": 0.047453,
     "end_time": "2022-10-09T21:39:42.306180",
     "exception": false,
     "start_time": "2022-10-09T21:39:42.258727",
     "status": "completed"
    },
    "tags": []
   },
   "outputs": [
    {
     "name": "stdout",
     "output_type": "stream",
     "text": [
      "/kaggle/input/2022-ai-w6p2/X_test.csv\n",
      "/kaggle/input/2022-ai-w6p2/train.csv\n",
      "/kaggle/input/2022-ai-w6p2/sample_submit.csv\n"
     ]
    }
   ],
   "source": [
    "# This Python 3 environment comes with many helpful analytics libraries installed\n",
    "# It is defined by the kaggle/python Docker image: https://github.com/kaggle/docker-python\n",
    "# For example, here's several helpful packages to load\n",
    "\n",
    "import numpy as np # linear algebra\n",
    "import pandas as pd # data processing, CSV file I/O (e.g. pd.read_csv)\n",
    "\n",
    "# Input data files are available in the read-only \"../input/\" directory\n",
    "# For example, running this (by clicking run or pressing Shift+Enter) will list all files under the input directory\n",
    "\n",
    "import os\n",
    "for dirname, _, filenames in os.walk('/kaggle/input'):\n",
    "    for filename in filenames:\n",
    "        print(os.path.join(dirname, filename))\n",
    "\n",
    "# You can write up to 20GB to the current directory (/kaggle/working/) that gets preserved as output when you create a version using \"Save & Run All\" \n",
    "# You can also write temporary files to /kaggle/temp/, but they won't be saved outside of the current session"
   ]
  },
  {
   "cell_type": "code",
   "execution_count": 2,
   "id": "e0388917",
   "metadata": {
    "execution": {
     "iopub.execute_input": "2022-10-09T21:39:42.327641Z",
     "iopub.status.busy": "2022-10-09T21:39:42.326586Z",
     "iopub.status.idle": "2022-10-09T21:39:44.133933Z",
     "shell.execute_reply": "2022-10-09T21:39:44.132904Z"
    },
    "papermill": {
     "duration": 1.820774,
     "end_time": "2022-10-09T21:39:44.136762",
     "exception": false,
     "start_time": "2022-10-09T21:39:42.315988",
     "status": "completed"
    },
    "tags": []
   },
   "outputs": [],
   "source": [
    "import random\n",
    "import torch\n",
    "import torch.optim as optim\n",
    "import torch.nn as nn\n",
    "\n",
    "seed = 42\n",
    "random.seed(seed)\n",
    "np.random.seed(seed)\n",
    "torch.manual_seed(seed)\n",
    "if torch.cuda.is_available():\n",
    "    torch.cuda.manual_seed(seed)\n",
    "    torch.cuda.manual_seed_all(seed)\n",
    "torch.backends.cudnn.benchmark = False\n",
    "torch.backends.cudnn.deterministic = True"
   ]
  },
  {
   "cell_type": "markdown",
   "id": "8b8d81e3",
   "metadata": {
    "papermill": {
     "duration": 0.010843,
     "end_time": "2022-10-09T21:39:44.157690",
     "exception": false,
     "start_time": "2022-10-09T21:39:44.146847",
     "status": "completed"
    },
    "tags": []
   },
   "source": [
    "# GPU"
   ]
  },
  {
   "cell_type": "code",
   "execution_count": 3,
   "id": "0ef35cbc",
   "metadata": {
    "execution": {
     "iopub.execute_input": "2022-10-09T21:39:44.181736Z",
     "iopub.status.busy": "2022-10-09T21:39:44.181155Z",
     "iopub.status.idle": "2022-10-09T21:39:44.186867Z",
     "shell.execute_reply": "2022-10-09T21:39:44.185956Z"
    },
    "papermill": {
     "duration": 0.028131,
     "end_time": "2022-10-09T21:39:44.196877",
     "exception": false,
     "start_time": "2022-10-09T21:39:44.168746",
     "status": "completed"
    },
    "tags": []
   },
   "outputs": [
    {
     "name": "stdout",
     "output_type": "stream",
     "text": [
      "cuda\n"
     ]
    }
   ],
   "source": [
    "device = torch.device(\"cuda\" if torch.cuda.is_available() else \"cpu\")\n",
    "print(device)"
   ]
  },
  {
   "cell_type": "markdown",
   "id": "47549a5e",
   "metadata": {
    "papermill": {
     "duration": 0.008462,
     "end_time": "2022-10-09T21:39:44.214132",
     "exception": false,
     "start_time": "2022-10-09T21:39:44.205670",
     "status": "completed"
    },
    "tags": []
   },
   "source": [
    "# Dataset"
   ]
  },
  {
   "cell_type": "code",
   "execution_count": 4,
   "id": "adaeaab5",
   "metadata": {
    "execution": {
     "iopub.execute_input": "2022-10-09T21:39:44.233065Z",
     "iopub.status.busy": "2022-10-09T21:39:44.232675Z",
     "iopub.status.idle": "2022-10-09T21:39:44.298635Z",
     "shell.execute_reply": "2022-10-09T21:39:44.297724Z"
    },
    "papermill": {
     "duration": 0.078518,
     "end_time": "2022-10-09T21:39:44.301324",
     "exception": false,
     "start_time": "2022-10-09T21:39:44.222806",
     "status": "completed"
    },
    "tags": []
   },
   "outputs": [
    {
     "data": {
      "text/html": [
       "<div>\n",
       "<style scoped>\n",
       "    .dataframe tbody tr th:only-of-type {\n",
       "        vertical-align: middle;\n",
       "    }\n",
       "\n",
       "    .dataframe tbody tr th {\n",
       "        vertical-align: top;\n",
       "    }\n",
       "\n",
       "    .dataframe thead th {\n",
       "        text-align: right;\n",
       "    }\n",
       "</style>\n",
       "<table border=\"1\" class=\"dataframe\">\n",
       "  <thead>\n",
       "    <tr style=\"text-align: right;\">\n",
       "      <th></th>\n",
       "      <th>Day</th>\n",
       "      <th>Hour</th>\n",
       "      <th>Minute</th>\n",
       "      <th>DHI</th>\n",
       "      <th>DNI</th>\n",
       "      <th>WS</th>\n",
       "      <th>RH</th>\n",
       "      <th>T</th>\n",
       "      <th>TARGET</th>\n",
       "    </tr>\n",
       "  </thead>\n",
       "  <tbody>\n",
       "    <tr>\n",
       "      <th>0</th>\n",
       "      <td>0</td>\n",
       "      <td>0</td>\n",
       "      <td>0</td>\n",
       "      <td>0</td>\n",
       "      <td>0</td>\n",
       "      <td>1.5</td>\n",
       "      <td>69.08</td>\n",
       "      <td>-12</td>\n",
       "      <td>0.000000</td>\n",
       "    </tr>\n",
       "    <tr>\n",
       "      <th>1</th>\n",
       "      <td>0</td>\n",
       "      <td>0</td>\n",
       "      <td>30</td>\n",
       "      <td>0</td>\n",
       "      <td>0</td>\n",
       "      <td>1.5</td>\n",
       "      <td>69.06</td>\n",
       "      <td>-12</td>\n",
       "      <td>0.000000</td>\n",
       "    </tr>\n",
       "    <tr>\n",
       "      <th>2</th>\n",
       "      <td>0</td>\n",
       "      <td>1</td>\n",
       "      <td>0</td>\n",
       "      <td>0</td>\n",
       "      <td>0</td>\n",
       "      <td>1.6</td>\n",
       "      <td>71.78</td>\n",
       "      <td>-12</td>\n",
       "      <td>0.000000</td>\n",
       "    </tr>\n",
       "    <tr>\n",
       "      <th>3</th>\n",
       "      <td>0</td>\n",
       "      <td>1</td>\n",
       "      <td>30</td>\n",
       "      <td>0</td>\n",
       "      <td>0</td>\n",
       "      <td>1.6</td>\n",
       "      <td>71.75</td>\n",
       "      <td>-12</td>\n",
       "      <td>0.000000</td>\n",
       "    </tr>\n",
       "    <tr>\n",
       "      <th>4</th>\n",
       "      <td>0</td>\n",
       "      <td>2</td>\n",
       "      <td>0</td>\n",
       "      <td>0</td>\n",
       "      <td>0</td>\n",
       "      <td>1.6</td>\n",
       "      <td>75.20</td>\n",
       "      <td>-12</td>\n",
       "      <td>0.000000</td>\n",
       "    </tr>\n",
       "    <tr>\n",
       "      <th>...</th>\n",
       "      <td>...</td>\n",
       "      <td>...</td>\n",
       "      <td>...</td>\n",
       "      <td>...</td>\n",
       "      <td>...</td>\n",
       "      <td>...</td>\n",
       "      <td>...</td>\n",
       "      <td>...</td>\n",
       "      <td>...</td>\n",
       "    </tr>\n",
       "    <tr>\n",
       "      <th>9994</th>\n",
       "      <td>208</td>\n",
       "      <td>5</td>\n",
       "      <td>0</td>\n",
       "      <td>0</td>\n",
       "      <td>0</td>\n",
       "      <td>0.5</td>\n",
       "      <td>64.12</td>\n",
       "      <td>12</td>\n",
       "      <td>0.000000</td>\n",
       "    </tr>\n",
       "    <tr>\n",
       "      <th>9995</th>\n",
       "      <td>208</td>\n",
       "      <td>5</td>\n",
       "      <td>30</td>\n",
       "      <td>26</td>\n",
       "      <td>383</td>\n",
       "      <td>0.8</td>\n",
       "      <td>56.18</td>\n",
       "      <td>13</td>\n",
       "      <td>5.630068</td>\n",
       "    </tr>\n",
       "    <tr>\n",
       "      <th>9996</th>\n",
       "      <td>208</td>\n",
       "      <td>6</td>\n",
       "      <td>0</td>\n",
       "      <td>41</td>\n",
       "      <td>578</td>\n",
       "      <td>1.1</td>\n",
       "      <td>47.46</td>\n",
       "      <td>15</td>\n",
       "      <td>13.887196</td>\n",
       "    </tr>\n",
       "    <tr>\n",
       "      <th>9997</th>\n",
       "      <td>208</td>\n",
       "      <td>6</td>\n",
       "      <td>30</td>\n",
       "      <td>52</td>\n",
       "      <td>699</td>\n",
       "      <td>1.4</td>\n",
       "      <td>44.51</td>\n",
       "      <td>17</td>\n",
       "      <td>23.269925</td>\n",
       "    </tr>\n",
       "    <tr>\n",
       "      <th>9998</th>\n",
       "      <td>208</td>\n",
       "      <td>7</td>\n",
       "      <td>0</td>\n",
       "      <td>61</td>\n",
       "      <td>776</td>\n",
       "      <td>1.7</td>\n",
       "      <td>37.80</td>\n",
       "      <td>19</td>\n",
       "      <td>33.027555</td>\n",
       "    </tr>\n",
       "  </tbody>\n",
       "</table>\n",
       "<p>9999 rows × 9 columns</p>\n",
       "</div>"
      ],
      "text/plain": [
       "      Day  Hour  Minute  DHI  DNI   WS     RH   T     TARGET\n",
       "0       0     0       0    0    0  1.5  69.08 -12   0.000000\n",
       "1       0     0      30    0    0  1.5  69.06 -12   0.000000\n",
       "2       0     1       0    0    0  1.6  71.78 -12   0.000000\n",
       "3       0     1      30    0    0  1.6  71.75 -12   0.000000\n",
       "4       0     2       0    0    0  1.6  75.20 -12   0.000000\n",
       "...   ...   ...     ...  ...  ...  ...    ...  ..        ...\n",
       "9994  208     5       0    0    0  0.5  64.12  12   0.000000\n",
       "9995  208     5      30   26  383  0.8  56.18  13   5.630068\n",
       "9996  208     6       0   41  578  1.1  47.46  15  13.887196\n",
       "9997  208     6      30   52  699  1.4  44.51  17  23.269925\n",
       "9998  208     7       0   61  776  1.7  37.80  19  33.027555\n",
       "\n",
       "[9999 rows x 9 columns]"
      ]
     },
     "execution_count": 4,
     "metadata": {},
     "output_type": "execute_result"
    }
   ],
   "source": [
    "train = pd.read_csv('../input/2022-ai-w6p2/train.csv')\n",
    "train"
   ]
  },
  {
   "cell_type": "code",
   "execution_count": 5,
   "id": "8ca5989f",
   "metadata": {
    "execution": {
     "iopub.execute_input": "2022-10-09T21:39:44.322086Z",
     "iopub.status.busy": "2022-10-09T21:39:44.321722Z",
     "iopub.status.idle": "2022-10-09T21:39:44.333863Z",
     "shell.execute_reply": "2022-10-09T21:39:44.333003Z"
    },
    "papermill": {
     "duration": 0.025058,
     "end_time": "2022-10-09T21:39:44.336549",
     "exception": false,
     "start_time": "2022-10-09T21:39:44.311491",
     "status": "completed"
    },
    "tags": []
   },
   "outputs": [
    {
     "data": {
      "text/plain": [
       "0        0.000000\n",
       "1        0.000000\n",
       "2        0.000000\n",
       "3        0.000000\n",
       "4        0.000000\n",
       "          ...    \n",
       "9994     0.000000\n",
       "9995     5.630068\n",
       "9996    13.887196\n",
       "9997    23.269925\n",
       "9998    33.027555\n",
       "Name: TARGET, Length: 9999, dtype: float64"
      ]
     },
     "execution_count": 5,
     "metadata": {},
     "output_type": "execute_result"
    }
   ],
   "source": [
    "y_train = train.iloc[:,-1]\n",
    "y_train"
   ]
  },
  {
   "cell_type": "code",
   "execution_count": 6,
   "id": "c3d2b2bf",
   "metadata": {
    "execution": {
     "iopub.execute_input": "2022-10-09T21:39:44.358909Z",
     "iopub.status.busy": "2022-10-09T21:39:44.358551Z",
     "iopub.status.idle": "2022-10-09T21:39:44.385187Z",
     "shell.execute_reply": "2022-10-09T21:39:44.384125Z"
    },
    "papermill": {
     "duration": 0.039961,
     "end_time": "2022-10-09T21:39:44.387762",
     "exception": false,
     "start_time": "2022-10-09T21:39:44.347801",
     "status": "completed"
    },
    "tags": []
   },
   "outputs": [
    {
     "data": {
      "text/html": [
       "<div>\n",
       "<style scoped>\n",
       "    .dataframe tbody tr th:only-of-type {\n",
       "        vertical-align: middle;\n",
       "    }\n",
       "\n",
       "    .dataframe tbody tr th {\n",
       "        vertical-align: top;\n",
       "    }\n",
       "\n",
       "    .dataframe thead th {\n",
       "        text-align: right;\n",
       "    }\n",
       "</style>\n",
       "<table border=\"1\" class=\"dataframe\">\n",
       "  <thead>\n",
       "    <tr style=\"text-align: right;\">\n",
       "      <th></th>\n",
       "      <th>Day</th>\n",
       "      <th>Hour</th>\n",
       "      <th>Minute</th>\n",
       "      <th>DHI</th>\n",
       "      <th>DNI</th>\n",
       "      <th>WS</th>\n",
       "      <th>RH</th>\n",
       "      <th>T</th>\n",
       "    </tr>\n",
       "  </thead>\n",
       "  <tbody>\n",
       "    <tr>\n",
       "      <th>0</th>\n",
       "      <td>0</td>\n",
       "      <td>0</td>\n",
       "      <td>0</td>\n",
       "      <td>0</td>\n",
       "      <td>0</td>\n",
       "      <td>1.5</td>\n",
       "      <td>69.08</td>\n",
       "      <td>-12</td>\n",
       "    </tr>\n",
       "    <tr>\n",
       "      <th>1</th>\n",
       "      <td>0</td>\n",
       "      <td>0</td>\n",
       "      <td>30</td>\n",
       "      <td>0</td>\n",
       "      <td>0</td>\n",
       "      <td>1.5</td>\n",
       "      <td>69.06</td>\n",
       "      <td>-12</td>\n",
       "    </tr>\n",
       "    <tr>\n",
       "      <th>2</th>\n",
       "      <td>0</td>\n",
       "      <td>1</td>\n",
       "      <td>0</td>\n",
       "      <td>0</td>\n",
       "      <td>0</td>\n",
       "      <td>1.6</td>\n",
       "      <td>71.78</td>\n",
       "      <td>-12</td>\n",
       "    </tr>\n",
       "    <tr>\n",
       "      <th>3</th>\n",
       "      <td>0</td>\n",
       "      <td>1</td>\n",
       "      <td>30</td>\n",
       "      <td>0</td>\n",
       "      <td>0</td>\n",
       "      <td>1.6</td>\n",
       "      <td>71.75</td>\n",
       "      <td>-12</td>\n",
       "    </tr>\n",
       "    <tr>\n",
       "      <th>4</th>\n",
       "      <td>0</td>\n",
       "      <td>2</td>\n",
       "      <td>0</td>\n",
       "      <td>0</td>\n",
       "      <td>0</td>\n",
       "      <td>1.6</td>\n",
       "      <td>75.20</td>\n",
       "      <td>-12</td>\n",
       "    </tr>\n",
       "    <tr>\n",
       "      <th>...</th>\n",
       "      <td>...</td>\n",
       "      <td>...</td>\n",
       "      <td>...</td>\n",
       "      <td>...</td>\n",
       "      <td>...</td>\n",
       "      <td>...</td>\n",
       "      <td>...</td>\n",
       "      <td>...</td>\n",
       "    </tr>\n",
       "    <tr>\n",
       "      <th>9994</th>\n",
       "      <td>208</td>\n",
       "      <td>5</td>\n",
       "      <td>0</td>\n",
       "      <td>0</td>\n",
       "      <td>0</td>\n",
       "      <td>0.5</td>\n",
       "      <td>64.12</td>\n",
       "      <td>12</td>\n",
       "    </tr>\n",
       "    <tr>\n",
       "      <th>9995</th>\n",
       "      <td>208</td>\n",
       "      <td>5</td>\n",
       "      <td>30</td>\n",
       "      <td>26</td>\n",
       "      <td>383</td>\n",
       "      <td>0.8</td>\n",
       "      <td>56.18</td>\n",
       "      <td>13</td>\n",
       "    </tr>\n",
       "    <tr>\n",
       "      <th>9996</th>\n",
       "      <td>208</td>\n",
       "      <td>6</td>\n",
       "      <td>0</td>\n",
       "      <td>41</td>\n",
       "      <td>578</td>\n",
       "      <td>1.1</td>\n",
       "      <td>47.46</td>\n",
       "      <td>15</td>\n",
       "    </tr>\n",
       "    <tr>\n",
       "      <th>9997</th>\n",
       "      <td>208</td>\n",
       "      <td>6</td>\n",
       "      <td>30</td>\n",
       "      <td>52</td>\n",
       "      <td>699</td>\n",
       "      <td>1.4</td>\n",
       "      <td>44.51</td>\n",
       "      <td>17</td>\n",
       "    </tr>\n",
       "    <tr>\n",
       "      <th>9998</th>\n",
       "      <td>208</td>\n",
       "      <td>7</td>\n",
       "      <td>0</td>\n",
       "      <td>61</td>\n",
       "      <td>776</td>\n",
       "      <td>1.7</td>\n",
       "      <td>37.80</td>\n",
       "      <td>19</td>\n",
       "    </tr>\n",
       "  </tbody>\n",
       "</table>\n",
       "<p>9999 rows × 8 columns</p>\n",
       "</div>"
      ],
      "text/plain": [
       "      Day  Hour  Minute  DHI  DNI   WS     RH   T\n",
       "0       0     0       0    0    0  1.5  69.08 -12\n",
       "1       0     0      30    0    0  1.5  69.06 -12\n",
       "2       0     1       0    0    0  1.6  71.78 -12\n",
       "3       0     1      30    0    0  1.6  71.75 -12\n",
       "4       0     2       0    0    0  1.6  75.20 -12\n",
       "...   ...   ...     ...  ...  ...  ...    ...  ..\n",
       "9994  208     5       0    0    0  0.5  64.12  12\n",
       "9995  208     5      30   26  383  0.8  56.18  13\n",
       "9996  208     6       0   41  578  1.1  47.46  15\n",
       "9997  208     6      30   52  699  1.4  44.51  17\n",
       "9998  208     7       0   61  776  1.7  37.80  19\n",
       "\n",
       "[9999 rows x 8 columns]"
      ]
     },
     "execution_count": 6,
     "metadata": {},
     "output_type": "execute_result"
    }
   ],
   "source": [
    "X_train = train.drop(['TARGET'],axis=1)\n",
    "X_train"
   ]
  },
  {
   "cell_type": "code",
   "execution_count": 7,
   "id": "46359d29",
   "metadata": {
    "execution": {
     "iopub.execute_input": "2022-10-09T21:39:44.410065Z",
     "iopub.status.busy": "2022-10-09T21:39:44.409698Z",
     "iopub.status.idle": "2022-10-09T21:39:44.444161Z",
     "shell.execute_reply": "2022-10-09T21:39:44.443167Z"
    },
    "papermill": {
     "duration": 0.048229,
     "end_time": "2022-10-09T21:39:44.446894",
     "exception": false,
     "start_time": "2022-10-09T21:39:44.398665",
     "status": "completed"
    },
    "tags": []
   },
   "outputs": [
    {
     "data": {
      "text/html": [
       "<div>\n",
       "<style scoped>\n",
       "    .dataframe tbody tr th:only-of-type {\n",
       "        vertical-align: middle;\n",
       "    }\n",
       "\n",
       "    .dataframe tbody tr th {\n",
       "        vertical-align: top;\n",
       "    }\n",
       "\n",
       "    .dataframe thead th {\n",
       "        text-align: right;\n",
       "    }\n",
       "</style>\n",
       "<table border=\"1\" class=\"dataframe\">\n",
       "  <thead>\n",
       "    <tr style=\"text-align: right;\">\n",
       "      <th></th>\n",
       "      <th>Day</th>\n",
       "      <th>Hour</th>\n",
       "      <th>Minute</th>\n",
       "      <th>DHI</th>\n",
       "      <th>DNI</th>\n",
       "      <th>WS</th>\n",
       "      <th>RH</th>\n",
       "      <th>T</th>\n",
       "    </tr>\n",
       "  </thead>\n",
       "  <tbody>\n",
       "    <tr>\n",
       "      <th>0</th>\n",
       "      <td>1043</td>\n",
       "      <td>7</td>\n",
       "      <td>30</td>\n",
       "      <td>34</td>\n",
       "      <td>584</td>\n",
       "      <td>2.0</td>\n",
       "      <td>63.02</td>\n",
       "      <td>3</td>\n",
       "    </tr>\n",
       "    <tr>\n",
       "      <th>1</th>\n",
       "      <td>1043</td>\n",
       "      <td>8</td>\n",
       "      <td>0</td>\n",
       "      <td>45</td>\n",
       "      <td>730</td>\n",
       "      <td>2.3</td>\n",
       "      <td>61.54</td>\n",
       "      <td>5</td>\n",
       "    </tr>\n",
       "    <tr>\n",
       "      <th>2</th>\n",
       "      <td>1043</td>\n",
       "      <td>8</td>\n",
       "      <td>30</td>\n",
       "      <td>52</td>\n",
       "      <td>817</td>\n",
       "      <td>2.4</td>\n",
       "      <td>57.34</td>\n",
       "      <td>6</td>\n",
       "    </tr>\n",
       "    <tr>\n",
       "      <th>3</th>\n",
       "      <td>1043</td>\n",
       "      <td>9</td>\n",
       "      <td>0</td>\n",
       "      <td>57</td>\n",
       "      <td>878</td>\n",
       "      <td>2.6</td>\n",
       "      <td>52.46</td>\n",
       "      <td>8</td>\n",
       "    </tr>\n",
       "    <tr>\n",
       "      <th>4</th>\n",
       "      <td>1043</td>\n",
       "      <td>9</td>\n",
       "      <td>30</td>\n",
       "      <td>61</td>\n",
       "      <td>917</td>\n",
       "      <td>2.2</td>\n",
       "      <td>45.74</td>\n",
       "      <td>10</td>\n",
       "    </tr>\n",
       "    <tr>\n",
       "      <th>...</th>\n",
       "      <td>...</td>\n",
       "      <td>...</td>\n",
       "      <td>...</td>\n",
       "      <td>...</td>\n",
       "      <td>...</td>\n",
       "      <td>...</td>\n",
       "      <td>...</td>\n",
       "      <td>...</td>\n",
       "    </tr>\n",
       "    <tr>\n",
       "      <th>2476</th>\n",
       "      <td>1094</td>\n",
       "      <td>21</td>\n",
       "      <td>30</td>\n",
       "      <td>0</td>\n",
       "      <td>0</td>\n",
       "      <td>2.4</td>\n",
       "      <td>70.70</td>\n",
       "      <td>-4</td>\n",
       "    </tr>\n",
       "    <tr>\n",
       "      <th>2477</th>\n",
       "      <td>1094</td>\n",
       "      <td>22</td>\n",
       "      <td>0</td>\n",
       "      <td>0</td>\n",
       "      <td>0</td>\n",
       "      <td>2.4</td>\n",
       "      <td>66.79</td>\n",
       "      <td>-4</td>\n",
       "    </tr>\n",
       "    <tr>\n",
       "      <th>2478</th>\n",
       "      <td>1094</td>\n",
       "      <td>22</td>\n",
       "      <td>30</td>\n",
       "      <td>0</td>\n",
       "      <td>0</td>\n",
       "      <td>2.2</td>\n",
       "      <td>66.78</td>\n",
       "      <td>-4</td>\n",
       "    </tr>\n",
       "    <tr>\n",
       "      <th>2479</th>\n",
       "      <td>1094</td>\n",
       "      <td>23</td>\n",
       "      <td>0</td>\n",
       "      <td>0</td>\n",
       "      <td>0</td>\n",
       "      <td>2.1</td>\n",
       "      <td>67.72</td>\n",
       "      <td>-4</td>\n",
       "    </tr>\n",
       "    <tr>\n",
       "      <th>2480</th>\n",
       "      <td>1094</td>\n",
       "      <td>23</td>\n",
       "      <td>30</td>\n",
       "      <td>0</td>\n",
       "      <td>0</td>\n",
       "      <td>2.1</td>\n",
       "      <td>67.70</td>\n",
       "      <td>-4</td>\n",
       "    </tr>\n",
       "  </tbody>\n",
       "</table>\n",
       "<p>2481 rows × 8 columns</p>\n",
       "</div>"
      ],
      "text/plain": [
       "       Day  Hour  Minute  DHI  DNI   WS     RH   T\n",
       "0     1043     7      30   34  584  2.0  63.02   3\n",
       "1     1043     8       0   45  730  2.3  61.54   5\n",
       "2     1043     8      30   52  817  2.4  57.34   6\n",
       "3     1043     9       0   57  878  2.6  52.46   8\n",
       "4     1043     9      30   61  917  2.2  45.74  10\n",
       "...    ...   ...     ...  ...  ...  ...    ...  ..\n",
       "2476  1094    21      30    0    0  2.4  70.70  -4\n",
       "2477  1094    22       0    0    0  2.4  66.79  -4\n",
       "2478  1094    22      30    0    0  2.2  66.78  -4\n",
       "2479  1094    23       0    0    0  2.1  67.72  -4\n",
       "2480  1094    23      30    0    0  2.1  67.70  -4\n",
       "\n",
       "[2481 rows x 8 columns]"
      ]
     },
     "execution_count": 7,
     "metadata": {},
     "output_type": "execute_result"
    }
   ],
   "source": [
    "X_test = pd.read_csv('../input/2022-ai-w6p2/X_test.csv')\n",
    "X_test = X_test.drop(['ID'],axis=1)\n",
    "X_test"
   ]
  },
  {
   "cell_type": "markdown",
   "id": "2fc105b1",
   "metadata": {
    "papermill": {
     "duration": 0.014018,
     "end_time": "2022-10-09T21:39:44.475541",
     "exception": false,
     "start_time": "2022-10-09T21:39:44.461523",
     "status": "completed"
    },
    "tags": []
   },
   "source": [
    "## StandardScaler"
   ]
  },
  {
   "cell_type": "code",
   "execution_count": 8,
   "id": "b3848274",
   "metadata": {
    "execution": {
     "iopub.execute_input": "2022-10-09T21:39:44.497269Z",
     "iopub.status.busy": "2022-10-09T21:39:44.496922Z",
     "iopub.status.idle": "2022-10-09T21:39:45.277437Z",
     "shell.execute_reply": "2022-10-09T21:39:45.276496Z"
    },
    "papermill": {
     "duration": 0.791082,
     "end_time": "2022-10-09T21:39:45.279611",
     "exception": false,
     "start_time": "2022-10-09T21:39:44.488529",
     "status": "completed"
    },
    "tags": []
   },
   "outputs": [
    {
     "data": {
      "text/plain": [
       "array([[-1.72373894, -1.65890442, -0.99989999, ..., -0.64111658,\n",
       "         0.22429055, -2.11395557],\n",
       "       [-1.72373894, -1.65890442,  1.00010002, ..., -0.64111658,\n",
       "         0.22338068, -2.11395557],\n",
       "       [-1.72373894, -1.51449677, -0.99989999, ..., -0.56156771,\n",
       "         0.34712225, -2.11395557],\n",
       "       ...,\n",
       "       [ 1.73515443, -0.79245849, -0.99989999, ..., -0.95931203,\n",
       "        -0.75927291,  0.70334046],\n",
       "       [ 1.73515443, -0.79245849,  1.00010002, ..., -0.72066544,\n",
       "        -0.89347792,  0.91202906],\n",
       "       [ 1.73515443, -0.64805084, -0.99989999, ..., -0.48201885,\n",
       "        -1.19873744,  1.12071765]])"
      ]
     },
     "execution_count": 8,
     "metadata": {},
     "output_type": "execute_result"
    }
   ],
   "source": [
    "from sklearn.preprocessing import StandardScaler\n",
    "\n",
    "scaler = StandardScaler()\n",
    "X_train = scaler.fit_transform(X_train)\n",
    "X_train"
   ]
  },
  {
   "cell_type": "code",
   "execution_count": 9,
   "id": "22d3dbfe",
   "metadata": {
    "execution": {
     "iopub.execute_input": "2022-10-09T21:39:45.296388Z",
     "iopub.status.busy": "2022-10-09T21:39:45.294906Z",
     "iopub.status.idle": "2022-10-09T21:39:45.305412Z",
     "shell.execute_reply": "2022-10-09T21:39:45.304423Z"
    },
    "papermill": {
     "duration": 0.020671,
     "end_time": "2022-10-09T21:39:45.307463",
     "exception": false,
     "start_time": "2022-10-09T21:39:45.286792",
     "status": "completed"
    },
    "tags": []
   },
   "outputs": [
    {
     "data": {
      "text/plain": [
       "array([[ 1.56206158e+01, -6.48050836e-01,  1.00010002e+00, ...,\n",
       "        -2.43372264e-01, -5.13983779e-02, -5.48791105e-01],\n",
       "       [ 1.56206158e+01, -5.03643181e-01, -9.99899995e-01, ...,\n",
       "        -4.72567502e-03, -1.18728347e-01, -3.40102510e-01],\n",
       "       [ 1.56206158e+01, -5.03643181e-01,  1.00010002e+00, ...,\n",
       "         7.48231878e-02, -3.09799880e-01, -2.35758212e-01],\n",
       "       ...,\n",
       "       [ 1.64687098e+01,  1.51806399e+00,  1.00010002e+00, ...,\n",
       "        -8.42745379e-02,  1.19656137e-01, -1.27920119e+00],\n",
       "       [ 1.64687098e+01,  1.66247165e+00, -9.99899995e-01, ...,\n",
       "        -1.63823401e-01,  1.62419766e-01, -1.27920119e+00],\n",
       "       [ 1.64687098e+01,  1.66247165e+00,  1.00010002e+00, ...,\n",
       "        -1.63823401e-01,  1.61509902e-01, -1.27920119e+00]])"
      ]
     },
     "execution_count": 9,
     "metadata": {},
     "output_type": "execute_result"
    }
   ],
   "source": [
    "X_test = scaler.transform(X_test)\n",
    "X_test"
   ]
  },
  {
   "cell_type": "markdown",
   "id": "da5e22ea",
   "metadata": {
    "papermill": {
     "duration": 0.006949,
     "end_time": "2022-10-09T21:39:45.321726",
     "exception": false,
     "start_time": "2022-10-09T21:39:45.314777",
     "status": "completed"
    },
    "tags": []
   },
   "source": [
    "## Tensor & GPU"
   ]
  },
  {
   "cell_type": "code",
   "execution_count": 10,
   "id": "0b972341",
   "metadata": {
    "execution": {
     "iopub.execute_input": "2022-10-09T21:39:45.338588Z",
     "iopub.status.busy": "2022-10-09T21:39:45.336962Z",
     "iopub.status.idle": "2022-10-09T21:39:48.257514Z",
     "shell.execute_reply": "2022-10-09T21:39:48.256401Z"
    },
    "papermill": {
     "duration": 2.931218,
     "end_time": "2022-10-09T21:39:48.259943",
     "exception": false,
     "start_time": "2022-10-09T21:39:45.328725",
     "status": "completed"
    },
    "tags": []
   },
   "outputs": [
    {
     "data": {
      "text/plain": [
       "tensor([[-1.7237, -1.6589, -0.9999,  ..., -0.6411,  0.2243, -2.1140],\n",
       "        [-1.7237, -1.6589,  1.0001,  ..., -0.6411,  0.2234, -2.1140],\n",
       "        [-1.7237, -1.5145, -0.9999,  ..., -0.5616,  0.3471, -2.1140],\n",
       "        ...,\n",
       "        [ 1.7352, -0.7925, -0.9999,  ..., -0.9593, -0.7593,  0.7033],\n",
       "        [ 1.7352, -0.7925,  1.0001,  ..., -0.7207, -0.8935,  0.9120],\n",
       "        [ 1.7352, -0.6481, -0.9999,  ..., -0.4820, -1.1987,  1.1207]],\n",
       "       device='cuda:0')"
      ]
     },
     "execution_count": 10,
     "metadata": {},
     "output_type": "execute_result"
    }
   ],
   "source": [
    "X_train = torch.FloatTensor(X_train).to(device)\n",
    "X_train"
   ]
  },
  {
   "cell_type": "code",
   "execution_count": 11,
   "id": "9cf1c6cf",
   "metadata": {
    "execution": {
     "iopub.execute_input": "2022-10-09T21:39:48.276923Z",
     "iopub.status.busy": "2022-10-09T21:39:48.275890Z",
     "iopub.status.idle": "2022-10-09T21:39:48.285101Z",
     "shell.execute_reply": "2022-10-09T21:39:48.284063Z"
    },
    "papermill": {
     "duration": 0.019635,
     "end_time": "2022-10-09T21:39:48.287141",
     "exception": false,
     "start_time": "2022-10-09T21:39:48.267506",
     "status": "completed"
    },
    "tags": []
   },
   "outputs": [
    {
     "data": {
      "text/plain": [
       "tensor([ 0.0000,  0.0000,  0.0000,  ..., 13.8872, 23.2699, 33.0276],\n",
       "       device='cuda:0')"
      ]
     },
     "execution_count": 11,
     "metadata": {},
     "output_type": "execute_result"
    }
   ],
   "source": [
    "y_train = torch.FloatTensor(y_train).to(device)\n",
    "y_train"
   ]
  },
  {
   "cell_type": "code",
   "execution_count": 12,
   "id": "be9e1efb",
   "metadata": {
    "execution": {
     "iopub.execute_input": "2022-10-09T21:39:48.303992Z",
     "iopub.status.busy": "2022-10-09T21:39:48.303027Z",
     "iopub.status.idle": "2022-10-09T21:39:48.312426Z",
     "shell.execute_reply": "2022-10-09T21:39:48.311429Z"
    },
    "papermill": {
     "duration": 0.020045,
     "end_time": "2022-10-09T21:39:48.314428",
     "exception": false,
     "start_time": "2022-10-09T21:39:48.294383",
     "status": "completed"
    },
    "tags": []
   },
   "outputs": [
    {
     "data": {
      "text/plain": [
       "tensor([[ 1.5621e+01, -6.4805e-01,  1.0001e+00,  ..., -2.4337e-01,\n",
       "         -5.1398e-02, -5.4879e-01],\n",
       "        [ 1.5621e+01, -5.0364e-01, -9.9990e-01,  ..., -4.7257e-03,\n",
       "         -1.1873e-01, -3.4010e-01],\n",
       "        [ 1.5621e+01, -5.0364e-01,  1.0001e+00,  ...,  7.4823e-02,\n",
       "         -3.0980e-01, -2.3576e-01],\n",
       "        ...,\n",
       "        [ 1.6469e+01,  1.5181e+00,  1.0001e+00,  ..., -8.4275e-02,\n",
       "          1.1966e-01, -1.2792e+00],\n",
       "        [ 1.6469e+01,  1.6625e+00, -9.9990e-01,  ..., -1.6382e-01,\n",
       "          1.6242e-01, -1.2792e+00],\n",
       "        [ 1.6469e+01,  1.6625e+00,  1.0001e+00,  ..., -1.6382e-01,\n",
       "          1.6151e-01, -1.2792e+00]], device='cuda:0')"
      ]
     },
     "execution_count": 12,
     "metadata": {},
     "output_type": "execute_result"
    }
   ],
   "source": [
    "X_test = torch.FloatTensor(X_test).to(device)\n",
    "X_test"
   ]
  },
  {
   "cell_type": "markdown",
   "id": "850a416e",
   "metadata": {
    "papermill": {
     "duration": 0.00712,
     "end_time": "2022-10-09T21:39:48.328918",
     "exception": false,
     "start_time": "2022-10-09T21:39:48.321798",
     "status": "completed"
    },
    "tags": []
   },
   "source": [
    "## Shape 확인"
   ]
  },
  {
   "cell_type": "code",
   "execution_count": 13,
   "id": "16309ab1",
   "metadata": {
    "execution": {
     "iopub.execute_input": "2022-10-09T21:39:48.345556Z",
     "iopub.status.busy": "2022-10-09T21:39:48.344683Z",
     "iopub.status.idle": "2022-10-09T21:39:48.351083Z",
     "shell.execute_reply": "2022-10-09T21:39:48.349633Z"
    },
    "papermill": {
     "duration": 0.017495,
     "end_time": "2022-10-09T21:39:48.353690",
     "exception": false,
     "start_time": "2022-10-09T21:39:48.336195",
     "status": "completed"
    },
    "tags": []
   },
   "outputs": [
    {
     "name": "stdout",
     "output_type": "stream",
     "text": [
      "torch.Size([9999, 8])\n",
      "torch.Size([9999])\n",
      "torch.Size([2481, 8])\n"
     ]
    }
   ],
   "source": [
    "print(np.shape(X_train))\n",
    "print(np.shape(y_train))\n",
    "print(np.shape(X_test))"
   ]
  },
  {
   "cell_type": "markdown",
   "id": "c7e8afe8",
   "metadata": {
    "papermill": {
     "duration": 0.007268,
     "end_time": "2022-10-09T21:39:48.368829",
     "exception": false,
     "start_time": "2022-10-09T21:39:48.361561",
     "status": "completed"
    },
    "tags": []
   },
   "source": [
    "# Model Train"
   ]
  },
  {
   "cell_type": "code",
   "execution_count": 14,
   "id": "f106fa4a",
   "metadata": {
    "execution": {
     "iopub.execute_input": "2022-10-09T21:39:48.385260Z",
     "iopub.status.busy": "2022-10-09T21:39:48.384380Z",
     "iopub.status.idle": "2022-10-09T21:39:48.393225Z",
     "shell.execute_reply": "2022-10-09T21:39:48.392325Z"
    },
    "papermill": {
     "duration": 0.01912,
     "end_time": "2022-10-09T21:39:48.395227",
     "exception": false,
     "start_time": "2022-10-09T21:39:48.376107",
     "status": "completed"
    },
    "tags": []
   },
   "outputs": [],
   "source": [
    "linear1 = nn.Linear(8,64,bias=True)\n",
    "linear2 = nn.Linear(64,64,bias=True)\n",
    "linear3 = nn.Linear(64,1,bias=True)\n",
    "sigmoid = nn.ReLU()"
   ]
  },
  {
   "cell_type": "code",
   "execution_count": 15,
   "id": "2b635050",
   "metadata": {
    "execution": {
     "iopub.execute_input": "2022-10-09T21:39:48.411742Z",
     "iopub.status.busy": "2022-10-09T21:39:48.411418Z",
     "iopub.status.idle": "2022-10-09T21:39:48.419678Z",
     "shell.execute_reply": "2022-10-09T21:39:48.418682Z"
    },
    "papermill": {
     "duration": 0.018987,
     "end_time": "2022-10-09T21:39:48.421632",
     "exception": false,
     "start_time": "2022-10-09T21:39:48.402645",
     "status": "completed"
    },
    "tags": []
   },
   "outputs": [
    {
     "data": {
      "text/plain": [
       "Sequential(\n",
       "  (0): Linear(in_features=8, out_features=64, bias=True)\n",
       "  (1): ReLU()\n",
       "  (2): Linear(in_features=64, out_features=64, bias=True)\n",
       "  (3): ReLU()\n",
       "  (4): Linear(in_features=64, out_features=1, bias=True)\n",
       "  (5): ReLU()\n",
       ")"
      ]
     },
     "execution_count": 15,
     "metadata": {},
     "output_type": "execute_result"
    }
   ],
   "source": [
    "model = nn.Sequential(linear1,sigmoid,linear2,sigmoid,linear3,sigmoid).to(device)\n",
    "model"
   ]
  },
  {
   "cell_type": "code",
   "execution_count": 16,
   "id": "ad9aaa82",
   "metadata": {
    "execution": {
     "iopub.execute_input": "2022-10-09T21:39:48.438134Z",
     "iopub.status.busy": "2022-10-09T21:39:48.437333Z",
     "iopub.status.idle": "2022-10-09T21:39:48.442433Z",
     "shell.execute_reply": "2022-10-09T21:39:48.441603Z"
    },
    "papermill": {
     "duration": 0.015362,
     "end_time": "2022-10-09T21:39:48.444416",
     "exception": false,
     "start_time": "2022-10-09T21:39:48.429054",
     "status": "completed"
    },
    "tags": []
   },
   "outputs": [],
   "source": [
    "loss = nn.MSELoss()\n",
    "optimizer = optim.Adam(model.parameters(),lr = 1e-2)"
   ]
  },
  {
   "cell_type": "code",
   "execution_count": 17,
   "id": "07399877",
   "metadata": {
    "execution": {
     "iopub.execute_input": "2022-10-09T21:39:48.462390Z",
     "iopub.status.busy": "2022-10-09T21:39:48.461476Z",
     "iopub.status.idle": "2022-10-09T21:40:02.701343Z",
     "shell.execute_reply": "2022-10-09T21:40:02.700365Z"
    },
    "papermill": {
     "duration": 14.251917,
     "end_time": "2022-10-09T21:40:02.704379",
     "exception": false,
     "start_time": "2022-10-09T21:39:48.452462",
     "status": "completed"
    },
    "tags": []
   },
   "outputs": [
    {
     "name": "stdout",
     "output_type": "stream",
     "text": [
      "0 1022.19921875\n",
      "1000 0.31719306111335754\n",
      "2000 0.1696276217699051\n",
      "3000 0.11988723278045654\n",
      "4000 0.09617777913808823\n",
      "5000 0.08305584639310837\n",
      "6000 0.07502429187297821\n",
      "7000 0.06726711988449097\n",
      "8000 0.09244856238365173\n",
      "9000 0.059859927743673325\n"
     ]
    }
   ],
   "source": [
    "for stop in range(10000):\n",
    "    optimizer.zero_grad()\n",
    "    \n",
    "    hypothesis = model(X_train)\n",
    "    cost = loss(hypothesis,y_train.unsqueeze(1))\n",
    "\n",
    "    cost.backward()\n",
    "    optimizer.step()\n",
    "    \n",
    "    if stop % 1000 == 0:\n",
    "        print(stop, cost.item())"
   ]
  },
  {
   "cell_type": "code",
   "execution_count": 18,
   "id": "1d7c082b",
   "metadata": {
    "execution": {
     "iopub.execute_input": "2022-10-09T21:40:02.723286Z",
     "iopub.status.busy": "2022-10-09T21:40:02.722936Z",
     "iopub.status.idle": "2022-10-09T21:40:02.732377Z",
     "shell.execute_reply": "2022-10-09T21:40:02.731158Z"
    },
    "papermill": {
     "duration": 0.020983,
     "end_time": "2022-10-09T21:40:02.734527",
     "exception": false,
     "start_time": "2022-10-09T21:40:02.713544",
     "status": "completed"
    },
    "tags": []
   },
   "outputs": [
    {
     "data": {
      "text/plain": [
       "tensor([[ 0.0000],\n",
       "        [ 0.0000],\n",
       "        [ 0.0000],\n",
       "        ...,\n",
       "        [14.3895],\n",
       "        [24.2998],\n",
       "        [34.4765]], device='cuda:0', grad_fn=<ReluBackward0>)"
      ]
     },
     "execution_count": 18,
     "metadata": {},
     "output_type": "execute_result"
    }
   ],
   "source": [
    "hypothesis"
   ]
  },
  {
   "cell_type": "markdown",
   "id": "6b584d09",
   "metadata": {
    "papermill": {
     "duration": 0.008208,
     "end_time": "2022-10-09T21:40:02.751400",
     "exception": false,
     "start_time": "2022-10-09T21:40:02.743192",
     "status": "completed"
    },
    "tags": []
   },
   "source": [
    "# Model Test"
   ]
  },
  {
   "cell_type": "code",
   "execution_count": 19,
   "id": "285ef817",
   "metadata": {
    "execution": {
     "iopub.execute_input": "2022-10-09T21:40:02.770154Z",
     "iopub.status.busy": "2022-10-09T21:40:02.769788Z",
     "iopub.status.idle": "2022-10-09T21:40:02.778199Z",
     "shell.execute_reply": "2022-10-09T21:40:02.777096Z"
    },
    "papermill": {
     "duration": 0.021827,
     "end_time": "2022-10-09T21:40:02.781568",
     "exception": false,
     "start_time": "2022-10-09T21:40:02.759741",
     "status": "completed"
    },
    "tags": []
   },
   "outputs": [
    {
     "name": "stdout",
     "output_type": "stream",
     "text": [
      "tensor([[ 0.8167],\n",
      "        [ 7.7958],\n",
      "        [12.0954],\n",
      "        ...,\n",
      "        [ 7.9950],\n",
      "        [ 8.6693],\n",
      "        [ 9.7318]], device='cuda:0')\n"
     ]
    }
   ],
   "source": [
    "with torch.no_grad():\n",
    "    predicted = model(X_test)\n",
    "    print(predicted)"
   ]
  },
  {
   "cell_type": "code",
   "execution_count": 20,
   "id": "dcdadb78",
   "metadata": {
    "execution": {
     "iopub.execute_input": "2022-10-09T21:40:02.801334Z",
     "iopub.status.busy": "2022-10-09T21:40:02.800405Z",
     "iopub.status.idle": "2022-10-09T21:40:02.809166Z",
     "shell.execute_reply": "2022-10-09T21:40:02.808116Z"
    },
    "papermill": {
     "duration": 0.020378,
     "end_time": "2022-10-09T21:40:02.811244",
     "exception": false,
     "start_time": "2022-10-09T21:40:02.790866",
     "status": "completed"
    },
    "tags": []
   },
   "outputs": [
    {
     "data": {
      "text/plain": [
       "array([[ 0.8166812],\n",
       "       [ 7.795754 ],\n",
       "       [12.095368 ],\n",
       "       ...,\n",
       "       [ 7.994978 ],\n",
       "       [ 8.669312 ],\n",
       "       [ 9.731771 ]], dtype=float32)"
      ]
     },
     "execution_count": 20,
     "metadata": {},
     "output_type": "execute_result"
    }
   ],
   "source": [
    "predicted = np.array(predicted.cpu())\n",
    "predicted"
   ]
  },
  {
   "cell_type": "markdown",
   "id": "7da54047",
   "metadata": {
    "papermill": {
     "duration": 0.008102,
     "end_time": "2022-10-09T21:40:02.827730",
     "exception": false,
     "start_time": "2022-10-09T21:40:02.819628",
     "status": "completed"
    },
    "tags": []
   },
   "source": [
    "# Submit"
   ]
  },
  {
   "cell_type": "code",
   "execution_count": 21,
   "id": "e13b2804",
   "metadata": {
    "execution": {
     "iopub.execute_input": "2022-10-09T21:40:02.845861Z",
     "iopub.status.busy": "2022-10-09T21:40:02.845513Z",
     "iopub.status.idle": "2022-10-09T21:40:02.861457Z",
     "shell.execute_reply": "2022-10-09T21:40:02.860416Z"
    },
    "papermill": {
     "duration": 0.027436,
     "end_time": "2022-10-09T21:40:02.863512",
     "exception": false,
     "start_time": "2022-10-09T21:40:02.836076",
     "status": "completed"
    },
    "tags": []
   },
   "outputs": [
    {
     "data": {
      "text/html": [
       "<div>\n",
       "<style scoped>\n",
       "    .dataframe tbody tr th:only-of-type {\n",
       "        vertical-align: middle;\n",
       "    }\n",
       "\n",
       "    .dataframe tbody tr th {\n",
       "        vertical-align: top;\n",
       "    }\n",
       "\n",
       "    .dataframe thead th {\n",
       "        text-align: right;\n",
       "    }\n",
       "</style>\n",
       "<table border=\"1\" class=\"dataframe\">\n",
       "  <thead>\n",
       "    <tr style=\"text-align: right;\">\n",
       "      <th></th>\n",
       "      <th>ID</th>\n",
       "      <th>TARGET</th>\n",
       "    </tr>\n",
       "  </thead>\n",
       "  <tbody>\n",
       "    <tr>\n",
       "      <th>0</th>\n",
       "      <td>0</td>\n",
       "      <td>0</td>\n",
       "    </tr>\n",
       "    <tr>\n",
       "      <th>1</th>\n",
       "      <td>1</td>\n",
       "      <td>0</td>\n",
       "    </tr>\n",
       "    <tr>\n",
       "      <th>2</th>\n",
       "      <td>2</td>\n",
       "      <td>0</td>\n",
       "    </tr>\n",
       "    <tr>\n",
       "      <th>3</th>\n",
       "      <td>3</td>\n",
       "      <td>0</td>\n",
       "    </tr>\n",
       "    <tr>\n",
       "      <th>4</th>\n",
       "      <td>4</td>\n",
       "      <td>0</td>\n",
       "    </tr>\n",
       "    <tr>\n",
       "      <th>...</th>\n",
       "      <td>...</td>\n",
       "      <td>...</td>\n",
       "    </tr>\n",
       "    <tr>\n",
       "      <th>2476</th>\n",
       "      <td>2476</td>\n",
       "      <td>0</td>\n",
       "    </tr>\n",
       "    <tr>\n",
       "      <th>2477</th>\n",
       "      <td>2477</td>\n",
       "      <td>0</td>\n",
       "    </tr>\n",
       "    <tr>\n",
       "      <th>2478</th>\n",
       "      <td>2478</td>\n",
       "      <td>0</td>\n",
       "    </tr>\n",
       "    <tr>\n",
       "      <th>2479</th>\n",
       "      <td>2479</td>\n",
       "      <td>0</td>\n",
       "    </tr>\n",
       "    <tr>\n",
       "      <th>2480</th>\n",
       "      <td>2480</td>\n",
       "      <td>0</td>\n",
       "    </tr>\n",
       "  </tbody>\n",
       "</table>\n",
       "<p>2481 rows × 2 columns</p>\n",
       "</div>"
      ],
      "text/plain": [
       "        ID  TARGET\n",
       "0        0       0\n",
       "1        1       0\n",
       "2        2       0\n",
       "3        3       0\n",
       "4        4       0\n",
       "...    ...     ...\n",
       "2476  2476       0\n",
       "2477  2477       0\n",
       "2478  2478       0\n",
       "2479  2479       0\n",
       "2480  2480       0\n",
       "\n",
       "[2481 rows x 2 columns]"
      ]
     },
     "execution_count": 21,
     "metadata": {},
     "output_type": "execute_result"
    }
   ],
   "source": [
    "submit = pd.read_csv('../input/2022-ai-w6p2/sample_submit.csv')\n",
    "submit"
   ]
  },
  {
   "cell_type": "code",
   "execution_count": 22,
   "id": "af9b4388",
   "metadata": {
    "execution": {
     "iopub.execute_input": "2022-10-09T21:40:02.883179Z",
     "iopub.status.busy": "2022-10-09T21:40:02.881664Z",
     "iopub.status.idle": "2022-10-09T21:40:02.896701Z",
     "shell.execute_reply": "2022-10-09T21:40:02.895737Z"
    },
    "papermill": {
     "duration": 0.026712,
     "end_time": "2022-10-09T21:40:02.898932",
     "exception": false,
     "start_time": "2022-10-09T21:40:02.872220",
     "status": "completed"
    },
    "tags": []
   },
   "outputs": [
    {
     "data": {
      "text/html": [
       "<div>\n",
       "<style scoped>\n",
       "    .dataframe tbody tr th:only-of-type {\n",
       "        vertical-align: middle;\n",
       "    }\n",
       "\n",
       "    .dataframe tbody tr th {\n",
       "        vertical-align: top;\n",
       "    }\n",
       "\n",
       "    .dataframe thead th {\n",
       "        text-align: right;\n",
       "    }\n",
       "</style>\n",
       "<table border=\"1\" class=\"dataframe\">\n",
       "  <thead>\n",
       "    <tr style=\"text-align: right;\">\n",
       "      <th></th>\n",
       "      <th>ID</th>\n",
       "      <th>TARGET</th>\n",
       "    </tr>\n",
       "  </thead>\n",
       "  <tbody>\n",
       "    <tr>\n",
       "      <th>0</th>\n",
       "      <td>0</td>\n",
       "      <td>0.816681</td>\n",
       "    </tr>\n",
       "    <tr>\n",
       "      <th>1</th>\n",
       "      <td>1</td>\n",
       "      <td>7.795754</td>\n",
       "    </tr>\n",
       "    <tr>\n",
       "      <th>2</th>\n",
       "      <td>2</td>\n",
       "      <td>12.095368</td>\n",
       "    </tr>\n",
       "    <tr>\n",
       "      <th>3</th>\n",
       "      <td>3</td>\n",
       "      <td>17.313595</td>\n",
       "    </tr>\n",
       "    <tr>\n",
       "      <th>4</th>\n",
       "      <td>4</td>\n",
       "      <td>21.066521</td>\n",
       "    </tr>\n",
       "    <tr>\n",
       "      <th>...</th>\n",
       "      <td>...</td>\n",
       "      <td>...</td>\n",
       "    </tr>\n",
       "    <tr>\n",
       "      <th>2476</th>\n",
       "      <td>2476</td>\n",
       "      <td>5.902294</td>\n",
       "    </tr>\n",
       "    <tr>\n",
       "      <th>2477</th>\n",
       "      <td>2477</td>\n",
       "      <td>6.614272</td>\n",
       "    </tr>\n",
       "    <tr>\n",
       "      <th>2478</th>\n",
       "      <td>2478</td>\n",
       "      <td>7.994978</td>\n",
       "    </tr>\n",
       "    <tr>\n",
       "      <th>2479</th>\n",
       "      <td>2479</td>\n",
       "      <td>8.669312</td>\n",
       "    </tr>\n",
       "    <tr>\n",
       "      <th>2480</th>\n",
       "      <td>2480</td>\n",
       "      <td>9.731771</td>\n",
       "    </tr>\n",
       "  </tbody>\n",
       "</table>\n",
       "<p>2481 rows × 2 columns</p>\n",
       "</div>"
      ],
      "text/plain": [
       "        ID     TARGET\n",
       "0        0   0.816681\n",
       "1        1   7.795754\n",
       "2        2  12.095368\n",
       "3        3  17.313595\n",
       "4        4  21.066521\n",
       "...    ...        ...\n",
       "2476  2476   5.902294\n",
       "2477  2477   6.614272\n",
       "2478  2478   7.994978\n",
       "2479  2479   8.669312\n",
       "2480  2480   9.731771\n",
       "\n",
       "[2481 rows x 2 columns]"
      ]
     },
     "execution_count": 22,
     "metadata": {},
     "output_type": "execute_result"
    }
   ],
   "source": [
    "submit['TARGET'] = predicted\n",
    "submit"
   ]
  },
  {
   "cell_type": "code",
   "execution_count": 23,
   "id": "30c76067",
   "metadata": {
    "execution": {
     "iopub.execute_input": "2022-10-09T21:40:02.918994Z",
     "iopub.status.busy": "2022-10-09T21:40:02.917540Z",
     "iopub.status.idle": "2022-10-09T21:40:02.934610Z",
     "shell.execute_reply": "2022-10-09T21:40:02.933512Z"
    },
    "papermill": {
     "duration": 0.028847,
     "end_time": "2022-10-09T21:40:02.936935",
     "exception": false,
     "start_time": "2022-10-09T21:40:02.908088",
     "status": "completed"
    },
    "tags": []
   },
   "outputs": [
    {
     "data": {
      "text/html": [
       "<div>\n",
       "<style scoped>\n",
       "    .dataframe tbody tr th:only-of-type {\n",
       "        vertical-align: middle;\n",
       "    }\n",
       "\n",
       "    .dataframe tbody tr th {\n",
       "        vertical-align: top;\n",
       "    }\n",
       "\n",
       "    .dataframe thead th {\n",
       "        text-align: right;\n",
       "    }\n",
       "</style>\n",
       "<table border=\"1\" class=\"dataframe\">\n",
       "  <thead>\n",
       "    <tr style=\"text-align: right;\">\n",
       "      <th></th>\n",
       "      <th>ID</th>\n",
       "      <th>TARGET</th>\n",
       "    </tr>\n",
       "  </thead>\n",
       "  <tbody>\n",
       "    <tr>\n",
       "      <th>0</th>\n",
       "      <td>0</td>\n",
       "      <td>0.816681</td>\n",
       "    </tr>\n",
       "    <tr>\n",
       "      <th>1</th>\n",
       "      <td>1</td>\n",
       "      <td>7.795754</td>\n",
       "    </tr>\n",
       "    <tr>\n",
       "      <th>2</th>\n",
       "      <td>2</td>\n",
       "      <td>12.095368</td>\n",
       "    </tr>\n",
       "    <tr>\n",
       "      <th>3</th>\n",
       "      <td>3</td>\n",
       "      <td>17.313595</td>\n",
       "    </tr>\n",
       "    <tr>\n",
       "      <th>4</th>\n",
       "      <td>4</td>\n",
       "      <td>21.066521</td>\n",
       "    </tr>\n",
       "    <tr>\n",
       "      <th>...</th>\n",
       "      <td>...</td>\n",
       "      <td>...</td>\n",
       "    </tr>\n",
       "    <tr>\n",
       "      <th>2476</th>\n",
       "      <td>2476</td>\n",
       "      <td>5.902294</td>\n",
       "    </tr>\n",
       "    <tr>\n",
       "      <th>2477</th>\n",
       "      <td>2477</td>\n",
       "      <td>6.614272</td>\n",
       "    </tr>\n",
       "    <tr>\n",
       "      <th>2478</th>\n",
       "      <td>2478</td>\n",
       "      <td>7.994978</td>\n",
       "    </tr>\n",
       "    <tr>\n",
       "      <th>2479</th>\n",
       "      <td>2479</td>\n",
       "      <td>8.669312</td>\n",
       "    </tr>\n",
       "    <tr>\n",
       "      <th>2480</th>\n",
       "      <td>2480</td>\n",
       "      <td>9.731771</td>\n",
       "    </tr>\n",
       "  </tbody>\n",
       "</table>\n",
       "<p>2481 rows × 2 columns</p>\n",
       "</div>"
      ],
      "text/plain": [
       "        ID     TARGET\n",
       "0        0   0.816681\n",
       "1        1   7.795754\n",
       "2        2  12.095368\n",
       "3        3  17.313595\n",
       "4        4  21.066521\n",
       "...    ...        ...\n",
       "2476  2476   5.902294\n",
       "2477  2477   6.614272\n",
       "2478  2478   7.994978\n",
       "2479  2479   8.669312\n",
       "2480  2480   9.731771\n",
       "\n",
       "[2481 rows x 2 columns]"
      ]
     },
     "execution_count": 23,
     "metadata": {},
     "output_type": "execute_result"
    }
   ],
   "source": [
    "submit.to_csv('submit.csv',index=False)\n",
    "submit"
   ]
  },
  {
   "cell_type": "code",
   "execution_count": null,
   "id": "95f56ca7",
   "metadata": {
    "papermill": {
     "duration": 0.008507,
     "end_time": "2022-10-09T21:40:02.954541",
     "exception": false,
     "start_time": "2022-10-09T21:40:02.946034",
     "status": "completed"
    },
    "tags": []
   },
   "outputs": [],
   "source": []
  },
  {
   "cell_type": "code",
   "execution_count": null,
   "id": "ad959119",
   "metadata": {
    "papermill": {
     "duration": 0.008567,
     "end_time": "2022-10-09T21:40:02.971896",
     "exception": false,
     "start_time": "2022-10-09T21:40:02.963329",
     "status": "completed"
    },
    "tags": []
   },
   "outputs": [],
   "source": []
  }
 ],
 "metadata": {
  "kernelspec": {
   "display_name": "Python 3",
   "language": "python",
   "name": "python3"
  },
  "language_info": {
   "codemirror_mode": {
    "name": "ipython",
    "version": 3
   },
   "file_extension": ".py",
   "mimetype": "text/x-python",
   "name": "python",
   "nbconvert_exporter": "python",
   "pygments_lexer": "ipython3",
   "version": "3.7.12"
  },
  "papermill": {
   "default_parameters": {},
   "duration": 29.811303,
   "end_time": "2022-10-09T21:40:04.203436",
   "environment_variables": {},
   "exception": null,
   "input_path": "__notebook__.ipynb",
   "output_path": "__notebook__.ipynb",
   "parameters": {},
   "start_time": "2022-10-09T21:39:34.392133",
   "version": "2.3.4"
  }
 },
 "nbformat": 4,
 "nbformat_minor": 5
}
