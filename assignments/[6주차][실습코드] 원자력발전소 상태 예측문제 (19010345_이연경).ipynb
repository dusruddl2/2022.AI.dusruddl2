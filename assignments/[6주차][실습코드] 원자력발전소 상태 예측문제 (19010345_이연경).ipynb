{
 "cells": [
  {
   "cell_type": "code",
   "execution_count": 1,
   "id": "dd528796",
   "metadata": {
    "_cell_guid": "b1076dfc-b9ad-4769-8c92-a6c4dae69d19",
    "_uuid": "8f2839f25d086af736a60e9eeb907d3b93b6e0e5",
    "execution": {
     "iopub.execute_input": "2022-10-09T20:26:25.568858Z",
     "iopub.status.busy": "2022-10-09T20:26:25.568373Z",
     "iopub.status.idle": "2022-10-09T20:26:25.581840Z",
     "shell.execute_reply": "2022-10-09T20:26:25.580305Z"
    },
    "papermill": {
     "duration": 0.025678,
     "end_time": "2022-10-09T20:26:25.584452",
     "exception": false,
     "start_time": "2022-10-09T20:26:25.558774",
     "status": "completed"
    },
    "tags": []
   },
   "outputs": [
    {
     "name": "stdout",
     "output_type": "stream",
     "text": [
      "/kaggle/input/2022-ai-w6p1/sample_submission.csv\n",
      "/kaggle/input/2022-ai-w6p1/pca_test.csv\n",
      "/kaggle/input/2022-ai-w6p1/pca_train.csv\n",
      "/kaggle/input/2022-ai-w6p1/train_label.csv\n"
     ]
    }
   ],
   "source": [
    "# This Python 3 environment comes with many helpful analytics libraries installed\n",
    "# It is defined by the kaggle/python Docker image: https://github.com/kaggle/docker-python\n",
    "# For example, here's several helpful packages to load\n",
    "\n",
    "import numpy as np # linear algebra\n",
    "import pandas as pd # data processing, CSV file I/O (e.g. pd.read_csv)\n",
    "\n",
    "# Input data files are available in the read-only \"../input/\" directory\n",
    "# For example, running this (by clicking run or pressing Shift+Enter) will list all files under the input directory\n",
    "\n",
    "import os\n",
    "for dirname, _, filenames in os.walk('/kaggle/input'):\n",
    "    for filename in filenames:\n",
    "        print(os.path.join(dirname, filename))\n",
    "\n",
    "# You can write up to 20GB to the current directory (/kaggle/working/) that gets preserved as output when you create a version using \"Save & Run All\" \n",
    "# You can also write temporary files to /kaggle/temp/, but they won't be saved outside of the current session"
   ]
  },
  {
   "cell_type": "code",
   "execution_count": 2,
   "id": "4b5040cc",
   "metadata": {
    "execution": {
     "iopub.execute_input": "2022-10-09T20:26:25.600471Z",
     "iopub.status.busy": "2022-10-09T20:26:25.599710Z",
     "iopub.status.idle": "2022-10-09T20:26:27.337642Z",
     "shell.execute_reply": "2022-10-09T20:26:27.336654Z"
    },
    "papermill": {
     "duration": 1.748201,
     "end_time": "2022-10-09T20:26:27.340226",
     "exception": false,
     "start_time": "2022-10-09T20:26:25.592025",
     "status": "completed"
    },
    "tags": []
   },
   "outputs": [],
   "source": [
    "import random\n",
    "import torch\n",
    "import numpy as np\n",
    "import pandas as pd\n",
    "\n",
    "\n",
    "seed = 42\n",
    "random.seed(seed)\n",
    "np.random.seed(seed)\n",
    "torch.manual_seed(seed)\n",
    "if torch.cuda.is_available():\n",
    "    torch.cuda.manual_seed(seed)\n",
    "    torch.cuda.manual_seed_all(seed)\n",
    "torch.backends.cudnn.benchmark = False\n",
    "torch.backends.cudnn.deterministic = True"
   ]
  },
  {
   "cell_type": "markdown",
   "id": "143c9f50",
   "metadata": {
    "papermill": {
     "duration": 0.006679,
     "end_time": "2022-10-09T20:26:27.354286",
     "exception": false,
     "start_time": "2022-10-09T20:26:27.347607",
     "status": "completed"
    },
    "tags": []
   },
   "source": [
    "# GPU 사용하기"
   ]
  },
  {
   "cell_type": "code",
   "execution_count": 3,
   "id": "62511c8c",
   "metadata": {
    "execution": {
     "iopub.execute_input": "2022-10-09T20:26:27.369250Z",
     "iopub.status.busy": "2022-10-09T20:26:27.368825Z",
     "iopub.status.idle": "2022-10-09T20:26:27.378313Z",
     "shell.execute_reply": "2022-10-09T20:26:27.377393Z"
    },
    "papermill": {
     "duration": 0.019593,
     "end_time": "2022-10-09T20:26:27.380661",
     "exception": false,
     "start_time": "2022-10-09T20:26:27.361068",
     "status": "completed"
    },
    "tags": []
   },
   "outputs": [
    {
     "name": "stdout",
     "output_type": "stream",
     "text": [
      "Device: cuda\n",
      "Current cuda device: 0\n",
      "Count of using GPUs: 1\n"
     ]
    }
   ],
   "source": [
    "device = torch.device(\"cuda\" if torch.cuda.is_available() else \"cpu\")\n",
    "\n",
    "print('Device:', device)\n",
    "print('Current cuda device:', torch.cuda.current_device())\n",
    "print('Count of using GPUs:', torch.cuda.device_count())"
   ]
  },
  {
   "cell_type": "markdown",
   "id": "287e83db",
   "metadata": {
    "papermill": {
     "duration": 0.006712,
     "end_time": "2022-10-09T20:26:27.394083",
     "exception": false,
     "start_time": "2022-10-09T20:26:27.387371",
     "status": "completed"
    },
    "tags": []
   },
   "source": [
    "# 데이터 불러오기"
   ]
  },
  {
   "cell_type": "code",
   "execution_count": 4,
   "id": "c5e459eb",
   "metadata": {
    "execution": {
     "iopub.execute_input": "2022-10-09T20:26:27.411593Z",
     "iopub.status.busy": "2022-10-09T20:26:27.410068Z",
     "iopub.status.idle": "2022-10-09T20:26:30.602609Z",
     "shell.execute_reply": "2022-10-09T20:26:30.601648Z"
    },
    "papermill": {
     "duration": 3.203515,
     "end_time": "2022-10-09T20:26:30.605852",
     "exception": false,
     "start_time": "2022-10-09T20:26:27.402337",
     "status": "completed"
    },
    "tags": []
   },
   "outputs": [
    {
     "data": {
      "text/html": [
       "<div>\n",
       "<style scoped>\n",
       "    .dataframe tbody tr th:only-of-type {\n",
       "        vertical-align: middle;\n",
       "    }\n",
       "\n",
       "    .dataframe tbody tr th {\n",
       "        vertical-align: top;\n",
       "    }\n",
       "\n",
       "    .dataframe thead th {\n",
       "        text-align: right;\n",
       "    }\n",
       "</style>\n",
       "<table border=\"1\" class=\"dataframe\">\n",
       "  <thead>\n",
       "    <tr style=\"text-align: right;\">\n",
       "      <th></th>\n",
       "      <th>0</th>\n",
       "      <th>1</th>\n",
       "      <th>2</th>\n",
       "      <th>3</th>\n",
       "      <th>4</th>\n",
       "      <th>5</th>\n",
       "      <th>6</th>\n",
       "      <th>7</th>\n",
       "      <th>8</th>\n",
       "      <th>9</th>\n",
       "      <th>...</th>\n",
       "      <th>246</th>\n",
       "      <th>247</th>\n",
       "      <th>248</th>\n",
       "      <th>249</th>\n",
       "      <th>250</th>\n",
       "      <th>251</th>\n",
       "      <th>252</th>\n",
       "      <th>253</th>\n",
       "      <th>254</th>\n",
       "      <th>255</th>\n",
       "    </tr>\n",
       "  </thead>\n",
       "  <tbody>\n",
       "    <tr>\n",
       "      <th>0</th>\n",
       "      <td>-6.227718</td>\n",
       "      <td>-2.070960</td>\n",
       "      <td>0.674094</td>\n",
       "      <td>-0.742135</td>\n",
       "      <td>0.309149</td>\n",
       "      <td>-4.006772</td>\n",
       "      <td>-0.664624</td>\n",
       "      <td>0.533987</td>\n",
       "      <td>0.024594</td>\n",
       "      <td>-0.195856</td>\n",
       "      <td>...</td>\n",
       "      <td>-2.114192</td>\n",
       "      <td>-0.605770</td>\n",
       "      <td>0.491399</td>\n",
       "      <td>-0.166693</td>\n",
       "      <td>1.289197</td>\n",
       "      <td>-0.403863</td>\n",
       "      <td>0.238731</td>\n",
       "      <td>2.166737</td>\n",
       "      <td>-0.106487</td>\n",
       "      <td>1.486114</td>\n",
       "    </tr>\n",
       "    <tr>\n",
       "      <th>1</th>\n",
       "      <td>-6.081077</td>\n",
       "      <td>-1.960213</td>\n",
       "      <td>0.846482</td>\n",
       "      <td>-0.932816</td>\n",
       "      <td>-0.050208</td>\n",
       "      <td>-4.082826</td>\n",
       "      <td>-0.449032</td>\n",
       "      <td>0.647842</td>\n",
       "      <td>0.417809</td>\n",
       "      <td>0.073842</td>\n",
       "      <td>...</td>\n",
       "      <td>-1.000466</td>\n",
       "      <td>-1.175968</td>\n",
       "      <td>0.299093</td>\n",
       "      <td>-1.187048</td>\n",
       "      <td>-0.499101</td>\n",
       "      <td>0.738016</td>\n",
       "      <td>0.632842</td>\n",
       "      <td>0.850430</td>\n",
       "      <td>-2.211427</td>\n",
       "      <td>1.083040</td>\n",
       "    </tr>\n",
       "    <tr>\n",
       "      <th>2</th>\n",
       "      <td>-6.394956</td>\n",
       "      <td>-2.954897</td>\n",
       "      <td>1.600033</td>\n",
       "      <td>-0.479463</td>\n",
       "      <td>-1.217065</td>\n",
       "      <td>-3.986472</td>\n",
       "      <td>-0.812934</td>\n",
       "      <td>0.472509</td>\n",
       "      <td>1.536917</td>\n",
       "      <td>1.989765</td>\n",
       "      <td>...</td>\n",
       "      <td>-1.703212</td>\n",
       "      <td>0.713673</td>\n",
       "      <td>0.330699</td>\n",
       "      <td>0.036953</td>\n",
       "      <td>-0.204944</td>\n",
       "      <td>0.930597</td>\n",
       "      <td>-0.693151</td>\n",
       "      <td>-0.572443</td>\n",
       "      <td>0.835598</td>\n",
       "      <td>-0.751483</td>\n",
       "    </tr>\n",
       "    <tr>\n",
       "      <th>3</th>\n",
       "      <td>-6.681355</td>\n",
       "      <td>-2.055031</td>\n",
       "      <td>1.144864</td>\n",
       "      <td>-0.517872</td>\n",
       "      <td>-0.168057</td>\n",
       "      <td>-3.929032</td>\n",
       "      <td>-0.718259</td>\n",
       "      <td>0.555827</td>\n",
       "      <td>0.096472</td>\n",
       "      <td>0.724261</td>\n",
       "      <td>...</td>\n",
       "      <td>0.434870</td>\n",
       "      <td>1.571784</td>\n",
       "      <td>-1.266089</td>\n",
       "      <td>1.584173</td>\n",
       "      <td>-0.290301</td>\n",
       "      <td>0.068907</td>\n",
       "      <td>-1.148258</td>\n",
       "      <td>1.904273</td>\n",
       "      <td>0.322937</td>\n",
       "      <td>-0.318100</td>\n",
       "    </tr>\n",
       "    <tr>\n",
       "      <th>4</th>\n",
       "      <td>-5.716713</td>\n",
       "      <td>-2.163729</td>\n",
       "      <td>0.877930</td>\n",
       "      <td>-0.605268</td>\n",
       "      <td>0.082372</td>\n",
       "      <td>-4.261466</td>\n",
       "      <td>-0.679734</td>\n",
       "      <td>0.739369</td>\n",
       "      <td>0.490033</td>\n",
       "      <td>0.546437</td>\n",
       "      <td>...</td>\n",
       "      <td>0.626112</td>\n",
       "      <td>-0.435030</td>\n",
       "      <td>2.112485</td>\n",
       "      <td>1.101894</td>\n",
       "      <td>1.746205</td>\n",
       "      <td>-0.445612</td>\n",
       "      <td>-1.518138</td>\n",
       "      <td>0.299177</td>\n",
       "      <td>-0.020655</td>\n",
       "      <td>0.234824</td>\n",
       "    </tr>\n",
       "    <tr>\n",
       "      <th>...</th>\n",
       "      <td>...</td>\n",
       "      <td>...</td>\n",
       "      <td>...</td>\n",
       "      <td>...</td>\n",
       "      <td>...</td>\n",
       "      <td>...</td>\n",
       "      <td>...</td>\n",
       "      <td>...</td>\n",
       "      <td>...</td>\n",
       "      <td>...</td>\n",
       "      <td>...</td>\n",
       "      <td>...</td>\n",
       "      <td>...</td>\n",
       "      <td>...</td>\n",
       "      <td>...</td>\n",
       "      <td>...</td>\n",
       "      <td>...</td>\n",
       "      <td>...</td>\n",
       "      <td>...</td>\n",
       "      <td>...</td>\n",
       "      <td>...</td>\n",
       "    </tr>\n",
       "    <tr>\n",
       "      <th>27666</th>\n",
       "      <td>-6.047007</td>\n",
       "      <td>-2.072704</td>\n",
       "      <td>0.668214</td>\n",
       "      <td>-0.254932</td>\n",
       "      <td>0.099894</td>\n",
       "      <td>-1.477478</td>\n",
       "      <td>-0.703836</td>\n",
       "      <td>-0.327026</td>\n",
       "      <td>0.504125</td>\n",
       "      <td>0.222820</td>\n",
       "      <td>...</td>\n",
       "      <td>-1.449840</td>\n",
       "      <td>-0.050902</td>\n",
       "      <td>-1.240334</td>\n",
       "      <td>-0.750522</td>\n",
       "      <td>-1.168852</td>\n",
       "      <td>0.048051</td>\n",
       "      <td>0.432534</td>\n",
       "      <td>-0.003478</td>\n",
       "      <td>-0.609472</td>\n",
       "      <td>-0.348196</td>\n",
       "    </tr>\n",
       "    <tr>\n",
       "      <th>27667</th>\n",
       "      <td>-6.569392</td>\n",
       "      <td>-1.932956</td>\n",
       "      <td>0.602381</td>\n",
       "      <td>0.253941</td>\n",
       "      <td>-0.341952</td>\n",
       "      <td>4.064471</td>\n",
       "      <td>-1.502157</td>\n",
       "      <td>-2.467482</td>\n",
       "      <td>0.281797</td>\n",
       "      <td>0.812378</td>\n",
       "      <td>...</td>\n",
       "      <td>0.721433</td>\n",
       "      <td>1.197452</td>\n",
       "      <td>-0.700384</td>\n",
       "      <td>-3.483315</td>\n",
       "      <td>-0.371596</td>\n",
       "      <td>0.478422</td>\n",
       "      <td>-1.537939</td>\n",
       "      <td>2.030344</td>\n",
       "      <td>-1.080110</td>\n",
       "      <td>-0.409972</td>\n",
       "    </tr>\n",
       "    <tr>\n",
       "      <th>27668</th>\n",
       "      <td>-6.232087</td>\n",
       "      <td>-1.834862</td>\n",
       "      <td>2.097659</td>\n",
       "      <td>-0.566552</td>\n",
       "      <td>-0.288520</td>\n",
       "      <td>-4.034954</td>\n",
       "      <td>0.457435</td>\n",
       "      <td>0.315611</td>\n",
       "      <td>0.981373</td>\n",
       "      <td>0.483152</td>\n",
       "      <td>...</td>\n",
       "      <td>0.662459</td>\n",
       "      <td>-1.293272</td>\n",
       "      <td>0.067110</td>\n",
       "      <td>0.357502</td>\n",
       "      <td>-0.155424</td>\n",
       "      <td>-0.658622</td>\n",
       "      <td>2.016063</td>\n",
       "      <td>-0.359339</td>\n",
       "      <td>0.993638</td>\n",
       "      <td>0.130081</td>\n",
       "    </tr>\n",
       "    <tr>\n",
       "      <th>27669</th>\n",
       "      <td>-6.387326</td>\n",
       "      <td>-0.387639</td>\n",
       "      <td>-1.090173</td>\n",
       "      <td>1.499431</td>\n",
       "      <td>0.629389</td>\n",
       "      <td>31.163396</td>\n",
       "      <td>-3.186039</td>\n",
       "      <td>-12.114586</td>\n",
       "      <td>-0.543894</td>\n",
       "      <td>-1.469931</td>\n",
       "      <td>...</td>\n",
       "      <td>-0.838120</td>\n",
       "      <td>0.584897</td>\n",
       "      <td>-1.355164</td>\n",
       "      <td>-1.358166</td>\n",
       "      <td>1.344522</td>\n",
       "      <td>-0.526878</td>\n",
       "      <td>-0.230260</td>\n",
       "      <td>-0.459776</td>\n",
       "      <td>2.507944</td>\n",
       "      <td>-1.379322</td>\n",
       "    </tr>\n",
       "    <tr>\n",
       "      <th>27670</th>\n",
       "      <td>-6.317132</td>\n",
       "      <td>-2.159943</td>\n",
       "      <td>1.085279</td>\n",
       "      <td>-0.551308</td>\n",
       "      <td>-0.256207</td>\n",
       "      <td>-4.151564</td>\n",
       "      <td>-0.860211</td>\n",
       "      <td>0.470046</td>\n",
       "      <td>0.246312</td>\n",
       "      <td>0.981830</td>\n",
       "      <td>...</td>\n",
       "      <td>0.169673</td>\n",
       "      <td>0.152567</td>\n",
       "      <td>0.655538</td>\n",
       "      <td>0.094223</td>\n",
       "      <td>-0.643895</td>\n",
       "      <td>-0.257323</td>\n",
       "      <td>0.054573</td>\n",
       "      <td>-0.807560</td>\n",
       "      <td>0.247731</td>\n",
       "      <td>2.318635</td>\n",
       "    </tr>\n",
       "  </tbody>\n",
       "</table>\n",
       "<p>27671 rows × 256 columns</p>\n",
       "</div>"
      ],
      "text/plain": [
       "              0         1         2         3         4          5         6  \\\n",
       "0     -6.227718 -2.070960  0.674094 -0.742135  0.309149  -4.006772 -0.664624   \n",
       "1     -6.081077 -1.960213  0.846482 -0.932816 -0.050208  -4.082826 -0.449032   \n",
       "2     -6.394956 -2.954897  1.600033 -0.479463 -1.217065  -3.986472 -0.812934   \n",
       "3     -6.681355 -2.055031  1.144864 -0.517872 -0.168057  -3.929032 -0.718259   \n",
       "4     -5.716713 -2.163729  0.877930 -0.605268  0.082372  -4.261466 -0.679734   \n",
       "...         ...       ...       ...       ...       ...        ...       ...   \n",
       "27666 -6.047007 -2.072704  0.668214 -0.254932  0.099894  -1.477478 -0.703836   \n",
       "27667 -6.569392 -1.932956  0.602381  0.253941 -0.341952   4.064471 -1.502157   \n",
       "27668 -6.232087 -1.834862  2.097659 -0.566552 -0.288520  -4.034954  0.457435   \n",
       "27669 -6.387326 -0.387639 -1.090173  1.499431  0.629389  31.163396 -3.186039   \n",
       "27670 -6.317132 -2.159943  1.085279 -0.551308 -0.256207  -4.151564 -0.860211   \n",
       "\n",
       "               7         8         9  ...       246       247       248  \\\n",
       "0       0.533987  0.024594 -0.195856  ... -2.114192 -0.605770  0.491399   \n",
       "1       0.647842  0.417809  0.073842  ... -1.000466 -1.175968  0.299093   \n",
       "2       0.472509  1.536917  1.989765  ... -1.703212  0.713673  0.330699   \n",
       "3       0.555827  0.096472  0.724261  ...  0.434870  1.571784 -1.266089   \n",
       "4       0.739369  0.490033  0.546437  ...  0.626112 -0.435030  2.112485   \n",
       "...          ...       ...       ...  ...       ...       ...       ...   \n",
       "27666  -0.327026  0.504125  0.222820  ... -1.449840 -0.050902 -1.240334   \n",
       "27667  -2.467482  0.281797  0.812378  ...  0.721433  1.197452 -0.700384   \n",
       "27668   0.315611  0.981373  0.483152  ...  0.662459 -1.293272  0.067110   \n",
       "27669 -12.114586 -0.543894 -1.469931  ... -0.838120  0.584897 -1.355164   \n",
       "27670   0.470046  0.246312  0.981830  ...  0.169673  0.152567  0.655538   \n",
       "\n",
       "            249       250       251       252       253       254       255  \n",
       "0     -0.166693  1.289197 -0.403863  0.238731  2.166737 -0.106487  1.486114  \n",
       "1     -1.187048 -0.499101  0.738016  0.632842  0.850430 -2.211427  1.083040  \n",
       "2      0.036953 -0.204944  0.930597 -0.693151 -0.572443  0.835598 -0.751483  \n",
       "3      1.584173 -0.290301  0.068907 -1.148258  1.904273  0.322937 -0.318100  \n",
       "4      1.101894  1.746205 -0.445612 -1.518138  0.299177 -0.020655  0.234824  \n",
       "...         ...       ...       ...       ...       ...       ...       ...  \n",
       "27666 -0.750522 -1.168852  0.048051  0.432534 -0.003478 -0.609472 -0.348196  \n",
       "27667 -3.483315 -0.371596  0.478422 -1.537939  2.030344 -1.080110 -0.409972  \n",
       "27668  0.357502 -0.155424 -0.658622  2.016063 -0.359339  0.993638  0.130081  \n",
       "27669 -1.358166  1.344522 -0.526878 -0.230260 -0.459776  2.507944 -1.379322  \n",
       "27670  0.094223 -0.643895 -0.257323  0.054573 -0.807560  0.247731  2.318635  \n",
       "\n",
       "[27671 rows x 256 columns]"
      ]
     },
     "execution_count": 4,
     "metadata": {},
     "output_type": "execute_result"
    }
   ],
   "source": [
    "X_train = pd.read_csv('../input/2022-ai-w6p1/pca_train.csv')\n",
    "X_train"
   ]
  },
  {
   "cell_type": "code",
   "execution_count": 5,
   "id": "edacd397",
   "metadata": {
    "execution": {
     "iopub.execute_input": "2022-10-09T20:26:30.624891Z",
     "iopub.status.busy": "2022-10-09T20:26:30.624592Z",
     "iopub.status.idle": "2022-10-09T20:26:30.642561Z",
     "shell.execute_reply": "2022-10-09T20:26:30.641532Z"
    },
    "papermill": {
     "duration": 0.029088,
     "end_time": "2022-10-09T20:26:30.644666",
     "exception": false,
     "start_time": "2022-10-09T20:26:30.615578",
     "status": "completed"
    },
    "tags": []
   },
   "outputs": [
    {
     "data": {
      "text/html": [
       "<div>\n",
       "<style scoped>\n",
       "    .dataframe tbody tr th:only-of-type {\n",
       "        vertical-align: middle;\n",
       "    }\n",
       "\n",
       "    .dataframe tbody tr th {\n",
       "        vertical-align: top;\n",
       "    }\n",
       "\n",
       "    .dataframe thead th {\n",
       "        text-align: right;\n",
       "    }\n",
       "</style>\n",
       "<table border=\"1\" class=\"dataframe\">\n",
       "  <thead>\n",
       "    <tr style=\"text-align: right;\">\n",
       "      <th></th>\n",
       "      <th>id</th>\n",
       "      <th>label</th>\n",
       "    </tr>\n",
       "  </thead>\n",
       "  <tbody>\n",
       "    <tr>\n",
       "      <th>0</th>\n",
       "      <td>0</td>\n",
       "      <td>136</td>\n",
       "    </tr>\n",
       "    <tr>\n",
       "      <th>1</th>\n",
       "      <td>1</td>\n",
       "      <td>90</td>\n",
       "    </tr>\n",
       "    <tr>\n",
       "      <th>2</th>\n",
       "      <td>2</td>\n",
       "      <td>112</td>\n",
       "    </tr>\n",
       "    <tr>\n",
       "      <th>3</th>\n",
       "      <td>3</td>\n",
       "      <td>165</td>\n",
       "    </tr>\n",
       "    <tr>\n",
       "      <th>4</th>\n",
       "      <td>4</td>\n",
       "      <td>73</td>\n",
       "    </tr>\n",
       "    <tr>\n",
       "      <th>...</th>\n",
       "      <td>...</td>\n",
       "      <td>...</td>\n",
       "    </tr>\n",
       "    <tr>\n",
       "      <th>27666</th>\n",
       "      <td>27666</td>\n",
       "      <td>9</td>\n",
       "    </tr>\n",
       "    <tr>\n",
       "      <th>27667</th>\n",
       "      <td>27667</td>\n",
       "      <td>132</td>\n",
       "    </tr>\n",
       "    <tr>\n",
       "      <th>27668</th>\n",
       "      <td>27668</td>\n",
       "      <td>18</td>\n",
       "    </tr>\n",
       "    <tr>\n",
       "      <th>27669</th>\n",
       "      <td>27669</td>\n",
       "      <td>41</td>\n",
       "    </tr>\n",
       "    <tr>\n",
       "      <th>27670</th>\n",
       "      <td>27670</td>\n",
       "      <td>114</td>\n",
       "    </tr>\n",
       "  </tbody>\n",
       "</table>\n",
       "<p>27671 rows × 2 columns</p>\n",
       "</div>"
      ],
      "text/plain": [
       "          id  label\n",
       "0          0    136\n",
       "1          1     90\n",
       "2          2    112\n",
       "3          3    165\n",
       "4          4     73\n",
       "...      ...    ...\n",
       "27666  27666      9\n",
       "27667  27667    132\n",
       "27668  27668     18\n",
       "27669  27669     41\n",
       "27670  27670    114\n",
       "\n",
       "[27671 rows x 2 columns]"
      ]
     },
     "execution_count": 5,
     "metadata": {},
     "output_type": "execute_result"
    }
   ],
   "source": [
    "y_train = pd.read_csv('../input/2022-ai-w6p1/train_label.csv')\n",
    "y_train"
   ]
  },
  {
   "cell_type": "markdown",
   "id": "485723cc",
   "metadata": {
    "papermill": {
     "duration": 0.007314,
     "end_time": "2022-10-09T20:26:30.659504",
     "exception": false,
     "start_time": "2022-10-09T20:26:30.652190",
     "status": "completed"
    },
    "tags": []
   },
   "source": [
    "## X_train 정규화 + tensor로 바꾸기"
   ]
  },
  {
   "cell_type": "code",
   "execution_count": 6,
   "id": "7d30aa37",
   "metadata": {
    "execution": {
     "iopub.execute_input": "2022-10-09T20:26:30.675337Z",
     "iopub.status.busy": "2022-10-09T20:26:30.675072Z",
     "iopub.status.idle": "2022-10-09T20:26:31.465457Z",
     "shell.execute_reply": "2022-10-09T20:26:31.464477Z"
    },
    "papermill": {
     "duration": 0.800917,
     "end_time": "2022-10-09T20:26:31.467861",
     "exception": false,
     "start_time": "2022-10-09T20:26:30.666944",
     "status": "completed"
    },
    "tags": []
   },
   "outputs": [
    {
     "data": {
      "text/plain": [
       "array([[-0.16764337, -0.11283343,  0.04929722, ...,  2.14773098,\n",
       "        -0.1056013 ,  1.47440317],\n",
       "       [-0.16369595, -0.10679955,  0.06190416, ...,  0.8429707 ,\n",
       "        -2.19303037,  1.0745059 ],\n",
       "       [-0.17214522, -0.16099359,  0.11701218, ..., -0.56742165,\n",
       "         0.82864692, -0.74556154],\n",
       "       ...,\n",
       "       [-0.16776096, -0.09996995,  0.15340412, ..., -0.35618734,\n",
       "         0.9853716 ,  0.12905576],\n",
       "       [-0.17193982, -0.02111998, -0.07972553, ..., -0.45574277,\n",
       "         2.48708031, -1.36845308],\n",
       "       [-0.17005028, -0.11768155,  0.07936767, ..., -0.80047655,\n",
       "         0.24567059,  2.30036452]])"
      ]
     },
     "execution_count": 6,
     "metadata": {},
     "output_type": "execute_result"
    }
   ],
   "source": [
    "from sklearn.preprocessing import StandardScaler\n",
    "scaler = StandardScaler()\n",
    "\n",
    "X_train = scaler.fit_transform(X_train)\n",
    "X_train"
   ]
  },
  {
   "cell_type": "code",
   "execution_count": 7,
   "id": "c251266c",
   "metadata": {
    "execution": {
     "iopub.execute_input": "2022-10-09T20:26:31.484859Z",
     "iopub.status.busy": "2022-10-09T20:26:31.484565Z",
     "iopub.status.idle": "2022-10-09T20:26:34.381078Z",
     "shell.execute_reply": "2022-10-09T20:26:34.380068Z"
    },
    "papermill": {
     "duration": 2.907528,
     "end_time": "2022-10-09T20:26:34.383444",
     "exception": false,
     "start_time": "2022-10-09T20:26:31.475916",
     "status": "completed"
    },
    "tags": []
   },
   "outputs": [
    {
     "data": {
      "text/plain": [
       "tensor([[-0.1676, -0.1128,  0.0493,  ...,  2.1477, -0.1056,  1.4744],\n",
       "        [-0.1637, -0.1068,  0.0619,  ...,  0.8430, -2.1930,  1.0745],\n",
       "        [-0.1721, -0.1610,  0.1170,  ..., -0.5674,  0.8286, -0.7456],\n",
       "        ...,\n",
       "        [-0.1678, -0.1000,  0.1534,  ..., -0.3562,  0.9854,  0.1291],\n",
       "        [-0.1719, -0.0211, -0.0797,  ..., -0.4557,  2.4871, -1.3685],\n",
       "        [-0.1701, -0.1177,  0.0794,  ..., -0.8005,  0.2457,  2.3004]],\n",
       "       device='cuda:0')"
      ]
     },
     "execution_count": 7,
     "metadata": {},
     "output_type": "execute_result"
    }
   ],
   "source": [
    "X_train = torch.FloatTensor(X_train).to(device)\n",
    "X_train"
   ]
  },
  {
   "cell_type": "markdown",
   "id": "624a621b",
   "metadata": {
    "papermill": {
     "duration": 0.007547,
     "end_time": "2022-10-09T20:26:34.398855",
     "exception": false,
     "start_time": "2022-10-09T20:26:34.391308",
     "status": "completed"
    },
    "tags": []
   },
   "source": [
    "## y_train 형태 만들기 + tensor로 바꾸기"
   ]
  },
  {
   "cell_type": "code",
   "execution_count": 8,
   "id": "67b8e733",
   "metadata": {
    "execution": {
     "iopub.execute_input": "2022-10-09T20:26:34.416624Z",
     "iopub.status.busy": "2022-10-09T20:26:34.415090Z",
     "iopub.status.idle": "2022-10-09T20:26:34.426236Z",
     "shell.execute_reply": "2022-10-09T20:26:34.425263Z"
    },
    "papermill": {
     "duration": 0.021773,
     "end_time": "2022-10-09T20:26:34.428211",
     "exception": false,
     "start_time": "2022-10-09T20:26:34.406438",
     "status": "completed"
    },
    "tags": []
   },
   "outputs": [
    {
     "data": {
      "text/plain": [
       "0        136\n",
       "1         90\n",
       "2        112\n",
       "3        165\n",
       "4         73\n",
       "        ... \n",
       "27666      9\n",
       "27667    132\n",
       "27668     18\n",
       "27669     41\n",
       "27670    114\n",
       "Name: label, Length: 27671, dtype: int64"
      ]
     },
     "execution_count": 8,
     "metadata": {},
     "output_type": "execute_result"
    }
   ],
   "source": [
    "y_train = y_train['label']\n",
    "y_train"
   ]
  },
  {
   "cell_type": "code",
   "execution_count": 9,
   "id": "a9efcf56",
   "metadata": {
    "execution": {
     "iopub.execute_input": "2022-10-09T20:26:34.445892Z",
     "iopub.status.busy": "2022-10-09T20:26:34.444490Z",
     "iopub.status.idle": "2022-10-09T20:26:34.454395Z",
     "shell.execute_reply": "2022-10-09T20:26:34.453465Z"
    },
    "papermill": {
     "duration": 0.02035,
     "end_time": "2022-10-09T20:26:34.456394",
     "exception": false,
     "start_time": "2022-10-09T20:26:34.436044",
     "status": "completed"
    },
    "tags": []
   },
   "outputs": [
    {
     "data": {
      "text/plain": [
       "tensor([136,  90, 112,  ...,  18,  41, 114], device='cuda:0')"
      ]
     },
     "execution_count": 9,
     "metadata": {},
     "output_type": "execute_result"
    }
   ],
   "source": [
    "y_train = torch.LongTensor(y_train).to(device)\n",
    "y_train"
   ]
  },
  {
   "cell_type": "markdown",
   "id": "4fcbfe30",
   "metadata": {
    "papermill": {
     "duration": 0.007658,
     "end_time": "2022-10-09T20:26:34.471758",
     "exception": false,
     "start_time": "2022-10-09T20:26:34.464100",
     "status": "completed"
    },
    "tags": []
   },
   "source": [
    "## shape 확인하기"
   ]
  },
  {
   "cell_type": "code",
   "execution_count": 10,
   "id": "5dadfda7",
   "metadata": {
    "execution": {
     "iopub.execute_input": "2022-10-09T20:26:34.488666Z",
     "iopub.status.busy": "2022-10-09T20:26:34.488068Z",
     "iopub.status.idle": "2022-10-09T20:26:34.493715Z",
     "shell.execute_reply": "2022-10-09T20:26:34.492341Z"
    },
    "papermill": {
     "duration": 0.016698,
     "end_time": "2022-10-09T20:26:34.496230",
     "exception": false,
     "start_time": "2022-10-09T20:26:34.479532",
     "status": "completed"
    },
    "tags": []
   },
   "outputs": [
    {
     "name": "stdout",
     "output_type": "stream",
     "text": [
      "torch.Size([27671, 256])\n",
      "torch.Size([27671])\n"
     ]
    }
   ],
   "source": [
    "print(X_train.shape)\n",
    "print(y_train.shape)"
   ]
  },
  {
   "cell_type": "code",
   "execution_count": 11,
   "id": "a7923ada",
   "metadata": {
    "execution": {
     "iopub.execute_input": "2022-10-09T20:26:34.514059Z",
     "iopub.status.busy": "2022-10-09T20:26:34.513196Z",
     "iopub.status.idle": "2022-10-09T20:26:34.527341Z",
     "shell.execute_reply": "2022-10-09T20:26:34.526310Z"
    },
    "papermill": {
     "duration": 0.02466,
     "end_time": "2022-10-09T20:26:34.529345",
     "exception": false,
     "start_time": "2022-10-09T20:26:34.504685",
     "status": "completed"
    },
    "tags": []
   },
   "outputs": [
    {
     "data": {
      "text/plain": [
       "torch.Size([198])"
      ]
     },
     "execution_count": 11,
     "metadata": {},
     "output_type": "execute_result"
    }
   ],
   "source": [
    "np.shape(y_train.unique())"
   ]
  },
  {
   "cell_type": "code",
   "execution_count": 12,
   "id": "a07f7836",
   "metadata": {
    "execution": {
     "iopub.execute_input": "2022-10-09T20:26:34.546757Z",
     "iopub.status.busy": "2022-10-09T20:26:34.545969Z",
     "iopub.status.idle": "2022-10-09T20:26:34.555358Z",
     "shell.execute_reply": "2022-10-09T20:26:34.553637Z"
    },
    "papermill": {
     "duration": 0.020665,
     "end_time": "2022-10-09T20:26:34.557915",
     "exception": false,
     "start_time": "2022-10-09T20:26:34.537250",
     "status": "completed"
    },
    "tags": []
   },
   "outputs": [
    {
     "name": "stdout",
     "output_type": "stream",
     "text": [
      "tensor([  0,   1,   2,   3,   4,   5,   6,   7,   8,   9,  10,  11,  12,  13,\n",
      "         14,  15,  16,  17,  18,  19,  20,  21,  22,  23,  24,  25,  26,  27,\n",
      "         28,  29,  30,  31,  32,  33,  34,  35,  36,  37,  38,  39,  40,  41,\n",
      "         42,  43,  44,  45,  46,  47,  48,  49,  50,  51,  52,  53,  54,  55,\n",
      "         56,  57,  58,  59,  60,  61,  62,  63,  64,  65,  66,  67,  68,  69,\n",
      "         70,  71,  72,  73,  74,  75,  76,  77,  78,  79,  80,  81,  82,  83,\n",
      "         84,  85,  86,  87,  88,  89,  90,  91,  92,  93,  94,  95,  96,  97,\n",
      "         98,  99, 100, 101, 102, 103, 104, 105, 106, 107, 108, 109, 110, 111,\n",
      "        112, 113, 114, 115, 116, 117, 118, 119, 120, 121, 122, 123, 124, 125,\n",
      "        126, 127, 128, 129, 130, 131, 132, 133, 134, 135, 136, 137, 138, 139,\n",
      "        140, 141, 142, 143, 144, 145, 146, 147, 148, 149, 150, 151, 152, 153,\n",
      "        154, 155, 156, 157, 158, 159, 160, 161, 162, 163, 164, 165, 166, 167,\n",
      "        168, 169, 170, 171, 172, 173, 174, 175, 176, 177, 178, 179, 180, 181,\n",
      "        182, 183, 184, 185, 186, 187, 188, 189, 190, 191, 192, 193, 194, 195,\n",
      "        196, 197], device='cuda:0')\n"
     ]
    }
   ],
   "source": [
    "print(y_train.unique())"
   ]
  },
  {
   "cell_type": "markdown",
   "id": "98f78469",
   "metadata": {
    "papermill": {
     "duration": 0.00783,
     "end_time": "2022-10-09T20:26:34.574423",
     "exception": false,
     "start_time": "2022-10-09T20:26:34.566593",
     "status": "completed"
    },
    "tags": []
   },
   "source": [
    "# 모델 정의하기"
   ]
  },
  {
   "cell_type": "code",
   "execution_count": 13,
   "id": "bf5e338b",
   "metadata": {
    "execution": {
     "iopub.execute_input": "2022-10-09T20:26:34.591984Z",
     "iopub.status.busy": "2022-10-09T20:26:34.591112Z",
     "iopub.status.idle": "2022-10-09T20:26:34.598926Z",
     "shell.execute_reply": "2022-10-09T20:26:34.598089Z"
    },
    "papermill": {
     "duration": 0.018446,
     "end_time": "2022-10-09T20:26:34.600897",
     "exception": false,
     "start_time": "2022-10-09T20:26:34.582451",
     "status": "completed"
    },
    "tags": []
   },
   "outputs": [],
   "source": [
    "linear1 = torch.nn.Linear(256,128,bias=True)\n",
    "linear5 = torch.nn.Linear(128,198,bias=True)\n",
    "sigmoid = torch.nn.ReLU()"
   ]
  },
  {
   "cell_type": "code",
   "execution_count": 14,
   "id": "ad656776",
   "metadata": {
    "execution": {
     "iopub.execute_input": "2022-10-09T20:26:34.618323Z",
     "iopub.status.busy": "2022-10-09T20:26:34.617580Z",
     "iopub.status.idle": "2022-10-09T20:26:34.624148Z",
     "shell.execute_reply": "2022-10-09T20:26:34.623307Z"
    },
    "papermill": {
     "duration": 0.017218,
     "end_time": "2022-10-09T20:26:34.626079",
     "exception": false,
     "start_time": "2022-10-09T20:26:34.608861",
     "status": "completed"
    },
    "tags": []
   },
   "outputs": [],
   "source": [
    "model = torch.nn.Sequential(linear1,sigmoid,linear5,sigmoid).to(device)"
   ]
  },
  {
   "cell_type": "code",
   "execution_count": 15,
   "id": "e8a808e9",
   "metadata": {
    "execution": {
     "iopub.execute_input": "2022-10-09T20:26:34.643467Z",
     "iopub.status.busy": "2022-10-09T20:26:34.642700Z",
     "iopub.status.idle": "2022-10-09T20:26:34.648933Z",
     "shell.execute_reply": "2022-10-09T20:26:34.647958Z"
    },
    "papermill": {
     "duration": 0.017009,
     "end_time": "2022-10-09T20:26:34.651041",
     "exception": false,
     "start_time": "2022-10-09T20:26:34.634032",
     "status": "completed"
    },
    "tags": []
   },
   "outputs": [
    {
     "data": {
      "text/plain": [
       "Sequential(\n",
       "  (0): Linear(in_features=256, out_features=128, bias=True)\n",
       "  (1): ReLU()\n",
       "  (2): Linear(in_features=128, out_features=198, bias=True)\n",
       "  (3): ReLU()\n",
       ")"
      ]
     },
     "execution_count": 15,
     "metadata": {},
     "output_type": "execute_result"
    }
   ],
   "source": [
    "model"
   ]
  },
  {
   "cell_type": "markdown",
   "id": "50fe54da",
   "metadata": {
    "papermill": {
     "duration": 0.007959,
     "end_time": "2022-10-09T20:26:34.667134",
     "exception": false,
     "start_time": "2022-10-09T20:26:34.659175",
     "status": "completed"
    },
    "tags": []
   },
   "source": [
    "# 모델 학습하기"
   ]
  },
  {
   "cell_type": "code",
   "execution_count": 16,
   "id": "bde60a83",
   "metadata": {
    "execution": {
     "iopub.execute_input": "2022-10-09T20:26:34.684232Z",
     "iopub.status.busy": "2022-10-09T20:26:34.683974Z",
     "iopub.status.idle": "2022-10-09T20:26:34.688396Z",
     "shell.execute_reply": "2022-10-09T20:26:34.687470Z"
    },
    "papermill": {
     "duration": 0.015138,
     "end_time": "2022-10-09T20:26:34.690326",
     "exception": false,
     "start_time": "2022-10-09T20:26:34.675188",
     "status": "completed"
    },
    "tags": []
   },
   "outputs": [],
   "source": [
    "loss = torch.nn.CrossEntropyLoss()\n",
    "optimizer = torch.optim.SGD(model.parameters(),lr=1e-2)\n",
    "#(regularization)weight_decay=0.5"
   ]
  },
  {
   "cell_type": "code",
   "execution_count": 17,
   "id": "78703b28",
   "metadata": {
    "execution": {
     "iopub.execute_input": "2022-10-09T20:26:34.707449Z",
     "iopub.status.busy": "2022-10-09T20:26:34.707171Z",
     "iopub.status.idle": "2022-10-09T20:29:21.807018Z",
     "shell.execute_reply": "2022-10-09T20:29:21.805957Z"
    },
    "papermill": {
     "duration": 167.111139,
     "end_time": "2022-10-09T20:29:21.809526",
     "exception": false,
     "start_time": "2022-10-09T20:26:34.698387",
     "status": "completed"
    },
    "tags": []
   },
   "outputs": [
    {
     "name": "stdout",
     "output_type": "stream",
     "text": [
      "0 5.311746120452881\n",
      "1000 4.299528121948242\n",
      "2000 3.176389455795288\n",
      "3000 2.7333896160125732\n",
      "4000 2.526129961013794\n",
      "5000 2.393305778503418\n",
      "6000 2.2825820446014404\n",
      "7000 2.161618947982788\n",
      "8000 2.023939847946167\n",
      "9000 1.9620476961135864\n",
      "10000 1.9152858257293701\n",
      "11000 1.8757083415985107\n",
      "12000 1.8410277366638184\n",
      "13000 1.8093863725662231\n",
      "14000 1.7805674076080322\n",
      "15000 1.7536388635635376\n",
      "16000 1.7277811765670776\n",
      "17000 1.7028539180755615\n",
      "18000 1.6788029670715332\n",
      "19000 1.654955267906189\n",
      "20000 1.6309417486190796\n",
      "21000 1.607796311378479\n",
      "22000 1.5854148864746094\n",
      "23000 1.5630724430084229\n",
      "24000 1.5411767959594727\n",
      "25000 1.5198571681976318\n",
      "26000 1.4993996620178223\n",
      "27000 1.479957103729248\n",
      "28000 1.4614001512527466\n",
      "29000 1.4434951543807983\n"
     ]
    }
   ],
   "source": [
    "for stop in range(30000):\n",
    "    \n",
    "    # 그래디언트 초기화\n",
    "    optimizer.zero_grad()\n",
    "    \n",
    "    # Forward 계산\n",
    "    hypothesis = model(X_train)\n",
    "    # Error 계산\n",
    "    cost = loss(hypothesis, y_train)\n",
    "    \n",
    "    # Backward 계산 \n",
    "    cost.backward()\n",
    "    # 가중치 갱신\n",
    "    optimizer.step()\n",
    "\n",
    "    if stop % 1000 == 0:\n",
    "        print(stop, cost.item())\n"
   ]
  },
  {
   "cell_type": "code",
   "execution_count": 18,
   "id": "1b2e7e41",
   "metadata": {
    "execution": {
     "iopub.execute_input": "2022-10-09T20:29:21.831482Z",
     "iopub.status.busy": "2022-10-09T20:29:21.831163Z",
     "iopub.status.idle": "2022-10-09T20:29:21.991417Z",
     "shell.execute_reply": "2022-10-09T20:29:21.990126Z"
    },
    "papermill": {
     "duration": 0.173116,
     "end_time": "2022-10-09T20:29:21.993509",
     "exception": false,
     "start_time": "2022-10-09T20:29:21.820393",
     "status": "completed"
    },
    "tags": []
   },
   "outputs": [
    {
     "data": {
      "text/plain": [
       "tensor(19263, device='cuda:0')"
      ]
     },
     "execution_count": 18,
     "metadata": {},
     "output_type": "execute_result"
    }
   ],
   "source": [
    "(y_train == hypothesis.argmax(1)).sum()"
   ]
  },
  {
   "cell_type": "markdown",
   "id": "9df03c89",
   "metadata": {
    "papermill": {
     "duration": 0.009355,
     "end_time": "2022-10-09T20:29:22.012381",
     "exception": false,
     "start_time": "2022-10-09T20:29:22.003026",
     "status": "completed"
    },
    "tags": []
   },
   "source": [
    "# 테스트 데이터 불러오기"
   ]
  },
  {
   "cell_type": "code",
   "execution_count": 19,
   "id": "ad4b9a37",
   "metadata": {
    "execution": {
     "iopub.execute_input": "2022-10-09T20:29:22.033302Z",
     "iopub.status.busy": "2022-10-09T20:29:22.033014Z",
     "iopub.status.idle": "2022-10-09T20:29:23.584691Z",
     "shell.execute_reply": "2022-10-09T20:29:23.583738Z"
    },
    "papermill": {
     "duration": 1.564356,
     "end_time": "2022-10-09T20:29:23.586809",
     "exception": false,
     "start_time": "2022-10-09T20:29:22.022453",
     "status": "completed"
    },
    "tags": []
   },
   "outputs": [
    {
     "data": {
      "text/html": [
       "<div>\n",
       "<style scoped>\n",
       "    .dataframe tbody tr th:only-of-type {\n",
       "        vertical-align: middle;\n",
       "    }\n",
       "\n",
       "    .dataframe tbody tr th {\n",
       "        vertical-align: top;\n",
       "    }\n",
       "\n",
       "    .dataframe thead th {\n",
       "        text-align: right;\n",
       "    }\n",
       "</style>\n",
       "<table border=\"1\" class=\"dataframe\">\n",
       "  <thead>\n",
       "    <tr style=\"text-align: right;\">\n",
       "      <th></th>\n",
       "      <th>0</th>\n",
       "      <th>1</th>\n",
       "      <th>2</th>\n",
       "      <th>3</th>\n",
       "      <th>4</th>\n",
       "      <th>5</th>\n",
       "      <th>6</th>\n",
       "      <th>7</th>\n",
       "      <th>8</th>\n",
       "      <th>9</th>\n",
       "      <th>...</th>\n",
       "      <th>246</th>\n",
       "      <th>247</th>\n",
       "      <th>248</th>\n",
       "      <th>249</th>\n",
       "      <th>250</th>\n",
       "      <th>251</th>\n",
       "      <th>252</th>\n",
       "      <th>253</th>\n",
       "      <th>254</th>\n",
       "      <th>255</th>\n",
       "    </tr>\n",
       "  </thead>\n",
       "  <tbody>\n",
       "    <tr>\n",
       "      <th>0</th>\n",
       "      <td>-6.220117</td>\n",
       "      <td>-2.277101</td>\n",
       "      <td>1.034768</td>\n",
       "      <td>-0.384605</td>\n",
       "      <td>-0.702699</td>\n",
       "      <td>-4.246655</td>\n",
       "      <td>-0.807866</td>\n",
       "      <td>0.572210</td>\n",
       "      <td>1.165823</td>\n",
       "      <td>1.152361</td>\n",
       "      <td>...</td>\n",
       "      <td>0.163893</td>\n",
       "      <td>-0.709582</td>\n",
       "      <td>0.498515</td>\n",
       "      <td>1.707836</td>\n",
       "      <td>-0.948594</td>\n",
       "      <td>-0.131648</td>\n",
       "      <td>-1.640947</td>\n",
       "      <td>0.515782</td>\n",
       "      <td>0.792422</td>\n",
       "      <td>0.788818</td>\n",
       "    </tr>\n",
       "    <tr>\n",
       "      <th>1</th>\n",
       "      <td>-6.450735</td>\n",
       "      <td>-2.273477</td>\n",
       "      <td>1.006427</td>\n",
       "      <td>-0.819267</td>\n",
       "      <td>-0.241652</td>\n",
       "      <td>-4.031211</td>\n",
       "      <td>-0.656995</td>\n",
       "      <td>0.636281</td>\n",
       "      <td>0.498062</td>\n",
       "      <td>0.542788</td>\n",
       "      <td>...</td>\n",
       "      <td>0.357484</td>\n",
       "      <td>-0.432345</td>\n",
       "      <td>-0.524281</td>\n",
       "      <td>-0.099300</td>\n",
       "      <td>-1.288575</td>\n",
       "      <td>-0.511968</td>\n",
       "      <td>0.500356</td>\n",
       "      <td>-1.395989</td>\n",
       "      <td>-0.721703</td>\n",
       "      <td>0.261530</td>\n",
       "    </tr>\n",
       "    <tr>\n",
       "      <th>2</th>\n",
       "      <td>-6.044194</td>\n",
       "      <td>-2.472646</td>\n",
       "      <td>1.285010</td>\n",
       "      <td>-0.368850</td>\n",
       "      <td>-0.363810</td>\n",
       "      <td>-3.983979</td>\n",
       "      <td>-0.674843</td>\n",
       "      <td>0.518772</td>\n",
       "      <td>0.815135</td>\n",
       "      <td>0.699784</td>\n",
       "      <td>...</td>\n",
       "      <td>1.176633</td>\n",
       "      <td>1.637722</td>\n",
       "      <td>0.263460</td>\n",
       "      <td>-1.154657</td>\n",
       "      <td>0.192604</td>\n",
       "      <td>-0.260725</td>\n",
       "      <td>-0.363973</td>\n",
       "      <td>0.123888</td>\n",
       "      <td>-0.461763</td>\n",
       "      <td>-0.140312</td>\n",
       "    </tr>\n",
       "    <tr>\n",
       "      <th>3</th>\n",
       "      <td>-7.379873</td>\n",
       "      <td>-1.032564</td>\n",
       "      <td>0.234467</td>\n",
       "      <td>-0.388409</td>\n",
       "      <td>0.355459</td>\n",
       "      <td>-0.352889</td>\n",
       "      <td>-0.938281</td>\n",
       "      <td>-0.946746</td>\n",
       "      <td>-0.396938</td>\n",
       "      <td>-0.847589</td>\n",
       "      <td>...</td>\n",
       "      <td>-0.445818</td>\n",
       "      <td>0.249247</td>\n",
       "      <td>0.423985</td>\n",
       "      <td>0.438247</td>\n",
       "      <td>0.646347</td>\n",
       "      <td>1.164281</td>\n",
       "      <td>0.142753</td>\n",
       "      <td>0.359090</td>\n",
       "      <td>0.837276</td>\n",
       "      <td>0.957077</td>\n",
       "    </tr>\n",
       "    <tr>\n",
       "      <th>4</th>\n",
       "      <td>-6.166922</td>\n",
       "      <td>-1.771786</td>\n",
       "      <td>0.663905</td>\n",
       "      <td>-0.671532</td>\n",
       "      <td>0.331461</td>\n",
       "      <td>-4.181923</td>\n",
       "      <td>-0.701542</td>\n",
       "      <td>0.661430</td>\n",
       "      <td>-0.033613</td>\n",
       "      <td>-0.043006</td>\n",
       "      <td>...</td>\n",
       "      <td>1.838244</td>\n",
       "      <td>0.647151</td>\n",
       "      <td>1.941593</td>\n",
       "      <td>2.228317</td>\n",
       "      <td>-2.104379</td>\n",
       "      <td>0.737671</td>\n",
       "      <td>-0.538868</td>\n",
       "      <td>-0.791611</td>\n",
       "      <td>-0.985132</td>\n",
       "      <td>0.292099</td>\n",
       "    </tr>\n",
       "    <tr>\n",
       "      <th>...</th>\n",
       "      <td>...</td>\n",
       "      <td>...</td>\n",
       "      <td>...</td>\n",
       "      <td>...</td>\n",
       "      <td>...</td>\n",
       "      <td>...</td>\n",
       "      <td>...</td>\n",
       "      <td>...</td>\n",
       "      <td>...</td>\n",
       "      <td>...</td>\n",
       "      <td>...</td>\n",
       "      <td>...</td>\n",
       "      <td>...</td>\n",
       "      <td>...</td>\n",
       "      <td>...</td>\n",
       "      <td>...</td>\n",
       "      <td>...</td>\n",
       "      <td>...</td>\n",
       "      <td>...</td>\n",
       "      <td>...</td>\n",
       "      <td>...</td>\n",
       "    </tr>\n",
       "    <tr>\n",
       "      <th>13624</th>\n",
       "      <td>-6.513840</td>\n",
       "      <td>-1.394930</td>\n",
       "      <td>0.333204</td>\n",
       "      <td>-0.750949</td>\n",
       "      <td>0.594688</td>\n",
       "      <td>-2.635995</td>\n",
       "      <td>-0.934044</td>\n",
       "      <td>0.123369</td>\n",
       "      <td>-0.418801</td>\n",
       "      <td>-0.769193</td>\n",
       "      <td>...</td>\n",
       "      <td>-0.232304</td>\n",
       "      <td>-0.425656</td>\n",
       "      <td>-0.497238</td>\n",
       "      <td>0.473078</td>\n",
       "      <td>0.140824</td>\n",
       "      <td>-0.986948</td>\n",
       "      <td>-0.119994</td>\n",
       "      <td>1.339758</td>\n",
       "      <td>-0.874920</td>\n",
       "      <td>2.389680</td>\n",
       "    </tr>\n",
       "    <tr>\n",
       "      <th>13625</th>\n",
       "      <td>-6.106158</td>\n",
       "      <td>-1.552375</td>\n",
       "      <td>0.321694</td>\n",
       "      <td>-1.177582</td>\n",
       "      <td>0.602137</td>\n",
       "      <td>-4.203300</td>\n",
       "      <td>-0.633238</td>\n",
       "      <td>0.583460</td>\n",
       "      <td>-0.281046</td>\n",
       "      <td>-0.439632</td>\n",
       "      <td>...</td>\n",
       "      <td>0.275283</td>\n",
       "      <td>-1.469434</td>\n",
       "      <td>0.598442</td>\n",
       "      <td>0.322251</td>\n",
       "      <td>1.010329</td>\n",
       "      <td>0.473637</td>\n",
       "      <td>-0.509026</td>\n",
       "      <td>0.689395</td>\n",
       "      <td>0.380682</td>\n",
       "      <td>0.477235</td>\n",
       "    </tr>\n",
       "    <tr>\n",
       "      <th>13626</th>\n",
       "      <td>-5.916207</td>\n",
       "      <td>-2.285041</td>\n",
       "      <td>0.972209</td>\n",
       "      <td>-0.869802</td>\n",
       "      <td>-0.065306</td>\n",
       "      <td>-4.426993</td>\n",
       "      <td>-0.555087</td>\n",
       "      <td>0.755705</td>\n",
       "      <td>0.188009</td>\n",
       "      <td>0.763321</td>\n",
       "      <td>...</td>\n",
       "      <td>0.689430</td>\n",
       "      <td>-1.357263</td>\n",
       "      <td>-0.646554</td>\n",
       "      <td>-0.128856</td>\n",
       "      <td>0.063910</td>\n",
       "      <td>0.294675</td>\n",
       "      <td>0.687431</td>\n",
       "      <td>-0.235042</td>\n",
       "      <td>-0.097503</td>\n",
       "      <td>-1.266684</td>\n",
       "    </tr>\n",
       "    <tr>\n",
       "      <th>13627</th>\n",
       "      <td>-6.016793</td>\n",
       "      <td>-2.482594</td>\n",
       "      <td>1.318416</td>\n",
       "      <td>-0.495801</td>\n",
       "      <td>-0.424331</td>\n",
       "      <td>-4.067531</td>\n",
       "      <td>-0.634893</td>\n",
       "      <td>0.520420</td>\n",
       "      <td>0.972367</td>\n",
       "      <td>0.910569</td>\n",
       "      <td>...</td>\n",
       "      <td>0.528882</td>\n",
       "      <td>-1.928248</td>\n",
       "      <td>0.046155</td>\n",
       "      <td>-0.195394</td>\n",
       "      <td>-0.019051</td>\n",
       "      <td>-1.422435</td>\n",
       "      <td>-0.931999</td>\n",
       "      <td>-0.224663</td>\n",
       "      <td>0.726427</td>\n",
       "      <td>-0.626489</td>\n",
       "    </tr>\n",
       "    <tr>\n",
       "      <th>13628</th>\n",
       "      <td>-5.952588</td>\n",
       "      <td>-1.970097</td>\n",
       "      <td>0.778515</td>\n",
       "      <td>-0.586870</td>\n",
       "      <td>0.326877</td>\n",
       "      <td>-1.233984</td>\n",
       "      <td>-1.373700</td>\n",
       "      <td>-0.598670</td>\n",
       "      <td>-0.108787</td>\n",
       "      <td>0.385858</td>\n",
       "      <td>...</td>\n",
       "      <td>-0.657892</td>\n",
       "      <td>0.926438</td>\n",
       "      <td>1.441270</td>\n",
       "      <td>1.249119</td>\n",
       "      <td>-1.743842</td>\n",
       "      <td>-0.366353</td>\n",
       "      <td>-1.464398</td>\n",
       "      <td>-0.360184</td>\n",
       "      <td>-1.280644</td>\n",
       "      <td>1.746930</td>\n",
       "    </tr>\n",
       "  </tbody>\n",
       "</table>\n",
       "<p>13629 rows × 256 columns</p>\n",
       "</div>"
      ],
      "text/plain": [
       "              0         1         2         3         4         5         6  \\\n",
       "0     -6.220117 -2.277101  1.034768 -0.384605 -0.702699 -4.246655 -0.807866   \n",
       "1     -6.450735 -2.273477  1.006427 -0.819267 -0.241652 -4.031211 -0.656995   \n",
       "2     -6.044194 -2.472646  1.285010 -0.368850 -0.363810 -3.983979 -0.674843   \n",
       "3     -7.379873 -1.032564  0.234467 -0.388409  0.355459 -0.352889 -0.938281   \n",
       "4     -6.166922 -1.771786  0.663905 -0.671532  0.331461 -4.181923 -0.701542   \n",
       "...         ...       ...       ...       ...       ...       ...       ...   \n",
       "13624 -6.513840 -1.394930  0.333204 -0.750949  0.594688 -2.635995 -0.934044   \n",
       "13625 -6.106158 -1.552375  0.321694 -1.177582  0.602137 -4.203300 -0.633238   \n",
       "13626 -5.916207 -2.285041  0.972209 -0.869802 -0.065306 -4.426993 -0.555087   \n",
       "13627 -6.016793 -2.482594  1.318416 -0.495801 -0.424331 -4.067531 -0.634893   \n",
       "13628 -5.952588 -1.970097  0.778515 -0.586870  0.326877 -1.233984 -1.373700   \n",
       "\n",
       "              7         8         9  ...       246       247       248  \\\n",
       "0      0.572210  1.165823  1.152361  ...  0.163893 -0.709582  0.498515   \n",
       "1      0.636281  0.498062  0.542788  ...  0.357484 -0.432345 -0.524281   \n",
       "2      0.518772  0.815135  0.699784  ...  1.176633  1.637722  0.263460   \n",
       "3     -0.946746 -0.396938 -0.847589  ... -0.445818  0.249247  0.423985   \n",
       "4      0.661430 -0.033613 -0.043006  ...  1.838244  0.647151  1.941593   \n",
       "...         ...       ...       ...  ...       ...       ...       ...   \n",
       "13624  0.123369 -0.418801 -0.769193  ... -0.232304 -0.425656 -0.497238   \n",
       "13625  0.583460 -0.281046 -0.439632  ...  0.275283 -1.469434  0.598442   \n",
       "13626  0.755705  0.188009  0.763321  ...  0.689430 -1.357263 -0.646554   \n",
       "13627  0.520420  0.972367  0.910569  ...  0.528882 -1.928248  0.046155   \n",
       "13628 -0.598670 -0.108787  0.385858  ... -0.657892  0.926438  1.441270   \n",
       "\n",
       "            249       250       251       252       253       254       255  \n",
       "0      1.707836 -0.948594 -0.131648 -1.640947  0.515782  0.792422  0.788818  \n",
       "1     -0.099300 -1.288575 -0.511968  0.500356 -1.395989 -0.721703  0.261530  \n",
       "2     -1.154657  0.192604 -0.260725 -0.363973  0.123888 -0.461763 -0.140312  \n",
       "3      0.438247  0.646347  1.164281  0.142753  0.359090  0.837276  0.957077  \n",
       "4      2.228317 -2.104379  0.737671 -0.538868 -0.791611 -0.985132  0.292099  \n",
       "...         ...       ...       ...       ...       ...       ...       ...  \n",
       "13624  0.473078  0.140824 -0.986948 -0.119994  1.339758 -0.874920  2.389680  \n",
       "13625  0.322251  1.010329  0.473637 -0.509026  0.689395  0.380682  0.477235  \n",
       "13626 -0.128856  0.063910  0.294675  0.687431 -0.235042 -0.097503 -1.266684  \n",
       "13627 -0.195394 -0.019051 -1.422435 -0.931999 -0.224663  0.726427 -0.626489  \n",
       "13628  1.249119 -1.743842 -0.366353 -1.464398 -0.360184 -1.280644  1.746930  \n",
       "\n",
       "[13629 rows x 256 columns]"
      ]
     },
     "execution_count": 19,
     "metadata": {},
     "output_type": "execute_result"
    }
   ],
   "source": [
    "X_test = pd.read_csv('../input/2022-ai-w6p1/pca_test.csv')\n",
    "X_test"
   ]
  },
  {
   "cell_type": "code",
   "execution_count": 20,
   "id": "793ea30b",
   "metadata": {
    "execution": {
     "iopub.execute_input": "2022-10-09T20:29:23.609320Z",
     "iopub.status.busy": "2022-10-09T20:29:23.608445Z",
     "iopub.status.idle": "2022-10-09T20:29:23.631693Z",
     "shell.execute_reply": "2022-10-09T20:29:23.630741Z"
    },
    "papermill": {
     "duration": 0.036765,
     "end_time": "2022-10-09T20:29:23.634091",
     "exception": false,
     "start_time": "2022-10-09T20:29:23.597326",
     "status": "completed"
    },
    "tags": []
   },
   "outputs": [],
   "source": [
    "# 정규화\n",
    "X_test = scaler.transform(X_test)"
   ]
  },
  {
   "cell_type": "code",
   "execution_count": 21,
   "id": "f3a5a071",
   "metadata": {
    "execution": {
     "iopub.execute_input": "2022-10-09T20:29:23.655545Z",
     "iopub.status.busy": "2022-10-09T20:29:23.655253Z",
     "iopub.status.idle": "2022-10-09T20:29:23.672452Z",
     "shell.execute_reply": "2022-10-09T20:29:23.671448Z"
    },
    "papermill": {
     "duration": 0.030241,
     "end_time": "2022-10-09T20:29:23.674604",
     "exception": false,
     "start_time": "2022-10-09T20:29:23.644363",
     "status": "completed"
    },
    "tags": []
   },
   "outputs": [
    {
     "data": {
      "text/plain": [
       "tensor([[-0.1674, -0.1241,  0.0757,  ...,  0.5113,  0.7858,  0.7826],\n",
       "        [-0.1736, -0.1239,  0.0736,  ..., -1.3837, -0.7157,  0.2595],\n",
       "        [-0.1627, -0.1347,  0.0940,  ...,  0.1228, -0.4579, -0.1392],\n",
       "        ...,\n",
       "        [-0.1593, -0.1245,  0.0711,  ..., -0.2330, -0.0967, -1.2567],\n",
       "        [-0.1620, -0.1353,  0.0964,  ..., -0.2227,  0.7204, -0.6216],\n",
       "        [-0.1602, -0.1073,  0.0569,  ..., -0.3570, -1.2700,  1.7332]],\n",
       "       device='cuda:0')"
      ]
     },
     "execution_count": 21,
     "metadata": {},
     "output_type": "execute_result"
    }
   ],
   "source": [
    "# 텐서로 변환\n",
    "X_test = torch.FloatTensor(X_test).to(device)\n",
    "X_test"
   ]
  },
  {
   "cell_type": "markdown",
   "id": "047e8aa6",
   "metadata": {
    "papermill": {
     "duration": 0.009987,
     "end_time": "2022-10-09T20:29:23.694713",
     "exception": false,
     "start_time": "2022-10-09T20:29:23.684726",
     "status": "completed"
    },
    "tags": []
   },
   "source": [
    "# 모델 평가하기"
   ]
  },
  {
   "cell_type": "code",
   "execution_count": 22,
   "id": "a030773e",
   "metadata": {
    "execution": {
     "iopub.execute_input": "2022-10-09T20:29:23.719022Z",
     "iopub.status.busy": "2022-10-09T20:29:23.718746Z",
     "iopub.status.idle": "2022-10-09T20:29:23.727170Z",
     "shell.execute_reply": "2022-10-09T20:29:23.726154Z"
    },
    "papermill": {
     "duration": 0.024432,
     "end_time": "2022-10-09T20:29:23.729161",
     "exception": false,
     "start_time": "2022-10-09T20:29:23.704729",
     "status": "completed"
    },
    "tags": []
   },
   "outputs": [
    {
     "data": {
      "text/plain": [
       "tensor([[0.0000, 0.0073, 0.0000,  ..., 0.6889, 1.6290, 0.0000],\n",
       "        [1.6177, 1.7286, 1.3308,  ..., 1.7660, 0.6158, 0.9242],\n",
       "        [0.0000, 1.2712, 1.3794,  ..., 1.2966, 0.2679, 0.1240],\n",
       "        ...,\n",
       "        [0.7070, 2.4850, 1.9934,  ..., 0.9403, 0.3801, 0.4794],\n",
       "        [0.0000, 0.9536, 1.3544,  ..., 0.5175, 0.0000, 0.3972],\n",
       "        [0.0000, 0.4281, 1.2161,  ..., 0.5784, 0.0000, 0.0000]],\n",
       "       device='cuda:0', grad_fn=<ReluBackward0>)"
      ]
     },
     "execution_count": 22,
     "metadata": {},
     "output_type": "execute_result"
    }
   ],
   "source": [
    "hypothesis = model(X_test)\n",
    "hypothesis"
   ]
  },
  {
   "cell_type": "code",
   "execution_count": 23,
   "id": "57515264",
   "metadata": {
    "execution": {
     "iopub.execute_input": "2022-10-09T20:29:23.750748Z",
     "iopub.status.busy": "2022-10-09T20:29:23.750488Z",
     "iopub.status.idle": "2022-10-09T20:29:23.759259Z",
     "shell.execute_reply": "2022-10-09T20:29:23.758062Z"
    },
    "papermill": {
     "duration": 0.022541,
     "end_time": "2022-10-09T20:29:23.761855",
     "exception": false,
     "start_time": "2022-10-09T20:29:23.739314",
     "status": "completed"
    },
    "tags": []
   },
   "outputs": [
    {
     "name": "stdout",
     "output_type": "stream",
     "text": [
      "\n",
      " Hypothesis:  tensor([[0.0000, 0.0073, 0.0000,  ..., 0.6889, 1.6290, 0.0000],\n",
      "        [1.6177, 1.7286, 1.3308,  ..., 1.7660, 0.6158, 0.9242],\n",
      "        [0.0000, 1.2712, 1.3794,  ..., 1.2966, 0.2679, 0.1240],\n",
      "        ...,\n",
      "        [0.7070, 2.4850, 1.9934,  ..., 0.9403, 0.3801, 0.4794],\n",
      "        [0.0000, 0.9536, 1.3544,  ..., 0.5175, 0.0000, 0.3972],\n",
      "        [0.0000, 0.4281, 1.2161,  ..., 0.5784, 0.0000, 0.0000]],\n",
      "       device='cuda:0') \n",
      " Correct:  tensor([113, 118,  68,  ...,  23,  68, 117], device='cuda:0')\n"
     ]
    }
   ],
   "source": [
    "with torch.no_grad():\n",
    "    \n",
    "    hypothesis = model(X_test)\n",
    "    predicted = hypothesis.argmax(1)\n",
    "    print('\\n Hypothesis: ', hypothesis, '\\n Correct: ', predicted)"
   ]
  },
  {
   "cell_type": "code",
   "execution_count": 24,
   "id": "883fbd37",
   "metadata": {
    "execution": {
     "iopub.execute_input": "2022-10-09T20:29:23.783982Z",
     "iopub.status.busy": "2022-10-09T20:29:23.783719Z",
     "iopub.status.idle": "2022-10-09T20:29:23.793232Z",
     "shell.execute_reply": "2022-10-09T20:29:23.792428Z"
    },
    "papermill": {
     "duration": 0.02265,
     "end_time": "2022-10-09T20:29:23.795351",
     "exception": false,
     "start_time": "2022-10-09T20:29:23.772701",
     "status": "completed"
    },
    "tags": []
   },
   "outputs": [
    {
     "data": {
      "text/plain": [
       "tensor([  0,   1,   2,   3,   5,   6,   7,   8,  12,  13,  14,  15,  16,  17,\n",
       "         18,  19,  20,  21,  22,  23,  24,  25,  26,  27,  28,  29,  30,  31,\n",
       "         35,  37,  38,  40,  43,  44,  47,  49,  50,  52,  53,  54,  61,  62,\n",
       "         63,  64,  65,  66,  67,  68,  69,  70,  75,  76,  77,  79,  80,  81,\n",
       "         82,  83,  84,  85,  86,  87,  88,  89,  90,  91,  98, 110, 111, 112,\n",
       "        113, 114, 115, 116, 117, 118, 119, 120, 121, 122, 123, 124, 125, 126,\n",
       "        127, 128, 129, 130, 131, 132, 134, 135, 136, 144, 147, 155, 156, 157,\n",
       "        158, 159, 160, 162, 164, 165, 166, 167, 168, 169, 172, 173, 174, 175,\n",
       "        176, 177, 178, 179, 180, 181, 183, 192], device='cuda:0')"
      ]
     },
     "execution_count": 24,
     "metadata": {},
     "output_type": "execute_result"
    }
   ],
   "source": [
    "predicted.unique()"
   ]
  },
  {
   "cell_type": "code",
   "execution_count": 25,
   "id": "23dbcfde",
   "metadata": {
    "execution": {
     "iopub.execute_input": "2022-10-09T20:29:23.817217Z",
     "iopub.status.busy": "2022-10-09T20:29:23.816965Z",
     "iopub.status.idle": "2022-10-09T20:29:23.823284Z",
     "shell.execute_reply": "2022-10-09T20:29:23.822273Z"
    },
    "papermill": {
     "duration": 0.020662,
     "end_time": "2022-10-09T20:29:23.826337",
     "exception": false,
     "start_time": "2022-10-09T20:29:23.805675",
     "status": "completed"
    },
    "tags": []
   },
   "outputs": [
    {
     "data": {
      "text/plain": [
       "array([113, 118,  68, ...,  23,  68, 117])"
      ]
     },
     "execution_count": 25,
     "metadata": {},
     "output_type": "execute_result"
    }
   ],
   "source": [
    "predicted = np.array(predicted.cpu())\n",
    "predicted"
   ]
  },
  {
   "cell_type": "markdown",
   "id": "02a51bc3",
   "metadata": {
    "papermill": {
     "duration": 0.010177,
     "end_time": "2022-10-09T20:29:23.846907",
     "exception": false,
     "start_time": "2022-10-09T20:29:23.836730",
     "status": "completed"
    },
    "tags": []
   },
   "source": [
    "# 제출 파일 만들기"
   ]
  },
  {
   "cell_type": "code",
   "execution_count": 26,
   "id": "6ec6d160",
   "metadata": {
    "execution": {
     "iopub.execute_input": "2022-10-09T20:29:23.868928Z",
     "iopub.status.busy": "2022-10-09T20:29:23.868678Z",
     "iopub.status.idle": "2022-10-09T20:29:23.885237Z",
     "shell.execute_reply": "2022-10-09T20:29:23.884431Z"
    },
    "papermill": {
     "duration": 0.030016,
     "end_time": "2022-10-09T20:29:23.887237",
     "exception": false,
     "start_time": "2022-10-09T20:29:23.857221",
     "status": "completed"
    },
    "tags": []
   },
   "outputs": [
    {
     "data": {
      "text/html": [
       "<div>\n",
       "<style scoped>\n",
       "    .dataframe tbody tr th:only-of-type {\n",
       "        vertical-align: middle;\n",
       "    }\n",
       "\n",
       "    .dataframe tbody tr th {\n",
       "        vertical-align: top;\n",
       "    }\n",
       "\n",
       "    .dataframe thead th {\n",
       "        text-align: right;\n",
       "    }\n",
       "</style>\n",
       "<table border=\"1\" class=\"dataframe\">\n",
       "  <thead>\n",
       "    <tr style=\"text-align: right;\">\n",
       "      <th></th>\n",
       "      <th>id</th>\n",
       "      <th>label</th>\n",
       "    </tr>\n",
       "  </thead>\n",
       "  <tbody>\n",
       "    <tr>\n",
       "      <th>0</th>\n",
       "      <td>0</td>\n",
       "      <td>0</td>\n",
       "    </tr>\n",
       "    <tr>\n",
       "      <th>1</th>\n",
       "      <td>1</td>\n",
       "      <td>0</td>\n",
       "    </tr>\n",
       "    <tr>\n",
       "      <th>2</th>\n",
       "      <td>2</td>\n",
       "      <td>0</td>\n",
       "    </tr>\n",
       "    <tr>\n",
       "      <th>3</th>\n",
       "      <td>3</td>\n",
       "      <td>0</td>\n",
       "    </tr>\n",
       "    <tr>\n",
       "      <th>4</th>\n",
       "      <td>4</td>\n",
       "      <td>0</td>\n",
       "    </tr>\n",
       "    <tr>\n",
       "      <th>...</th>\n",
       "      <td>...</td>\n",
       "      <td>...</td>\n",
       "    </tr>\n",
       "    <tr>\n",
       "      <th>13624</th>\n",
       "      <td>13624</td>\n",
       "      <td>0</td>\n",
       "    </tr>\n",
       "    <tr>\n",
       "      <th>13625</th>\n",
       "      <td>13625</td>\n",
       "      <td>0</td>\n",
       "    </tr>\n",
       "    <tr>\n",
       "      <th>13626</th>\n",
       "      <td>13626</td>\n",
       "      <td>0</td>\n",
       "    </tr>\n",
       "    <tr>\n",
       "      <th>13627</th>\n",
       "      <td>13627</td>\n",
       "      <td>0</td>\n",
       "    </tr>\n",
       "    <tr>\n",
       "      <th>13628</th>\n",
       "      <td>13628</td>\n",
       "      <td>0</td>\n",
       "    </tr>\n",
       "  </tbody>\n",
       "</table>\n",
       "<p>13629 rows × 2 columns</p>\n",
       "</div>"
      ],
      "text/plain": [
       "          id  label\n",
       "0          0      0\n",
       "1          1      0\n",
       "2          2      0\n",
       "3          3      0\n",
       "4          4      0\n",
       "...      ...    ...\n",
       "13624  13624      0\n",
       "13625  13625      0\n",
       "13626  13626      0\n",
       "13627  13627      0\n",
       "13628  13628      0\n",
       "\n",
       "[13629 rows x 2 columns]"
      ]
     },
     "execution_count": 26,
     "metadata": {},
     "output_type": "execute_result"
    }
   ],
   "source": [
    "submit = pd.read_csv('../input/2022-ai-w6p1/sample_submission.csv')\n",
    "submit"
   ]
  },
  {
   "cell_type": "code",
   "execution_count": 27,
   "id": "3b4658fe",
   "metadata": {
    "execution": {
     "iopub.execute_input": "2022-10-09T20:29:23.909543Z",
     "iopub.status.busy": "2022-10-09T20:29:23.909277Z",
     "iopub.status.idle": "2022-10-09T20:29:23.918953Z",
     "shell.execute_reply": "2022-10-09T20:29:23.917938Z"
    },
    "papermill": {
     "duration": 0.023197,
     "end_time": "2022-10-09T20:29:23.921091",
     "exception": false,
     "start_time": "2022-10-09T20:29:23.897894",
     "status": "completed"
    },
    "tags": []
   },
   "outputs": [
    {
     "data": {
      "text/html": [
       "<div>\n",
       "<style scoped>\n",
       "    .dataframe tbody tr th:only-of-type {\n",
       "        vertical-align: middle;\n",
       "    }\n",
       "\n",
       "    .dataframe tbody tr th {\n",
       "        vertical-align: top;\n",
       "    }\n",
       "\n",
       "    .dataframe thead th {\n",
       "        text-align: right;\n",
       "    }\n",
       "</style>\n",
       "<table border=\"1\" class=\"dataframe\">\n",
       "  <thead>\n",
       "    <tr style=\"text-align: right;\">\n",
       "      <th></th>\n",
       "      <th>id</th>\n",
       "      <th>label</th>\n",
       "    </tr>\n",
       "  </thead>\n",
       "  <tbody>\n",
       "    <tr>\n",
       "      <th>0</th>\n",
       "      <td>0</td>\n",
       "      <td>113</td>\n",
       "    </tr>\n",
       "    <tr>\n",
       "      <th>1</th>\n",
       "      <td>1</td>\n",
       "      <td>118</td>\n",
       "    </tr>\n",
       "    <tr>\n",
       "      <th>2</th>\n",
       "      <td>2</td>\n",
       "      <td>68</td>\n",
       "    </tr>\n",
       "    <tr>\n",
       "      <th>3</th>\n",
       "      <td>3</td>\n",
       "      <td>28</td>\n",
       "    </tr>\n",
       "    <tr>\n",
       "      <th>4</th>\n",
       "      <td>4</td>\n",
       "      <td>121</td>\n",
       "    </tr>\n",
       "    <tr>\n",
       "      <th>...</th>\n",
       "      <td>...</td>\n",
       "      <td>...</td>\n",
       "    </tr>\n",
       "    <tr>\n",
       "      <th>13624</th>\n",
       "      <td>13624</td>\n",
       "      <td>77</td>\n",
       "    </tr>\n",
       "    <tr>\n",
       "      <th>13625</th>\n",
       "      <td>13625</td>\n",
       "      <td>69</td>\n",
       "    </tr>\n",
       "    <tr>\n",
       "      <th>13626</th>\n",
       "      <td>13626</td>\n",
       "      <td>23</td>\n",
       "    </tr>\n",
       "    <tr>\n",
       "      <th>13627</th>\n",
       "      <td>13627</td>\n",
       "      <td>68</td>\n",
       "    </tr>\n",
       "    <tr>\n",
       "      <th>13628</th>\n",
       "      <td>13628</td>\n",
       "      <td>117</td>\n",
       "    </tr>\n",
       "  </tbody>\n",
       "</table>\n",
       "<p>13629 rows × 2 columns</p>\n",
       "</div>"
      ],
      "text/plain": [
       "          id  label\n",
       "0          0    113\n",
       "1          1    118\n",
       "2          2     68\n",
       "3          3     28\n",
       "4          4    121\n",
       "...      ...    ...\n",
       "13624  13624     77\n",
       "13625  13625     69\n",
       "13626  13626     23\n",
       "13627  13627     68\n",
       "13628  13628    117\n",
       "\n",
       "[13629 rows x 2 columns]"
      ]
     },
     "execution_count": 27,
     "metadata": {},
     "output_type": "execute_result"
    }
   ],
   "source": [
    "submit['label'] = predicted\n",
    "submit"
   ]
  },
  {
   "cell_type": "code",
   "execution_count": 28,
   "id": "6ee5b613",
   "metadata": {
    "execution": {
     "iopub.execute_input": "2022-10-09T20:29:23.944458Z",
     "iopub.status.busy": "2022-10-09T20:29:23.944185Z",
     "iopub.status.idle": "2022-10-09T20:29:23.966556Z",
     "shell.execute_reply": "2022-10-09T20:29:23.965560Z"
    },
    "papermill": {
     "duration": 0.036736,
     "end_time": "2022-10-09T20:29:23.968693",
     "exception": false,
     "start_time": "2022-10-09T20:29:23.931957",
     "status": "completed"
    },
    "tags": []
   },
   "outputs": [
    {
     "data": {
      "text/html": [
       "<div>\n",
       "<style scoped>\n",
       "    .dataframe tbody tr th:only-of-type {\n",
       "        vertical-align: middle;\n",
       "    }\n",
       "\n",
       "    .dataframe tbody tr th {\n",
       "        vertical-align: top;\n",
       "    }\n",
       "\n",
       "    .dataframe thead th {\n",
       "        text-align: right;\n",
       "    }\n",
       "</style>\n",
       "<table border=\"1\" class=\"dataframe\">\n",
       "  <thead>\n",
       "    <tr style=\"text-align: right;\">\n",
       "      <th></th>\n",
       "      <th>id</th>\n",
       "      <th>label</th>\n",
       "    </tr>\n",
       "  </thead>\n",
       "  <tbody>\n",
       "    <tr>\n",
       "      <th>0</th>\n",
       "      <td>0</td>\n",
       "      <td>113</td>\n",
       "    </tr>\n",
       "    <tr>\n",
       "      <th>1</th>\n",
       "      <td>1</td>\n",
       "      <td>118</td>\n",
       "    </tr>\n",
       "    <tr>\n",
       "      <th>2</th>\n",
       "      <td>2</td>\n",
       "      <td>68</td>\n",
       "    </tr>\n",
       "    <tr>\n",
       "      <th>3</th>\n",
       "      <td>3</td>\n",
       "      <td>28</td>\n",
       "    </tr>\n",
       "    <tr>\n",
       "      <th>4</th>\n",
       "      <td>4</td>\n",
       "      <td>121</td>\n",
       "    </tr>\n",
       "    <tr>\n",
       "      <th>...</th>\n",
       "      <td>...</td>\n",
       "      <td>...</td>\n",
       "    </tr>\n",
       "    <tr>\n",
       "      <th>13624</th>\n",
       "      <td>13624</td>\n",
       "      <td>77</td>\n",
       "    </tr>\n",
       "    <tr>\n",
       "      <th>13625</th>\n",
       "      <td>13625</td>\n",
       "      <td>69</td>\n",
       "    </tr>\n",
       "    <tr>\n",
       "      <th>13626</th>\n",
       "      <td>13626</td>\n",
       "      <td>23</td>\n",
       "    </tr>\n",
       "    <tr>\n",
       "      <th>13627</th>\n",
       "      <td>13627</td>\n",
       "      <td>68</td>\n",
       "    </tr>\n",
       "    <tr>\n",
       "      <th>13628</th>\n",
       "      <td>13628</td>\n",
       "      <td>117</td>\n",
       "    </tr>\n",
       "  </tbody>\n",
       "</table>\n",
       "<p>13629 rows × 2 columns</p>\n",
       "</div>"
      ],
      "text/plain": [
       "          id  label\n",
       "0          0    113\n",
       "1          1    118\n",
       "2          2     68\n",
       "3          3     28\n",
       "4          4    121\n",
       "...      ...    ...\n",
       "13624  13624     77\n",
       "13625  13625     69\n",
       "13626  13626     23\n",
       "13627  13627     68\n",
       "13628  13628    117\n",
       "\n",
       "[13629 rows x 2 columns]"
      ]
     },
     "execution_count": 28,
     "metadata": {},
     "output_type": "execute_result"
    }
   ],
   "source": [
    "submit.to_csv('submit.csv',index=False)\n",
    "submit"
   ]
  },
  {
   "cell_type": "code",
   "execution_count": null,
   "id": "3395b5b0",
   "metadata": {
    "papermill": {
     "duration": 0.010919,
     "end_time": "2022-10-09T20:29:23.991005",
     "exception": false,
     "start_time": "2022-10-09T20:29:23.980086",
     "status": "completed"
    },
    "tags": []
   },
   "outputs": [],
   "source": []
  }
 ],
 "metadata": {
  "kernelspec": {
   "display_name": "Python 3",
   "language": "python",
   "name": "python3"
  },
  "language_info": {
   "codemirror_mode": {
    "name": "ipython",
    "version": 3
   },
   "file_extension": ".py",
   "mimetype": "text/x-python",
   "name": "python",
   "nbconvert_exporter": "python",
   "pygments_lexer": "ipython3",
   "version": "3.7.12"
  },
  "papermill": {
   "default_parameters": {},
   "duration": 187.166415,
   "end_time": "2022-10-09T20:29:25.239500",
   "environment_variables": {},
   "exception": null,
   "input_path": "__notebook__.ipynb",
   "output_path": "__notebook__.ipynb",
   "parameters": {},
   "start_time": "2022-10-09T20:26:18.073085",
   "version": "2.3.4"
  }
 },
 "nbformat": 4,
 "nbformat_minor": 5
}
