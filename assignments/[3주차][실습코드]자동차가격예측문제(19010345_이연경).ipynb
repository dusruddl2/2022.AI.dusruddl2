{
 "cells": [
  {
   "cell_type": "code",
   "execution_count": 1,
   "id": "66794b5a",
   "metadata": {
    "_cell_guid": "b1076dfc-b9ad-4769-8c92-a6c4dae69d19",
    "_uuid": "8f2839f25d086af736a60e9eeb907d3b93b6e0e5",
    "execution": {
     "iopub.execute_input": "2022-09-18T16:44:45.572959Z",
     "iopub.status.busy": "2022-09-18T16:44:45.572472Z",
     "iopub.status.idle": "2022-09-18T16:44:45.586340Z",
     "shell.execute_reply": "2022-09-18T16:44:45.585150Z"
    },
    "papermill": {
     "duration": 0.027515,
     "end_time": "2022-09-18T16:44:45.589163",
     "exception": false,
     "start_time": "2022-09-18T16:44:45.561648",
     "status": "completed"
    },
    "tags": []
   },
   "outputs": [
    {
     "name": "stdout",
     "output_type": "stream",
     "text": [
      "/kaggle/input/2022-ai-w3p2/train_data.csv\n",
      "/kaggle/input/2022-ai-w3p2/test_data.csv\n",
      "/kaggle/input/2022-ai-w3p2/sample_submit.csv\n"
     ]
    }
   ],
   "source": [
    "# This Python 3 environment comes with many helpful analytics libraries installed\n",
    "# It is defined by the kaggle/python Docker image: https://github.com/kaggle/docker-python\n",
    "# For example, here's several helpful packages to load\n",
    "\n",
    "import numpy as np # linear algebra\n",
    "import pandas as pd # data processing, CSV file I/O (e.g. pd.read_csv)\n",
    "\n",
    "# Input data files are available in the read-only \"../input/\" directory\n",
    "# For example, running this (by clicking run or pressing Shift+Enter) will list all files under the input directory\n",
    "\n",
    "import os\n",
    "for dirname, _, filenames in os.walk('/kaggle/input'):\n",
    "    for filename in filenames:\n",
    "        print(os.path.join(dirname, filename))\n",
    "\n",
    "# You can write up to 20GB to the current directory (/kaggle/working/) that gets preserved as output when you create a version using \"Save & Run All\" \n",
    "# You can also write temporary files to /kaggle/temp/, but they won't be saved outside of the current session"
   ]
  },
  {
   "cell_type": "code",
   "execution_count": 2,
   "id": "d59534f3",
   "metadata": {
    "execution": {
     "iopub.execute_input": "2022-09-18T16:44:45.607378Z",
     "iopub.status.busy": "2022-09-18T16:44:45.607002Z",
     "iopub.status.idle": "2022-09-18T16:44:47.453426Z",
     "shell.execute_reply": "2022-09-18T16:44:47.451767Z"
    },
    "papermill": {
     "duration": 1.85847,
     "end_time": "2022-09-18T16:44:47.456079",
     "exception": false,
     "start_time": "2022-09-18T16:44:45.597609",
     "status": "completed"
    },
    "tags": []
   },
   "outputs": [],
   "source": [
    "import random\n",
    "import torch\n",
    "import torch.nn as nn\n",
    "import torch.nn.functional as F\n",
    "import torch.optim as optim\n",
    "\n",
    "seed = 42\n",
    "random.seed(seed)\n",
    "np.random.seed(seed)\n",
    "torch.manual_seed(seed)\n",
    "if torch.cuda.is_available():\n",
    "    torch.cuda.manual_seed(seed)\n",
    "    torch.cuda.manual_seed_all(seed)\n",
    "torch.backends.cudnn.benchmark = False\n",
    "torch.backends.cudnn.deterministic = True"
   ]
  },
  {
   "cell_type": "markdown",
   "id": "c2b8a831",
   "metadata": {
    "papermill": {
     "duration": 0.007473,
     "end_time": "2022-09-18T16:44:47.471595",
     "exception": false,
     "start_time": "2022-09-18T16:44:47.464122",
     "status": "completed"
    },
    "tags": []
   },
   "source": [
    "# 데이터셋 만들기"
   ]
  },
  {
   "cell_type": "code",
   "execution_count": 3,
   "id": "f53738a6",
   "metadata": {
    "execution": {
     "iopub.execute_input": "2022-09-18T16:44:47.490030Z",
     "iopub.status.busy": "2022-09-18T16:44:47.489293Z",
     "iopub.status.idle": "2022-09-18T16:44:47.585349Z",
     "shell.execute_reply": "2022-09-18T16:44:47.584114Z"
    },
    "papermill": {
     "duration": 0.109063,
     "end_time": "2022-09-18T16:44:47.588541",
     "exception": false,
     "start_time": "2022-09-18T16:44:47.479478",
     "status": "completed"
    },
    "tags": []
   },
   "outputs": [
    {
     "data": {
      "text/html": [
       "<div>\n",
       "<style scoped>\n",
       "    .dataframe tbody tr th:only-of-type {\n",
       "        vertical-align: middle;\n",
       "    }\n",
       "\n",
       "    .dataframe tbody tr th {\n",
       "        vertical-align: top;\n",
       "    }\n",
       "\n",
       "    .dataframe thead th {\n",
       "        text-align: right;\n",
       "    }\n",
       "</style>\n",
       "<table border=\"1\" class=\"dataframe\">\n",
       "  <thead>\n",
       "    <tr style=\"text-align: right;\">\n",
       "      <th></th>\n",
       "      <th>company</th>\n",
       "      <th>model</th>\n",
       "      <th>year</th>\n",
       "      <th>transmission</th>\n",
       "      <th>mileage</th>\n",
       "      <th>fueltype</th>\n",
       "      <th>tax</th>\n",
       "      <th>mpg</th>\n",
       "      <th>engineSize</th>\n",
       "      <th>price</th>\n",
       "    </tr>\n",
       "  </thead>\n",
       "  <tbody>\n",
       "    <tr>\n",
       "      <th>0</th>\n",
       "      <td>2</td>\n",
       "      <td>Focus</td>\n",
       "      <td>2019</td>\n",
       "      <td>1</td>\n",
       "      <td>3764</td>\n",
       "      <td>4</td>\n",
       "      <td>145</td>\n",
       "      <td>34.5</td>\n",
       "      <td>2.3</td>\n",
       "      <td>26299</td>\n",
       "    </tr>\n",
       "    <tr>\n",
       "      <th>1</th>\n",
       "      <td>1</td>\n",
       "      <td>I10</td>\n",
       "      <td>2015</td>\n",
       "      <td>1</td>\n",
       "      <td>27056</td>\n",
       "      <td>4</td>\n",
       "      <td>20</td>\n",
       "      <td>60.1</td>\n",
       "      <td>1.0</td>\n",
       "      <td>5495</td>\n",
       "    </tr>\n",
       "    <tr>\n",
       "      <th>2</th>\n",
       "      <td>3</td>\n",
       "      <td>A3</td>\n",
       "      <td>2019</td>\n",
       "      <td>3</td>\n",
       "      <td>3375</td>\n",
       "      <td>4</td>\n",
       "      <td>145</td>\n",
       "      <td>34.5</td>\n",
       "      <td>2.0</td>\n",
       "      <td>32400</td>\n",
       "    </tr>\n",
       "    <tr>\n",
       "      <th>3</th>\n",
       "      <td>3</td>\n",
       "      <td>A6</td>\n",
       "      <td>2019</td>\n",
       "      <td>0</td>\n",
       "      <td>5743</td>\n",
       "      <td>0</td>\n",
       "      <td>145</td>\n",
       "      <td>47.9</td>\n",
       "      <td>2.0</td>\n",
       "      <td>29990</td>\n",
       "    </tr>\n",
       "    <tr>\n",
       "      <th>4</th>\n",
       "      <td>2</td>\n",
       "      <td>Fiesta</td>\n",
       "      <td>2015</td>\n",
       "      <td>1</td>\n",
       "      <td>32782</td>\n",
       "      <td>4</td>\n",
       "      <td>0</td>\n",
       "      <td>65.7</td>\n",
       "      <td>1.0</td>\n",
       "      <td>7250</td>\n",
       "    </tr>\n",
       "    <tr>\n",
       "      <th>...</th>\n",
       "      <td>...</td>\n",
       "      <td>...</td>\n",
       "      <td>...</td>\n",
       "      <td>...</td>\n",
       "      <td>...</td>\n",
       "      <td>...</td>\n",
       "      <td>...</td>\n",
       "      <td>...</td>\n",
       "      <td>...</td>\n",
       "      <td>...</td>\n",
       "    </tr>\n",
       "    <tr>\n",
       "      <th>17080</th>\n",
       "      <td>0</td>\n",
       "      <td>1 Series</td>\n",
       "      <td>2018</td>\n",
       "      <td>0</td>\n",
       "      <td>4666</td>\n",
       "      <td>4</td>\n",
       "      <td>145</td>\n",
       "      <td>32.5</td>\n",
       "      <td>3.0</td>\n",
       "      <td>23499</td>\n",
       "    </tr>\n",
       "    <tr>\n",
       "      <th>17081</th>\n",
       "      <td>3</td>\n",
       "      <td>A4</td>\n",
       "      <td>2020</td>\n",
       "      <td>3</td>\n",
       "      <td>22601</td>\n",
       "      <td>4</td>\n",
       "      <td>145</td>\n",
       "      <td>39.2</td>\n",
       "      <td>2.0</td>\n",
       "      <td>32481</td>\n",
       "    </tr>\n",
       "    <tr>\n",
       "      <th>17082</th>\n",
       "      <td>4</td>\n",
       "      <td>Yaris</td>\n",
       "      <td>2018</td>\n",
       "      <td>1</td>\n",
       "      <td>20312</td>\n",
       "      <td>4</td>\n",
       "      <td>145</td>\n",
       "      <td>47.1</td>\n",
       "      <td>1.5</td>\n",
       "      <td>10950</td>\n",
       "    </tr>\n",
       "    <tr>\n",
       "      <th>17083</th>\n",
       "      <td>2</td>\n",
       "      <td>Focus</td>\n",
       "      <td>2018</td>\n",
       "      <td>1</td>\n",
       "      <td>18695</td>\n",
       "      <td>4</td>\n",
       "      <td>145</td>\n",
       "      <td>58.9</td>\n",
       "      <td>1.0</td>\n",
       "      <td>13295</td>\n",
       "    </tr>\n",
       "    <tr>\n",
       "      <th>17084</th>\n",
       "      <td>2</td>\n",
       "      <td>Fiesta</td>\n",
       "      <td>2014</td>\n",
       "      <td>1</td>\n",
       "      <td>37812</td>\n",
       "      <td>0</td>\n",
       "      <td>0</td>\n",
       "      <td>76.4</td>\n",
       "      <td>1.5</td>\n",
       "      <td>7299</td>\n",
       "    </tr>\n",
       "  </tbody>\n",
       "</table>\n",
       "<p>17085 rows × 10 columns</p>\n",
       "</div>"
      ],
      "text/plain": [
       "       company      model  year  transmission  mileage  fueltype  tax   mpg  \\\n",
       "0            2      Focus  2019             1     3764         4  145  34.5   \n",
       "1            1        I10  2015             1    27056         4   20  60.1   \n",
       "2            3         A3  2019             3     3375         4  145  34.5   \n",
       "3            3         A6  2019             0     5743         0  145  47.9   \n",
       "4            2     Fiesta  2015             1    32782         4    0  65.7   \n",
       "...        ...        ...   ...           ...      ...       ...  ...   ...   \n",
       "17080        0   1 Series  2018             0     4666         4  145  32.5   \n",
       "17081        3         A4  2020             3    22601         4  145  39.2   \n",
       "17082        4      Yaris  2018             1    20312         4  145  47.1   \n",
       "17083        2      Focus  2018             1    18695         4  145  58.9   \n",
       "17084        2     Fiesta  2014             1    37812         0    0  76.4   \n",
       "\n",
       "       engineSize  price  \n",
       "0             2.3  26299  \n",
       "1             1.0   5495  \n",
       "2             2.0  32400  \n",
       "3             2.0  29990  \n",
       "4             1.0   7250  \n",
       "...           ...    ...  \n",
       "17080         3.0  23499  \n",
       "17081         2.0  32481  \n",
       "17082         1.5  10950  \n",
       "17083         1.0  13295  \n",
       "17084         1.5   7299  \n",
       "\n",
       "[17085 rows x 10 columns]"
      ]
     },
     "execution_count": 3,
     "metadata": {},
     "output_type": "execute_result"
    }
   ],
   "source": [
    "train = pd.read_csv('../input/2022-ai-w3p2/train_data.csv')\n",
    "train = train.drop(['ID'],axis=1)\n",
    "train"
   ]
  },
  {
   "cell_type": "code",
   "execution_count": 4,
   "id": "3e5c60ad",
   "metadata": {
    "execution": {
     "iopub.execute_input": "2022-09-18T16:44:47.608275Z",
     "iopub.status.busy": "2022-09-18T16:44:47.607748Z",
     "iopub.status.idle": "2022-09-18T16:44:47.631597Z",
     "shell.execute_reply": "2022-09-18T16:44:47.630378Z"
    },
    "papermill": {
     "duration": 0.036658,
     "end_time": "2022-09-18T16:44:47.634041",
     "exception": false,
     "start_time": "2022-09-18T16:44:47.597383",
     "status": "completed"
    },
    "tags": []
   },
   "outputs": [
    {
     "data": {
      "text/html": [
       "<div>\n",
       "<style scoped>\n",
       "    .dataframe tbody tr th:only-of-type {\n",
       "        vertical-align: middle;\n",
       "    }\n",
       "\n",
       "    .dataframe tbody tr th {\n",
       "        vertical-align: top;\n",
       "    }\n",
       "\n",
       "    .dataframe thead th {\n",
       "        text-align: right;\n",
       "    }\n",
       "</style>\n",
       "<table border=\"1\" class=\"dataframe\">\n",
       "  <thead>\n",
       "    <tr style=\"text-align: right;\">\n",
       "      <th></th>\n",
       "      <th>company</th>\n",
       "      <th>model</th>\n",
       "      <th>year</th>\n",
       "      <th>transmission</th>\n",
       "      <th>mileage</th>\n",
       "      <th>fueltype</th>\n",
       "      <th>tax</th>\n",
       "      <th>mpg</th>\n",
       "      <th>engineSize</th>\n",
       "    </tr>\n",
       "  </thead>\n",
       "  <tbody>\n",
       "    <tr>\n",
       "      <th>0</th>\n",
       "      <td>2</td>\n",
       "      <td>Focus</td>\n",
       "      <td>2019</td>\n",
       "      <td>1</td>\n",
       "      <td>3764</td>\n",
       "      <td>4</td>\n",
       "      <td>145</td>\n",
       "      <td>34.5</td>\n",
       "      <td>2.3</td>\n",
       "    </tr>\n",
       "    <tr>\n",
       "      <th>1</th>\n",
       "      <td>1</td>\n",
       "      <td>I10</td>\n",
       "      <td>2015</td>\n",
       "      <td>1</td>\n",
       "      <td>27056</td>\n",
       "      <td>4</td>\n",
       "      <td>20</td>\n",
       "      <td>60.1</td>\n",
       "      <td>1.0</td>\n",
       "    </tr>\n",
       "    <tr>\n",
       "      <th>2</th>\n",
       "      <td>3</td>\n",
       "      <td>A3</td>\n",
       "      <td>2019</td>\n",
       "      <td>3</td>\n",
       "      <td>3375</td>\n",
       "      <td>4</td>\n",
       "      <td>145</td>\n",
       "      <td>34.5</td>\n",
       "      <td>2.0</td>\n",
       "    </tr>\n",
       "    <tr>\n",
       "      <th>3</th>\n",
       "      <td>3</td>\n",
       "      <td>A6</td>\n",
       "      <td>2019</td>\n",
       "      <td>0</td>\n",
       "      <td>5743</td>\n",
       "      <td>0</td>\n",
       "      <td>145</td>\n",
       "      <td>47.9</td>\n",
       "      <td>2.0</td>\n",
       "    </tr>\n",
       "    <tr>\n",
       "      <th>4</th>\n",
       "      <td>2</td>\n",
       "      <td>Fiesta</td>\n",
       "      <td>2015</td>\n",
       "      <td>1</td>\n",
       "      <td>32782</td>\n",
       "      <td>4</td>\n",
       "      <td>0</td>\n",
       "      <td>65.7</td>\n",
       "      <td>1.0</td>\n",
       "    </tr>\n",
       "    <tr>\n",
       "      <th>...</th>\n",
       "      <td>...</td>\n",
       "      <td>...</td>\n",
       "      <td>...</td>\n",
       "      <td>...</td>\n",
       "      <td>...</td>\n",
       "      <td>...</td>\n",
       "      <td>...</td>\n",
       "      <td>...</td>\n",
       "      <td>...</td>\n",
       "    </tr>\n",
       "    <tr>\n",
       "      <th>17080</th>\n",
       "      <td>0</td>\n",
       "      <td>1 Series</td>\n",
       "      <td>2018</td>\n",
       "      <td>0</td>\n",
       "      <td>4666</td>\n",
       "      <td>4</td>\n",
       "      <td>145</td>\n",
       "      <td>32.5</td>\n",
       "      <td>3.0</td>\n",
       "    </tr>\n",
       "    <tr>\n",
       "      <th>17081</th>\n",
       "      <td>3</td>\n",
       "      <td>A4</td>\n",
       "      <td>2020</td>\n",
       "      <td>3</td>\n",
       "      <td>22601</td>\n",
       "      <td>4</td>\n",
       "      <td>145</td>\n",
       "      <td>39.2</td>\n",
       "      <td>2.0</td>\n",
       "    </tr>\n",
       "    <tr>\n",
       "      <th>17082</th>\n",
       "      <td>4</td>\n",
       "      <td>Yaris</td>\n",
       "      <td>2018</td>\n",
       "      <td>1</td>\n",
       "      <td>20312</td>\n",
       "      <td>4</td>\n",
       "      <td>145</td>\n",
       "      <td>47.1</td>\n",
       "      <td>1.5</td>\n",
       "    </tr>\n",
       "    <tr>\n",
       "      <th>17083</th>\n",
       "      <td>2</td>\n",
       "      <td>Focus</td>\n",
       "      <td>2018</td>\n",
       "      <td>1</td>\n",
       "      <td>18695</td>\n",
       "      <td>4</td>\n",
       "      <td>145</td>\n",
       "      <td>58.9</td>\n",
       "      <td>1.0</td>\n",
       "    </tr>\n",
       "    <tr>\n",
       "      <th>17084</th>\n",
       "      <td>2</td>\n",
       "      <td>Fiesta</td>\n",
       "      <td>2014</td>\n",
       "      <td>1</td>\n",
       "      <td>37812</td>\n",
       "      <td>0</td>\n",
       "      <td>0</td>\n",
       "      <td>76.4</td>\n",
       "      <td>1.5</td>\n",
       "    </tr>\n",
       "  </tbody>\n",
       "</table>\n",
       "<p>17085 rows × 9 columns</p>\n",
       "</div>"
      ],
      "text/plain": [
       "       company      model  year  transmission  mileage  fueltype  tax   mpg  \\\n",
       "0            2      Focus  2019             1     3764         4  145  34.5   \n",
       "1            1        I10  2015             1    27056         4   20  60.1   \n",
       "2            3         A3  2019             3     3375         4  145  34.5   \n",
       "3            3         A6  2019             0     5743         0  145  47.9   \n",
       "4            2     Fiesta  2015             1    32782         4    0  65.7   \n",
       "...        ...        ...   ...           ...      ...       ...  ...   ...   \n",
       "17080        0   1 Series  2018             0     4666         4  145  32.5   \n",
       "17081        3         A4  2020             3    22601         4  145  39.2   \n",
       "17082        4      Yaris  2018             1    20312         4  145  47.1   \n",
       "17083        2      Focus  2018             1    18695         4  145  58.9   \n",
       "17084        2     Fiesta  2014             1    37812         0    0  76.4   \n",
       "\n",
       "       engineSize  \n",
       "0             2.3  \n",
       "1             1.0  \n",
       "2             2.0  \n",
       "3             2.0  \n",
       "4             1.0  \n",
       "...           ...  \n",
       "17080         3.0  \n",
       "17081         2.0  \n",
       "17082         1.5  \n",
       "17083         1.0  \n",
       "17084         1.5  \n",
       "\n",
       "[17085 rows x 9 columns]"
      ]
     },
     "execution_count": 4,
     "metadata": {},
     "output_type": "execute_result"
    }
   ],
   "source": [
    "X_train = train.iloc[:,:-1]\n",
    "X_train"
   ]
  },
  {
   "cell_type": "code",
   "execution_count": 5,
   "id": "eea0803d",
   "metadata": {
    "execution": {
     "iopub.execute_input": "2022-09-18T16:44:47.656825Z",
     "iopub.status.busy": "2022-09-18T16:44:47.655909Z",
     "iopub.status.idle": "2022-09-18T16:44:47.666197Z",
     "shell.execute_reply": "2022-09-18T16:44:47.664945Z"
    },
    "papermill": {
     "duration": 0.023682,
     "end_time": "2022-09-18T16:44:47.668698",
     "exception": false,
     "start_time": "2022-09-18T16:44:47.645016",
     "status": "completed"
    },
    "tags": []
   },
   "outputs": [
    {
     "data": {
      "text/plain": [
       "0        26299\n",
       "1         5495\n",
       "2        32400\n",
       "3        29990\n",
       "4         7250\n",
       "         ...  \n",
       "17080    23499\n",
       "17081    32481\n",
       "17082    10950\n",
       "17083    13295\n",
       "17084     7299\n",
       "Name: price, Length: 17085, dtype: int64"
      ]
     },
     "execution_count": 5,
     "metadata": {},
     "output_type": "execute_result"
    }
   ],
   "source": [
    "y_train = train.iloc[:,-1]\n",
    "y_train"
   ]
  },
  {
   "cell_type": "markdown",
   "id": "5af40c2b",
   "metadata": {
    "papermill": {
     "duration": 0.008557,
     "end_time": "2022-09-18T16:44:47.686414",
     "exception": false,
     "start_time": "2022-09-18T16:44:47.677857",
     "status": "completed"
    },
    "tags": []
   },
   "source": [
    "## 'model' 데이터 실수화가 되어 있지 않으므로 LabelEncoder 함수 이용하여 바꿔주기"
   ]
  },
  {
   "cell_type": "code",
   "execution_count": 6,
   "id": "0a4af6c8",
   "metadata": {
    "execution": {
     "iopub.execute_input": "2022-09-18T16:44:47.706285Z",
     "iopub.status.busy": "2022-09-18T16:44:47.705873Z",
     "iopub.status.idle": "2022-09-18T16:44:48.726915Z",
     "shell.execute_reply": "2022-09-18T16:44:48.725819Z"
    },
    "papermill": {
     "duration": 1.035791,
     "end_time": "2022-09-18T16:44:48.731190",
     "exception": false,
     "start_time": "2022-09-18T16:44:47.695399",
     "status": "completed"
    },
    "tags": []
   },
   "outputs": [
    {
     "name": "stderr",
     "output_type": "stream",
     "text": [
      "/opt/conda/lib/python3.7/site-packages/sklearn/preprocessing/_label.py:115: DataConversionWarning: A column-vector y was passed when a 1d array was expected. Please change the shape of y to (n_samples, ), for example using ravel().\n",
      "  y = column_or_1d(y, warn=True)\n"
     ]
    },
    {
     "data": {
      "text/plain": [
       "array([26, 34,  9, ..., 93, 26, 25])"
      ]
     },
     "execution_count": 6,
     "metadata": {},
     "output_type": "execute_result"
    }
   ],
   "source": [
    "model = X_train.loc[:,['model']].to_numpy()\n",
    "\n",
    "from sklearn.preprocessing import LabelEncoder\n",
    "encoder = LabelEncoder()\n",
    "\n",
    "model = encoder.fit_transform(model)\n",
    "model"
   ]
  },
  {
   "cell_type": "code",
   "execution_count": 7,
   "id": "4a6cd9b1",
   "metadata": {
    "execution": {
     "iopub.execute_input": "2022-09-18T16:44:48.751383Z",
     "iopub.status.busy": "2022-09-18T16:44:48.750985Z",
     "iopub.status.idle": "2022-09-18T16:44:48.773529Z",
     "shell.execute_reply": "2022-09-18T16:44:48.772427Z"
    },
    "papermill": {
     "duration": 0.035305,
     "end_time": "2022-09-18T16:44:48.775920",
     "exception": false,
     "start_time": "2022-09-18T16:44:48.740615",
     "status": "completed"
    },
    "tags": []
   },
   "outputs": [
    {
     "data": {
      "text/html": [
       "<div>\n",
       "<style scoped>\n",
       "    .dataframe tbody tr th:only-of-type {\n",
       "        vertical-align: middle;\n",
       "    }\n",
       "\n",
       "    .dataframe tbody tr th {\n",
       "        vertical-align: top;\n",
       "    }\n",
       "\n",
       "    .dataframe thead th {\n",
       "        text-align: right;\n",
       "    }\n",
       "</style>\n",
       "<table border=\"1\" class=\"dataframe\">\n",
       "  <thead>\n",
       "    <tr style=\"text-align: right;\">\n",
       "      <th></th>\n",
       "      <th>company</th>\n",
       "      <th>year</th>\n",
       "      <th>transmission</th>\n",
       "      <th>mileage</th>\n",
       "      <th>fueltype</th>\n",
       "      <th>tax</th>\n",
       "      <th>mpg</th>\n",
       "      <th>engineSize</th>\n",
       "      <th>model</th>\n",
       "    </tr>\n",
       "  </thead>\n",
       "  <tbody>\n",
       "    <tr>\n",
       "      <th>0</th>\n",
       "      <td>2</td>\n",
       "      <td>2019</td>\n",
       "      <td>1</td>\n",
       "      <td>3764</td>\n",
       "      <td>4</td>\n",
       "      <td>145</td>\n",
       "      <td>34.5</td>\n",
       "      <td>2.3</td>\n",
       "      <td>26</td>\n",
       "    </tr>\n",
       "    <tr>\n",
       "      <th>1</th>\n",
       "      <td>1</td>\n",
       "      <td>2015</td>\n",
       "      <td>1</td>\n",
       "      <td>27056</td>\n",
       "      <td>4</td>\n",
       "      <td>20</td>\n",
       "      <td>60.1</td>\n",
       "      <td>1.0</td>\n",
       "      <td>34</td>\n",
       "    </tr>\n",
       "    <tr>\n",
       "      <th>2</th>\n",
       "      <td>3</td>\n",
       "      <td>2019</td>\n",
       "      <td>3</td>\n",
       "      <td>3375</td>\n",
       "      <td>4</td>\n",
       "      <td>145</td>\n",
       "      <td>34.5</td>\n",
       "      <td>2.0</td>\n",
       "      <td>9</td>\n",
       "    </tr>\n",
       "    <tr>\n",
       "      <th>3</th>\n",
       "      <td>3</td>\n",
       "      <td>2019</td>\n",
       "      <td>0</td>\n",
       "      <td>5743</td>\n",
       "      <td>0</td>\n",
       "      <td>145</td>\n",
       "      <td>47.9</td>\n",
       "      <td>2.0</td>\n",
       "      <td>12</td>\n",
       "    </tr>\n",
       "    <tr>\n",
       "      <th>4</th>\n",
       "      <td>2</td>\n",
       "      <td>2015</td>\n",
       "      <td>1</td>\n",
       "      <td>32782</td>\n",
       "      <td>4</td>\n",
       "      <td>0</td>\n",
       "      <td>65.7</td>\n",
       "      <td>1.0</td>\n",
       "      <td>25</td>\n",
       "    </tr>\n",
       "    <tr>\n",
       "      <th>...</th>\n",
       "      <td>...</td>\n",
       "      <td>...</td>\n",
       "      <td>...</td>\n",
       "      <td>...</td>\n",
       "      <td>...</td>\n",
       "      <td>...</td>\n",
       "      <td>...</td>\n",
       "      <td>...</td>\n",
       "      <td>...</td>\n",
       "    </tr>\n",
       "    <tr>\n",
       "      <th>17080</th>\n",
       "      <td>0</td>\n",
       "      <td>2018</td>\n",
       "      <td>0</td>\n",
       "      <td>4666</td>\n",
       "      <td>4</td>\n",
       "      <td>145</td>\n",
       "      <td>32.5</td>\n",
       "      <td>3.0</td>\n",
       "      <td>0</td>\n",
       "    </tr>\n",
       "    <tr>\n",
       "      <th>17081</th>\n",
       "      <td>3</td>\n",
       "      <td>2020</td>\n",
       "      <td>3</td>\n",
       "      <td>22601</td>\n",
       "      <td>4</td>\n",
       "      <td>145</td>\n",
       "      <td>39.2</td>\n",
       "      <td>2.0</td>\n",
       "      <td>10</td>\n",
       "    </tr>\n",
       "    <tr>\n",
       "      <th>17082</th>\n",
       "      <td>4</td>\n",
       "      <td>2018</td>\n",
       "      <td>1</td>\n",
       "      <td>20312</td>\n",
       "      <td>4</td>\n",
       "      <td>145</td>\n",
       "      <td>47.1</td>\n",
       "      <td>1.5</td>\n",
       "      <td>93</td>\n",
       "    </tr>\n",
       "    <tr>\n",
       "      <th>17083</th>\n",
       "      <td>2</td>\n",
       "      <td>2018</td>\n",
       "      <td>1</td>\n",
       "      <td>18695</td>\n",
       "      <td>4</td>\n",
       "      <td>145</td>\n",
       "      <td>58.9</td>\n",
       "      <td>1.0</td>\n",
       "      <td>26</td>\n",
       "    </tr>\n",
       "    <tr>\n",
       "      <th>17084</th>\n",
       "      <td>2</td>\n",
       "      <td>2014</td>\n",
       "      <td>1</td>\n",
       "      <td>37812</td>\n",
       "      <td>0</td>\n",
       "      <td>0</td>\n",
       "      <td>76.4</td>\n",
       "      <td>1.5</td>\n",
       "      <td>25</td>\n",
       "    </tr>\n",
       "  </tbody>\n",
       "</table>\n",
       "<p>17085 rows × 9 columns</p>\n",
       "</div>"
      ],
      "text/plain": [
       "       company  year  transmission  mileage  fueltype  tax   mpg  engineSize  \\\n",
       "0            2  2019             1     3764         4  145  34.5         2.3   \n",
       "1            1  2015             1    27056         4   20  60.1         1.0   \n",
       "2            3  2019             3     3375         4  145  34.5         2.0   \n",
       "3            3  2019             0     5743         0  145  47.9         2.0   \n",
       "4            2  2015             1    32782         4    0  65.7         1.0   \n",
       "...        ...   ...           ...      ...       ...  ...   ...         ...   \n",
       "17080        0  2018             0     4666         4  145  32.5         3.0   \n",
       "17081        3  2020             3    22601         4  145  39.2         2.0   \n",
       "17082        4  2018             1    20312         4  145  47.1         1.5   \n",
       "17083        2  2018             1    18695         4  145  58.9         1.0   \n",
       "17084        2  2014             1    37812         0    0  76.4         1.5   \n",
       "\n",
       "       model  \n",
       "0         26  \n",
       "1         34  \n",
       "2          9  \n",
       "3         12  \n",
       "4         25  \n",
       "...      ...  \n",
       "17080      0  \n",
       "17081     10  \n",
       "17082     93  \n",
       "17083     26  \n",
       "17084     25  \n",
       "\n",
       "[17085 rows x 9 columns]"
      ]
     },
     "execution_count": 7,
     "metadata": {},
     "output_type": "execute_result"
    }
   ],
   "source": [
    "model = pd.DataFrame(model,columns=['model'])\n",
    "X_train_drop = X_train.drop(['model'],axis=1)\n",
    "\n",
    "X_train_le = pd.concat([X_train_drop,model],axis=1)\n",
    "X_train_le"
   ]
  },
  {
   "cell_type": "markdown",
   "id": "e54b79ff",
   "metadata": {
    "papermill": {
     "duration": 0.008855,
     "end_time": "2022-09-18T16:44:48.794055",
     "exception": false,
     "start_time": "2022-09-18T16:44:48.785200",
     "status": "completed"
    },
    "tags": []
   },
   "source": [
    "## 데이터셋 정규화하기"
   ]
  },
  {
   "cell_type": "code",
   "execution_count": 8,
   "id": "9ff7514a",
   "metadata": {
    "execution": {
     "iopub.execute_input": "2022-09-18T16:44:48.814099Z",
     "iopub.status.busy": "2022-09-18T16:44:48.813671Z",
     "iopub.status.idle": "2022-09-18T16:44:48.821209Z",
     "shell.execute_reply": "2022-09-18T16:44:48.820215Z"
    },
    "papermill": {
     "duration": 0.020135,
     "end_time": "2022-09-18T16:44:48.823319",
     "exception": false,
     "start_time": "2022-09-18T16:44:48.803184",
     "status": "completed"
    },
    "tags": []
   },
   "outputs": [],
   "source": [
    "X_train_le = X_train_le.to_numpy()"
   ]
  },
  {
   "cell_type": "code",
   "execution_count": 9,
   "id": "b62ef3ba",
   "metadata": {
    "execution": {
     "iopub.execute_input": "2022-09-18T16:44:48.844621Z",
     "iopub.status.busy": "2022-09-18T16:44:48.843337Z",
     "iopub.status.idle": "2022-09-18T16:44:48.853961Z",
     "shell.execute_reply": "2022-09-18T16:44:48.852874Z"
    },
    "papermill": {
     "duration": 0.023724,
     "end_time": "2022-09-18T16:44:48.856279",
     "exception": false,
     "start_time": "2022-09-18T16:44:48.832555",
     "status": "completed"
    },
    "tags": []
   },
   "outputs": [
    {
     "data": {
      "text/plain": [
       "array([[0.5       , 0.33870968, 0.33333333, ..., 0.06773504, 0.36507937,\n",
       "        0.26804124],\n",
       "       [0.25      , 0.27419355, 0.33333333, ..., 0.1224359 , 0.15873016,\n",
       "        0.35051546],\n",
       "       [0.75      , 0.33870968, 1.        , ..., 0.06773504, 0.31746032,\n",
       "        0.09278351],\n",
       "       ...,\n",
       "       [1.        , 0.32258065, 0.33333333, ..., 0.09465812, 0.23809524,\n",
       "        0.95876289],\n",
       "       [0.5       , 0.32258065, 0.33333333, ..., 0.11987179, 0.15873016,\n",
       "        0.26804124],\n",
       "       [0.5       , 0.25806452, 0.33333333, ..., 0.15726496, 0.23809524,\n",
       "        0.25773196]])"
      ]
     },
     "execution_count": 9,
     "metadata": {},
     "output_type": "execute_result"
    }
   ],
   "source": [
    "from sklearn.preprocessing import MinMaxScaler\n",
    "scaler1 = MinMaxScaler()\n",
    "\n",
    "X_train_le = scaler1.fit_transform(X_train_le)\n",
    "X_train_le"
   ]
  },
  {
   "cell_type": "code",
   "execution_count": 10,
   "id": "02f20703",
   "metadata": {
    "execution": {
     "iopub.execute_input": "2022-09-18T16:44:48.876847Z",
     "iopub.status.busy": "2022-09-18T16:44:48.876409Z",
     "iopub.status.idle": "2022-09-18T16:44:48.881700Z",
     "shell.execute_reply": "2022-09-18T16:44:48.880691Z"
    },
    "papermill": {
     "duration": 0.01805,
     "end_time": "2022-09-18T16:44:48.883916",
     "exception": false,
     "start_time": "2022-09-18T16:44:48.865866",
     "status": "completed"
    },
    "tags": []
   },
   "outputs": [],
   "source": [
    "y_train = y_train.to_numpy()"
   ]
  },
  {
   "cell_type": "code",
   "execution_count": 11,
   "id": "3f09622f",
   "metadata": {
    "execution": {
     "iopub.execute_input": "2022-09-18T16:44:48.905150Z",
     "iopub.status.busy": "2022-09-18T16:44:48.903971Z",
     "iopub.status.idle": "2022-09-18T16:44:48.913743Z",
     "shell.execute_reply": "2022-09-18T16:44:48.912424Z"
    },
    "papermill": {
     "duration": 0.02289,
     "end_time": "2022-09-18T16:44:48.916216",
     "exception": false,
     "start_time": "2022-09-18T16:44:48.893326",
     "status": "completed"
    },
    "tags": []
   },
   "outputs": [
    {
     "data": {
      "text/plain": [
       "array([[0.19160813],\n",
       "       [0.03531047],\n",
       "       [0.23744412],\n",
       "       ...,\n",
       "       [0.07629315],\n",
       "       [0.09391082],\n",
       "       [0.04886368]])"
      ]
     },
     "execution_count": 11,
     "metadata": {},
     "output_type": "execute_result"
    }
   ],
   "source": [
    "scaler2 = MinMaxScaler()\n",
    "\n",
    "y_train = np.expand_dims(y_train,axis=1)\n",
    "y_train = scaler2.fit_transform(y_train)\n",
    "y_train"
   ]
  },
  {
   "cell_type": "markdown",
   "id": "b7fe940f",
   "metadata": {
    "papermill": {
     "duration": 0.009122,
     "end_time": "2022-09-18T16:44:48.934941",
     "exception": false,
     "start_time": "2022-09-18T16:44:48.925819",
     "status": "completed"
    },
    "tags": []
   },
   "source": [
    "## 데이터셋 tensor로 바꿔주기"
   ]
  },
  {
   "cell_type": "code",
   "execution_count": 12,
   "id": "3d000a4a",
   "metadata": {
    "execution": {
     "iopub.execute_input": "2022-09-18T16:44:48.955882Z",
     "iopub.status.busy": "2022-09-18T16:44:48.955134Z",
     "iopub.status.idle": "2022-09-18T16:44:48.965604Z",
     "shell.execute_reply": "2022-09-18T16:44:48.964816Z"
    },
    "papermill": {
     "duration": 0.023255,
     "end_time": "2022-09-18T16:44:48.967558",
     "exception": false,
     "start_time": "2022-09-18T16:44:48.944303",
     "status": "completed"
    },
    "tags": []
   },
   "outputs": [
    {
     "data": {
      "text/plain": [
       "tensor([[0.5000, 0.3387, 0.3333,  ..., 0.0677, 0.3651, 0.2680],\n",
       "        [0.2500, 0.2742, 0.3333,  ..., 0.1224, 0.1587, 0.3505],\n",
       "        [0.7500, 0.3387, 1.0000,  ..., 0.0677, 0.3175, 0.0928],\n",
       "        ...,\n",
       "        [1.0000, 0.3226, 0.3333,  ..., 0.0947, 0.2381, 0.9588],\n",
       "        [0.5000, 0.3226, 0.3333,  ..., 0.1199, 0.1587, 0.2680],\n",
       "        [0.5000, 0.2581, 0.3333,  ..., 0.1573, 0.2381, 0.2577]])"
      ]
     },
     "execution_count": 12,
     "metadata": {},
     "output_type": "execute_result"
    }
   ],
   "source": [
    "X_train_le = torch.FloatTensor(X_train_le)\n",
    "X_train_le"
   ]
  },
  {
   "cell_type": "code",
   "execution_count": 13,
   "id": "16576177",
   "metadata": {
    "execution": {
     "iopub.execute_input": "2022-09-18T16:44:48.988230Z",
     "iopub.status.busy": "2022-09-18T16:44:48.987837Z",
     "iopub.status.idle": "2022-09-18T16:44:48.995197Z",
     "shell.execute_reply": "2022-09-18T16:44:48.994454Z"
    },
    "papermill": {
     "duration": 0.020135,
     "end_time": "2022-09-18T16:44:48.997346",
     "exception": false,
     "start_time": "2022-09-18T16:44:48.977211",
     "status": "completed"
    },
    "tags": []
   },
   "outputs": [
    {
     "data": {
      "text/plain": [
       "tensor([[0.1916],\n",
       "        [0.0353],\n",
       "        [0.2374],\n",
       "        ...,\n",
       "        [0.0763],\n",
       "        [0.0939],\n",
       "        [0.0489]])"
      ]
     },
     "execution_count": 13,
     "metadata": {},
     "output_type": "execute_result"
    }
   ],
   "source": [
    "y_train = torch.FloatTensor(y_train)\n",
    "y_train"
   ]
  },
  {
   "cell_type": "code",
   "execution_count": 14,
   "id": "4dc7de86",
   "metadata": {
    "execution": {
     "iopub.execute_input": "2022-09-18T16:44:49.019202Z",
     "iopub.status.busy": "2022-09-18T16:44:49.018560Z",
     "iopub.status.idle": "2022-09-18T16:52:34.936788Z",
     "shell.execute_reply": "2022-09-18T16:52:34.935594Z"
    },
    "papermill": {
     "duration": 465.943243,
     "end_time": "2022-09-18T16:52:34.950836",
     "exception": false,
     "start_time": "2022-09-18T16:44:49.007593",
     "status": "completed"
    },
    "tags": []
   },
   "outputs": [
    {
     "name": "stdout",
     "output_type": "stream",
     "text": [
      "Epoch    0/1000000 hypothesis: tensor([0., 0., 0.,  ..., 0., 0., 0.]) Cost:0.120392\n",
      "Epoch 100000/1000000 hypothesis: tensor([0.2127, 0.0412, 0.2006,  ..., 0.1267, 0.0819, 0.0465]) Cost:0.025968\n",
      "Epoch 200000/1000000 hypothesis: tensor([0.2127, 0.0412, 0.2006,  ..., 0.1267, 0.0819, 0.0465]) Cost:0.025968\n",
      "Epoch 300000/1000000 hypothesis: tensor([0.2127, 0.0412, 0.2006,  ..., 0.1267, 0.0819, 0.0465]) Cost:0.025968\n",
      "Epoch 400000/1000000 hypothesis: tensor([0.2127, 0.0412, 0.2006,  ..., 0.1267, 0.0819, 0.0465]) Cost:0.025968\n",
      "Epoch 500000/1000000 hypothesis: tensor([0.2127, 0.0412, 0.2006,  ..., 0.1267, 0.0819, 0.0465]) Cost:0.025968\n",
      "Epoch 600000/1000000 hypothesis: tensor([0.2127, 0.0412, 0.2007,  ..., 0.1267, 0.0819, 0.0465]) Cost:0.025968\n",
      "Epoch 700000/1000000 hypothesis: tensor([0.2127, 0.0412, 0.2006,  ..., 0.1267, 0.0819, 0.0465]) Cost:0.025968\n",
      "Epoch 800000/1000000 hypothesis: tensor([0.2127, 0.0412, 0.2006,  ..., 0.1267, 0.0819, 0.0465]) Cost:0.025968\n",
      "Epoch 900000/1000000 hypothesis: tensor([0.2127, 0.0412, 0.2007,  ..., 0.1267, 0.0819, 0.0465]) Cost:0.025968\n",
      "Epoch 1000000/1000000 hypothesis: tensor([0.2127, 0.0412, 0.2006,  ..., 0.1267, 0.0819, 0.0465]) Cost:0.025968\n"
     ]
    }
   ],
   "source": [
    "#모델초기화\n",
    "W = torch.zeros([9,1],requires_grad = True)\n",
    "b = torch.zeros(1,requires_grad = True)\n",
    "\n",
    "#optiimizer설정\n",
    "optimizer = optim.Adam([W,b],lr = 1e-5)\n",
    "\n",
    "#cost\n",
    "mae = nn.L1Loss()\n",
    "\n",
    "nb_epochs = 1000000\n",
    "for epoch in range(nb_epochs+1):\n",
    "    #H(x) 계산\n",
    "    hypothesis = X_train_le.matmul(W) + b\n",
    "\n",
    "    #cost 계산\n",
    "    cost = mae(hypothesis, y_train)\n",
    "\n",
    "\n",
    "    #cost로 H(x) 개선\n",
    "    optimizer.zero_grad()\n",
    "    cost.backward()\n",
    "    optimizer.step()\n",
    "\n",
    "    if epoch%100000 == 0:\n",
    "        print('Epoch {:4d}/{} hypothesis: {} Cost:{:.6f}'.format(\n",
    "            epoch, nb_epochs, hypothesis.squeeze().detach(), cost.item()\n",
    "        ))\n",
    "\n"
   ]
  },
  {
   "cell_type": "code",
   "execution_count": 15,
   "id": "18318fbb",
   "metadata": {
    "execution": {
     "iopub.execute_input": "2022-09-18T16:52:34.973311Z",
     "iopub.status.busy": "2022-09-18T16:52:34.972903Z",
     "iopub.status.idle": "2022-09-18T16:52:34.981229Z",
     "shell.execute_reply": "2022-09-18T16:52:34.979542Z"
    },
    "papermill": {
     "duration": 0.023341,
     "end_time": "2022-09-18T16:52:34.984385",
     "exception": false,
     "start_time": "2022-09-18T16:52:34.961044",
     "status": "completed"
    },
    "tags": []
   },
   "outputs": [
    {
     "name": "stdout",
     "output_type": "stream",
     "text": [
      "tensor([[ 0.0052],\n",
      "        [ 0.7906],\n",
      "        [ 0.0123],\n",
      "        [-0.0953],\n",
      "        [ 0.0048],\n",
      "        [-0.0191],\n",
      "        [-0.2867],\n",
      "        [ 0.4611],\n",
      "        [-0.0011]], requires_grad=True)\n",
      "tensor([-0.2085], requires_grad=True)\n"
     ]
    }
   ],
   "source": [
    "print(W)\n",
    "print(b)"
   ]
  },
  {
   "cell_type": "markdown",
   "id": "1c39972e",
   "metadata": {
    "papermill": {
     "duration": 0.010138,
     "end_time": "2022-09-18T16:52:35.005148",
     "exception": false,
     "start_time": "2022-09-18T16:52:34.995010",
     "status": "completed"
    },
    "tags": []
   },
   "source": [
    "# 모델 테스트하기"
   ]
  },
  {
   "cell_type": "code",
   "execution_count": 16,
   "id": "bac3dc33",
   "metadata": {
    "execution": {
     "iopub.execute_input": "2022-09-18T16:52:35.028633Z",
     "iopub.status.busy": "2022-09-18T16:52:35.027847Z",
     "iopub.status.idle": "2022-09-18T16:52:35.088023Z",
     "shell.execute_reply": "2022-09-18T16:52:35.087106Z"
    },
    "papermill": {
     "duration": 0.074655,
     "end_time": "2022-09-18T16:52:35.090093",
     "exception": false,
     "start_time": "2022-09-18T16:52:35.015438",
     "status": "completed"
    },
    "tags": []
   },
   "outputs": [
    {
     "data": {
      "text/html": [
       "<div>\n",
       "<style scoped>\n",
       "    .dataframe tbody tr th:only-of-type {\n",
       "        vertical-align: middle;\n",
       "    }\n",
       "\n",
       "    .dataframe tbody tr th {\n",
       "        vertical-align: top;\n",
       "    }\n",
       "\n",
       "    .dataframe thead th {\n",
       "        text-align: right;\n",
       "    }\n",
       "</style>\n",
       "<table border=\"1\" class=\"dataframe\">\n",
       "  <thead>\n",
       "    <tr style=\"text-align: right;\">\n",
       "      <th></th>\n",
       "      <th>company</th>\n",
       "      <th>model</th>\n",
       "      <th>year</th>\n",
       "      <th>transmission</th>\n",
       "      <th>mileage</th>\n",
       "      <th>fueltype</th>\n",
       "      <th>tax</th>\n",
       "      <th>mpg</th>\n",
       "      <th>engineSize</th>\n",
       "    </tr>\n",
       "  </thead>\n",
       "  <tbody>\n",
       "    <tr>\n",
       "      <th>0</th>\n",
       "      <td>2</td>\n",
       "      <td>Ka+</td>\n",
       "      <td>2017</td>\n",
       "      <td>1</td>\n",
       "      <td>10150</td>\n",
       "      <td>4</td>\n",
       "      <td>145</td>\n",
       "      <td>57.7</td>\n",
       "      <td>1.2</td>\n",
       "    </tr>\n",
       "    <tr>\n",
       "      <th>1</th>\n",
       "      <td>2</td>\n",
       "      <td>Kuga</td>\n",
       "      <td>2013</td>\n",
       "      <td>1</td>\n",
       "      <td>50216</td>\n",
       "      <td>0</td>\n",
       "      <td>145</td>\n",
       "      <td>53.3</td>\n",
       "      <td>2.0</td>\n",
       "    </tr>\n",
       "    <tr>\n",
       "      <th>2</th>\n",
       "      <td>3</td>\n",
       "      <td>Q5</td>\n",
       "      <td>2016</td>\n",
       "      <td>1</td>\n",
       "      <td>34189</td>\n",
       "      <td>0</td>\n",
       "      <td>200</td>\n",
       "      <td>47.9</td>\n",
       "      <td>2.0</td>\n",
       "    </tr>\n",
       "    <tr>\n",
       "      <th>3</th>\n",
       "      <td>1</td>\n",
       "      <td>I10</td>\n",
       "      <td>2020</td>\n",
       "      <td>1</td>\n",
       "      <td>1900</td>\n",
       "      <td>4</td>\n",
       "      <td>145</td>\n",
       "      <td>56.5</td>\n",
       "      <td>1.0</td>\n",
       "    </tr>\n",
       "    <tr>\n",
       "      <th>4</th>\n",
       "      <td>0</td>\n",
       "      <td>3 Series</td>\n",
       "      <td>2014</td>\n",
       "      <td>0</td>\n",
       "      <td>79809</td>\n",
       "      <td>0</td>\n",
       "      <td>20</td>\n",
       "      <td>68.9</td>\n",
       "      <td>2.0</td>\n",
       "    </tr>\n",
       "    <tr>\n",
       "      <th>...</th>\n",
       "      <td>...</td>\n",
       "      <td>...</td>\n",
       "      <td>...</td>\n",
       "      <td>...</td>\n",
       "      <td>...</td>\n",
       "      <td>...</td>\n",
       "      <td>...</td>\n",
       "      <td>...</td>\n",
       "      <td>...</td>\n",
       "    </tr>\n",
       "    <tr>\n",
       "      <th>16826</th>\n",
       "      <td>2</td>\n",
       "      <td>Grand Tourneo Connect</td>\n",
       "      <td>2016</td>\n",
       "      <td>0</td>\n",
       "      <td>29000</td>\n",
       "      <td>0</td>\n",
       "      <td>125</td>\n",
       "      <td>56.6</td>\n",
       "      <td>1.5</td>\n",
       "    </tr>\n",
       "    <tr>\n",
       "      <th>16827</th>\n",
       "      <td>4</td>\n",
       "      <td>Yaris</td>\n",
       "      <td>2019</td>\n",
       "      <td>1</td>\n",
       "      <td>2812</td>\n",
       "      <td>4</td>\n",
       "      <td>145</td>\n",
       "      <td>47.9</td>\n",
       "      <td>1.5</td>\n",
       "    </tr>\n",
       "    <tr>\n",
       "      <th>16828</th>\n",
       "      <td>2</td>\n",
       "      <td>Kuga</td>\n",
       "      <td>2017</td>\n",
       "      <td>1</td>\n",
       "      <td>46800</td>\n",
       "      <td>0</td>\n",
       "      <td>150</td>\n",
       "      <td>54.3</td>\n",
       "      <td>2.0</td>\n",
       "    </tr>\n",
       "    <tr>\n",
       "      <th>16829</th>\n",
       "      <td>3</td>\n",
       "      <td>A7</td>\n",
       "      <td>2017</td>\n",
       "      <td>3</td>\n",
       "      <td>14562</td>\n",
       "      <td>0</td>\n",
       "      <td>145</td>\n",
       "      <td>52.3</td>\n",
       "      <td>3.0</td>\n",
       "    </tr>\n",
       "    <tr>\n",
       "      <th>16830</th>\n",
       "      <td>3</td>\n",
       "      <td>Q3</td>\n",
       "      <td>2014</td>\n",
       "      <td>1</td>\n",
       "      <td>79389</td>\n",
       "      <td>0</td>\n",
       "      <td>165</td>\n",
       "      <td>50.4</td>\n",
       "      <td>2.0</td>\n",
       "    </tr>\n",
       "  </tbody>\n",
       "</table>\n",
       "<p>16831 rows × 9 columns</p>\n",
       "</div>"
      ],
      "text/plain": [
       "       company                   model  year  transmission  mileage  fueltype  \\\n",
       "0            2                     Ka+  2017             1    10150         4   \n",
       "1            2                    Kuga  2013             1    50216         0   \n",
       "2            3                      Q5  2016             1    34189         0   \n",
       "3            1                     I10  2020             1     1900         4   \n",
       "4            0                3 Series  2014             0    79809         0   \n",
       "...        ...                     ...   ...           ...      ...       ...   \n",
       "16826        2   Grand Tourneo Connect  2016             0    29000         0   \n",
       "16827        4                   Yaris  2019             1     2812         4   \n",
       "16828        2                    Kuga  2017             1    46800         0   \n",
       "16829        3                      A7  2017             3    14562         0   \n",
       "16830        3                      Q3  2014             1    79389         0   \n",
       "\n",
       "       tax   mpg  engineSize  \n",
       "0      145  57.7         1.2  \n",
       "1      145  53.3         2.0  \n",
       "2      200  47.9         2.0  \n",
       "3      145  56.5         1.0  \n",
       "4       20  68.9         2.0  \n",
       "...    ...   ...         ...  \n",
       "16826  125  56.6         1.5  \n",
       "16827  145  47.9         1.5  \n",
       "16828  150  54.3         2.0  \n",
       "16829  145  52.3         3.0  \n",
       "16830  165  50.4         2.0  \n",
       "\n",
       "[16831 rows x 9 columns]"
      ]
     },
     "execution_count": 16,
     "metadata": {},
     "output_type": "execute_result"
    }
   ],
   "source": [
    "X_test = pd.read_csv('../input/2022-ai-w3p2/test_data.csv')\n",
    "X_test = X_test.drop(['ID'],axis=1)\n",
    "X_test"
   ]
  },
  {
   "cell_type": "markdown",
   "id": "317c26d9",
   "metadata": {
    "papermill": {
     "duration": 0.010278,
     "end_time": "2022-09-18T16:52:35.111293",
     "exception": false,
     "start_time": "2022-09-18T16:52:35.101015",
     "status": "completed"
    },
    "tags": []
   },
   "source": [
    "## 'model' 데이터 실수화가 되어 있지 않으므로 LabelEncoder 함수 이용하여 바꿔주기"
   ]
  },
  {
   "cell_type": "code",
   "execution_count": 17,
   "id": "0abd4e46",
   "metadata": {
    "execution": {
     "iopub.execute_input": "2022-09-18T16:52:35.135279Z",
     "iopub.status.busy": "2022-09-18T16:52:35.134716Z",
     "iopub.status.idle": "2022-09-18T16:52:35.149120Z",
     "shell.execute_reply": "2022-09-18T16:52:35.147301Z"
    },
    "papermill": {
     "duration": 0.03016,
     "end_time": "2022-09-18T16:52:35.152008",
     "exception": false,
     "start_time": "2022-09-18T16:52:35.121848",
     "status": "completed"
    },
    "tags": []
   },
   "outputs": [
    {
     "name": "stderr",
     "output_type": "stream",
     "text": [
      "/opt/conda/lib/python3.7/site-packages/sklearn/preprocessing/_label.py:115: DataConversionWarning: A column-vector y was passed when a 1d array was expected. Please change the shape of y to (n_samples, ), for example using ravel().\n",
      "  y = column_or_1d(y, warn=True)\n"
     ]
    },
    {
     "data": {
      "text/plain": [
       "array([44, 46, 60, ..., 46, 13, 59])"
      ]
     },
     "execution_count": 17,
     "metadata": {},
     "output_type": "execute_result"
    }
   ],
   "source": [
    "model2 = X_test.loc[:,['model']].to_numpy()\n",
    "\n",
    "from sklearn.preprocessing import LabelEncoder\n",
    "encoder = LabelEncoder()\n",
    "\n",
    "model2 = encoder.fit_transform(model2)\n",
    "model2"
   ]
  },
  {
   "cell_type": "code",
   "execution_count": 18,
   "id": "7011c2b3",
   "metadata": {
    "execution": {
     "iopub.execute_input": "2022-09-18T16:52:35.175693Z",
     "iopub.status.busy": "2022-09-18T16:52:35.175281Z",
     "iopub.status.idle": "2022-09-18T16:52:35.195379Z",
     "shell.execute_reply": "2022-09-18T16:52:35.194279Z"
    },
    "papermill": {
     "duration": 0.034661,
     "end_time": "2022-09-18T16:52:35.197784",
     "exception": false,
     "start_time": "2022-09-18T16:52:35.163123",
     "status": "completed"
    },
    "tags": []
   },
   "outputs": [
    {
     "data": {
      "text/html": [
       "<div>\n",
       "<style scoped>\n",
       "    .dataframe tbody tr th:only-of-type {\n",
       "        vertical-align: middle;\n",
       "    }\n",
       "\n",
       "    .dataframe tbody tr th {\n",
       "        vertical-align: top;\n",
       "    }\n",
       "\n",
       "    .dataframe thead th {\n",
       "        text-align: right;\n",
       "    }\n",
       "</style>\n",
       "<table border=\"1\" class=\"dataframe\">\n",
       "  <thead>\n",
       "    <tr style=\"text-align: right;\">\n",
       "      <th></th>\n",
       "      <th>company</th>\n",
       "      <th>year</th>\n",
       "      <th>transmission</th>\n",
       "      <th>mileage</th>\n",
       "      <th>fueltype</th>\n",
       "      <th>tax</th>\n",
       "      <th>mpg</th>\n",
       "      <th>engineSize</th>\n",
       "      <th>model</th>\n",
       "    </tr>\n",
       "  </thead>\n",
       "  <tbody>\n",
       "    <tr>\n",
       "      <th>0</th>\n",
       "      <td>2</td>\n",
       "      <td>2017</td>\n",
       "      <td>1</td>\n",
       "      <td>10150</td>\n",
       "      <td>4</td>\n",
       "      <td>145</td>\n",
       "      <td>57.7</td>\n",
       "      <td>1.2</td>\n",
       "      <td>44</td>\n",
       "    </tr>\n",
       "    <tr>\n",
       "      <th>1</th>\n",
       "      <td>2</td>\n",
       "      <td>2013</td>\n",
       "      <td>1</td>\n",
       "      <td>50216</td>\n",
       "      <td>0</td>\n",
       "      <td>145</td>\n",
       "      <td>53.3</td>\n",
       "      <td>2.0</td>\n",
       "      <td>46</td>\n",
       "    </tr>\n",
       "    <tr>\n",
       "      <th>2</th>\n",
       "      <td>3</td>\n",
       "      <td>2016</td>\n",
       "      <td>1</td>\n",
       "      <td>34189</td>\n",
       "      <td>0</td>\n",
       "      <td>200</td>\n",
       "      <td>47.9</td>\n",
       "      <td>2.0</td>\n",
       "      <td>60</td>\n",
       "    </tr>\n",
       "    <tr>\n",
       "      <th>3</th>\n",
       "      <td>1</td>\n",
       "      <td>2020</td>\n",
       "      <td>1</td>\n",
       "      <td>1900</td>\n",
       "      <td>4</td>\n",
       "      <td>145</td>\n",
       "      <td>56.5</td>\n",
       "      <td>1.0</td>\n",
       "      <td>34</td>\n",
       "    </tr>\n",
       "    <tr>\n",
       "      <th>4</th>\n",
       "      <td>0</td>\n",
       "      <td>2014</td>\n",
       "      <td>0</td>\n",
       "      <td>79809</td>\n",
       "      <td>0</td>\n",
       "      <td>20</td>\n",
       "      <td>68.9</td>\n",
       "      <td>2.0</td>\n",
       "      <td>2</td>\n",
       "    </tr>\n",
       "    <tr>\n",
       "      <th>...</th>\n",
       "      <td>...</td>\n",
       "      <td>...</td>\n",
       "      <td>...</td>\n",
       "      <td>...</td>\n",
       "      <td>...</td>\n",
       "      <td>...</td>\n",
       "      <td>...</td>\n",
       "      <td>...</td>\n",
       "      <td>...</td>\n",
       "    </tr>\n",
       "    <tr>\n",
       "      <th>16826</th>\n",
       "      <td>2</td>\n",
       "      <td>2016</td>\n",
       "      <td>0</td>\n",
       "      <td>29000</td>\n",
       "      <td>0</td>\n",
       "      <td>125</td>\n",
       "      <td>56.6</td>\n",
       "      <td>1.5</td>\n",
       "      <td>32</td>\n",
       "    </tr>\n",
       "    <tr>\n",
       "      <th>16827</th>\n",
       "      <td>4</td>\n",
       "      <td>2019</td>\n",
       "      <td>1</td>\n",
       "      <td>2812</td>\n",
       "      <td>4</td>\n",
       "      <td>145</td>\n",
       "      <td>47.9</td>\n",
       "      <td>1.5</td>\n",
       "      <td>93</td>\n",
       "    </tr>\n",
       "    <tr>\n",
       "      <th>16828</th>\n",
       "      <td>2</td>\n",
       "      <td>2017</td>\n",
       "      <td>1</td>\n",
       "      <td>46800</td>\n",
       "      <td>0</td>\n",
       "      <td>150</td>\n",
       "      <td>54.3</td>\n",
       "      <td>2.0</td>\n",
       "      <td>46</td>\n",
       "    </tr>\n",
       "    <tr>\n",
       "      <th>16829</th>\n",
       "      <td>3</td>\n",
       "      <td>2017</td>\n",
       "      <td>3</td>\n",
       "      <td>14562</td>\n",
       "      <td>0</td>\n",
       "      <td>145</td>\n",
       "      <td>52.3</td>\n",
       "      <td>3.0</td>\n",
       "      <td>13</td>\n",
       "    </tr>\n",
       "    <tr>\n",
       "      <th>16830</th>\n",
       "      <td>3</td>\n",
       "      <td>2014</td>\n",
       "      <td>1</td>\n",
       "      <td>79389</td>\n",
       "      <td>0</td>\n",
       "      <td>165</td>\n",
       "      <td>50.4</td>\n",
       "      <td>2.0</td>\n",
       "      <td>59</td>\n",
       "    </tr>\n",
       "  </tbody>\n",
       "</table>\n",
       "<p>16831 rows × 9 columns</p>\n",
       "</div>"
      ],
      "text/plain": [
       "       company  year  transmission  mileage  fueltype  tax   mpg  engineSize  \\\n",
       "0            2  2017             1    10150         4  145  57.7         1.2   \n",
       "1            2  2013             1    50216         0  145  53.3         2.0   \n",
       "2            3  2016             1    34189         0  200  47.9         2.0   \n",
       "3            1  2020             1     1900         4  145  56.5         1.0   \n",
       "4            0  2014             0    79809         0   20  68.9         2.0   \n",
       "...        ...   ...           ...      ...       ...  ...   ...         ...   \n",
       "16826        2  2016             0    29000         0  125  56.6         1.5   \n",
       "16827        4  2019             1     2812         4  145  47.9         1.5   \n",
       "16828        2  2017             1    46800         0  150  54.3         2.0   \n",
       "16829        3  2017             3    14562         0  145  52.3         3.0   \n",
       "16830        3  2014             1    79389         0  165  50.4         2.0   \n",
       "\n",
       "       model  \n",
       "0         44  \n",
       "1         46  \n",
       "2         60  \n",
       "3         34  \n",
       "4          2  \n",
       "...      ...  \n",
       "16826     32  \n",
       "16827     93  \n",
       "16828     46  \n",
       "16829     13  \n",
       "16830     59  \n",
       "\n",
       "[16831 rows x 9 columns]"
      ]
     },
     "execution_count": 18,
     "metadata": {},
     "output_type": "execute_result"
    }
   ],
   "source": [
    "model2 = pd.DataFrame(model2,columns=['model'])\n",
    "X_test_drop = X_test.drop(['model'],axis=1)\n",
    "\n",
    "X_test_le = pd.concat([X_test_drop,model2],axis=1)\n",
    "X_test_le"
   ]
  },
  {
   "cell_type": "markdown",
   "id": "094474fe",
   "metadata": {
    "papermill": {
     "duration": 0.010739,
     "end_time": "2022-09-18T16:52:35.219586",
     "exception": false,
     "start_time": "2022-09-18T16:52:35.208847",
     "status": "completed"
    },
    "tags": []
   },
   "source": [
    "## 데이터셋 정규화하기"
   ]
  },
  {
   "cell_type": "code",
   "execution_count": 19,
   "id": "38c2d820",
   "metadata": {
    "execution": {
     "iopub.execute_input": "2022-09-18T16:52:35.243961Z",
     "iopub.status.busy": "2022-09-18T16:52:35.242939Z",
     "iopub.status.idle": "2022-09-18T16:52:35.255396Z",
     "shell.execute_reply": "2022-09-18T16:52:35.254372Z"
    },
    "papermill": {
     "duration": 0.02703,
     "end_time": "2022-09-18T16:52:35.257753",
     "exception": false,
     "start_time": "2022-09-18T16:52:35.230723",
     "status": "completed"
    },
    "tags": []
   },
   "outputs": [
    {
     "data": {
      "text/plain": [
       "array([[0.5       , 0.30645161, 0.33333333, ..., 0.11730769, 0.19047619,\n",
       "        0.45360825],\n",
       "       [0.5       , 0.24193548, 0.33333333, ..., 0.10790598, 0.31746032,\n",
       "        0.4742268 ],\n",
       "       [0.75      , 0.29032258, 0.33333333, ..., 0.09636752, 0.31746032,\n",
       "        0.6185567 ],\n",
       "       ...,\n",
       "       [0.5       , 0.30645161, 0.33333333, ..., 0.11004274, 0.31746032,\n",
       "        0.4742268 ],\n",
       "       [0.75      , 0.30645161, 1.        , ..., 0.10576923, 0.47619048,\n",
       "        0.13402062],\n",
       "       [0.75      , 0.25806452, 0.33333333, ..., 0.1017094 , 0.31746032,\n",
       "        0.60824742]])"
      ]
     },
     "execution_count": 19,
     "metadata": {},
     "output_type": "execute_result"
    }
   ],
   "source": [
    "X_test_le = X_test_le.to_numpy()\n",
    "X_test_le = scaler1.transform(X_test_le)\n",
    "X_test_le"
   ]
  },
  {
   "cell_type": "markdown",
   "id": "0180f0c8",
   "metadata": {
    "papermill": {
     "duration": 0.010898,
     "end_time": "2022-09-18T16:52:35.279953",
     "exception": false,
     "start_time": "2022-09-18T16:52:35.269055",
     "status": "completed"
    },
    "tags": []
   },
   "source": [
    "## 데이터셋 tensor로 바꿔주기"
   ]
  },
  {
   "cell_type": "code",
   "execution_count": 20,
   "id": "59f4b5b9",
   "metadata": {
    "execution": {
     "iopub.execute_input": "2022-09-18T16:52:35.303999Z",
     "iopub.status.busy": "2022-09-18T16:52:35.303595Z",
     "iopub.status.idle": "2022-09-18T16:52:35.313058Z",
     "shell.execute_reply": "2022-09-18T16:52:35.312173Z"
    },
    "papermill": {
     "duration": 0.024107,
     "end_time": "2022-09-18T16:52:35.315100",
     "exception": false,
     "start_time": "2022-09-18T16:52:35.290993",
     "status": "completed"
    },
    "tags": []
   },
   "outputs": [
    {
     "data": {
      "text/plain": [
       "tensor([[0.5000, 0.3065, 0.3333,  ..., 0.1173, 0.1905, 0.4536],\n",
       "        [0.5000, 0.2419, 0.3333,  ..., 0.1079, 0.3175, 0.4742],\n",
       "        [0.7500, 0.2903, 0.3333,  ..., 0.0964, 0.3175, 0.6186],\n",
       "        ...,\n",
       "        [0.5000, 0.3065, 0.3333,  ..., 0.1100, 0.3175, 0.4742],\n",
       "        [0.7500, 0.3065, 1.0000,  ..., 0.1058, 0.4762, 0.1340],\n",
       "        [0.7500, 0.2581, 0.3333,  ..., 0.1017, 0.3175, 0.6082]])"
      ]
     },
     "execution_count": 20,
     "metadata": {},
     "output_type": "execute_result"
    }
   ],
   "source": [
    "X_test_le = torch.FloatTensor(X_test_le)\n",
    "X_test_le"
   ]
  },
  {
   "cell_type": "code",
   "execution_count": 21,
   "id": "2888adaa",
   "metadata": {
    "execution": {
     "iopub.execute_input": "2022-09-18T16:52:35.339667Z",
     "iopub.status.busy": "2022-09-18T16:52:35.339274Z",
     "iopub.status.idle": "2022-09-18T16:52:35.347088Z",
     "shell.execute_reply": "2022-09-18T16:52:35.346238Z"
    },
    "papermill": {
     "duration": 0.022523,
     "end_time": "2022-09-18T16:52:35.349065",
     "exception": false,
     "start_time": "2022-09-18T16:52:35.326542",
     "status": "completed"
    },
    "tags": []
   },
   "outputs": [
    {
     "data": {
      "text/plain": [
       "array([[0.08885777],\n",
       "       [0.0728977 ],\n",
       "       [0.1223222 ],\n",
       "       ...,\n",
       "       [0.12494376],\n",
       "       [0.22657463],\n",
       "       [0.07239386]], dtype=float32)"
      ]
     },
     "execution_count": 21,
     "metadata": {},
     "output_type": "execute_result"
    }
   ],
   "source": [
    "y_test = X_test_le.matmul(W)+b\n",
    "y_test = y_test.detach().numpy()\n",
    "y_test"
   ]
  },
  {
   "cell_type": "code",
   "execution_count": 22,
   "id": "642cb879",
   "metadata": {
    "execution": {
     "iopub.execute_input": "2022-09-18T16:52:35.373754Z",
     "iopub.status.busy": "2022-09-18T16:52:35.373120Z",
     "iopub.status.idle": "2022-09-18T16:52:35.379863Z",
     "shell.execute_reply": "2022-09-18T16:52:35.378859Z"
    },
    "papermill": {
     "duration": 0.021718,
     "end_time": "2022-09-18T16:52:35.381989",
     "exception": false,
     "start_time": "2022-09-18T16:52:35.360271",
     "status": "completed"
    },
    "tags": []
   },
   "outputs": [
    {
     "data": {
      "text/plain": [
       "(16831, 1)"
      ]
     },
     "execution_count": 22,
     "metadata": {},
     "output_type": "execute_result"
    }
   ],
   "source": [
    "y_test.shape"
   ]
  },
  {
   "cell_type": "code",
   "execution_count": 23,
   "id": "2b2d92cd",
   "metadata": {
    "execution": {
     "iopub.execute_input": "2022-09-18T16:52:35.406835Z",
     "iopub.status.busy": "2022-09-18T16:52:35.406194Z",
     "iopub.status.idle": "2022-09-18T16:52:35.413877Z",
     "shell.execute_reply": "2022-09-18T16:52:35.412862Z"
    },
    "papermill": {
     "duration": 0.023085,
     "end_time": "2022-09-18T16:52:35.416458",
     "exception": false,
     "start_time": "2022-09-18T16:52:35.393373",
     "status": "completed"
    },
    "tags": []
   },
   "outputs": [
    {
     "data": {
      "text/plain": [
       "array([[12622.413],\n",
       "       [10498.049],\n",
       "       [17076.697],\n",
       "       ...,\n",
       "       [17425.639],\n",
       "       [30953.217],\n",
       "       [10430.985]], dtype=float32)"
      ]
     },
     "execution_count": 23,
     "metadata": {},
     "output_type": "execute_result"
    }
   ],
   "source": [
    "y_test = scaler2.inverse_transform(y_test)\n",
    "y_test"
   ]
  },
  {
   "cell_type": "code",
   "execution_count": 24,
   "id": "6296522e",
   "metadata": {
    "execution": {
     "iopub.execute_input": "2022-09-18T16:52:35.442229Z",
     "iopub.status.busy": "2022-09-18T16:52:35.441848Z",
     "iopub.status.idle": "2022-09-18T16:52:35.454190Z",
     "shell.execute_reply": "2022-09-18T16:52:35.453183Z"
    },
    "papermill": {
     "duration": 0.02791,
     "end_time": "2022-09-18T16:52:35.456314",
     "exception": false,
     "start_time": "2022-09-18T16:52:35.428404",
     "status": "completed"
    },
    "tags": []
   },
   "outputs": [
    {
     "data": {
      "text/html": [
       "<div>\n",
       "<style scoped>\n",
       "    .dataframe tbody tr th:only-of-type {\n",
       "        vertical-align: middle;\n",
       "    }\n",
       "\n",
       "    .dataframe tbody tr th {\n",
       "        vertical-align: top;\n",
       "    }\n",
       "\n",
       "    .dataframe thead th {\n",
       "        text-align: right;\n",
       "    }\n",
       "</style>\n",
       "<table border=\"1\" class=\"dataframe\">\n",
       "  <thead>\n",
       "    <tr style=\"text-align: right;\">\n",
       "      <th></th>\n",
       "      <th>price</th>\n",
       "    </tr>\n",
       "  </thead>\n",
       "  <tbody>\n",
       "    <tr>\n",
       "      <th>0</th>\n",
       "      <td>12622.413086</td>\n",
       "    </tr>\n",
       "    <tr>\n",
       "      <th>1</th>\n",
       "      <td>10498.048828</td>\n",
       "    </tr>\n",
       "    <tr>\n",
       "      <th>2</th>\n",
       "      <td>17076.697266</td>\n",
       "    </tr>\n",
       "    <tr>\n",
       "      <th>3</th>\n",
       "      <td>16289.827148</td>\n",
       "    </tr>\n",
       "    <tr>\n",
       "      <th>4</th>\n",
       "      <td>8547.181641</td>\n",
       "    </tr>\n",
       "    <tr>\n",
       "      <th>...</th>\n",
       "      <td>...</td>\n",
       "    </tr>\n",
       "    <tr>\n",
       "      <th>16826</th>\n",
       "      <td>11515.054688</td>\n",
       "    </tr>\n",
       "    <tr>\n",
       "      <th>16827</th>\n",
       "      <td>20532.109375</td>\n",
       "    </tr>\n",
       "    <tr>\n",
       "      <th>16828</th>\n",
       "      <td>17425.638672</td>\n",
       "    </tr>\n",
       "    <tr>\n",
       "      <th>16829</th>\n",
       "      <td>30953.216797</td>\n",
       "    </tr>\n",
       "    <tr>\n",
       "      <th>16830</th>\n",
       "      <td>10430.985352</td>\n",
       "    </tr>\n",
       "  </tbody>\n",
       "</table>\n",
       "<p>16831 rows × 1 columns</p>\n",
       "</div>"
      ],
      "text/plain": [
       "              price\n",
       "0      12622.413086\n",
       "1      10498.048828\n",
       "2      17076.697266\n",
       "3      16289.827148\n",
       "4       8547.181641\n",
       "...             ...\n",
       "16826  11515.054688\n",
       "16827  20532.109375\n",
       "16828  17425.638672\n",
       "16829  30953.216797\n",
       "16830  10430.985352\n",
       "\n",
       "[16831 rows x 1 columns]"
      ]
     },
     "execution_count": 24,
     "metadata": {},
     "output_type": "execute_result"
    }
   ],
   "source": [
    "y_test = pd.DataFrame(y_test,columns=['price'])\n",
    "y_test"
   ]
  },
  {
   "cell_type": "code",
   "execution_count": 25,
   "id": "e02a11c3",
   "metadata": {
    "execution": {
     "iopub.execute_input": "2022-09-18T16:52:35.482354Z",
     "iopub.status.busy": "2022-09-18T16:52:35.481309Z",
     "iopub.status.idle": "2022-09-18T16:52:35.493246Z",
     "shell.execute_reply": "2022-09-18T16:52:35.492376Z"
    },
    "papermill": {
     "duration": 0.027148,
     "end_time": "2022-09-18T16:52:35.495337",
     "exception": false,
     "start_time": "2022-09-18T16:52:35.468189",
     "status": "completed"
    },
    "tags": []
   },
   "outputs": [
    {
     "data": {
      "text/html": [
       "<div>\n",
       "<style scoped>\n",
       "    .dataframe tbody tr th:only-of-type {\n",
       "        vertical-align: middle;\n",
       "    }\n",
       "\n",
       "    .dataframe tbody tr th {\n",
       "        vertical-align: top;\n",
       "    }\n",
       "\n",
       "    .dataframe thead th {\n",
       "        text-align: right;\n",
       "    }\n",
       "</style>\n",
       "<table border=\"1\" class=\"dataframe\">\n",
       "  <thead>\n",
       "    <tr style=\"text-align: right;\">\n",
       "      <th></th>\n",
       "      <th>id</th>\n",
       "    </tr>\n",
       "  </thead>\n",
       "  <tbody>\n",
       "    <tr>\n",
       "      <th>0</th>\n",
       "      <td>0</td>\n",
       "    </tr>\n",
       "    <tr>\n",
       "      <th>1</th>\n",
       "      <td>1</td>\n",
       "    </tr>\n",
       "    <tr>\n",
       "      <th>2</th>\n",
       "      <td>2</td>\n",
       "    </tr>\n",
       "    <tr>\n",
       "      <th>3</th>\n",
       "      <td>3</td>\n",
       "    </tr>\n",
       "    <tr>\n",
       "      <th>4</th>\n",
       "      <td>4</td>\n",
       "    </tr>\n",
       "    <tr>\n",
       "      <th>...</th>\n",
       "      <td>...</td>\n",
       "    </tr>\n",
       "    <tr>\n",
       "      <th>16826</th>\n",
       "      <td>16826</td>\n",
       "    </tr>\n",
       "    <tr>\n",
       "      <th>16827</th>\n",
       "      <td>16827</td>\n",
       "    </tr>\n",
       "    <tr>\n",
       "      <th>16828</th>\n",
       "      <td>16828</td>\n",
       "    </tr>\n",
       "    <tr>\n",
       "      <th>16829</th>\n",
       "      <td>16829</td>\n",
       "    </tr>\n",
       "    <tr>\n",
       "      <th>16830</th>\n",
       "      <td>16830</td>\n",
       "    </tr>\n",
       "  </tbody>\n",
       "</table>\n",
       "<p>16831 rows × 1 columns</p>\n",
       "</div>"
      ],
      "text/plain": [
       "          id\n",
       "0          0\n",
       "1          1\n",
       "2          2\n",
       "3          3\n",
       "4          4\n",
       "...      ...\n",
       "16826  16826\n",
       "16827  16827\n",
       "16828  16828\n",
       "16829  16829\n",
       "16830  16830\n",
       "\n",
       "[16831 rows x 1 columns]"
      ]
     },
     "execution_count": 25,
     "metadata": {},
     "output_type": "execute_result"
    }
   ],
   "source": [
    "id = np.arange(16831)\n",
    "id = pd.DataFrame(id,columns=['id'])\n",
    "id"
   ]
  },
  {
   "cell_type": "code",
   "execution_count": 26,
   "id": "84b6ec07",
   "metadata": {
    "execution": {
     "iopub.execute_input": "2022-09-18T16:52:35.521888Z",
     "iopub.status.busy": "2022-09-18T16:52:35.521285Z",
     "iopub.status.idle": "2022-09-18T16:52:35.534270Z",
     "shell.execute_reply": "2022-09-18T16:52:35.533052Z"
    },
    "papermill": {
     "duration": 0.029133,
     "end_time": "2022-09-18T16:52:35.536712",
     "exception": false,
     "start_time": "2022-09-18T16:52:35.507579",
     "status": "completed"
    },
    "tags": []
   },
   "outputs": [
    {
     "data": {
      "text/html": [
       "<div>\n",
       "<style scoped>\n",
       "    .dataframe tbody tr th:only-of-type {\n",
       "        vertical-align: middle;\n",
       "    }\n",
       "\n",
       "    .dataframe tbody tr th {\n",
       "        vertical-align: top;\n",
       "    }\n",
       "\n",
       "    .dataframe thead th {\n",
       "        text-align: right;\n",
       "    }\n",
       "</style>\n",
       "<table border=\"1\" class=\"dataframe\">\n",
       "  <thead>\n",
       "    <tr style=\"text-align: right;\">\n",
       "      <th></th>\n",
       "      <th>id</th>\n",
       "      <th>price</th>\n",
       "    </tr>\n",
       "  </thead>\n",
       "  <tbody>\n",
       "    <tr>\n",
       "      <th>0</th>\n",
       "      <td>0</td>\n",
       "      <td>12622.413086</td>\n",
       "    </tr>\n",
       "    <tr>\n",
       "      <th>1</th>\n",
       "      <td>1</td>\n",
       "      <td>10498.048828</td>\n",
       "    </tr>\n",
       "    <tr>\n",
       "      <th>2</th>\n",
       "      <td>2</td>\n",
       "      <td>17076.697266</td>\n",
       "    </tr>\n",
       "    <tr>\n",
       "      <th>3</th>\n",
       "      <td>3</td>\n",
       "      <td>16289.827148</td>\n",
       "    </tr>\n",
       "    <tr>\n",
       "      <th>4</th>\n",
       "      <td>4</td>\n",
       "      <td>8547.181641</td>\n",
       "    </tr>\n",
       "    <tr>\n",
       "      <th>...</th>\n",
       "      <td>...</td>\n",
       "      <td>...</td>\n",
       "    </tr>\n",
       "    <tr>\n",
       "      <th>16826</th>\n",
       "      <td>16826</td>\n",
       "      <td>11515.054688</td>\n",
       "    </tr>\n",
       "    <tr>\n",
       "      <th>16827</th>\n",
       "      <td>16827</td>\n",
       "      <td>20532.109375</td>\n",
       "    </tr>\n",
       "    <tr>\n",
       "      <th>16828</th>\n",
       "      <td>16828</td>\n",
       "      <td>17425.638672</td>\n",
       "    </tr>\n",
       "    <tr>\n",
       "      <th>16829</th>\n",
       "      <td>16829</td>\n",
       "      <td>30953.216797</td>\n",
       "    </tr>\n",
       "    <tr>\n",
       "      <th>16830</th>\n",
       "      <td>16830</td>\n",
       "      <td>10430.985352</td>\n",
       "    </tr>\n",
       "  </tbody>\n",
       "</table>\n",
       "<p>16831 rows × 2 columns</p>\n",
       "</div>"
      ],
      "text/plain": [
       "          id         price\n",
       "0          0  12622.413086\n",
       "1          1  10498.048828\n",
       "2          2  17076.697266\n",
       "3          3  16289.827148\n",
       "4          4   8547.181641\n",
       "...      ...           ...\n",
       "16826  16826  11515.054688\n",
       "16827  16827  20532.109375\n",
       "16828  16828  17425.638672\n",
       "16829  16829  30953.216797\n",
       "16830  16830  10430.985352\n",
       "\n",
       "[16831 rows x 2 columns]"
      ]
     },
     "execution_count": 26,
     "metadata": {},
     "output_type": "execute_result"
    }
   ],
   "source": [
    "result = pd.concat([id,y_test],axis=1)\n",
    "result"
   ]
  },
  {
   "cell_type": "code",
   "execution_count": 27,
   "id": "3a7c26d0",
   "metadata": {
    "execution": {
     "iopub.execute_input": "2022-09-18T16:52:35.563470Z",
     "iopub.status.busy": "2022-09-18T16:52:35.563055Z",
     "iopub.status.idle": "2022-09-18T16:52:35.608437Z",
     "shell.execute_reply": "2022-09-18T16:52:35.607398Z"
    },
    "papermill": {
     "duration": 0.061361,
     "end_time": "2022-09-18T16:52:35.610730",
     "exception": false,
     "start_time": "2022-09-18T16:52:35.549369",
     "status": "completed"
    },
    "tags": []
   },
   "outputs": [
    {
     "data": {
      "text/html": [
       "<div>\n",
       "<style scoped>\n",
       "    .dataframe tbody tr th:only-of-type {\n",
       "        vertical-align: middle;\n",
       "    }\n",
       "\n",
       "    .dataframe tbody tr th {\n",
       "        vertical-align: top;\n",
       "    }\n",
       "\n",
       "    .dataframe thead th {\n",
       "        text-align: right;\n",
       "    }\n",
       "</style>\n",
       "<table border=\"1\" class=\"dataframe\">\n",
       "  <thead>\n",
       "    <tr style=\"text-align: right;\">\n",
       "      <th></th>\n",
       "      <th>id</th>\n",
       "      <th>price</th>\n",
       "    </tr>\n",
       "  </thead>\n",
       "  <tbody>\n",
       "    <tr>\n",
       "      <th>0</th>\n",
       "      <td>0</td>\n",
       "      <td>12622.413086</td>\n",
       "    </tr>\n",
       "    <tr>\n",
       "      <th>1</th>\n",
       "      <td>1</td>\n",
       "      <td>10498.048828</td>\n",
       "    </tr>\n",
       "    <tr>\n",
       "      <th>2</th>\n",
       "      <td>2</td>\n",
       "      <td>17076.697266</td>\n",
       "    </tr>\n",
       "    <tr>\n",
       "      <th>3</th>\n",
       "      <td>3</td>\n",
       "      <td>16289.827148</td>\n",
       "    </tr>\n",
       "    <tr>\n",
       "      <th>4</th>\n",
       "      <td>4</td>\n",
       "      <td>8547.181641</td>\n",
       "    </tr>\n",
       "    <tr>\n",
       "      <th>...</th>\n",
       "      <td>...</td>\n",
       "      <td>...</td>\n",
       "    </tr>\n",
       "    <tr>\n",
       "      <th>16826</th>\n",
       "      <td>16826</td>\n",
       "      <td>11515.054688</td>\n",
       "    </tr>\n",
       "    <tr>\n",
       "      <th>16827</th>\n",
       "      <td>16827</td>\n",
       "      <td>20532.109375</td>\n",
       "    </tr>\n",
       "    <tr>\n",
       "      <th>16828</th>\n",
       "      <td>16828</td>\n",
       "      <td>17425.638672</td>\n",
       "    </tr>\n",
       "    <tr>\n",
       "      <th>16829</th>\n",
       "      <td>16829</td>\n",
       "      <td>30953.216797</td>\n",
       "    </tr>\n",
       "    <tr>\n",
       "      <th>16830</th>\n",
       "      <td>16830</td>\n",
       "      <td>10430.985352</td>\n",
       "    </tr>\n",
       "  </tbody>\n",
       "</table>\n",
       "<p>16831 rows × 2 columns</p>\n",
       "</div>"
      ],
      "text/plain": [
       "          id         price\n",
       "0          0  12622.413086\n",
       "1          1  10498.048828\n",
       "2          2  17076.697266\n",
       "3          3  16289.827148\n",
       "4          4   8547.181641\n",
       "...      ...           ...\n",
       "16826  16826  11515.054688\n",
       "16827  16827  20532.109375\n",
       "16828  16828  17425.638672\n",
       "16829  16829  30953.216797\n",
       "16830  16830  10430.985352\n",
       "\n",
       "[16831 rows x 2 columns]"
      ]
     },
     "execution_count": 27,
     "metadata": {},
     "output_type": "execute_result"
    }
   ],
   "source": [
    "result.to_csv('submit.csv',index=False)\n",
    "result"
   ]
  }
 ],
 "metadata": {
  "kernelspec": {
   "display_name": "Python 3",
   "language": "python",
   "name": "python3"
  },
  "language_info": {
   "codemirror_mode": {
    "name": "ipython",
    "version": 3
   },
   "file_extension": ".py",
   "mimetype": "text/x-python",
   "name": "python",
   "nbconvert_exporter": "python",
   "pygments_lexer": "ipython3",
   "version": "3.7.12"
  },
  "papermill": {
   "default_parameters": {},
   "duration": 480.475488,
   "end_time": "2022-09-18T16:52:36.548466",
   "environment_variables": {},
   "exception": null,
   "input_path": "__notebook__.ipynb",
   "output_path": "__notebook__.ipynb",
   "parameters": {},
   "start_time": "2022-09-18T16:44:36.072978",
   "version": "2.3.4"
  }
 },
 "nbformat": 4,
 "nbformat_minor": 5
}
