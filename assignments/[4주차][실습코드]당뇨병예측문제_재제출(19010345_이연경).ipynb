{
 "cells": [
  {
   "cell_type": "code",
   "execution_count": 1,
   "id": "f21ebd4f",
   "metadata": {
    "_cell_guid": "b1076dfc-b9ad-4769-8c92-a6c4dae69d19",
    "_uuid": "8f2839f25d086af736a60e9eeb907d3b93b6e0e5",
    "execution": {
     "iopub.execute_input": "2022-09-22T09:03:37.253812Z",
     "iopub.status.busy": "2022-09-22T09:03:37.253259Z",
     "iopub.status.idle": "2022-09-22T09:03:37.267935Z",
     "shell.execute_reply": "2022-09-22T09:03:37.266333Z"
    },
    "papermill": {
     "duration": 0.025179,
     "end_time": "2022-09-22T09:03:37.270680",
     "exception": false,
     "start_time": "2022-09-22T09:03:37.245501",
     "status": "completed"
    },
    "tags": []
   },
   "outputs": [
    {
     "name": "stdout",
     "output_type": "stream",
     "text": [
      "/kaggle/input/2022-ai-w4p1/submit.csv\n",
      "/kaggle/input/2022-ai-w4p1/train.csv\n",
      "/kaggle/input/2022-ai-w4p1/test.csv\n"
     ]
    }
   ],
   "source": [
    "# This Python 3 environment comes with many helpful analytics libraries installed\n",
    "# It is defined by the kaggle/python Docker image: https://github.com/kaggle/docker-python\n",
    "# For example, here's several helpful packages to load\n",
    "\n",
    "import numpy as np # linear algebra\n",
    "import pandas as pd # data processing, CSV file I/O (e.g. pd.read_csv)\n",
    "\n",
    "# Input data files are available in the read-only \"../input/\" directory\n",
    "# For example, running this (by clicking run or pressing Shift+Enter) will list all files under the input directory\n",
    "\n",
    "import os\n",
    "for dirname, _, filenames in os.walk('/kaggle/input'):\n",
    "    for filename in filenames:\n",
    "        print(os.path.join(dirname, filename))\n",
    "\n",
    "# You can write up to 20GB to the current directory (/kaggle/working/) that gets preserved as output when you create a version using \"Save & Run All\" \n",
    "# You can also write temporary files to /kaggle/temp/, but they won't be saved outside of the current session"
   ]
  },
  {
   "cell_type": "code",
   "execution_count": 2,
   "id": "8efde454",
   "metadata": {
    "execution": {
     "iopub.execute_input": "2022-09-22T09:03:37.282854Z",
     "iopub.status.busy": "2022-09-22T09:03:37.282563Z",
     "iopub.status.idle": "2022-09-22T09:03:39.164087Z",
     "shell.execute_reply": "2022-09-22T09:03:39.163109Z"
    },
    "papermill": {
     "duration": 1.89027,
     "end_time": "2022-09-22T09:03:39.166477",
     "exception": false,
     "start_time": "2022-09-22T09:03:37.276207",
     "status": "completed"
    },
    "tags": []
   },
   "outputs": [],
   "source": [
    "import random\n",
    "import torch\n",
    "import torch.optim as optim\n",
    "import torch.nn as nn\n",
    "\n",
    "seed = 42\n",
    "random.seed(seed)\n",
    "np.random.seed(seed)\n",
    "torch.manual_seed(seed)\n",
    "if torch.cuda.is_available():\n",
    "    torch.cuda.manual_seed(seed)\n",
    "    torch.cuda.manual_seed_all(seed)\n",
    "torch.backends.cudnn.benchmark = False\n",
    "torch.backends.cudnn.deterministic = True"
   ]
  },
  {
   "cell_type": "code",
   "execution_count": 3,
   "id": "9a3eee1d",
   "metadata": {
    "execution": {
     "iopub.execute_input": "2022-09-22T09:03:39.179167Z",
     "iopub.status.busy": "2022-09-22T09:03:39.178248Z",
     "iopub.status.idle": "2022-09-22T09:03:39.222196Z",
     "shell.execute_reply": "2022-09-22T09:03:39.221188Z"
    },
    "papermill": {
     "duration": 0.052969,
     "end_time": "2022-09-22T09:03:39.224871",
     "exception": false,
     "start_time": "2022-09-22T09:03:39.171902",
     "status": "completed"
    },
    "tags": []
   },
   "outputs": [
    {
     "data": {
      "text/html": [
       "<div>\n",
       "<style scoped>\n",
       "    .dataframe tbody tr th:only-of-type {\n",
       "        vertical-align: middle;\n",
       "    }\n",
       "\n",
       "    .dataframe tbody tr th {\n",
       "        vertical-align: top;\n",
       "    }\n",
       "\n",
       "    .dataframe thead th {\n",
       "        text-align: right;\n",
       "    }\n",
       "</style>\n",
       "<table border=\"1\" class=\"dataframe\">\n",
       "  <thead>\n",
       "    <tr style=\"text-align: right;\">\n",
       "      <th></th>\n",
       "      <th>Pregnancies</th>\n",
       "      <th>Glucose</th>\n",
       "      <th>BloodPressure</th>\n",
       "      <th>SkinThickness</th>\n",
       "      <th>Insulin</th>\n",
       "      <th>BMI</th>\n",
       "      <th>DiabetesPedigreeFunction</th>\n",
       "      <th>Age</th>\n",
       "      <th>Diabetes</th>\n",
       "    </tr>\n",
       "  </thead>\n",
       "  <tbody>\n",
       "    <tr>\n",
       "      <th>0</th>\n",
       "      <td>1</td>\n",
       "      <td>95</td>\n",
       "      <td>60</td>\n",
       "      <td>18</td>\n",
       "      <td>58</td>\n",
       "      <td>23.9</td>\n",
       "      <td>0.260</td>\n",
       "      <td>22</td>\n",
       "      <td>0</td>\n",
       "    </tr>\n",
       "    <tr>\n",
       "      <th>1</th>\n",
       "      <td>5</td>\n",
       "      <td>105</td>\n",
       "      <td>72</td>\n",
       "      <td>29</td>\n",
       "      <td>325</td>\n",
       "      <td>36.9</td>\n",
       "      <td>0.159</td>\n",
       "      <td>28</td>\n",
       "      <td>0</td>\n",
       "    </tr>\n",
       "    <tr>\n",
       "      <th>2</th>\n",
       "      <td>0</td>\n",
       "      <td>135</td>\n",
       "      <td>68</td>\n",
       "      <td>42</td>\n",
       "      <td>250</td>\n",
       "      <td>42.3</td>\n",
       "      <td>0.365</td>\n",
       "      <td>24</td>\n",
       "      <td>1</td>\n",
       "    </tr>\n",
       "    <tr>\n",
       "      <th>3</th>\n",
       "      <td>4</td>\n",
       "      <td>131</td>\n",
       "      <td>68</td>\n",
       "      <td>21</td>\n",
       "      <td>166</td>\n",
       "      <td>33.1</td>\n",
       "      <td>0.160</td>\n",
       "      <td>28</td>\n",
       "      <td>0</td>\n",
       "    </tr>\n",
       "    <tr>\n",
       "      <th>4</th>\n",
       "      <td>1</td>\n",
       "      <td>103</td>\n",
       "      <td>30</td>\n",
       "      <td>38</td>\n",
       "      <td>83</td>\n",
       "      <td>43.3</td>\n",
       "      <td>0.183</td>\n",
       "      <td>33</td>\n",
       "      <td>0</td>\n",
       "    </tr>\n",
       "    <tr>\n",
       "      <th>...</th>\n",
       "      <td>...</td>\n",
       "      <td>...</td>\n",
       "      <td>...</td>\n",
       "      <td>...</td>\n",
       "      <td>...</td>\n",
       "      <td>...</td>\n",
       "      <td>...</td>\n",
       "      <td>...</td>\n",
       "      <td>...</td>\n",
       "    </tr>\n",
       "    <tr>\n",
       "      <th>532</th>\n",
       "      <td>5</td>\n",
       "      <td>139</td>\n",
       "      <td>64</td>\n",
       "      <td>35</td>\n",
       "      <td>140</td>\n",
       "      <td>28.6</td>\n",
       "      <td>0.411</td>\n",
       "      <td>26</td>\n",
       "      <td>0</td>\n",
       "    </tr>\n",
       "    <tr>\n",
       "      <th>533</th>\n",
       "      <td>1</td>\n",
       "      <td>96</td>\n",
       "      <td>122</td>\n",
       "      <td>0</td>\n",
       "      <td>0</td>\n",
       "      <td>22.4</td>\n",
       "      <td>0.207</td>\n",
       "      <td>27</td>\n",
       "      <td>0</td>\n",
       "    </tr>\n",
       "    <tr>\n",
       "      <th>534</th>\n",
       "      <td>10</td>\n",
       "      <td>101</td>\n",
       "      <td>86</td>\n",
       "      <td>37</td>\n",
       "      <td>0</td>\n",
       "      <td>45.6</td>\n",
       "      <td>1.136</td>\n",
       "      <td>38</td>\n",
       "      <td>1</td>\n",
       "    </tr>\n",
       "    <tr>\n",
       "      <th>535</th>\n",
       "      <td>0</td>\n",
       "      <td>141</td>\n",
       "      <td>0</td>\n",
       "      <td>0</td>\n",
       "      <td>0</td>\n",
       "      <td>42.4</td>\n",
       "      <td>0.205</td>\n",
       "      <td>29</td>\n",
       "      <td>1</td>\n",
       "    </tr>\n",
       "    <tr>\n",
       "      <th>536</th>\n",
       "      <td>0</td>\n",
       "      <td>125</td>\n",
       "      <td>96</td>\n",
       "      <td>0</td>\n",
       "      <td>0</td>\n",
       "      <td>22.5</td>\n",
       "      <td>0.262</td>\n",
       "      <td>21</td>\n",
       "      <td>0</td>\n",
       "    </tr>\n",
       "  </tbody>\n",
       "</table>\n",
       "<p>537 rows × 9 columns</p>\n",
       "</div>"
      ],
      "text/plain": [
       "     Pregnancies  Glucose  BloodPressure  SkinThickness  Insulin   BMI  \\\n",
       "0              1       95             60             18       58  23.9   \n",
       "1              5      105             72             29      325  36.9   \n",
       "2              0      135             68             42      250  42.3   \n",
       "3              4      131             68             21      166  33.1   \n",
       "4              1      103             30             38       83  43.3   \n",
       "..           ...      ...            ...            ...      ...   ...   \n",
       "532            5      139             64             35      140  28.6   \n",
       "533            1       96            122              0        0  22.4   \n",
       "534           10      101             86             37        0  45.6   \n",
       "535            0      141              0              0        0  42.4   \n",
       "536            0      125             96              0        0  22.5   \n",
       "\n",
       "     DiabetesPedigreeFunction  Age  Diabetes  \n",
       "0                       0.260   22         0  \n",
       "1                       0.159   28         0  \n",
       "2                       0.365   24         1  \n",
       "3                       0.160   28         0  \n",
       "4                       0.183   33         0  \n",
       "..                        ...  ...       ...  \n",
       "532                     0.411   26         0  \n",
       "533                     0.207   27         0  \n",
       "534                     1.136   38         1  \n",
       "535                     0.205   29         1  \n",
       "536                     0.262   21         0  \n",
       "\n",
       "[537 rows x 9 columns]"
      ]
     },
     "execution_count": 3,
     "metadata": {},
     "output_type": "execute_result"
    }
   ],
   "source": [
    "train = pd.read_csv('../input/2022-ai-w4p1/train.csv')\n",
    "train"
   ]
  },
  {
   "cell_type": "markdown",
   "id": "694dcfb3",
   "metadata": {
    "papermill": {
     "duration": 0.006056,
     "end_time": "2022-09-22T09:03:39.237322",
     "exception": false,
     "start_time": "2022-09-22T09:03:39.231266",
     "status": "completed"
    },
    "tags": []
   },
   "source": [
    "# 데이터 정규화"
   ]
  },
  {
   "cell_type": "markdown",
   "id": "afb32090",
   "metadata": {
    "papermill": {
     "duration": 0.005609,
     "end_time": "2022-09-22T09:03:39.249035",
     "exception": false,
     "start_time": "2022-09-22T09:03:39.243426",
     "status": "completed"
    },
    "tags": []
   },
   "source": [
    "# 데이터셋 가공하기"
   ]
  },
  {
   "cell_type": "code",
   "execution_count": 4,
   "id": "e150df04",
   "metadata": {
    "execution": {
     "iopub.execute_input": "2022-09-22T09:03:39.261851Z",
     "iopub.status.busy": "2022-09-22T09:03:39.260998Z",
     "iopub.status.idle": "2022-09-22T09:03:39.267219Z",
     "shell.execute_reply": "2022-09-22T09:03:39.266244Z"
    },
    "papermill": {
     "duration": 0.015038,
     "end_time": "2022-09-22T09:03:39.269534",
     "exception": false,
     "start_time": "2022-09-22T09:03:39.254496",
     "status": "completed"
    },
    "tags": []
   },
   "outputs": [],
   "source": [
    "x_train = train.iloc[:,:-1]\n",
    "y_train = train.iloc[:,-1]"
   ]
  },
  {
   "cell_type": "code",
   "execution_count": 5,
   "id": "d831b496",
   "metadata": {
    "execution": {
     "iopub.execute_input": "2022-09-22T09:03:39.283819Z",
     "iopub.status.busy": "2022-09-22T09:03:39.282110Z",
     "iopub.status.idle": "2022-09-22T09:03:40.126668Z",
     "shell.execute_reply": "2022-09-22T09:03:40.125630Z"
    },
    "papermill": {
     "duration": 0.853555,
     "end_time": "2022-09-22T09:03:40.128902",
     "exception": false,
     "start_time": "2022-09-22T09:03:39.275347",
     "status": "completed"
    },
    "tags": []
   },
   "outputs": [
    {
     "data": {
      "text/plain": [
       "tensor([[-0.4000, -0.5500, -0.7500,  ..., -0.8351, -0.3073, -0.4118],\n",
       "        [ 0.4000, -0.3000,  0.0000,  ...,  0.5052, -0.5795, -0.0588],\n",
       "        [-0.6000,  0.4500, -0.2500,  ...,  1.0619, -0.0243, -0.2941],\n",
       "        ...,\n",
       "        [ 1.4000, -0.4000,  0.8750,  ...,  1.4021,  2.0539,  0.5294],\n",
       "        [-0.6000,  0.6000, -4.5000,  ...,  1.0722, -0.4555,  0.0000],\n",
       "        [-0.6000,  0.2000,  1.5000,  ..., -0.9794, -0.3019, -0.4706]])"
      ]
     },
     "execution_count": 5,
     "metadata": {},
     "output_type": "execute_result"
    }
   ],
   "source": [
    "from sklearn.preprocessing import RobustScaler\n",
    "scaler = RobustScaler()\n",
    "x_train = scaler.fit_transform(x_train)\n",
    "\n",
    "x_train = torch.FloatTensor(x_train)\n",
    "x_train"
   ]
  },
  {
   "cell_type": "code",
   "execution_count": 6,
   "id": "78c1f931",
   "metadata": {
    "execution": {
     "iopub.execute_input": "2022-09-22T09:03:40.142625Z",
     "iopub.status.busy": "2022-09-22T09:03:40.142227Z",
     "iopub.status.idle": "2022-09-22T09:03:40.150637Z",
     "shell.execute_reply": "2022-09-22T09:03:40.149471Z"
    },
    "papermill": {
     "duration": 0.018207,
     "end_time": "2022-09-22T09:03:40.153206",
     "exception": false,
     "start_time": "2022-09-22T09:03:40.134999",
     "status": "completed"
    },
    "tags": []
   },
   "outputs": [
    {
     "data": {
      "text/plain": [
       "tensor([0., 0., 1., 0., 0.])"
      ]
     },
     "execution_count": 6,
     "metadata": {},
     "output_type": "execute_result"
    }
   ],
   "source": [
    "y_train = torch.FloatTensor(y_train.to_numpy())\n",
    "y_train[:5]"
   ]
  },
  {
   "cell_type": "code",
   "execution_count": 7,
   "id": "6b573856",
   "metadata": {
    "execution": {
     "iopub.execute_input": "2022-09-22T09:03:40.166418Z",
     "iopub.status.busy": "2022-09-22T09:03:40.166059Z",
     "iopub.status.idle": "2022-09-22T09:03:40.171192Z",
     "shell.execute_reply": "2022-09-22T09:03:40.170261Z"
    },
    "papermill": {
     "duration": 0.014688,
     "end_time": "2022-09-22T09:03:40.173962",
     "exception": false,
     "start_time": "2022-09-22T09:03:40.159274",
     "status": "completed"
    },
    "tags": []
   },
   "outputs": [
    {
     "name": "stdout",
     "output_type": "stream",
     "text": [
      "torch.Size([537, 8])\n",
      "torch.Size([537])\n"
     ]
    }
   ],
   "source": [
    "print(x_train.shape)\n",
    "print(y_train.shape)"
   ]
  },
  {
   "cell_type": "markdown",
   "id": "7a3e452c",
   "metadata": {
    "papermill": {
     "duration": 0.005326,
     "end_time": "2022-09-22T09:03:40.185871",
     "exception": false,
     "start_time": "2022-09-22T09:03:40.180545",
     "status": "completed"
    },
    "tags": []
   },
   "source": [
    "# 모델 학습하기"
   ]
  },
  {
   "cell_type": "code",
   "execution_count": 8,
   "id": "94dc131f",
   "metadata": {
    "execution": {
     "iopub.execute_input": "2022-09-22T09:03:40.199674Z",
     "iopub.status.busy": "2022-09-22T09:03:40.197971Z",
     "iopub.status.idle": "2022-09-22T09:04:27.425741Z",
     "shell.execute_reply": "2022-09-22T09:04:27.423456Z"
    },
    "papermill": {
     "duration": 47.236859,
     "end_time": "2022-09-22T09:04:27.428277",
     "exception": false,
     "start_time": "2022-09-22T09:03:40.191418",
     "status": "completed"
    },
    "tags": []
   },
   "outputs": [
    {
     "name": "stdout",
     "output_type": "stream",
     "text": [
      "Epoch:    0/100000  Cost:0.693147\n",
      "Epoch: 10000/100000  Cost:0.459388\n",
      "Epoch: 20000/100000  Cost:0.459388\n",
      "Epoch: 30000/100000  Cost:0.459388\n",
      "Epoch: 40000/100000  Cost:0.459388\n",
      "Epoch: 50000/100000  Cost:0.459388\n",
      "Epoch: 60000/100000  Cost:0.459388\n",
      "Epoch: 70000/100000  Cost:0.459411\n",
      "Epoch: 80000/100000  Cost:0.459402\n",
      "Epoch: 90000/100000  Cost:0.459507\n",
      "Epoch: 100000/100000  Cost:0.459388\n"
     ]
    }
   ],
   "source": [
    "W = torch.zeros([8,1],requires_grad=True)\n",
    "b = torch.zeros(1,requires_grad=True)\n",
    "\n",
    "# optimzier 선택\n",
    "optimizer = optim.Adam([W,b],lr=1e-1)\n",
    "\n",
    "nb_epochs = 100000\n",
    "for epoch in range(nb_epochs+1):\n",
    "\n",
    "    \n",
    "    #H(x)\n",
    "    hypothesis = torch.sigmoid(x_train.matmul(W)+b)\n",
    "    \n",
    "    #cost\n",
    "    loss = nn.BCELoss()\n",
    "    cost = loss(hypothesis, y_train.unsqueeze(1))\n",
    "    \n",
    "    \n",
    "    #\n",
    "    optimizer.zero_grad()\n",
    "    cost.backward()\n",
    "    optimizer.step()\n",
    "    \n",
    "    if epoch%10000==0:\n",
    "        print('Epoch: {:4d}/{}  Cost:{:.6f}'.format(\n",
    "            epoch, nb_epochs, cost.item()\n",
    "        ))\n"
   ]
  },
  {
   "cell_type": "code",
   "execution_count": 9,
   "id": "bcc796ff",
   "metadata": {
    "execution": {
     "iopub.execute_input": "2022-09-22T09:04:27.442806Z",
     "iopub.status.busy": "2022-09-22T09:04:27.442452Z",
     "iopub.status.idle": "2022-09-22T09:04:27.449897Z",
     "shell.execute_reply": "2022-09-22T09:04:27.448781Z"
    },
    "papermill": {
     "duration": 0.018091,
     "end_time": "2022-09-22T09:04:27.453005",
     "exception": false,
     "start_time": "2022-09-22T09:04:27.434914",
     "status": "completed"
    },
    "tags": []
   },
   "outputs": [
    {
     "name": "stdout",
     "output_type": "stream",
     "text": [
      "tensor([[ 0.2903],\n",
      "        [ 1.4351],\n",
      "        [-0.1734],\n",
      "        [-0.0486],\n",
      "        [-0.1276],\n",
      "        [ 1.0577],\n",
      "        [ 0.1566],\n",
      "        [ 0.6113]], requires_grad=True)\n",
      "tensor([-1.2367], requires_grad=True)\n"
     ]
    }
   ],
   "source": [
    "print(W)                                                                                                                                                                                      \n",
    "print(b)"
   ]
  },
  {
   "cell_type": "code",
   "execution_count": 10,
   "id": "77543118",
   "metadata": {
    "execution": {
     "iopub.execute_input": "2022-09-22T09:04:27.478187Z",
     "iopub.status.busy": "2022-09-22T09:04:27.476014Z",
     "iopub.status.idle": "2022-09-22T09:04:27.490434Z",
     "shell.execute_reply": "2022-09-22T09:04:27.489372Z"
    },
    "papermill": {
     "duration": 0.033564,
     "end_time": "2022-09-22T09:04:27.495040",
     "exception": false,
     "start_time": "2022-09-22T09:04:27.461476",
     "status": "completed"
    },
    "tags": []
   },
   "outputs": [
    {
     "data": {
      "text/plain": [
       "0.7821229050279329"
      ]
     },
     "execution_count": 10,
     "metadata": {},
     "output_type": "execute_result"
    }
   ],
   "source": [
    "hypothesis = torch.sigmoid(x_train.matmul(W)+b)\n",
    "hypothesis[:5]\n",
    "\n",
    "prediction = hypothesis >= torch.FloatTensor([0.5])\n",
    "\n",
    "correct_prediction = prediction.float() == y_train.unsqueeze(1)\n",
    "accuracy = correct_prediction.sum().item() / len(correct_prediction)\n",
    "accuracy"
   ]
  },
  {
   "cell_type": "markdown",
   "id": "50d14a7f",
   "metadata": {
    "papermill": {
     "duration": 0.006272,
     "end_time": "2022-09-22T09:04:27.508825",
     "exception": false,
     "start_time": "2022-09-22T09:04:27.502553",
     "status": "completed"
    },
    "tags": []
   },
   "source": [
    "# 모델 테스트하기"
   ]
  },
  {
   "cell_type": "code",
   "execution_count": 11,
   "id": "dc92b157",
   "metadata": {
    "execution": {
     "iopub.execute_input": "2022-09-22T09:04:27.523382Z",
     "iopub.status.busy": "2022-09-22T09:04:27.522973Z",
     "iopub.status.idle": "2022-09-22T09:04:27.548686Z",
     "shell.execute_reply": "2022-09-22T09:04:27.547436Z"
    },
    "papermill": {
     "duration": 0.036862,
     "end_time": "2022-09-22T09:04:27.552036",
     "exception": false,
     "start_time": "2022-09-22T09:04:27.515174",
     "status": "completed"
    },
    "tags": []
   },
   "outputs": [
    {
     "data": {
      "text/html": [
       "<div>\n",
       "<style scoped>\n",
       "    .dataframe tbody tr th:only-of-type {\n",
       "        vertical-align: middle;\n",
       "    }\n",
       "\n",
       "    .dataframe tbody tr th {\n",
       "        vertical-align: top;\n",
       "    }\n",
       "\n",
       "    .dataframe thead th {\n",
       "        text-align: right;\n",
       "    }\n",
       "</style>\n",
       "<table border=\"1\" class=\"dataframe\">\n",
       "  <thead>\n",
       "    <tr style=\"text-align: right;\">\n",
       "      <th></th>\n",
       "      <th>Pregnancies</th>\n",
       "      <th>Glucose</th>\n",
       "      <th>BloodPressure</th>\n",
       "      <th>SkinThickness</th>\n",
       "      <th>Insulin</th>\n",
       "      <th>BMI</th>\n",
       "      <th>DiabetesPedigreeFunction</th>\n",
       "      <th>Age</th>\n",
       "    </tr>\n",
       "  </thead>\n",
       "  <tbody>\n",
       "    <tr>\n",
       "      <th>0</th>\n",
       "      <td>6</td>\n",
       "      <td>98</td>\n",
       "      <td>58</td>\n",
       "      <td>33</td>\n",
       "      <td>190</td>\n",
       "      <td>34.0</td>\n",
       "      <td>0.430</td>\n",
       "      <td>43</td>\n",
       "    </tr>\n",
       "    <tr>\n",
       "      <th>1</th>\n",
       "      <td>2</td>\n",
       "      <td>112</td>\n",
       "      <td>75</td>\n",
       "      <td>32</td>\n",
       "      <td>0</td>\n",
       "      <td>35.7</td>\n",
       "      <td>0.148</td>\n",
       "      <td>21</td>\n",
       "    </tr>\n",
       "    <tr>\n",
       "      <th>2</th>\n",
       "      <td>2</td>\n",
       "      <td>108</td>\n",
       "      <td>64</td>\n",
       "      <td>0</td>\n",
       "      <td>0</td>\n",
       "      <td>30.8</td>\n",
       "      <td>0.158</td>\n",
       "      <td>21</td>\n",
       "    </tr>\n",
       "    <tr>\n",
       "      <th>3</th>\n",
       "      <td>8</td>\n",
       "      <td>107</td>\n",
       "      <td>80</td>\n",
       "      <td>0</td>\n",
       "      <td>0</td>\n",
       "      <td>24.6</td>\n",
       "      <td>0.856</td>\n",
       "      <td>34</td>\n",
       "    </tr>\n",
       "    <tr>\n",
       "      <th>4</th>\n",
       "      <td>7</td>\n",
       "      <td>136</td>\n",
       "      <td>90</td>\n",
       "      <td>0</td>\n",
       "      <td>0</td>\n",
       "      <td>29.9</td>\n",
       "      <td>0.210</td>\n",
       "      <td>50</td>\n",
       "    </tr>\n",
       "    <tr>\n",
       "      <th>...</th>\n",
       "      <td>...</td>\n",
       "      <td>...</td>\n",
       "      <td>...</td>\n",
       "      <td>...</td>\n",
       "      <td>...</td>\n",
       "      <td>...</td>\n",
       "      <td>...</td>\n",
       "      <td>...</td>\n",
       "    </tr>\n",
       "    <tr>\n",
       "      <th>226</th>\n",
       "      <td>0</td>\n",
       "      <td>119</td>\n",
       "      <td>0</td>\n",
       "      <td>0</td>\n",
       "      <td>0</td>\n",
       "      <td>32.4</td>\n",
       "      <td>0.141</td>\n",
       "      <td>24</td>\n",
       "    </tr>\n",
       "    <tr>\n",
       "      <th>227</th>\n",
       "      <td>4</td>\n",
       "      <td>109</td>\n",
       "      <td>64</td>\n",
       "      <td>44</td>\n",
       "      <td>99</td>\n",
       "      <td>34.8</td>\n",
       "      <td>0.905</td>\n",
       "      <td>26</td>\n",
       "    </tr>\n",
       "    <tr>\n",
       "      <th>228</th>\n",
       "      <td>0</td>\n",
       "      <td>127</td>\n",
       "      <td>80</td>\n",
       "      <td>37</td>\n",
       "      <td>210</td>\n",
       "      <td>36.3</td>\n",
       "      <td>0.804</td>\n",
       "      <td>23</td>\n",
       "    </tr>\n",
       "    <tr>\n",
       "      <th>229</th>\n",
       "      <td>6</td>\n",
       "      <td>105</td>\n",
       "      <td>70</td>\n",
       "      <td>32</td>\n",
       "      <td>68</td>\n",
       "      <td>30.8</td>\n",
       "      <td>0.122</td>\n",
       "      <td>37</td>\n",
       "    </tr>\n",
       "    <tr>\n",
       "      <th>230</th>\n",
       "      <td>5</td>\n",
       "      <td>77</td>\n",
       "      <td>82</td>\n",
       "      <td>41</td>\n",
       "      <td>42</td>\n",
       "      <td>35.8</td>\n",
       "      <td>0.156</td>\n",
       "      <td>35</td>\n",
       "    </tr>\n",
       "  </tbody>\n",
       "</table>\n",
       "<p>231 rows × 8 columns</p>\n",
       "</div>"
      ],
      "text/plain": [
       "     Pregnancies  Glucose  BloodPressure  SkinThickness  Insulin   BMI  \\\n",
       "0              6       98             58             33      190  34.0   \n",
       "1              2      112             75             32        0  35.7   \n",
       "2              2      108             64              0        0  30.8   \n",
       "3              8      107             80              0        0  24.6   \n",
       "4              7      136             90              0        0  29.9   \n",
       "..           ...      ...            ...            ...      ...   ...   \n",
       "226            0      119              0              0        0  32.4   \n",
       "227            4      109             64             44       99  34.8   \n",
       "228            0      127             80             37      210  36.3   \n",
       "229            6      105             70             32       68  30.8   \n",
       "230            5       77             82             41       42  35.8   \n",
       "\n",
       "     DiabetesPedigreeFunction  Age  \n",
       "0                       0.430   43  \n",
       "1                       0.148   21  \n",
       "2                       0.158   21  \n",
       "3                       0.856   34  \n",
       "4                       0.210   50  \n",
       "..                        ...  ...  \n",
       "226                     0.141   24  \n",
       "227                     0.905   26  \n",
       "228                     0.804   23  \n",
       "229                     0.122   37  \n",
       "230                     0.156   35  \n",
       "\n",
       "[231 rows x 8 columns]"
      ]
     },
     "execution_count": 11,
     "metadata": {},
     "output_type": "execute_result"
    }
   ],
   "source": [
    "x_test = pd.read_csv('../input/2022-ai-w4p1/test.csv')\n",
    "x_test"
   ]
  },
  {
   "cell_type": "markdown",
   "id": "f14d8832",
   "metadata": {
    "papermill": {
     "duration": 0.007421,
     "end_time": "2022-09-22T09:04:27.567302",
     "exception": false,
     "start_time": "2022-09-22T09:04:27.559881",
     "status": "completed"
    },
    "tags": []
   },
   "source": [
    "## 정규화"
   ]
  },
  {
   "cell_type": "code",
   "execution_count": 12,
   "id": "f8e0cbfa",
   "metadata": {
    "execution": {
     "iopub.execute_input": "2022-09-22T09:04:27.582623Z",
     "iopub.status.busy": "2022-09-22T09:04:27.581913Z",
     "iopub.status.idle": "2022-09-22T09:04:27.591565Z",
     "shell.execute_reply": "2022-09-22T09:04:27.590357Z"
    },
    "papermill": {
     "duration": 0.019722,
     "end_time": "2022-09-22T09:04:27.593832",
     "exception": false,
     "start_time": "2022-09-22T09:04:27.574110",
     "status": "completed"
    },
    "tags": []
   },
   "outputs": [
    {
     "data": {
      "text/plain": [
       "array([[ 0.6       , -0.475     , -0.875     , ...,  0.20618557,\n",
       "         0.1509434 ,  0.82352941],\n",
       "       [-0.2       , -0.125     ,  0.1875    , ...,  0.3814433 ,\n",
       "        -0.60916442, -0.47058824],\n",
       "       [-0.2       , -0.225     , -0.5       , ..., -0.12371134,\n",
       "        -0.58221024, -0.47058824],\n",
       "       ...,\n",
       "       [-0.6       ,  0.25      ,  0.5       , ...,  0.44329897,\n",
       "         1.15902965, -0.35294118],\n",
       "       [ 0.6       , -0.3       , -0.125     , ..., -0.12371134,\n",
       "        -0.67924528,  0.47058824],\n",
       "       [ 0.4       , -1.        ,  0.625     , ...,  0.39175258,\n",
       "        -0.58760108,  0.35294118]])"
      ]
     },
     "execution_count": 12,
     "metadata": {},
     "output_type": "execute_result"
    }
   ],
   "source": [
    "x_test = scaler.transform(x_test)\n",
    "x_test"
   ]
  },
  {
   "cell_type": "code",
   "execution_count": 13,
   "id": "e67d40e6",
   "metadata": {
    "execution": {
     "iopub.execute_input": "2022-09-22T09:04:27.609887Z",
     "iopub.status.busy": "2022-09-22T09:04:27.609208Z",
     "iopub.status.idle": "2022-09-22T09:04:27.614493Z",
     "shell.execute_reply": "2022-09-22T09:04:27.613355Z"
    },
    "papermill": {
     "duration": 0.015492,
     "end_time": "2022-09-22T09:04:27.616622",
     "exception": false,
     "start_time": "2022-09-22T09:04:27.601130",
     "status": "completed"
    },
    "tags": []
   },
   "outputs": [],
   "source": [
    "x_test = torch.FloatTensor(x_test)"
   ]
  },
  {
   "cell_type": "code",
   "execution_count": 14,
   "id": "a03316b7",
   "metadata": {
    "execution": {
     "iopub.execute_input": "2022-09-22T09:04:27.633155Z",
     "iopub.status.busy": "2022-09-22T09:04:27.632175Z",
     "iopub.status.idle": "2022-09-22T09:04:27.641241Z",
     "shell.execute_reply": "2022-09-22T09:04:27.640079Z"
    },
    "papermill": {
     "duration": 0.01965,
     "end_time": "2022-09-22T09:04:27.643587",
     "exception": false,
     "start_time": "2022-09-22T09:04:27.623937",
     "status": "completed"
    },
    "tags": []
   },
   "outputs": [
    {
     "data": {
      "text/plain": [
       "tensor([[0.2660],\n",
       "        [0.1878],\n",
       "        [0.1224],\n",
       "        [0.1487],\n",
       "        [0.5024]], grad_fn=<SliceBackward0>)"
      ]
     },
     "execution_count": 14,
     "metadata": {},
     "output_type": "execute_result"
    }
   ],
   "source": [
    "hypothesis = torch.sigmoid(x_test.matmul(W)+b)\n",
    "hypothesis[:5]"
   ]
  },
  {
   "cell_type": "code",
   "execution_count": 15,
   "id": "fbc5185f",
   "metadata": {
    "execution": {
     "iopub.execute_input": "2022-09-22T09:04:27.660262Z",
     "iopub.status.busy": "2022-09-22T09:04:27.659903Z",
     "iopub.status.idle": "2022-09-22T09:04:27.667816Z",
     "shell.execute_reply": "2022-09-22T09:04:27.666822Z"
    },
    "papermill": {
     "duration": 0.018376,
     "end_time": "2022-09-22T09:04:27.669853",
     "exception": false,
     "start_time": "2022-09-22T09:04:27.651477",
     "status": "completed"
    },
    "tags": []
   },
   "outputs": [
    {
     "data": {
      "text/plain": [
       "tensor([[0],\n",
       "        [0],\n",
       "        [0],\n",
       "        [0],\n",
       "        [1]], dtype=torch.int32)"
      ]
     },
     "execution_count": 15,
     "metadata": {},
     "output_type": "execute_result"
    }
   ],
   "source": [
    "prediction = hypothesis >= torch.FloatTensor([0.5])\n",
    "prediction = prediction.int()\n",
    "prediction[:5]"
   ]
  },
  {
   "cell_type": "code",
   "execution_count": 16,
   "id": "bdb397be",
   "metadata": {
    "execution": {
     "iopub.execute_input": "2022-09-22T09:04:27.686523Z",
     "iopub.status.busy": "2022-09-22T09:04:27.685540Z",
     "iopub.status.idle": "2022-09-22T09:04:27.696408Z",
     "shell.execute_reply": "2022-09-22T09:04:27.695421Z"
    },
    "papermill": {
     "duration": 0.021295,
     "end_time": "2022-09-22T09:04:27.698573",
     "exception": false,
     "start_time": "2022-09-22T09:04:27.677278",
     "status": "completed"
    },
    "tags": []
   },
   "outputs": [
    {
     "data": {
      "text/html": [
       "<div>\n",
       "<style scoped>\n",
       "    .dataframe tbody tr th:only-of-type {\n",
       "        vertical-align: middle;\n",
       "    }\n",
       "\n",
       "    .dataframe tbody tr th {\n",
       "        vertical-align: top;\n",
       "    }\n",
       "\n",
       "    .dataframe thead th {\n",
       "        text-align: right;\n",
       "    }\n",
       "</style>\n",
       "<table border=\"1\" class=\"dataframe\">\n",
       "  <thead>\n",
       "    <tr style=\"text-align: right;\">\n",
       "      <th></th>\n",
       "      <th>Diabetes</th>\n",
       "    </tr>\n",
       "  </thead>\n",
       "  <tbody>\n",
       "    <tr>\n",
       "      <th>0</th>\n",
       "      <td>0</td>\n",
       "    </tr>\n",
       "    <tr>\n",
       "      <th>1</th>\n",
       "      <td>0</td>\n",
       "    </tr>\n",
       "    <tr>\n",
       "      <th>2</th>\n",
       "      <td>0</td>\n",
       "    </tr>\n",
       "    <tr>\n",
       "      <th>3</th>\n",
       "      <td>0</td>\n",
       "    </tr>\n",
       "    <tr>\n",
       "      <th>4</th>\n",
       "      <td>1</td>\n",
       "    </tr>\n",
       "    <tr>\n",
       "      <th>...</th>\n",
       "      <td>...</td>\n",
       "    </tr>\n",
       "    <tr>\n",
       "      <th>226</th>\n",
       "      <td>0</td>\n",
       "    </tr>\n",
       "    <tr>\n",
       "      <th>227</th>\n",
       "      <td>0</td>\n",
       "    </tr>\n",
       "    <tr>\n",
       "      <th>228</th>\n",
       "      <td>0</td>\n",
       "    </tr>\n",
       "    <tr>\n",
       "      <th>229</th>\n",
       "      <td>0</td>\n",
       "    </tr>\n",
       "    <tr>\n",
       "      <th>230</th>\n",
       "      <td>0</td>\n",
       "    </tr>\n",
       "  </tbody>\n",
       "</table>\n",
       "<p>231 rows × 1 columns</p>\n",
       "</div>"
      ],
      "text/plain": [
       "     Diabetes\n",
       "0           0\n",
       "1           0\n",
       "2           0\n",
       "3           0\n",
       "4           1\n",
       "..        ...\n",
       "226         0\n",
       "227         0\n",
       "228         0\n",
       "229         0\n",
       "230         0\n",
       "\n",
       "[231 rows x 1 columns]"
      ]
     },
     "execution_count": 16,
     "metadata": {},
     "output_type": "execute_result"
    }
   ],
   "source": [
    "prediction = np.array(prediction)\n",
    "prediction = pd.DataFrame(prediction,columns=['Diabetes'])\n",
    "prediction"
   ]
  },
  {
   "cell_type": "markdown",
   "id": "093aac01",
   "metadata": {
    "papermill": {
     "duration": 0.007055,
     "end_time": "2022-09-22T09:04:27.713012",
     "exception": false,
     "start_time": "2022-09-22T09:04:27.705957",
     "status": "completed"
    },
    "tags": []
   },
   "source": [
    "# 제출용 만들기"
   ]
  },
  {
   "cell_type": "code",
   "execution_count": 17,
   "id": "29ccc03b",
   "metadata": {
    "execution": {
     "iopub.execute_input": "2022-09-22T09:04:27.729257Z",
     "iopub.status.busy": "2022-09-22T09:04:27.728342Z",
     "iopub.status.idle": "2022-09-22T09:04:27.744394Z",
     "shell.execute_reply": "2022-09-22T09:04:27.743477Z"
    },
    "papermill": {
     "duration": 0.02652,
     "end_time": "2022-09-22T09:04:27.746535",
     "exception": false,
     "start_time": "2022-09-22T09:04:27.720015",
     "status": "completed"
    },
    "tags": []
   },
   "outputs": [
    {
     "data": {
      "text/html": [
       "<div>\n",
       "<style scoped>\n",
       "    .dataframe tbody tr th:only-of-type {\n",
       "        vertical-align: middle;\n",
       "    }\n",
       "\n",
       "    .dataframe tbody tr th {\n",
       "        vertical-align: top;\n",
       "    }\n",
       "\n",
       "    .dataframe thead th {\n",
       "        text-align: right;\n",
       "    }\n",
       "</style>\n",
       "<table border=\"1\" class=\"dataframe\">\n",
       "  <thead>\n",
       "    <tr style=\"text-align: right;\">\n",
       "      <th></th>\n",
       "      <th>ID</th>\n",
       "      <th>Diabetes</th>\n",
       "    </tr>\n",
       "  </thead>\n",
       "  <tbody>\n",
       "    <tr>\n",
       "      <th>0</th>\n",
       "      <td>0</td>\n",
       "      <td>0</td>\n",
       "    </tr>\n",
       "    <tr>\n",
       "      <th>1</th>\n",
       "      <td>1</td>\n",
       "      <td>0</td>\n",
       "    </tr>\n",
       "    <tr>\n",
       "      <th>2</th>\n",
       "      <td>2</td>\n",
       "      <td>0</td>\n",
       "    </tr>\n",
       "    <tr>\n",
       "      <th>3</th>\n",
       "      <td>3</td>\n",
       "      <td>0</td>\n",
       "    </tr>\n",
       "    <tr>\n",
       "      <th>4</th>\n",
       "      <td>4</td>\n",
       "      <td>0</td>\n",
       "    </tr>\n",
       "    <tr>\n",
       "      <th>...</th>\n",
       "      <td>...</td>\n",
       "      <td>...</td>\n",
       "    </tr>\n",
       "    <tr>\n",
       "      <th>226</th>\n",
       "      <td>226</td>\n",
       "      <td>0</td>\n",
       "    </tr>\n",
       "    <tr>\n",
       "      <th>227</th>\n",
       "      <td>227</td>\n",
       "      <td>0</td>\n",
       "    </tr>\n",
       "    <tr>\n",
       "      <th>228</th>\n",
       "      <td>228</td>\n",
       "      <td>0</td>\n",
       "    </tr>\n",
       "    <tr>\n",
       "      <th>229</th>\n",
       "      <td>229</td>\n",
       "      <td>0</td>\n",
       "    </tr>\n",
       "    <tr>\n",
       "      <th>230</th>\n",
       "      <td>230</td>\n",
       "      <td>0</td>\n",
       "    </tr>\n",
       "  </tbody>\n",
       "</table>\n",
       "<p>231 rows × 2 columns</p>\n",
       "</div>"
      ],
      "text/plain": [
       "      ID  Diabetes\n",
       "0      0         0\n",
       "1      1         0\n",
       "2      2         0\n",
       "3      3         0\n",
       "4      4         0\n",
       "..   ...       ...\n",
       "226  226         0\n",
       "227  227         0\n",
       "228  228         0\n",
       "229  229         0\n",
       "230  230         0\n",
       "\n",
       "[231 rows x 2 columns]"
      ]
     },
     "execution_count": 17,
     "metadata": {},
     "output_type": "execute_result"
    }
   ],
   "source": [
    "submit = pd.read_csv('../input/2022-ai-w4p1/submit.csv')\n",
    "submit"
   ]
  },
  {
   "cell_type": "code",
   "execution_count": 18,
   "id": "35ba688c",
   "metadata": {
    "execution": {
     "iopub.execute_input": "2022-09-22T09:04:27.763867Z",
     "iopub.status.busy": "2022-09-22T09:04:27.762809Z",
     "iopub.status.idle": "2022-09-22T09:04:27.779728Z",
     "shell.execute_reply": "2022-09-22T09:04:27.778754Z"
    },
    "papermill": {
     "duration": 0.027742,
     "end_time": "2022-09-22T09:04:27.781896",
     "exception": false,
     "start_time": "2022-09-22T09:04:27.754154",
     "status": "completed"
    },
    "tags": []
   },
   "outputs": [
    {
     "data": {
      "text/html": [
       "<div>\n",
       "<style scoped>\n",
       "    .dataframe tbody tr th:only-of-type {\n",
       "        vertical-align: middle;\n",
       "    }\n",
       "\n",
       "    .dataframe tbody tr th {\n",
       "        vertical-align: top;\n",
       "    }\n",
       "\n",
       "    .dataframe thead th {\n",
       "        text-align: right;\n",
       "    }\n",
       "</style>\n",
       "<table border=\"1\" class=\"dataframe\">\n",
       "  <thead>\n",
       "    <tr style=\"text-align: right;\">\n",
       "      <th></th>\n",
       "      <th>ID</th>\n",
       "      <th>Diabetes</th>\n",
       "    </tr>\n",
       "  </thead>\n",
       "  <tbody>\n",
       "    <tr>\n",
       "      <th>0</th>\n",
       "      <td>0</td>\n",
       "      <td>0</td>\n",
       "    </tr>\n",
       "    <tr>\n",
       "      <th>1</th>\n",
       "      <td>1</td>\n",
       "      <td>0</td>\n",
       "    </tr>\n",
       "    <tr>\n",
       "      <th>2</th>\n",
       "      <td>2</td>\n",
       "      <td>0</td>\n",
       "    </tr>\n",
       "    <tr>\n",
       "      <th>3</th>\n",
       "      <td>3</td>\n",
       "      <td>0</td>\n",
       "    </tr>\n",
       "    <tr>\n",
       "      <th>4</th>\n",
       "      <td>4</td>\n",
       "      <td>1</td>\n",
       "    </tr>\n",
       "    <tr>\n",
       "      <th>...</th>\n",
       "      <td>...</td>\n",
       "      <td>...</td>\n",
       "    </tr>\n",
       "    <tr>\n",
       "      <th>226</th>\n",
       "      <td>226</td>\n",
       "      <td>0</td>\n",
       "    </tr>\n",
       "    <tr>\n",
       "      <th>227</th>\n",
       "      <td>227</td>\n",
       "      <td>0</td>\n",
       "    </tr>\n",
       "    <tr>\n",
       "      <th>228</th>\n",
       "      <td>228</td>\n",
       "      <td>0</td>\n",
       "    </tr>\n",
       "    <tr>\n",
       "      <th>229</th>\n",
       "      <td>229</td>\n",
       "      <td>0</td>\n",
       "    </tr>\n",
       "    <tr>\n",
       "      <th>230</th>\n",
       "      <td>230</td>\n",
       "      <td>0</td>\n",
       "    </tr>\n",
       "  </tbody>\n",
       "</table>\n",
       "<p>231 rows × 2 columns</p>\n",
       "</div>"
      ],
      "text/plain": [
       "      ID  Diabetes\n",
       "0      0         0\n",
       "1      1         0\n",
       "2      2         0\n",
       "3      3         0\n",
       "4      4         1\n",
       "..   ...       ...\n",
       "226  226         0\n",
       "227  227         0\n",
       "228  228         0\n",
       "229  229         0\n",
       "230  230         0\n",
       "\n",
       "[231 rows x 2 columns]"
      ]
     },
     "execution_count": 18,
     "metadata": {},
     "output_type": "execute_result"
    }
   ],
   "source": [
    "submit.update(prediction)\n",
    "submit"
   ]
  },
  {
   "cell_type": "code",
   "execution_count": 19,
   "id": "7f82adc8",
   "metadata": {
    "execution": {
     "iopub.execute_input": "2022-09-22T09:04:27.799698Z",
     "iopub.status.busy": "2022-09-22T09:04:27.799009Z",
     "iopub.status.idle": "2022-09-22T09:04:27.812430Z",
     "shell.execute_reply": "2022-09-22T09:04:27.811452Z"
    },
    "papermill": {
     "duration": 0.024878,
     "end_time": "2022-09-22T09:04:27.814658",
     "exception": false,
     "start_time": "2022-09-22T09:04:27.789780",
     "status": "completed"
    },
    "tags": []
   },
   "outputs": [
    {
     "data": {
      "text/html": [
       "<div>\n",
       "<style scoped>\n",
       "    .dataframe tbody tr th:only-of-type {\n",
       "        vertical-align: middle;\n",
       "    }\n",
       "\n",
       "    .dataframe tbody tr th {\n",
       "        vertical-align: top;\n",
       "    }\n",
       "\n",
       "    .dataframe thead th {\n",
       "        text-align: right;\n",
       "    }\n",
       "</style>\n",
       "<table border=\"1\" class=\"dataframe\">\n",
       "  <thead>\n",
       "    <tr style=\"text-align: right;\">\n",
       "      <th></th>\n",
       "      <th>ID</th>\n",
       "      <th>Diabetes</th>\n",
       "    </tr>\n",
       "  </thead>\n",
       "  <tbody>\n",
       "    <tr>\n",
       "      <th>0</th>\n",
       "      <td>0</td>\n",
       "      <td>0</td>\n",
       "    </tr>\n",
       "    <tr>\n",
       "      <th>1</th>\n",
       "      <td>1</td>\n",
       "      <td>0</td>\n",
       "    </tr>\n",
       "    <tr>\n",
       "      <th>2</th>\n",
       "      <td>2</td>\n",
       "      <td>0</td>\n",
       "    </tr>\n",
       "    <tr>\n",
       "      <th>3</th>\n",
       "      <td>3</td>\n",
       "      <td>0</td>\n",
       "    </tr>\n",
       "    <tr>\n",
       "      <th>4</th>\n",
       "      <td>4</td>\n",
       "      <td>1</td>\n",
       "    </tr>\n",
       "    <tr>\n",
       "      <th>...</th>\n",
       "      <td>...</td>\n",
       "      <td>...</td>\n",
       "    </tr>\n",
       "    <tr>\n",
       "      <th>226</th>\n",
       "      <td>226</td>\n",
       "      <td>0</td>\n",
       "    </tr>\n",
       "    <tr>\n",
       "      <th>227</th>\n",
       "      <td>227</td>\n",
       "      <td>0</td>\n",
       "    </tr>\n",
       "    <tr>\n",
       "      <th>228</th>\n",
       "      <td>228</td>\n",
       "      <td>0</td>\n",
       "    </tr>\n",
       "    <tr>\n",
       "      <th>229</th>\n",
       "      <td>229</td>\n",
       "      <td>0</td>\n",
       "    </tr>\n",
       "    <tr>\n",
       "      <th>230</th>\n",
       "      <td>230</td>\n",
       "      <td>0</td>\n",
       "    </tr>\n",
       "  </tbody>\n",
       "</table>\n",
       "<p>231 rows × 2 columns</p>\n",
       "</div>"
      ],
      "text/plain": [
       "      ID  Diabetes\n",
       "0      0         0\n",
       "1      1         0\n",
       "2      2         0\n",
       "3      3         0\n",
       "4      4         1\n",
       "..   ...       ...\n",
       "226  226         0\n",
       "227  227         0\n",
       "228  228         0\n",
       "229  229         0\n",
       "230  230         0\n",
       "\n",
       "[231 rows x 2 columns]"
      ]
     },
     "execution_count": 19,
     "metadata": {},
     "output_type": "execute_result"
    }
   ],
   "source": [
    "submit.to_csv('submit.csv',index=False)\n",
    "submit"
   ]
  },
  {
   "cell_type": "code",
   "execution_count": null,
   "id": "fe61766b",
   "metadata": {
    "papermill": {
     "duration": 0.007728,
     "end_time": "2022-09-22T09:04:27.830159",
     "exception": false,
     "start_time": "2022-09-22T09:04:27.822431",
     "status": "completed"
    },
    "tags": []
   },
   "outputs": [],
   "source": []
  }
 ],
 "metadata": {
  "kernelspec": {
   "display_name": "Python 3",
   "language": "python",
   "name": "python3"
  },
  "language_info": {
   "codemirror_mode": {
    "name": "ipython",
    "version": 3
   },
   "file_extension": ".py",
   "mimetype": "text/x-python",
   "name": "python",
   "nbconvert_exporter": "python",
   "pygments_lexer": "ipython3",
   "version": "3.7.12"
  },
  "papermill": {
   "default_parameters": {},
   "duration": 60.167124,
   "end_time": "2022-09-22T09:04:29.062403",
   "environment_variables": {},
   "exception": null,
   "input_path": "__notebook__.ipynb",
   "output_path": "__notebook__.ipynb",
   "parameters": {},
   "start_time": "2022-09-22T09:03:28.895279",
   "version": "2.3.4"
  }
 },
 "nbformat": 4,
 "nbformat_minor": 5
}
