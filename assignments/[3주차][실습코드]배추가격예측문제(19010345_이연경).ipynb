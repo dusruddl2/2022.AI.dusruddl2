{
 "cells": [
  {
   "cell_type": "code",
   "execution_count": 1,
   "id": "4b785984",
   "metadata": {
    "_cell_guid": "b1076dfc-b9ad-4769-8c92-a6c4dae69d19",
    "_uuid": "8f2839f25d086af736a60e9eeb907d3b93b6e0e5",
    "execution": {
     "iopub.execute_input": "2022-09-18T14:56:53.600136Z",
     "iopub.status.busy": "2022-09-18T14:56:53.599598Z",
     "iopub.status.idle": "2022-09-18T14:56:53.612787Z",
     "shell.execute_reply": "2022-09-18T14:56:53.611830Z"
    },
    "papermill": {
     "duration": 0.023118,
     "end_time": "2022-09-18T14:56:53.615365",
     "exception": false,
     "start_time": "2022-09-18T14:56:53.592247",
     "status": "completed"
    },
    "tags": []
   },
   "outputs": [
    {
     "name": "stdout",
     "output_type": "stream",
     "text": [
      "/kaggle/input/2022-ai-w3p1/train.csv\n",
      "/kaggle/input/2022-ai-w3p1/test.csv\n",
      "/kaggle/input/2022-ai-w3p1/submit_sample.csv\n"
     ]
    }
   ],
   "source": [
    "# This Python 3 environment comes with many helpful analytics libraries installed\n",
    "# It is defined by the kaggle/python Docker image: https://github.com/kaggle/docker-python\n",
    "# For example, here's several helpful packages to load\n",
    "\n",
    "import numpy as np # linear algebra\n",
    "import pandas as pd # data processing, CSV file I/O (e.g. pd.read_csv)\n",
    "\n",
    "# Input data files are available in the read-only \"../input/\" directory\n",
    "# For example, running this (by clicking run or pressing Shift+Enter) will list all files under the input directory\n",
    "\n",
    "import os\n",
    "for dirname, _, filenames in os.walk('/kaggle/input'):\n",
    "    for filename in filenames:\n",
    "        print(os.path.join(dirname, filename))\n",
    "\n",
    "# You can write up to 20GB to the current directory (/kaggle/working/) that gets preserved as output when you create a version using \"Save & Run All\" \n",
    "# You can also write temporary files to /kaggle/temp/, but they won't be saved outside of the current session"
   ]
  },
  {
   "cell_type": "markdown",
   "id": "75356abc",
   "metadata": {
    "papermill": {
     "duration": 0.003993,
     "end_time": "2022-09-18T14:56:53.623944",
     "exception": false,
     "start_time": "2022-09-18T14:56:53.619951",
     "status": "completed"
    },
    "tags": []
   },
   "source": [
    "# X와 y csv 파일 설명"
   ]
  },
  {
   "cell_type": "markdown",
   "id": "6a0b3840",
   "metadata": {
    "papermill": {
     "duration": 0.004003,
     "end_time": "2022-09-18T14:56:53.632068",
     "exception": false,
     "start_time": "2022-09-18T14:56:53.628065",
     "status": "completed"
    },
    "tags": []
   },
   "source": [
    "X: (1) 배추 가격에 대한 날짜 (2) 평균기온 (3) 최저기온 (4) 최고기온 (5) 강수량\n",
    "\n",
    "y: 해당 배추의 가격을 예측\n"
   ]
  },
  {
   "cell_type": "code",
   "execution_count": 2,
   "id": "d9b138f7",
   "metadata": {
    "execution": {
     "iopub.execute_input": "2022-09-18T14:56:53.642337Z",
     "iopub.status.busy": "2022-09-18T14:56:53.641404Z",
     "iopub.status.idle": "2022-09-18T14:56:55.366788Z",
     "shell.execute_reply": "2022-09-18T14:56:55.365773Z"
    },
    "papermill": {
     "duration": 1.733255,
     "end_time": "2022-09-18T14:56:55.369495",
     "exception": false,
     "start_time": "2022-09-18T14:56:53.636240",
     "status": "completed"
    },
    "tags": []
   },
   "outputs": [],
   "source": [
    "import random\n",
    "import torch\n",
    "import torch.optim as optim\n",
    "import torch.nn as nn\n",
    "import torch.nn.functional as F\n",
    "\n",
    "\n",
    "seed = 42\n",
    "random.seed(seed)\n",
    "np.random.seed(seed)\n",
    "torch.manual_seed(seed)\n",
    "if torch.cuda.is_available():\n",
    "    torch.cuda.manual_seed(seed)\n",
    "    torch.cuda.manual_seed_all(seed)\n",
    "torch.backends.cudnn.benchmark = False\n",
    "torch.backends.cudnn.deterministic = True"
   ]
  },
  {
   "cell_type": "markdown",
   "id": "6e169096",
   "metadata": {
    "papermill": {
     "duration": 0.009238,
     "end_time": "2022-09-18T14:56:55.383226",
     "exception": false,
     "start_time": "2022-09-18T14:56:55.373988",
     "status": "completed"
    },
    "tags": []
   },
   "source": [
    "## 데이터셋 만들기"
   ]
  },
  {
   "cell_type": "markdown",
   "id": "d982284d",
   "metadata": {
    "papermill": {
     "duration": 0.005429,
     "end_time": "2022-09-18T14:56:55.397392",
     "exception": false,
     "start_time": "2022-09-18T14:56:55.391963",
     "status": "completed"
    },
    "tags": []
   },
   "source": [
    "pandas: dataframe, series"
   ]
  },
  {
   "cell_type": "code",
   "execution_count": 3,
   "id": "34eb20b9",
   "metadata": {
    "execution": {
     "iopub.execute_input": "2022-09-18T14:56:55.407681Z",
     "iopub.status.busy": "2022-09-18T14:56:55.406888Z",
     "iopub.status.idle": "2022-09-18T14:56:55.459515Z",
     "shell.execute_reply": "2022-09-18T14:56:55.458531Z"
    },
    "papermill": {
     "duration": 0.060342,
     "end_time": "2022-09-18T14:56:55.461880",
     "exception": false,
     "start_time": "2022-09-18T14:56:55.401538",
     "status": "completed"
    },
    "tags": []
   },
   "outputs": [
    {
     "data": {
      "text/html": [
       "<div>\n",
       "<style scoped>\n",
       "    .dataframe tbody tr th:only-of-type {\n",
       "        vertical-align: middle;\n",
       "    }\n",
       "\n",
       "    .dataframe tbody tr th {\n",
       "        vertical-align: top;\n",
       "    }\n",
       "\n",
       "    .dataframe thead th {\n",
       "        text-align: right;\n",
       "    }\n",
       "</style>\n",
       "<table border=\"1\" class=\"dataframe\">\n",
       "  <thead>\n",
       "    <tr style=\"text-align: right;\">\n",
       "      <th></th>\n",
       "      <th>year</th>\n",
       "      <th>avgTemp</th>\n",
       "      <th>minTemp</th>\n",
       "      <th>maxTemp</th>\n",
       "      <th>rainFall</th>\n",
       "      <th>avgPrice</th>\n",
       "    </tr>\n",
       "  </thead>\n",
       "  <tbody>\n",
       "    <tr>\n",
       "      <th>0</th>\n",
       "      <td>20100101</td>\n",
       "      <td>-4.9</td>\n",
       "      <td>-11.0</td>\n",
       "      <td>0.9</td>\n",
       "      <td>0.0</td>\n",
       "      <td>2123</td>\n",
       "    </tr>\n",
       "    <tr>\n",
       "      <th>1</th>\n",
       "      <td>20100102</td>\n",
       "      <td>-3.1</td>\n",
       "      <td>-5.5</td>\n",
       "      <td>5.5</td>\n",
       "      <td>0.8</td>\n",
       "      <td>2123</td>\n",
       "    </tr>\n",
       "    <tr>\n",
       "      <th>2</th>\n",
       "      <td>20100103</td>\n",
       "      <td>-2.9</td>\n",
       "      <td>-6.9</td>\n",
       "      <td>1.4</td>\n",
       "      <td>0.0</td>\n",
       "      <td>2123</td>\n",
       "    </tr>\n",
       "    <tr>\n",
       "      <th>3</th>\n",
       "      <td>20100104</td>\n",
       "      <td>-1.8</td>\n",
       "      <td>-5.1</td>\n",
       "      <td>2.2</td>\n",
       "      <td>5.9</td>\n",
       "      <td>2020</td>\n",
       "    </tr>\n",
       "    <tr>\n",
       "      <th>4</th>\n",
       "      <td>20100105</td>\n",
       "      <td>-5.2</td>\n",
       "      <td>-8.7</td>\n",
       "      <td>-1.8</td>\n",
       "      <td>0.7</td>\n",
       "      <td>2060</td>\n",
       "    </tr>\n",
       "    <tr>\n",
       "      <th>...</th>\n",
       "      <td>...</td>\n",
       "      <td>...</td>\n",
       "      <td>...</td>\n",
       "      <td>...</td>\n",
       "      <td>...</td>\n",
       "      <td>...</td>\n",
       "    </tr>\n",
       "    <tr>\n",
       "      <th>2552</th>\n",
       "      <td>20161227</td>\n",
       "      <td>1.2</td>\n",
       "      <td>-3.2</td>\n",
       "      <td>4.5</td>\n",
       "      <td>2.1</td>\n",
       "      <td>4226</td>\n",
       "    </tr>\n",
       "    <tr>\n",
       "      <th>2553</th>\n",
       "      <td>20161228</td>\n",
       "      <td>-1.4</td>\n",
       "      <td>-6.5</td>\n",
       "      <td>4.8</td>\n",
       "      <td>0.0</td>\n",
       "      <td>4200</td>\n",
       "    </tr>\n",
       "    <tr>\n",
       "      <th>2554</th>\n",
       "      <td>20161229</td>\n",
       "      <td>-1.3</td>\n",
       "      <td>-4.5</td>\n",
       "      <td>2.1</td>\n",
       "      <td>0.2</td>\n",
       "      <td>4224</td>\n",
       "    </tr>\n",
       "    <tr>\n",
       "      <th>2555</th>\n",
       "      <td>20161230</td>\n",
       "      <td>-1.4</td>\n",
       "      <td>-7.0</td>\n",
       "      <td>4.6</td>\n",
       "      <td>0.0</td>\n",
       "      <td>4219</td>\n",
       "    </tr>\n",
       "    <tr>\n",
       "      <th>2556</th>\n",
       "      <td>20161231</td>\n",
       "      <td>1.7</td>\n",
       "      <td>-2.9</td>\n",
       "      <td>7.1</td>\n",
       "      <td>0.0</td>\n",
       "      <td>4219</td>\n",
       "    </tr>\n",
       "  </tbody>\n",
       "</table>\n",
       "<p>2557 rows × 6 columns</p>\n",
       "</div>"
      ],
      "text/plain": [
       "          year  avgTemp  minTemp  maxTemp  rainFall  avgPrice\n",
       "0     20100101     -4.9    -11.0      0.9       0.0      2123\n",
       "1     20100102     -3.1     -5.5      5.5       0.8      2123\n",
       "2     20100103     -2.9     -6.9      1.4       0.0      2123\n",
       "3     20100104     -1.8     -5.1      2.2       5.9      2020\n",
       "4     20100105     -5.2     -8.7     -1.8       0.7      2060\n",
       "...        ...      ...      ...      ...       ...       ...\n",
       "2552  20161227      1.2     -3.2      4.5       2.1      4226\n",
       "2553  20161228     -1.4     -6.5      4.8       0.0      4200\n",
       "2554  20161229     -1.3     -4.5      2.1       0.2      4224\n",
       "2555  20161230     -1.4     -7.0      4.6       0.0      4219\n",
       "2556  20161231      1.7     -2.9      7.1       0.0      4219\n",
       "\n",
       "[2557 rows x 6 columns]"
      ]
     },
     "execution_count": 3,
     "metadata": {},
     "output_type": "execute_result"
    }
   ],
   "source": [
    "train = pd.read_csv('../input/2022-ai-w3p1/train.csv')\n",
    "train"
   ]
  },
  {
   "cell_type": "code",
   "execution_count": 4,
   "id": "1548790d",
   "metadata": {
    "execution": {
     "iopub.execute_input": "2022-09-18T14:56:55.472526Z",
     "iopub.status.busy": "2022-09-18T14:56:55.472221Z",
     "iopub.status.idle": "2022-09-18T14:56:55.485364Z",
     "shell.execute_reply": "2022-09-18T14:56:55.484501Z"
    },
    "papermill": {
     "duration": 0.020788,
     "end_time": "2022-09-18T14:56:55.487416",
     "exception": false,
     "start_time": "2022-09-18T14:56:55.466628",
     "status": "completed"
    },
    "tags": []
   },
   "outputs": [
    {
     "data": {
      "text/plain": [
       "tensor([[ 2.0100e+07, -4.9000e+00, -1.1000e+01,  9.0000e-01,  0.0000e+00],\n",
       "        [ 2.0100e+07, -3.1000e+00, -5.5000e+00,  5.5000e+00,  8.0000e-01],\n",
       "        [ 2.0100e+07, -2.9000e+00, -6.9000e+00,  1.4000e+00,  0.0000e+00],\n",
       "        ...,\n",
       "        [ 2.0161e+07, -1.3000e+00, -4.5000e+00,  2.1000e+00,  2.0000e-01],\n",
       "        [ 2.0161e+07, -1.4000e+00, -7.0000e+00,  4.6000e+00,  0.0000e+00],\n",
       "        [ 2.0161e+07,  1.7000e+00, -2.9000e+00,  7.1000e+00,  0.0000e+00]])"
      ]
     },
     "execution_count": 4,
     "metadata": {},
     "output_type": "execute_result"
    }
   ],
   "source": [
    "X_train = train.iloc[:,:-1].to_numpy()\n",
    "X_train = torch.FloatTensor(X_train)\n",
    "X_train"
   ]
  },
  {
   "cell_type": "code",
   "execution_count": 5,
   "id": "074d757d",
   "metadata": {
    "execution": {
     "iopub.execute_input": "2022-09-18T14:56:55.497496Z",
     "iopub.status.busy": "2022-09-18T14:56:55.497186Z",
     "iopub.status.idle": "2022-09-18T14:56:55.504858Z",
     "shell.execute_reply": "2022-09-18T14:56:55.503907Z"
    },
    "papermill": {
     "duration": 0.015083,
     "end_time": "2022-09-18T14:56:55.507014",
     "exception": false,
     "start_time": "2022-09-18T14:56:55.491931",
     "status": "completed"
    },
    "tags": []
   },
   "outputs": [
    {
     "data": {
      "text/plain": [
       "tensor([2123., 2123., 2123.,  ..., 4224., 4219., 4219.])"
      ]
     },
     "execution_count": 5,
     "metadata": {},
     "output_type": "execute_result"
    }
   ],
   "source": [
    "y_train = train.iloc[:,-1].to_numpy()\n",
    "y_train = torch.FloatTensor(y_train)\n",
    "y_train"
   ]
  },
  {
   "cell_type": "code",
   "execution_count": 6,
   "id": "39b3b6ce",
   "metadata": {
    "execution": {
     "iopub.execute_input": "2022-09-18T14:56:55.517779Z",
     "iopub.status.busy": "2022-09-18T14:56:55.517503Z",
     "iopub.status.idle": "2022-09-18T14:56:55.523643Z",
     "shell.execute_reply": "2022-09-18T14:56:55.522447Z"
    },
    "papermill": {
     "duration": 0.014039,
     "end_time": "2022-09-18T14:56:55.525777",
     "exception": false,
     "start_time": "2022-09-18T14:56:55.511738",
     "status": "completed"
    },
    "tags": []
   },
   "outputs": [
    {
     "name": "stdout",
     "output_type": "stream",
     "text": [
      "torch.Size([2557, 5])\n",
      "torch.Size([2557])\n"
     ]
    }
   ],
   "source": [
    "print(X_train.shape)\n",
    "print(y_train.shape)"
   ]
  },
  {
   "cell_type": "code",
   "execution_count": 7,
   "id": "003bfec7",
   "metadata": {
    "execution": {
     "iopub.execute_input": "2022-09-18T14:56:55.536764Z",
     "iopub.status.busy": "2022-09-18T14:56:55.536448Z",
     "iopub.status.idle": "2022-09-18T14:56:55.542252Z",
     "shell.execute_reply": "2022-09-18T14:56:55.540909Z"
    },
    "papermill": {
     "duration": 0.013495,
     "end_time": "2022-09-18T14:56:55.544209",
     "exception": false,
     "start_time": "2022-09-18T14:56:55.530714",
     "status": "completed"
    },
    "tags": []
   },
   "outputs": [
    {
     "name": "stdout",
     "output_type": "stream",
     "text": [
      "torch.Size([2557, 1])\n"
     ]
    }
   ],
   "source": [
    "#broadcasting을 위해 크기 맞추기\n",
    "y_train = y_train.unsqueeze(1)\n",
    "print(y_train.shape)"
   ]
  },
  {
   "cell_type": "markdown",
   "id": "9d70d28d",
   "metadata": {
    "papermill": {
     "duration": 0.004634,
     "end_time": "2022-09-18T14:56:55.553425",
     "exception": false,
     "start_time": "2022-09-18T14:56:55.548791",
     "status": "completed"
    },
    "tags": []
   },
   "source": [
    "# 모델 학습하기"
   ]
  },
  {
   "cell_type": "code",
   "execution_count": 8,
   "id": "f6941729",
   "metadata": {
    "execution": {
     "iopub.execute_input": "2022-09-18T14:56:55.563851Z",
     "iopub.status.busy": "2022-09-18T14:56:55.563581Z",
     "iopub.status.idle": "2022-09-18T14:57:33.539492Z",
     "shell.execute_reply": "2022-09-18T14:57:33.538169Z"
    },
    "papermill": {
     "duration": 37.983629,
     "end_time": "2022-09-18T14:57:33.541722",
     "exception": false,
     "start_time": "2022-09-18T14:56:55.558093",
     "status": "completed"
    },
    "tags": []
   },
   "outputs": [
    {
     "name": "stdout",
     "output_type": "stream",
     "text": [
      "Epoch    0/100000 hypothesis: tensor([0., 0., 0.,  ..., 0., 0., 0.]) Cost:3466.026855\n",
      "Epoch 10000/100000 hypothesis: tensor([3152.3665, 3153.5632, 3152.9966,  ..., 3163.0520, 3163.0132,\n",
      "        3163.9302]) Cost:1345.670532\n",
      "Epoch 20000/100000 hypothesis: tensor([3177.8691, 3180.3328, 3179.1584,  ..., 3189.7844, 3189.7158,\n",
      "        3191.6008]) Cost:1344.849121\n",
      "Epoch 30000/100000 hypothesis: tensor([3192.5723, 3196.3030, 3194.5200,  ..., 3205.6848, 3205.5854,\n",
      "        3208.4385]) Cost:1344.558594\n",
      "Epoch 40000/100000 hypothesis: tensor([3177.2129, 3182.2109, 3179.8196,  ..., 3191.4309, 3191.3018,\n",
      "        3195.1230]) Cost:1344.009644\n",
      "Epoch 50000/100000 hypothesis: tensor([3160.6101, 3166.8755, 3163.8755,  ..., 3175.9299, 3175.7710,\n",
      "        3180.5603]) Cost:1343.536377\n",
      "Epoch 60000/100000 hypothesis: tensor([3154.8225, 3162.3525, 3158.7451,  ..., 3171.2749, 3171.0854,\n",
      "        3176.8413]) Cost:1343.115234\n",
      "Epoch 70000/100000 hypothesis: tensor([3149.0396, 3157.8340, 3153.6191,  ..., 3166.6240, 3166.4048,\n",
      "        3173.1260]) Cost:1342.702148\n",
      "Epoch 80000/100000 hypothesis: tensor([3133.3582, 3143.4172, 3138.5952,  ..., 3152.0444, 3151.7954,\n",
      "        3159.4829]) Cost:1342.333374\n",
      "Epoch 90000/100000 hypothesis: tensor([3137.0950, 3148.4187, 3142.9893,  ..., 3156.9426, 3156.6636,\n",
      "        3165.3167]) Cost:1341.899536\n",
      "Epoch 100000/100000 hypothesis: tensor([3120.7786, 3133.3669, 3127.3306,  ..., 3141.7263, 3141.4175,\n",
      "        3151.0366]) Cost:1341.554443\n"
     ]
    }
   ],
   "source": [
    "#모델초기화\n",
    "W = torch.zeros([5,1],requires_grad = True)\n",
    "b = torch.zeros(1,requires_grad = True)\n",
    "\n",
    "#optimizer설정\n",
    "optimizer = optim.Adam([W,b],lr = 1e-5)\n",
    "\n",
    "nb_epochs = 100000\n",
    "for epoch in range(nb_epochs+1):\n",
    "    #H(x) 계산\n",
    "    hypothesis = X_train.matmul(W) + b\n",
    "\n",
    "    #cost 계산 (RMSE)\n",
    "    cost = torch.mean((hypothesis - y_train)**2)\n",
    "    cost = torch.sqrt(cost)\n",
    "\n",
    "    #cost로 H(x) 개선\n",
    "    optimizer.zero_grad()\n",
    "    cost.backward()\n",
    "    optimizer.step()\n",
    "\n",
    "    if epoch%10000 == 0:\n",
    "        print('Epoch {:4d}/{} hypothesis: {} Cost:{:.6f}'.format(\n",
    "            epoch, nb_epochs, hypothesis.squeeze().detach(), cost.item()\n",
    "        ))"
   ]
  },
  {
   "cell_type": "code",
   "execution_count": 9,
   "id": "a2cb7180",
   "metadata": {
    "execution": {
     "iopub.execute_input": "2022-09-18T14:57:33.555361Z",
     "iopub.status.busy": "2022-09-18T14:57:33.553634Z",
     "iopub.status.idle": "2022-09-18T14:57:33.561296Z",
     "shell.execute_reply": "2022-09-18T14:57:33.560238Z"
    },
    "papermill": {
     "duration": 0.017149,
     "end_time": "2022-09-18T14:57:33.564378",
     "exception": false,
     "start_time": "2022-09-18T14:57:33.547229",
     "status": "completed"
    },
    "tags": []
   },
   "outputs": [
    {
     "name": "stdout",
     "output_type": "stream",
     "text": [
      "tensor([[1.5740e-04],\n",
      "        [9.9126e-01],\n",
      "        [9.9370e-01],\n",
      "        [9.8874e-01],\n",
      "        [9.8792e-01]], requires_grad=True)\n",
      "tensor([0.0184], requires_grad=True)\n"
     ]
    }
   ],
   "source": [
    "print(W)\n",
    "print(b)"
   ]
  },
  {
   "cell_type": "markdown",
   "id": "7a70f06b",
   "metadata": {
    "papermill": {
     "duration": 0.005847,
     "end_time": "2022-09-18T14:57:33.576758",
     "exception": false,
     "start_time": "2022-09-18T14:57:33.570911",
     "status": "completed"
    },
    "tags": []
   },
   "source": [
    "## 모델 테스트하기"
   ]
  },
  {
   "cell_type": "code",
   "execution_count": 10,
   "id": "7f1b5770",
   "metadata": {
    "execution": {
     "iopub.execute_input": "2022-09-18T14:57:33.589031Z",
     "iopub.status.busy": "2022-09-18T14:57:33.588692Z",
     "iopub.status.idle": "2022-09-18T14:57:33.606455Z",
     "shell.execute_reply": "2022-09-18T14:57:33.605425Z"
    },
    "papermill": {
     "duration": 0.02665,
     "end_time": "2022-09-18T14:57:33.608958",
     "exception": false,
     "start_time": "2022-09-18T14:57:33.582308",
     "status": "completed"
    },
    "tags": []
   },
   "outputs": [
    {
     "data": {
      "text/plain": [
       "tensor([[ 2.0170e+07,  4.0000e+00, -1.4000e+00,  9.5000e+00,  1.0000e-01],\n",
       "        [ 2.0170e+07, -1.7000e+00, -5.4000e+00,  1.4000e+00,  3.3000e+00],\n",
       "        [ 2.0170e+07,  1.4000e+00, -2.0000e+00,  5.0000e+00,  0.0000e+00],\n",
       "        [ 2.0170e+07,  3.6000e+00, -2.5000e+00,  1.1100e+01,  1.0000e-01],\n",
       "        [ 2.0170e+07,  5.0000e+00, -1.6000e+00,  1.1300e+01,  0.0000e+00],\n",
       "        [ 2.0170e+07,  7.3000e+00,  7.0000e-01,  1.3600e+01,  7.0000e-01],\n",
       "        [ 2.0170e+07,  1.2300e+01,  7.2000e+00,  1.7700e+01,  0.0000e+00],\n",
       "        [ 2.0170e+07,  1.9800e+01,  1.1900e+01,  2.7700e+01,  0.0000e+00],\n",
       "        [ 2.0171e+07,  1.7500e+01,  1.2300e+01,  2.4500e+01,  2.9000e+00],\n",
       "        [ 2.0171e+07,  2.0600e+01,  1.1800e+01,  2.8300e+01,  0.0000e+00],\n",
       "        [ 2.0171e+07,  1.8400e+01,  1.5900e+01,  2.1200e+01,  5.5000e+00],\n",
       "        [ 2.0171e+07,  2.4700e+01,  1.8600e+01,  3.1500e+01,  0.0000e+00],\n",
       "        [ 2.0171e+07,  2.6100e+01,  2.4100e+01,  2.8500e+01,  2.6700e+01],\n",
       "        [ 2.0171e+07,  2.6000e+01,  2.2200e+01,  3.0200e+01,  1.1300e+01],\n",
       "        [ 2.0171e+07,  2.5600e+01,  2.3500e+01,  2.8400e+01,  1.1600e+01],\n",
       "        [ 2.0171e+07,  2.3200e+01,  1.7900e+01,  2.9600e+01,  0.0000e+00],\n",
       "        [ 2.0171e+07,  2.1300e+01,  1.6000e+01,  2.7600e+01,  0.0000e+00],\n",
       "        [ 2.0171e+07,  1.7300e+01,  9.9000e+00,  2.5900e+01,  0.0000e+00],\n",
       "        [ 2.0171e+07,  2.0400e+01,  1.6300e+01,  2.6500e+01,  0.0000e+00],\n",
       "        [ 2.0171e+07,  1.2700e+01,  6.9000e+00,  1.9500e+01,  0.0000e+00],\n",
       "        [ 2.0171e+07,  5.5000e+00,  1.2000e+00,  1.0300e+01,  0.0000e+00],\n",
       "        [ 2.0171e+07,  5.3000e+00,  1.0000e-01,  1.0700e+01,  5.0000e-01],\n",
       "        [ 2.0171e+07, -2.0000e-01, -7.3000e+00,  5.7000e+00,  3.0000e-01],\n",
       "        [ 2.0171e+07,  2.0000e-01, -2.7000e+00,  3.5000e+00,  0.0000e+00]])"
      ]
     },
     "execution_count": 10,
     "metadata": {},
     "output_type": "execute_result"
    }
   ],
   "source": [
    "X_test = pd.read_csv('../input/2022-ai-w3p1/test.csv').to_numpy()\n",
    "X_test = torch.FloatTensor(X_test)\n",
    "X_test"
   ]
  },
  {
   "cell_type": "code",
   "execution_count": 11,
   "id": "841a4b9c",
   "metadata": {
    "execution": {
     "iopub.execute_input": "2022-09-18T14:57:33.623859Z",
     "iopub.status.busy": "2022-09-18T14:57:33.622715Z",
     "iopub.status.idle": "2022-09-18T14:57:33.635645Z",
     "shell.execute_reply": "2022-09-18T14:57:33.634497Z"
    },
    "papermill": {
     "duration": 0.022746,
     "end_time": "2022-09-18T14:57:33.638029",
     "exception": false,
     "start_time": "2022-09-18T14:57:33.615283",
     "status": "completed"
    },
    "tags": []
   },
   "outputs": [
    {
     "data": {
      "text/html": [
       "<div>\n",
       "<style scoped>\n",
       "    .dataframe tbody tr th:only-of-type {\n",
       "        vertical-align: middle;\n",
       "    }\n",
       "\n",
       "    .dataframe tbody tr th {\n",
       "        vertical-align: top;\n",
       "    }\n",
       "\n",
       "    .dataframe thead th {\n",
       "        text-align: right;\n",
       "    }\n",
       "</style>\n",
       "<table border=\"1\" class=\"dataframe\">\n",
       "  <thead>\n",
       "    <tr style=\"text-align: right;\">\n",
       "      <th></th>\n",
       "      <th>Expected</th>\n",
       "    </tr>\n",
       "  </thead>\n",
       "  <tbody>\n",
       "    <tr>\n",
       "      <th>0</th>\n",
       "      <td>3186.884766</td>\n",
       "    </tr>\n",
       "    <tr>\n",
       "      <th>1</th>\n",
       "      <td>3172.414062</td>\n",
       "    </tr>\n",
       "    <tr>\n",
       "      <th>2</th>\n",
       "      <td>3179.181152</td>\n",
       "    </tr>\n",
       "    <tr>\n",
       "      <th>3</th>\n",
       "      <td>3186.996094</td>\n",
       "    </tr>\n",
       "    <tr>\n",
       "      <th>4</th>\n",
       "      <td>3189.389648</td>\n",
       "    </tr>\n",
       "    <tr>\n",
       "      <th>5</th>\n",
       "      <td>3196.923584</td>\n",
       "    </tr>\n",
       "    <tr>\n",
       "      <th>6</th>\n",
       "      <td>3211.714600</td>\n",
       "    </tr>\n",
       "    <tr>\n",
       "      <th>7</th>\n",
       "      <td>3233.709961</td>\n",
       "    </tr>\n",
       "    <tr>\n",
       "      <th>8</th>\n",
       "      <td>3231.541260</td>\n",
       "    </tr>\n",
       "    <tr>\n",
       "      <th>9</th>\n",
       "      <td>3235.011963</td>\n",
       "    </tr>\n",
       "    <tr>\n",
       "      <th>10</th>\n",
       "      <td>3235.331787</td>\n",
       "    </tr>\n",
       "    <tr>\n",
       "      <th>11</th>\n",
       "      <td>3249.012695</td>\n",
       "    </tr>\n",
       "    <tr>\n",
       "      <th>12</th>\n",
       "      <td>3279.290527</td>\n",
       "    </tr>\n",
       "    <tr>\n",
       "      <th>13</th>\n",
       "      <td>3263.773193</td>\n",
       "    </tr>\n",
       "    <tr>\n",
       "      <th>14</th>\n",
       "      <td>3263.197754</td>\n",
       "    </tr>\n",
       "    <tr>\n",
       "      <th>15</th>\n",
       "      <td>3244.983154</td>\n",
       "    </tr>\n",
       "    <tr>\n",
       "      <th>16</th>\n",
       "      <td>3239.245850</td>\n",
       "    </tr>\n",
       "    <tr>\n",
       "      <th>17</th>\n",
       "      <td>3227.542969</td>\n",
       "    </tr>\n",
       "    <tr>\n",
       "      <th>18</th>\n",
       "      <td>3237.581299</td>\n",
       "    </tr>\n",
       "    <tr>\n",
       "      <th>19</th>\n",
       "      <td>3213.689209</td>\n",
       "    </tr>\n",
       "    <tr>\n",
       "      <th>20</th>\n",
       "      <td>3191.805908</td>\n",
       "    </tr>\n",
       "    <tr>\n",
       "      <th>21</th>\n",
       "      <td>3191.405029</td>\n",
       "    </tr>\n",
       "    <tr>\n",
       "      <th>22</th>\n",
       "      <td>3173.473389</td>\n",
       "    </tr>\n",
       "    <tr>\n",
       "      <th>23</th>\n",
       "      <td>3175.970459</td>\n",
       "    </tr>\n",
       "  </tbody>\n",
       "</table>\n",
       "</div>"
      ],
      "text/plain": [
       "       Expected\n",
       "0   3186.884766\n",
       "1   3172.414062\n",
       "2   3179.181152\n",
       "3   3186.996094\n",
       "4   3189.389648\n",
       "5   3196.923584\n",
       "6   3211.714600\n",
       "7   3233.709961\n",
       "8   3231.541260\n",
       "9   3235.011963\n",
       "10  3235.331787\n",
       "11  3249.012695\n",
       "12  3279.290527\n",
       "13  3263.773193\n",
       "14  3263.197754\n",
       "15  3244.983154\n",
       "16  3239.245850\n",
       "17  3227.542969\n",
       "18  3237.581299\n",
       "19  3213.689209\n",
       "20  3191.805908\n",
       "21  3191.405029\n",
       "22  3173.473389\n",
       "23  3175.970459"
      ]
     },
     "execution_count": 11,
     "metadata": {},
     "output_type": "execute_result"
    }
   ],
   "source": [
    "y_test = X_test.matmul(W) + b\n",
    "y_test = y_test.detach().numpy().squeeze()\n",
    "y_test = pd.DataFrame(y_test,columns=['Expected'])\n",
    "y_test"
   ]
  },
  {
   "cell_type": "code",
   "execution_count": 12,
   "id": "78afb52b",
   "metadata": {
    "execution": {
     "iopub.execute_input": "2022-09-18T14:57:33.651330Z",
     "iopub.status.busy": "2022-09-18T14:57:33.651048Z",
     "iopub.status.idle": "2022-09-18T14:57:33.659617Z",
     "shell.execute_reply": "2022-09-18T14:57:33.658694Z"
    },
    "papermill": {
     "duration": 0.017276,
     "end_time": "2022-09-18T14:57:33.661638",
     "exception": false,
     "start_time": "2022-09-18T14:57:33.644362",
     "status": "completed"
    },
    "tags": []
   },
   "outputs": [
    {
     "data": {
      "text/html": [
       "<div>\n",
       "<style scoped>\n",
       "    .dataframe tbody tr th:only-of-type {\n",
       "        vertical-align: middle;\n",
       "    }\n",
       "\n",
       "    .dataframe tbody tr th {\n",
       "        vertical-align: top;\n",
       "    }\n",
       "\n",
       "    .dataframe thead th {\n",
       "        text-align: right;\n",
       "    }\n",
       "</style>\n",
       "<table border=\"1\" class=\"dataframe\">\n",
       "  <thead>\n",
       "    <tr style=\"text-align: right;\">\n",
       "      <th></th>\n",
       "      <th>Id</th>\n",
       "    </tr>\n",
       "  </thead>\n",
       "  <tbody>\n",
       "    <tr>\n",
       "      <th>0</th>\n",
       "      <td>0</td>\n",
       "    </tr>\n",
       "    <tr>\n",
       "      <th>1</th>\n",
       "      <td>1</td>\n",
       "    </tr>\n",
       "    <tr>\n",
       "      <th>2</th>\n",
       "      <td>2</td>\n",
       "    </tr>\n",
       "    <tr>\n",
       "      <th>3</th>\n",
       "      <td>3</td>\n",
       "    </tr>\n",
       "    <tr>\n",
       "      <th>4</th>\n",
       "      <td>4</td>\n",
       "    </tr>\n",
       "    <tr>\n",
       "      <th>5</th>\n",
       "      <td>5</td>\n",
       "    </tr>\n",
       "    <tr>\n",
       "      <th>6</th>\n",
       "      <td>6</td>\n",
       "    </tr>\n",
       "    <tr>\n",
       "      <th>7</th>\n",
       "      <td>7</td>\n",
       "    </tr>\n",
       "    <tr>\n",
       "      <th>8</th>\n",
       "      <td>8</td>\n",
       "    </tr>\n",
       "    <tr>\n",
       "      <th>9</th>\n",
       "      <td>9</td>\n",
       "    </tr>\n",
       "    <tr>\n",
       "      <th>10</th>\n",
       "      <td>10</td>\n",
       "    </tr>\n",
       "    <tr>\n",
       "      <th>11</th>\n",
       "      <td>11</td>\n",
       "    </tr>\n",
       "    <tr>\n",
       "      <th>12</th>\n",
       "      <td>12</td>\n",
       "    </tr>\n",
       "    <tr>\n",
       "      <th>13</th>\n",
       "      <td>13</td>\n",
       "    </tr>\n",
       "    <tr>\n",
       "      <th>14</th>\n",
       "      <td>14</td>\n",
       "    </tr>\n",
       "    <tr>\n",
       "      <th>15</th>\n",
       "      <td>15</td>\n",
       "    </tr>\n",
       "    <tr>\n",
       "      <th>16</th>\n",
       "      <td>16</td>\n",
       "    </tr>\n",
       "    <tr>\n",
       "      <th>17</th>\n",
       "      <td>17</td>\n",
       "    </tr>\n",
       "    <tr>\n",
       "      <th>18</th>\n",
       "      <td>18</td>\n",
       "    </tr>\n",
       "    <tr>\n",
       "      <th>19</th>\n",
       "      <td>19</td>\n",
       "    </tr>\n",
       "    <tr>\n",
       "      <th>20</th>\n",
       "      <td>20</td>\n",
       "    </tr>\n",
       "    <tr>\n",
       "      <th>21</th>\n",
       "      <td>21</td>\n",
       "    </tr>\n",
       "    <tr>\n",
       "      <th>22</th>\n",
       "      <td>22</td>\n",
       "    </tr>\n",
       "    <tr>\n",
       "      <th>23</th>\n",
       "      <td>23</td>\n",
       "    </tr>\n",
       "  </tbody>\n",
       "</table>\n",
       "</div>"
      ],
      "text/plain": [
       "    Id\n",
       "0    0\n",
       "1    1\n",
       "2    2\n",
       "3    3\n",
       "4    4\n",
       "5    5\n",
       "6    6\n",
       "7    7\n",
       "8    8\n",
       "9    9\n",
       "10  10\n",
       "11  11\n",
       "12  12\n",
       "13  13\n",
       "14  14\n",
       "15  15\n",
       "16  16\n",
       "17  17\n",
       "18  18\n",
       "19  19\n",
       "20  20\n",
       "21  21\n",
       "22  22\n",
       "23  23"
      ]
     },
     "execution_count": 12,
     "metadata": {},
     "output_type": "execute_result"
    }
   ],
   "source": [
    "Id = pd.DataFrame(np.arange(24),columns=['Id'])\n",
    "Id"
   ]
  },
  {
   "cell_type": "code",
   "execution_count": 13,
   "id": "e9cba5d0",
   "metadata": {
    "execution": {
     "iopub.execute_input": "2022-09-18T14:57:33.674851Z",
     "iopub.status.busy": "2022-09-18T14:57:33.673989Z",
     "iopub.status.idle": "2022-09-18T14:57:33.685008Z",
     "shell.execute_reply": "2022-09-18T14:57:33.684036Z"
    },
    "papermill": {
     "duration": 0.019598,
     "end_time": "2022-09-18T14:57:33.686979",
     "exception": false,
     "start_time": "2022-09-18T14:57:33.667381",
     "status": "completed"
    },
    "tags": []
   },
   "outputs": [
    {
     "data": {
      "text/html": [
       "<div>\n",
       "<style scoped>\n",
       "    .dataframe tbody tr th:only-of-type {\n",
       "        vertical-align: middle;\n",
       "    }\n",
       "\n",
       "    .dataframe tbody tr th {\n",
       "        vertical-align: top;\n",
       "    }\n",
       "\n",
       "    .dataframe thead th {\n",
       "        text-align: right;\n",
       "    }\n",
       "</style>\n",
       "<table border=\"1\" class=\"dataframe\">\n",
       "  <thead>\n",
       "    <tr style=\"text-align: right;\">\n",
       "      <th></th>\n",
       "      <th>Id</th>\n",
       "      <th>Expected</th>\n",
       "    </tr>\n",
       "  </thead>\n",
       "  <tbody>\n",
       "    <tr>\n",
       "      <th>0</th>\n",
       "      <td>0</td>\n",
       "      <td>3186.884766</td>\n",
       "    </tr>\n",
       "    <tr>\n",
       "      <th>1</th>\n",
       "      <td>1</td>\n",
       "      <td>3172.414062</td>\n",
       "    </tr>\n",
       "    <tr>\n",
       "      <th>2</th>\n",
       "      <td>2</td>\n",
       "      <td>3179.181152</td>\n",
       "    </tr>\n",
       "    <tr>\n",
       "      <th>3</th>\n",
       "      <td>3</td>\n",
       "      <td>3186.996094</td>\n",
       "    </tr>\n",
       "    <tr>\n",
       "      <th>4</th>\n",
       "      <td>4</td>\n",
       "      <td>3189.389648</td>\n",
       "    </tr>\n",
       "    <tr>\n",
       "      <th>5</th>\n",
       "      <td>5</td>\n",
       "      <td>3196.923584</td>\n",
       "    </tr>\n",
       "    <tr>\n",
       "      <th>6</th>\n",
       "      <td>6</td>\n",
       "      <td>3211.714600</td>\n",
       "    </tr>\n",
       "    <tr>\n",
       "      <th>7</th>\n",
       "      <td>7</td>\n",
       "      <td>3233.709961</td>\n",
       "    </tr>\n",
       "    <tr>\n",
       "      <th>8</th>\n",
       "      <td>8</td>\n",
       "      <td>3231.541260</td>\n",
       "    </tr>\n",
       "    <tr>\n",
       "      <th>9</th>\n",
       "      <td>9</td>\n",
       "      <td>3235.011963</td>\n",
       "    </tr>\n",
       "    <tr>\n",
       "      <th>10</th>\n",
       "      <td>10</td>\n",
       "      <td>3235.331787</td>\n",
       "    </tr>\n",
       "    <tr>\n",
       "      <th>11</th>\n",
       "      <td>11</td>\n",
       "      <td>3249.012695</td>\n",
       "    </tr>\n",
       "    <tr>\n",
       "      <th>12</th>\n",
       "      <td>12</td>\n",
       "      <td>3279.290527</td>\n",
       "    </tr>\n",
       "    <tr>\n",
       "      <th>13</th>\n",
       "      <td>13</td>\n",
       "      <td>3263.773193</td>\n",
       "    </tr>\n",
       "    <tr>\n",
       "      <th>14</th>\n",
       "      <td>14</td>\n",
       "      <td>3263.197754</td>\n",
       "    </tr>\n",
       "    <tr>\n",
       "      <th>15</th>\n",
       "      <td>15</td>\n",
       "      <td>3244.983154</td>\n",
       "    </tr>\n",
       "    <tr>\n",
       "      <th>16</th>\n",
       "      <td>16</td>\n",
       "      <td>3239.245850</td>\n",
       "    </tr>\n",
       "    <tr>\n",
       "      <th>17</th>\n",
       "      <td>17</td>\n",
       "      <td>3227.542969</td>\n",
       "    </tr>\n",
       "    <tr>\n",
       "      <th>18</th>\n",
       "      <td>18</td>\n",
       "      <td>3237.581299</td>\n",
       "    </tr>\n",
       "    <tr>\n",
       "      <th>19</th>\n",
       "      <td>19</td>\n",
       "      <td>3213.689209</td>\n",
       "    </tr>\n",
       "    <tr>\n",
       "      <th>20</th>\n",
       "      <td>20</td>\n",
       "      <td>3191.805908</td>\n",
       "    </tr>\n",
       "    <tr>\n",
       "      <th>21</th>\n",
       "      <td>21</td>\n",
       "      <td>3191.405029</td>\n",
       "    </tr>\n",
       "    <tr>\n",
       "      <th>22</th>\n",
       "      <td>22</td>\n",
       "      <td>3173.473389</td>\n",
       "    </tr>\n",
       "    <tr>\n",
       "      <th>23</th>\n",
       "      <td>23</td>\n",
       "      <td>3175.970459</td>\n",
       "    </tr>\n",
       "  </tbody>\n",
       "</table>\n",
       "</div>"
      ],
      "text/plain": [
       "    Id     Expected\n",
       "0    0  3186.884766\n",
       "1    1  3172.414062\n",
       "2    2  3179.181152\n",
       "3    3  3186.996094\n",
       "4    4  3189.389648\n",
       "5    5  3196.923584\n",
       "6    6  3211.714600\n",
       "7    7  3233.709961\n",
       "8    8  3231.541260\n",
       "9    9  3235.011963\n",
       "10  10  3235.331787\n",
       "11  11  3249.012695\n",
       "12  12  3279.290527\n",
       "13  13  3263.773193\n",
       "14  14  3263.197754\n",
       "15  15  3244.983154\n",
       "16  16  3239.245850\n",
       "17  17  3227.542969\n",
       "18  18  3237.581299\n",
       "19  19  3213.689209\n",
       "20  20  3191.805908\n",
       "21  21  3191.405029\n",
       "22  22  3173.473389\n",
       "23  23  3175.970459"
      ]
     },
     "execution_count": 13,
     "metadata": {},
     "output_type": "execute_result"
    }
   ],
   "source": [
    "result = pd.concat([Id,y_test],axis=1)\n",
    "result"
   ]
  },
  {
   "cell_type": "code",
   "execution_count": 14,
   "id": "36567cdb",
   "metadata": {
    "execution": {
     "iopub.execute_input": "2022-09-18T14:57:33.701523Z",
     "iopub.status.busy": "2022-09-18T14:57:33.700663Z",
     "iopub.status.idle": "2022-09-18T14:57:33.713304Z",
     "shell.execute_reply": "2022-09-18T14:57:33.712262Z"
    },
    "papermill": {
     "duration": 0.022364,
     "end_time": "2022-09-18T14:57:33.715372",
     "exception": false,
     "start_time": "2022-09-18T14:57:33.693008",
     "status": "completed"
    },
    "tags": []
   },
   "outputs": [
    {
     "data": {
      "text/html": [
       "<div>\n",
       "<style scoped>\n",
       "    .dataframe tbody tr th:only-of-type {\n",
       "        vertical-align: middle;\n",
       "    }\n",
       "\n",
       "    .dataframe tbody tr th {\n",
       "        vertical-align: top;\n",
       "    }\n",
       "\n",
       "    .dataframe thead th {\n",
       "        text-align: right;\n",
       "    }\n",
       "</style>\n",
       "<table border=\"1\" class=\"dataframe\">\n",
       "  <thead>\n",
       "    <tr style=\"text-align: right;\">\n",
       "      <th></th>\n",
       "      <th>Id</th>\n",
       "      <th>Expected</th>\n",
       "    </tr>\n",
       "  </thead>\n",
       "  <tbody>\n",
       "    <tr>\n",
       "      <th>0</th>\n",
       "      <td>0</td>\n",
       "      <td>3186.884766</td>\n",
       "    </tr>\n",
       "    <tr>\n",
       "      <th>1</th>\n",
       "      <td>1</td>\n",
       "      <td>3172.414062</td>\n",
       "    </tr>\n",
       "    <tr>\n",
       "      <th>2</th>\n",
       "      <td>2</td>\n",
       "      <td>3179.181152</td>\n",
       "    </tr>\n",
       "    <tr>\n",
       "      <th>3</th>\n",
       "      <td>3</td>\n",
       "      <td>3186.996094</td>\n",
       "    </tr>\n",
       "    <tr>\n",
       "      <th>4</th>\n",
       "      <td>4</td>\n",
       "      <td>3189.389648</td>\n",
       "    </tr>\n",
       "    <tr>\n",
       "      <th>5</th>\n",
       "      <td>5</td>\n",
       "      <td>3196.923584</td>\n",
       "    </tr>\n",
       "    <tr>\n",
       "      <th>6</th>\n",
       "      <td>6</td>\n",
       "      <td>3211.714600</td>\n",
       "    </tr>\n",
       "    <tr>\n",
       "      <th>7</th>\n",
       "      <td>7</td>\n",
       "      <td>3233.709961</td>\n",
       "    </tr>\n",
       "    <tr>\n",
       "      <th>8</th>\n",
       "      <td>8</td>\n",
       "      <td>3231.541260</td>\n",
       "    </tr>\n",
       "    <tr>\n",
       "      <th>9</th>\n",
       "      <td>9</td>\n",
       "      <td>3235.011963</td>\n",
       "    </tr>\n",
       "    <tr>\n",
       "      <th>10</th>\n",
       "      <td>10</td>\n",
       "      <td>3235.331787</td>\n",
       "    </tr>\n",
       "    <tr>\n",
       "      <th>11</th>\n",
       "      <td>11</td>\n",
       "      <td>3249.012695</td>\n",
       "    </tr>\n",
       "    <tr>\n",
       "      <th>12</th>\n",
       "      <td>12</td>\n",
       "      <td>3279.290527</td>\n",
       "    </tr>\n",
       "    <tr>\n",
       "      <th>13</th>\n",
       "      <td>13</td>\n",
       "      <td>3263.773193</td>\n",
       "    </tr>\n",
       "    <tr>\n",
       "      <th>14</th>\n",
       "      <td>14</td>\n",
       "      <td>3263.197754</td>\n",
       "    </tr>\n",
       "    <tr>\n",
       "      <th>15</th>\n",
       "      <td>15</td>\n",
       "      <td>3244.983154</td>\n",
       "    </tr>\n",
       "    <tr>\n",
       "      <th>16</th>\n",
       "      <td>16</td>\n",
       "      <td>3239.245850</td>\n",
       "    </tr>\n",
       "    <tr>\n",
       "      <th>17</th>\n",
       "      <td>17</td>\n",
       "      <td>3227.542969</td>\n",
       "    </tr>\n",
       "    <tr>\n",
       "      <th>18</th>\n",
       "      <td>18</td>\n",
       "      <td>3237.581299</td>\n",
       "    </tr>\n",
       "    <tr>\n",
       "      <th>19</th>\n",
       "      <td>19</td>\n",
       "      <td>3213.689209</td>\n",
       "    </tr>\n",
       "    <tr>\n",
       "      <th>20</th>\n",
       "      <td>20</td>\n",
       "      <td>3191.805908</td>\n",
       "    </tr>\n",
       "    <tr>\n",
       "      <th>21</th>\n",
       "      <td>21</td>\n",
       "      <td>3191.405029</td>\n",
       "    </tr>\n",
       "    <tr>\n",
       "      <th>22</th>\n",
       "      <td>22</td>\n",
       "      <td>3173.473389</td>\n",
       "    </tr>\n",
       "    <tr>\n",
       "      <th>23</th>\n",
       "      <td>23</td>\n",
       "      <td>3175.970459</td>\n",
       "    </tr>\n",
       "  </tbody>\n",
       "</table>\n",
       "</div>"
      ],
      "text/plain": [
       "    Id     Expected\n",
       "0    0  3186.884766\n",
       "1    1  3172.414062\n",
       "2    2  3179.181152\n",
       "3    3  3186.996094\n",
       "4    4  3189.389648\n",
       "5    5  3196.923584\n",
       "6    6  3211.714600\n",
       "7    7  3233.709961\n",
       "8    8  3231.541260\n",
       "9    9  3235.011963\n",
       "10  10  3235.331787\n",
       "11  11  3249.012695\n",
       "12  12  3279.290527\n",
       "13  13  3263.773193\n",
       "14  14  3263.197754\n",
       "15  15  3244.983154\n",
       "16  16  3239.245850\n",
       "17  17  3227.542969\n",
       "18  18  3237.581299\n",
       "19  19  3213.689209\n",
       "20  20  3191.805908\n",
       "21  21  3191.405029\n",
       "22  22  3173.473389\n",
       "23  23  3175.970459"
      ]
     },
     "execution_count": 14,
     "metadata": {},
     "output_type": "execute_result"
    }
   ],
   "source": [
    "result.to_csv('submit.csv',index = False)\n",
    "result"
   ]
  },
  {
   "cell_type": "code",
   "execution_count": null,
   "id": "7d5bcfb5",
   "metadata": {
    "papermill": {
     "duration": 0.006075,
     "end_time": "2022-09-18T14:57:33.727922",
     "exception": false,
     "start_time": "2022-09-18T14:57:33.721847",
     "status": "completed"
    },
    "tags": []
   },
   "outputs": [],
   "source": []
  }
 ],
 "metadata": {
  "kernelspec": {
   "display_name": "Python 3",
   "language": "python",
   "name": "python3"
  },
  "language_info": {
   "codemirror_mode": {
    "name": "ipython",
    "version": 3
   },
   "file_extension": ".py",
   "mimetype": "text/x-python",
   "name": "python",
   "nbconvert_exporter": "python",
   "pygments_lexer": "ipython3",
   "version": "3.7.12"
  },
  "papermill": {
   "default_parameters": {},
   "duration": 48.581897,
   "end_time": "2022-09-18T14:57:34.655448",
   "environment_variables": {},
   "exception": null,
   "input_path": "__notebook__.ipynb",
   "output_path": "__notebook__.ipynb",
   "parameters": {},
   "start_time": "2022-09-18T14:56:46.073551",
   "version": "2.3.4"
  }
 },
 "nbformat": 4,
 "nbformat_minor": 5
}
