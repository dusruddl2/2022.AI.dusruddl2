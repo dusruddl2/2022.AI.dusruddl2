{
 "cells": [
  {
   "cell_type": "code",
   "execution_count": 1,
   "id": "7d30602b",
   "metadata": {
    "_cell_guid": "b1076dfc-b9ad-4769-8c92-a6c4dae69d19",
    "_uuid": "8f2839f25d086af736a60e9eeb907d3b93b6e0e5",
    "execution": {
     "iopub.execute_input": "2022-09-26T04:33:42.555720Z",
     "iopub.status.busy": "2022-09-26T04:33:42.555012Z",
     "iopub.status.idle": "2022-09-26T04:33:42.572969Z",
     "shell.execute_reply": "2022-09-26T04:33:42.571803Z"
    },
    "papermill": {
     "duration": 0.030547,
     "end_time": "2022-09-26T04:33:42.576664",
     "exception": false,
     "start_time": "2022-09-26T04:33:42.546117",
     "status": "completed"
    },
    "tags": []
   },
   "outputs": [
    {
     "name": "stdout",
     "output_type": "stream",
     "text": [
      "/kaggle/input/2022-ai-w4p2/sample.csv\n",
      "/kaggle/input/2022-ai-w4p2/train.csv\n",
      "/kaggle/input/2022-ai-w4p2/test.csv\n"
     ]
    }
   ],
   "source": [
    "# This Python 3 environment comes with many helpful analytics libraries installed\n",
    "# It is defined by the kaggle/python Docker image: https://github.com/kaggle/docker-python\n",
    "# For example, here's several helpful packages to load\n",
    "\n",
    "import numpy as np # linear algebra\n",
    "import pandas as pd # data processing, CSV file I/O (e.g. pd.read_csv)\n",
    "\n",
    "# Input data files are available in the read-only \"../input/\" directory\n",
    "# For example, running this (by clicking run or pressing Shift+Enter) will list all files under the input directory\n",
    "\n",
    "import os\n",
    "for dirname, _, filenames in os.walk('/kaggle/input'):\n",
    "    for filename in filenames:\n",
    "        print(os.path.join(dirname, filename))\n",
    "\n",
    "# You can write up to 20GB to the current directory (/kaggle/working/) that gets preserved as output when you create a version using \"Save & Run All\" \n",
    "# You can also write temporary files to /kaggle/temp/, but they won't be saved outside of the current session"
   ]
  },
  {
   "cell_type": "code",
   "execution_count": 2,
   "id": "de17f5f7",
   "metadata": {
    "execution": {
     "iopub.execute_input": "2022-09-26T04:33:42.591941Z",
     "iopub.status.busy": "2022-09-26T04:33:42.591690Z",
     "iopub.status.idle": "2022-09-26T04:33:44.197843Z",
     "shell.execute_reply": "2022-09-26T04:33:44.196861Z"
    },
    "papermill": {
     "duration": 1.615886,
     "end_time": "2022-09-26T04:33:44.200296",
     "exception": false,
     "start_time": "2022-09-26T04:33:42.584410",
     "status": "completed"
    },
    "tags": []
   },
   "outputs": [],
   "source": [
    "import random\n",
    "import torch\n",
    "import torch.optim as optim\n",
    "import torch.nn as nn\n",
    "\n",
    "seed = 42\n",
    "random.seed(seed)\n",
    "np.random.seed(seed)\n",
    "torch.manual_seed(seed)\n",
    "if torch.cuda.is_available():\n",
    "    torch.cuda.manual_seed(seed)\n",
    "    torch.cuda.manual_seed_all(seed)\n",
    "torch.backends.cudnn.benchmark = False\n",
    "torch.backends.cudnn.deterministic = True"
   ]
  },
  {
   "cell_type": "code",
   "execution_count": 3,
   "id": "b2d91319",
   "metadata": {
    "execution": {
     "iopub.execute_input": "2022-09-26T04:33:44.215602Z",
     "iopub.status.busy": "2022-09-26T04:33:44.214430Z",
     "iopub.status.idle": "2022-09-26T04:33:44.256515Z",
     "shell.execute_reply": "2022-09-26T04:33:44.255476Z"
    },
    "papermill": {
     "duration": 0.051753,
     "end_time": "2022-09-26T04:33:44.258591",
     "exception": false,
     "start_time": "2022-09-26T04:33:44.206838",
     "status": "completed"
    },
    "tags": []
   },
   "outputs": [
    {
     "data": {
      "text/html": [
       "<div>\n",
       "<style scoped>\n",
       "    .dataframe tbody tr th:only-of-type {\n",
       "        vertical-align: middle;\n",
       "    }\n",
       "\n",
       "    .dataframe tbody tr th {\n",
       "        vertical-align: top;\n",
       "    }\n",
       "\n",
       "    .dataframe thead th {\n",
       "        text-align: right;\n",
       "    }\n",
       "</style>\n",
       "<table border=\"1\" class=\"dataframe\">\n",
       "  <thead>\n",
       "    <tr style=\"text-align: right;\">\n",
       "      <th></th>\n",
       "      <th>N</th>\n",
       "      <th>P</th>\n",
       "      <th>K</th>\n",
       "      <th>temperature</th>\n",
       "      <th>humidity</th>\n",
       "      <th>ph</th>\n",
       "      <th>rainfall</th>\n",
       "      <th>label</th>\n",
       "    </tr>\n",
       "  </thead>\n",
       "  <tbody>\n",
       "    <tr>\n",
       "      <th>0</th>\n",
       "      <td>22</td>\n",
       "      <td>36</td>\n",
       "      <td>16</td>\n",
       "      <td>30.581395</td>\n",
       "      <td>50.771481</td>\n",
       "      <td>8.184229</td>\n",
       "      <td>64.585596</td>\n",
       "      <td>mothbeans</td>\n",
       "    </tr>\n",
       "    <tr>\n",
       "      <th>1</th>\n",
       "      <td>18</td>\n",
       "      <td>27</td>\n",
       "      <td>41</td>\n",
       "      <td>22.365094</td>\n",
       "      <td>92.308824</td>\n",
       "      <td>7.175344</td>\n",
       "      <td>104.821633</td>\n",
       "      <td>pomegranate</td>\n",
       "    </tr>\n",
       "    <tr>\n",
       "      <th>2</th>\n",
       "      <td>61</td>\n",
       "      <td>68</td>\n",
       "      <td>50</td>\n",
       "      <td>35.214628</td>\n",
       "      <td>91.497251</td>\n",
       "      <td>6.793245</td>\n",
       "      <td>243.074507</td>\n",
       "      <td>papaya</td>\n",
       "    </tr>\n",
       "    <tr>\n",
       "      <th>3</th>\n",
       "      <td>26</td>\n",
       "      <td>72</td>\n",
       "      <td>22</td>\n",
       "      <td>28.767949</td>\n",
       "      <td>37.577921</td>\n",
       "      <td>4.674942</td>\n",
       "      <td>91.720849</td>\n",
       "      <td>pigeonpeas</td>\n",
       "    </tr>\n",
       "    <tr>\n",
       "      <th>4</th>\n",
       "      <td>2</td>\n",
       "      <td>140</td>\n",
       "      <td>197</td>\n",
       "      <td>22.697801</td>\n",
       "      <td>92.822234</td>\n",
       "      <td>5.534567</td>\n",
       "      <td>105.050823</td>\n",
       "      <td>apple</td>\n",
       "    </tr>\n",
       "    <tr>\n",
       "      <th>...</th>\n",
       "      <td>...</td>\n",
       "      <td>...</td>\n",
       "      <td>...</td>\n",
       "      <td>...</td>\n",
       "      <td>...</td>\n",
       "      <td>...</td>\n",
       "      <td>...</td>\n",
       "      <td>...</td>\n",
       "    </tr>\n",
       "    <tr>\n",
       "      <th>1645</th>\n",
       "      <td>10</td>\n",
       "      <td>5</td>\n",
       "      <td>5</td>\n",
       "      <td>21.213070</td>\n",
       "      <td>91.353492</td>\n",
       "      <td>7.817846</td>\n",
       "      <td>112.983436</td>\n",
       "      <td>orange</td>\n",
       "    </tr>\n",
       "    <tr>\n",
       "      <th>1646</th>\n",
       "      <td>108</td>\n",
       "      <td>94</td>\n",
       "      <td>47</td>\n",
       "      <td>27.359116</td>\n",
       "      <td>84.546250</td>\n",
       "      <td>6.387431</td>\n",
       "      <td>90.812505</td>\n",
       "      <td>banana</td>\n",
       "    </tr>\n",
       "    <tr>\n",
       "      <th>1647</th>\n",
       "      <td>11</td>\n",
       "      <td>36</td>\n",
       "      <td>31</td>\n",
       "      <td>27.920633</td>\n",
       "      <td>51.779659</td>\n",
       "      <td>6.475449</td>\n",
       "      <td>100.258567</td>\n",
       "      <td>mango</td>\n",
       "    </tr>\n",
       "    <tr>\n",
       "      <th>1648</th>\n",
       "      <td>11</td>\n",
       "      <td>124</td>\n",
       "      <td>204</td>\n",
       "      <td>13.429886</td>\n",
       "      <td>80.066340</td>\n",
       "      <td>6.361141</td>\n",
       "      <td>71.400430</td>\n",
       "      <td>grapes</td>\n",
       "    </tr>\n",
       "    <tr>\n",
       "      <th>1649</th>\n",
       "      <td>32</td>\n",
       "      <td>78</td>\n",
       "      <td>22</td>\n",
       "      <td>23.970814</td>\n",
       "      <td>62.355576</td>\n",
       "      <td>7.007038</td>\n",
       "      <td>53.409060</td>\n",
       "      <td>lentil</td>\n",
       "    </tr>\n",
       "  </tbody>\n",
       "</table>\n",
       "<p>1650 rows × 8 columns</p>\n",
       "</div>"
      ],
      "text/plain": [
       "        N    P    K  temperature   humidity        ph    rainfall        label\n",
       "0      22   36   16    30.581395  50.771481  8.184229   64.585596    mothbeans\n",
       "1      18   27   41    22.365094  92.308824  7.175344  104.821633  pomegranate\n",
       "2      61   68   50    35.214628  91.497251  6.793245  243.074507       papaya\n",
       "3      26   72   22    28.767949  37.577921  4.674942   91.720849   pigeonpeas\n",
       "4       2  140  197    22.697801  92.822234  5.534567  105.050823        apple\n",
       "...   ...  ...  ...          ...        ...       ...         ...          ...\n",
       "1645   10    5    5    21.213070  91.353492  7.817846  112.983436       orange\n",
       "1646  108   94   47    27.359116  84.546250  6.387431   90.812505       banana\n",
       "1647   11   36   31    27.920633  51.779659  6.475449  100.258567        mango\n",
       "1648   11  124  204    13.429886  80.066340  6.361141   71.400430       grapes\n",
       "1649   32   78   22    23.970814  62.355576  7.007038   53.409060       lentil\n",
       "\n",
       "[1650 rows x 8 columns]"
      ]
     },
     "execution_count": 3,
     "metadata": {},
     "output_type": "execute_result"
    }
   ],
   "source": [
    "train = pd.read_csv('../input/2022-ai-w4p2/train.csv')\n",
    "train"
   ]
  },
  {
   "cell_type": "code",
   "execution_count": 4,
   "id": "ff496431",
   "metadata": {
    "execution": {
     "iopub.execute_input": "2022-09-26T04:33:44.273952Z",
     "iopub.status.busy": "2022-09-26T04:33:44.273120Z",
     "iopub.status.idle": "2022-09-26T04:33:44.280444Z",
     "shell.execute_reply": "2022-09-26T04:33:44.279531Z"
    },
    "papermill": {
     "duration": 0.016861,
     "end_time": "2022-09-26T04:33:44.282635",
     "exception": false,
     "start_time": "2022-09-26T04:33:44.265774",
     "status": "completed"
    },
    "tags": []
   },
   "outputs": [],
   "source": [
    "x_train = train.iloc[:,:-1]\n",
    "y_train = train.iloc[:,-1]"
   ]
  },
  {
   "cell_type": "code",
   "execution_count": 5,
   "id": "85182402",
   "metadata": {
    "execution": {
     "iopub.execute_input": "2022-09-26T04:33:44.296749Z",
     "iopub.status.busy": "2022-09-26T04:33:44.296122Z",
     "iopub.status.idle": "2022-09-26T04:33:44.302229Z",
     "shell.execute_reply": "2022-09-26T04:33:44.300538Z"
    },
    "papermill": {
     "duration": 0.015884,
     "end_time": "2022-09-26T04:33:44.304804",
     "exception": false,
     "start_time": "2022-09-26T04:33:44.288920",
     "status": "completed"
    },
    "tags": []
   },
   "outputs": [
    {
     "name": "stdout",
     "output_type": "stream",
     "text": [
      "(1650, 7)\n",
      "(1650,)\n"
     ]
    }
   ],
   "source": [
    "print(x_train.shape)\n",
    "print(y_train.shape)"
   ]
  },
  {
   "cell_type": "markdown",
   "id": "df6a3a26",
   "metadata": {
    "papermill": {
     "duration": 0.00636,
     "end_time": "2022-09-26T04:33:44.318214",
     "exception": false,
     "start_time": "2022-09-26T04:33:44.311854",
     "status": "completed"
    },
    "tags": []
   },
   "source": [
    "# label 개수 파악하기"
   ]
  },
  {
   "cell_type": "code",
   "execution_count": 6,
   "id": "5bdce8f3",
   "metadata": {
    "execution": {
     "iopub.execute_input": "2022-09-26T04:33:44.332913Z",
     "iopub.status.busy": "2022-09-26T04:33:44.331530Z",
     "iopub.status.idle": "2022-09-26T04:33:44.343289Z",
     "shell.execute_reply": "2022-09-26T04:33:44.342322Z"
    },
    "papermill": {
     "duration": 0.020849,
     "end_time": "2022-09-26T04:33:44.345303",
     "exception": false,
     "start_time": "2022-09-26T04:33:44.324454",
     "status": "completed"
    },
    "tags": []
   },
   "outputs": [
    {
     "data": {
      "text/plain": [
       "lentil         85\n",
       "orange         81\n",
       "grapes         81\n",
       "watermelon     79\n",
       "cotton         79\n",
       "muskmelon      78\n",
       "banana         77\n",
       "maize          77\n",
       "blackgram      76\n",
       "kidneybeans    76\n",
       "rice           75\n",
       "coffee         74\n",
       "mothbeans      74\n",
       "mungbean       74\n",
       "coconut        73\n",
       "mango          73\n",
       "jute           73\n",
       "apple          71\n",
       "pomegranate    70\n",
       "chickpea       69\n",
       "papaya         69\n",
       "pigeonpeas     66\n",
       "Name: label, dtype: int64"
      ]
     },
     "execution_count": 6,
     "metadata": {},
     "output_type": "execute_result"
    }
   ],
   "source": [
    "y_train.value_counts()"
   ]
  },
  {
   "cell_type": "code",
   "execution_count": 7,
   "id": "91428a8d",
   "metadata": {
    "execution": {
     "iopub.execute_input": "2022-09-26T04:33:44.360908Z",
     "iopub.status.busy": "2022-09-26T04:33:44.359543Z",
     "iopub.status.idle": "2022-09-26T04:33:44.368147Z",
     "shell.execute_reply": "2022-09-26T04:33:44.367226Z"
    },
    "papermill": {
     "duration": 0.017593,
     "end_time": "2022-09-26T04:33:44.370082",
     "exception": false,
     "start_time": "2022-09-26T04:33:44.352489",
     "status": "completed"
    },
    "tags": []
   },
   "outputs": [
    {
     "data": {
      "text/plain": [
       "(22,)"
      ]
     },
     "execution_count": 7,
     "metadata": {},
     "output_type": "execute_result"
    }
   ],
   "source": [
    "np.shape(y_train.unique())"
   ]
  },
  {
   "cell_type": "markdown",
   "id": "caf47b43",
   "metadata": {
    "papermill": {
     "duration": 0.006228,
     "end_time": "2022-09-26T04:33:44.382871",
     "exception": false,
     "start_time": "2022-09-26T04:33:44.376643",
     "status": "completed"
    },
    "tags": []
   },
   "source": [
    "# 데이터 정규화"
   ]
  },
  {
   "cell_type": "code",
   "execution_count": 8,
   "id": "2a5dc1dc",
   "metadata": {
    "execution": {
     "iopub.execute_input": "2022-09-26T04:33:44.397442Z",
     "iopub.status.busy": "2022-09-26T04:33:44.396640Z",
     "iopub.status.idle": "2022-09-26T04:33:45.037830Z",
     "shell.execute_reply": "2022-09-26T04:33:45.036943Z"
    },
    "papermill": {
     "duration": 0.650919,
     "end_time": "2022-09-26T04:33:45.040227",
     "exception": false,
     "start_time": "2022-09-26T04:33:44.389308",
     "status": "completed"
    },
    "tags": []
   },
   "outputs": [
    {
     "data": {
      "text/plain": [
       "array([[-7.74026344e-01, -5.22604462e-01, -6.28724908e-01, ...,\n",
       "        -9.51256909e-01,  2.19982609e+00, -6.86012983e-01],\n",
       "       [-8.81256962e-01, -7.93767155e-01, -1.37942559e-01, ...,\n",
       "         9.39856699e-01,  9.02028907e-01,  4.18192366e-02],\n",
       "       [ 2.71472181e-01,  4.41529556e-01,  3.87390868e-02, ...,\n",
       "         9.02907360e-01,  4.10508789e-01,  2.54268422e+00],\n",
       "       ...,\n",
       "       [-1.06891054e+00, -5.22604462e-01, -3.34255499e-01, ...,\n",
       "        -9.05356554e-01,  1.70580458e-03, -4.07223532e-02],\n",
       "       [-1.06891054e+00,  2.12876409e+00,  3.06195836e+00, ...,\n",
       "         3.82480441e-01, -1.45336714e-01, -5.62739020e-01],\n",
       "       [-5.05949799e-01,  7.42821437e-01, -5.10937144e-01, ...,\n",
       "        -4.23855858e-01,  6.85524273e-01, -8.88186049e-01]])"
      ]
     },
     "execution_count": 8,
     "metadata": {},
     "output_type": "execute_result"
    }
   ],
   "source": [
    "from sklearn.preprocessing import StandardScaler\n",
    "scaler = StandardScaler()\n",
    "x_train = scaler.fit_transform(x_train)\n",
    "x_train"
   ]
  },
  {
   "cell_type": "markdown",
   "id": "4f1200d6",
   "metadata": {
    "papermill": {
     "duration": 0.006417,
     "end_time": "2022-09-26T04:33:45.053842",
     "exception": false,
     "start_time": "2022-09-26T04:33:45.047425",
     "status": "completed"
    },
    "tags": []
   },
   "source": [
    "# X: tensor로 바꾸기"
   ]
  },
  {
   "cell_type": "code",
   "execution_count": 9,
   "id": "805f3753",
   "metadata": {
    "execution": {
     "iopub.execute_input": "2022-09-26T04:33:45.068676Z",
     "iopub.status.busy": "2022-09-26T04:33:45.067812Z",
     "iopub.status.idle": "2022-09-26T04:33:45.078447Z",
     "shell.execute_reply": "2022-09-26T04:33:45.077425Z"
    },
    "papermill": {
     "duration": 0.020267,
     "end_time": "2022-09-26T04:33:45.080569",
     "exception": false,
     "start_time": "2022-09-26T04:33:45.060302",
     "status": "completed"
    },
    "tags": []
   },
   "outputs": [
    {
     "data": {
      "text/plain": [
       "tensor([[-7.7403e-01, -5.2260e-01, -6.2872e-01,  ..., -9.5126e-01,\n",
       "          2.1998e+00, -6.8601e-01],\n",
       "        [-8.8126e-01, -7.9377e-01, -1.3794e-01,  ...,  9.3986e-01,\n",
       "          9.0203e-01,  4.1819e-02],\n",
       "        [ 2.7147e-01,  4.4153e-01,  3.8739e-02,  ...,  9.0291e-01,\n",
       "          4.1051e-01,  2.5427e+00],\n",
       "        ...,\n",
       "        [-1.0689e+00, -5.2260e-01, -3.3426e-01,  ..., -9.0536e-01,\n",
       "          1.7058e-03, -4.0722e-02],\n",
       "        [-1.0689e+00,  2.1288e+00,  3.0620e+00,  ...,  3.8248e-01,\n",
       "         -1.4534e-01, -5.6274e-01],\n",
       "        [-5.0595e-01,  7.4282e-01, -5.1094e-01,  ..., -4.2386e-01,\n",
       "          6.8552e-01, -8.8819e-01]])"
      ]
     },
     "execution_count": 9,
     "metadata": {},
     "output_type": "execute_result"
    }
   ],
   "source": [
    "x_train = torch.FloatTensor(x_train)\n",
    "x_train"
   ]
  },
  {
   "cell_type": "markdown",
   "id": "ca0665ab",
   "metadata": {
    "papermill": {
     "duration": 0.006441,
     "end_time": "2022-09-26T04:33:45.093910",
     "exception": false,
     "start_time": "2022-09-26T04:33:45.087469",
     "status": "completed"
    },
    "tags": []
   },
   "source": [
    "# y 문자 -> 숫자로 바꿔주기"
   ]
  },
  {
   "cell_type": "code",
   "execution_count": 10,
   "id": "7f31c071",
   "metadata": {
    "execution": {
     "iopub.execute_input": "2022-09-26T04:33:45.108717Z",
     "iopub.status.busy": "2022-09-26T04:33:45.107872Z",
     "iopub.status.idle": "2022-09-26T04:33:45.115990Z",
     "shell.execute_reply": "2022-09-26T04:33:45.115200Z"
    },
    "papermill": {
     "duration": 0.017369,
     "end_time": "2022-09-26T04:33:45.117873",
     "exception": false,
     "start_time": "2022-09-26T04:33:45.100504",
     "status": "completed"
    },
    "tags": []
   },
   "outputs": [
    {
     "data": {
      "text/plain": [
       "array([13, 19, 17, ..., 12,  7, 10])"
      ]
     },
     "execution_count": 10,
     "metadata": {},
     "output_type": "execute_result"
    }
   ],
   "source": [
    "from sklearn.preprocessing import LabelEncoder\n",
    "encoder = LabelEncoder()\n",
    "y_train_encoded = encoder.fit_transform(y_train)\n",
    "y_train_encoded"
   ]
  },
  {
   "cell_type": "markdown",
   "id": "814007f7",
   "metadata": {
    "papermill": {
     "duration": 0.006577,
     "end_time": "2022-09-26T04:33:45.131485",
     "exception": false,
     "start_time": "2022-09-26T04:33:45.124908",
     "status": "completed"
    },
    "tags": []
   },
   "source": [
    "# 원핫인코딩"
   ]
  },
  {
   "cell_type": "code",
   "execution_count": 11,
   "id": "c6218283",
   "metadata": {
    "execution": {
     "iopub.execute_input": "2022-09-26T04:33:45.145831Z",
     "iopub.status.busy": "2022-09-26T04:33:45.145559Z",
     "iopub.status.idle": "2022-09-26T04:33:45.152228Z",
     "shell.execute_reply": "2022-09-26T04:33:45.151366Z"
    },
    "papermill": {
     "duration": 0.016303,
     "end_time": "2022-09-26T04:33:45.154382",
     "exception": false,
     "start_time": "2022-09-26T04:33:45.138079",
     "status": "completed"
    },
    "tags": []
   },
   "outputs": [
    {
     "data": {
      "text/plain": [
       "tensor([13, 19, 17,  ..., 12,  7, 10])"
      ]
     },
     "execution_count": 11,
     "metadata": {},
     "output_type": "execute_result"
    }
   ],
   "source": [
    "y_train_encoded = torch.LongTensor(y_train_encoded)\n",
    "y_train_encoded"
   ]
  },
  {
   "cell_type": "code",
   "execution_count": 12,
   "id": "5547fc8e",
   "metadata": {
    "execution": {
     "iopub.execute_input": "2022-09-26T04:33:45.169965Z",
     "iopub.status.busy": "2022-09-26T04:33:45.169212Z",
     "iopub.status.idle": "2022-09-26T04:33:45.184264Z",
     "shell.execute_reply": "2022-09-26T04:33:45.182659Z"
    },
    "papermill": {
     "duration": 0.024734,
     "end_time": "2022-09-26T04:33:45.186308",
     "exception": false,
     "start_time": "2022-09-26T04:33:45.161574",
     "status": "completed"
    },
    "tags": []
   },
   "outputs": [
    {
     "name": "stdout",
     "output_type": "stream",
     "text": [
      "tensor([[0., 0., 0.,  ..., 0., 0., 0.],\n",
      "        [0., 0., 0.,  ..., 1., 0., 0.],\n",
      "        [0., 0., 0.,  ..., 0., 0., 0.],\n",
      "        ...,\n",
      "        [0., 0., 0.,  ..., 0., 0., 0.],\n",
      "        [0., 0., 0.,  ..., 0., 0., 0.],\n",
      "        [0., 0., 0.,  ..., 0., 0., 0.]])\n"
     ]
    }
   ],
   "source": [
    "nb_class = 22\n",
    "nb_data = len(y_train_encoded)\n",
    "\n",
    "y_one_hot = torch.zeros(nb_data,nb_class)\n",
    "y_one_hot.scatter_(1, y_train_encoded.unsqueeze(1), 1)\n",
    "\n",
    "print(y_one_hot)"
   ]
  },
  {
   "cell_type": "markdown",
   "id": "122da192",
   "metadata": {
    "papermill": {
     "duration": 0.006696,
     "end_time": "2022-09-26T04:33:45.200156",
     "exception": false,
     "start_time": "2022-09-26T04:33:45.193460",
     "status": "completed"
    },
    "tags": []
   },
   "source": [
    "# 모델 학습하기"
   ]
  },
  {
   "cell_type": "code",
   "execution_count": 13,
   "id": "7fc3d705",
   "metadata": {
    "execution": {
     "iopub.execute_input": "2022-09-26T04:33:45.215332Z",
     "iopub.status.busy": "2022-09-26T04:33:45.214586Z",
     "iopub.status.idle": "2022-09-26T04:35:00.727870Z",
     "shell.execute_reply": "2022-09-26T04:35:00.725536Z"
    },
    "papermill": {
     "duration": 75.523853,
     "end_time": "2022-09-26T04:35:00.730799",
     "exception": false,
     "start_time": "2022-09-26T04:33:45.206946",
     "status": "completed"
    },
    "tags": []
   },
   "outputs": [
    {
     "name": "stdout",
     "output_type": "stream",
     "text": [
      "Epoch    0/30000 Cost: 3.091042\n",
      "Epoch 10000/30000 Cost: 0.126731\n",
      "Epoch 20000/30000 Cost: 0.059008\n",
      "Epoch 30000/30000 Cost: 0.046098\n"
     ]
    }
   ],
   "source": [
    "#for softmax\n",
    "import torch.nn.functional as F\n",
    "\n",
    "#모델 초기화\n",
    "#feature = 7, class = 22\n",
    "nb_class = 22\n",
    "nb_data = len(y_train)\n",
    "\n",
    "W = torch.zeros([7,nb_class],requires_grad=True)\n",
    "b = torch.zeros(1,requires_grad=True)\n",
    "\n",
    "#optimizer 설정\n",
    "optimizer = optim.Adam([W,b],lr=1e-3)\n",
    "\n",
    "nb_epochs=30000\n",
    "for epoch in range(nb_epochs+1):\n",
    "    \n",
    "    #H(x)계산\n",
    "    hypothesis = F.softmax(x_train.matmul(W)+b,dim=1)   \n",
    "    \n",
    "    # cross_entropy를 사용하면 scatter함수를 이용한 one_hot_encoding 안해도 됨\n",
    "    cost = F.cross_entropy((x_train.matmul(W)+b),y_train_encoded)\n",
    "    \n",
    "    #cost로 H(x) 개선\n",
    "    optimizer.zero_grad()\n",
    "    cost.backward()\n",
    "    optimizer.step()\n",
    "    \n",
    "    #100번마다 로그 출력\n",
    "    if epoch % 10000 == 0:\n",
    "        print('Epoch {:4d}/{} Cost: {:.6f}'.format(\n",
    "            epoch, nb_epochs, cost.item()\n",
    "        ))"
   ]
  },
  {
   "cell_type": "code",
   "execution_count": 14,
   "id": "a1cd592e",
   "metadata": {
    "execution": {
     "iopub.execute_input": "2022-09-26T04:35:00.748724Z",
     "iopub.status.busy": "2022-09-26T04:35:00.747271Z",
     "iopub.status.idle": "2022-09-26T04:35:00.759435Z",
     "shell.execute_reply": "2022-09-26T04:35:00.758352Z"
    },
    "papermill": {
     "duration": 0.023421,
     "end_time": "2022-09-26T04:35:00.762186",
     "exception": false,
     "start_time": "2022-09-26T04:35:00.738765",
     "status": "completed"
    },
    "tags": []
   },
   "outputs": [
    {
     "name": "stdout",
     "output_type": "stream",
     "text": [
      "tensor([[2.0164e-34, 4.1096e-41, 1.1676e-12,  ..., 1.7416e-20, 2.5790e-35,\n",
      "         6.7233e-37],\n",
      "        [3.6631e-14, 6.3870e-35, 6.1162e-20,  ..., 9.9996e-01, 2.4162e-24,\n",
      "         6.4960e-19],\n",
      "        [7.3791e-09, 9.5852e-18, 3.8133e-24,  ..., 1.9338e-43, 6.2361e-09,\n",
      "         0.0000e+00],\n",
      "        ...,\n",
      "        [1.4717e-27, 1.0331e-34, 4.6723e-16,  ..., 1.5985e-16, 2.0818e-32,\n",
      "         1.0302e-30],\n",
      "        [2.7183e-05, 1.5337e-30, 0.0000e+00,  ..., 1.3664e-18, 4.5486e-37,\n",
      "         6.9087e-24],\n",
      "        [4.2144e-19, 9.2806e-24, 3.0201e-03,  ..., 1.0398e-21, 6.4953e-31,\n",
      "         6.5933e-29]], grad_fn=<SoftmaxBackward0>)\n",
      "tensor([13, 19, 17,  ..., 12,  7, 10])\n",
      "accuracy: 98.121216%\n"
     ]
    }
   ],
   "source": [
    "# 학습된 W,b를 통한 클래스 예측\n",
    "hypothesis = F.softmax(x_train.matmul(W)+b,dim=1)\n",
    "predict = torch.argmax(hypothesis,dim=1) #index 반환\n",
    "correct_prediction = (predict == y_train_encoded).sum() / len(y_train_encoded)\n",
    "\n",
    "print(hypothesis)\n",
    "print(predict)\n",
    "print('accuracy: {:.6f}%'.format(correct_prediction*100))"
   ]
  },
  {
   "cell_type": "markdown",
   "id": "55ef1838",
   "metadata": {
    "papermill": {
     "duration": 0.007787,
     "end_time": "2022-09-26T04:35:00.778755",
     "exception": false,
     "start_time": "2022-09-26T04:35:00.770968",
     "status": "completed"
    },
    "tags": []
   },
   "source": [
    "# 데이터 평가"
   ]
  },
  {
   "cell_type": "code",
   "execution_count": 15,
   "id": "ea8876a0",
   "metadata": {
    "execution": {
     "iopub.execute_input": "2022-09-26T04:35:00.795564Z",
     "iopub.status.busy": "2022-09-26T04:35:00.794698Z",
     "iopub.status.idle": "2022-09-26T04:35:00.818227Z",
     "shell.execute_reply": "2022-09-26T04:35:00.817200Z"
    },
    "papermill": {
     "duration": 0.034008,
     "end_time": "2022-09-26T04:35:00.820450",
     "exception": false,
     "start_time": "2022-09-26T04:35:00.786442",
     "status": "completed"
    },
    "tags": []
   },
   "outputs": [
    {
     "data": {
      "text/html": [
       "<div>\n",
       "<style scoped>\n",
       "    .dataframe tbody tr th:only-of-type {\n",
       "        vertical-align: middle;\n",
       "    }\n",
       "\n",
       "    .dataframe tbody tr th {\n",
       "        vertical-align: top;\n",
       "    }\n",
       "\n",
       "    .dataframe thead th {\n",
       "        text-align: right;\n",
       "    }\n",
       "</style>\n",
       "<table border=\"1\" class=\"dataframe\">\n",
       "  <thead>\n",
       "    <tr style=\"text-align: right;\">\n",
       "      <th></th>\n",
       "      <th>N</th>\n",
       "      <th>P</th>\n",
       "      <th>K</th>\n",
       "      <th>temperature</th>\n",
       "      <th>humidity</th>\n",
       "      <th>ph</th>\n",
       "      <th>rainfall</th>\n",
       "    </tr>\n",
       "  </thead>\n",
       "  <tbody>\n",
       "    <tr>\n",
       "      <th>0</th>\n",
       "      <td>101</td>\n",
       "      <td>17</td>\n",
       "      <td>47</td>\n",
       "      <td>29.494014</td>\n",
       "      <td>94.729813</td>\n",
       "      <td>6.185053</td>\n",
       "      <td>26.308209</td>\n",
       "    </tr>\n",
       "    <tr>\n",
       "      <th>1</th>\n",
       "      <td>98</td>\n",
       "      <td>8</td>\n",
       "      <td>51</td>\n",
       "      <td>26.179346</td>\n",
       "      <td>86.522581</td>\n",
       "      <td>6.259336</td>\n",
       "      <td>49.430510</td>\n",
       "    </tr>\n",
       "    <tr>\n",
       "      <th>2</th>\n",
       "      <td>59</td>\n",
       "      <td>62</td>\n",
       "      <td>49</td>\n",
       "      <td>43.360515</td>\n",
       "      <td>93.351916</td>\n",
       "      <td>6.941497</td>\n",
       "      <td>114.778071</td>\n",
       "    </tr>\n",
       "    <tr>\n",
       "      <th>3</th>\n",
       "      <td>44</td>\n",
       "      <td>60</td>\n",
       "      <td>55</td>\n",
       "      <td>34.280461</td>\n",
       "      <td>90.555616</td>\n",
       "      <td>6.825371</td>\n",
       "      <td>98.540477</td>\n",
       "    </tr>\n",
       "    <tr>\n",
       "      <th>4</th>\n",
       "      <td>30</td>\n",
       "      <td>137</td>\n",
       "      <td>200</td>\n",
       "      <td>22.914300</td>\n",
       "      <td>90.704756</td>\n",
       "      <td>5.603413</td>\n",
       "      <td>118.604465</td>\n",
       "    </tr>\n",
       "    <tr>\n",
       "      <th>...</th>\n",
       "      <td>...</td>\n",
       "      <td>...</td>\n",
       "      <td>...</td>\n",
       "      <td>...</td>\n",
       "      <td>...</td>\n",
       "      <td>...</td>\n",
       "      <td>...</td>\n",
       "    </tr>\n",
       "    <tr>\n",
       "      <th>545</th>\n",
       "      <td>100</td>\n",
       "      <td>32</td>\n",
       "      <td>26</td>\n",
       "      <td>25.234661</td>\n",
       "      <td>57.531615</td>\n",
       "      <td>6.043486</td>\n",
       "      <td>124.226174</td>\n",
       "    </tr>\n",
       "    <tr>\n",
       "      <th>546</th>\n",
       "      <td>50</td>\n",
       "      <td>46</td>\n",
       "      <td>52</td>\n",
       "      <td>31.182984</td>\n",
       "      <td>90.216469</td>\n",
       "      <td>6.734006</td>\n",
       "      <td>54.018724</td>\n",
       "    </tr>\n",
       "    <tr>\n",
       "      <th>547</th>\n",
       "      <td>30</td>\n",
       "      <td>65</td>\n",
       "      <td>82</td>\n",
       "      <td>20.714244</td>\n",
       "      <td>15.278241</td>\n",
       "      <td>7.103798</td>\n",
       "      <td>76.778887</td>\n",
       "    </tr>\n",
       "    <tr>\n",
       "      <th>548</th>\n",
       "      <td>93</td>\n",
       "      <td>26</td>\n",
       "      <td>27</td>\n",
       "      <td>24.592457</td>\n",
       "      <td>56.468296</td>\n",
       "      <td>7.288212</td>\n",
       "      <td>137.704405</td>\n",
       "    </tr>\n",
       "    <tr>\n",
       "      <th>549</th>\n",
       "      <td>63</td>\n",
       "      <td>47</td>\n",
       "      <td>35</td>\n",
       "      <td>26.985822</td>\n",
       "      <td>89.055879</td>\n",
       "      <td>7.432768</td>\n",
       "      <td>193.877871</td>\n",
       "    </tr>\n",
       "  </tbody>\n",
       "</table>\n",
       "<p>550 rows × 7 columns</p>\n",
       "</div>"
      ],
      "text/plain": [
       "       N    P    K  temperature   humidity        ph    rainfall\n",
       "0    101   17   47    29.494014  94.729813  6.185053   26.308209\n",
       "1     98    8   51    26.179346  86.522581  6.259336   49.430510\n",
       "2     59   62   49    43.360515  93.351916  6.941497  114.778071\n",
       "3     44   60   55    34.280461  90.555616  6.825371   98.540477\n",
       "4     30  137  200    22.914300  90.704756  5.603413  118.604465\n",
       "..   ...  ...  ...          ...        ...       ...         ...\n",
       "545  100   32   26    25.234661  57.531615  6.043486  124.226174\n",
       "546   50   46   52    31.182984  90.216469  6.734006   54.018724\n",
       "547   30   65   82    20.714244  15.278241  7.103798   76.778887\n",
       "548   93   26   27    24.592457  56.468296  7.288212  137.704405\n",
       "549   63   47   35    26.985822  89.055879  7.432768  193.877871\n",
       "\n",
       "[550 rows x 7 columns]"
      ]
     },
     "execution_count": 15,
     "metadata": {},
     "output_type": "execute_result"
    }
   ],
   "source": [
    "test = pd.read_csv('../input/2022-ai-w4p2/test.csv')\n",
    "test"
   ]
  },
  {
   "cell_type": "markdown",
   "id": "a27ffb3f",
   "metadata": {
    "papermill": {
     "duration": 0.007653,
     "end_time": "2022-09-26T04:35:00.835769",
     "exception": false,
     "start_time": "2022-09-26T04:35:00.828116",
     "status": "completed"
    },
    "tags": []
   },
   "source": [
    "## 정규화"
   ]
  },
  {
   "cell_type": "code",
   "execution_count": 16,
   "id": "2c56c8df",
   "metadata": {
    "execution": {
     "iopub.execute_input": "2022-09-26T04:35:00.852725Z",
     "iopub.status.busy": "2022-09-26T04:35:00.852468Z",
     "iopub.status.idle": "2022-09-26T04:35:00.862478Z",
     "shell.execute_reply": "2022-09-26T04:35:00.861519Z"
    },
    "papermill": {
     "duration": 0.020816,
     "end_time": "2022-09-26T04:35:00.864705",
     "exception": false,
     "start_time": "2022-09-26T04:35:00.843889",
     "status": "completed"
    },
    "tags": []
   },
   "outputs": [
    {
     "data": {
      "text/plain": [
       "array([[ 1.34377836, -1.09505904, -0.0201548 , ...,  1.05007959,\n",
       "        -0.37185066, -1.37841507],\n",
       "       [ 1.2633554 , -1.36622173,  0.05837038, ...,  0.67642042,\n",
       "        -0.27629569, -0.9601543 ],\n",
       "       [ 0.21785687,  0.26075443,  0.01910779, ...,  0.98734665,\n",
       "         0.60121475,  0.22192187],\n",
       "       ...,\n",
       "       [-0.55956511,  0.35114199,  0.66694049, ..., -2.56719443,\n",
       "         0.80999403, -0.46544778],\n",
       "       [ 1.12931713, -0.82389634, -0.41278067, ..., -0.69189211,\n",
       "         1.04721835,  0.63663777],\n",
       "       [ 0.32508749, -0.19118339, -0.25573032, ...,  0.7917565 ,\n",
       "         1.23317088,  1.65276317]])"
      ]
     },
     "execution_count": 16,
     "metadata": {},
     "output_type": "execute_result"
    }
   ],
   "source": [
    "x_test = scaler.transform(test)\n",
    "x_test"
   ]
  },
  {
   "cell_type": "code",
   "execution_count": 17,
   "id": "8f93b8ca",
   "metadata": {
    "execution": {
     "iopub.execute_input": "2022-09-26T04:35:00.882936Z",
     "iopub.status.busy": "2022-09-26T04:35:00.882351Z",
     "iopub.status.idle": "2022-09-26T04:35:00.890837Z",
     "shell.execute_reply": "2022-09-26T04:35:00.889844Z"
    },
    "papermill": {
     "duration": 0.020064,
     "end_time": "2022-09-26T04:35:00.893195",
     "exception": false,
     "start_time": "2022-09-26T04:35:00.873131",
     "status": "completed"
    },
    "tags": []
   },
   "outputs": [
    {
     "data": {
      "text/plain": [
       "tensor([[ 1.3438, -1.0951, -0.0202,  ...,  1.0501, -0.3719, -1.3784],\n",
       "        [ 1.2634, -1.3662,  0.0584,  ...,  0.6764, -0.2763, -0.9602],\n",
       "        [ 0.2179,  0.2608,  0.0191,  ...,  0.9873,  0.6012,  0.2219],\n",
       "        ...,\n",
       "        [-0.5596,  0.3511,  0.6669,  ..., -2.5672,  0.8100, -0.4654],\n",
       "        [ 1.1293, -0.8239, -0.4128,  ..., -0.6919,  1.0472,  0.6366],\n",
       "        [ 0.3251, -0.1912, -0.2557,  ...,  0.7918,  1.2332,  1.6528]])"
      ]
     },
     "execution_count": 17,
     "metadata": {},
     "output_type": "execute_result"
    }
   ],
   "source": [
    "x_test = torch.FloatTensor(x_test)\n",
    "x_test"
   ]
  },
  {
   "cell_type": "code",
   "execution_count": 18,
   "id": "c38767cc",
   "metadata": {
    "execution": {
     "iopub.execute_input": "2022-09-26T04:35:00.910454Z",
     "iopub.status.busy": "2022-09-26T04:35:00.910111Z",
     "iopub.status.idle": "2022-09-26T04:35:00.918685Z",
     "shell.execute_reply": "2022-09-26T04:35:00.917614Z"
    },
    "papermill": {
     "duration": 0.019688,
     "end_time": "2022-09-26T04:35:00.920870",
     "exception": false,
     "start_time": "2022-09-26T04:35:00.901182",
     "status": "completed"
    },
    "tags": []
   },
   "outputs": [
    {
     "data": {
      "text/plain": [
       "tensor([[2.8515e-31, 1.2399e-12, 8.9860e-37, 2.5223e-44, 5.5708e-28, 5.6156e-17,\n",
       "         4.0715e-10, 8.3862e-30, 1.1915e-14, 0.0000e+00, 3.2545e-26, 1.1052e-22,\n",
       "         3.1783e-31, 4.7685e-25, 1.3466e-18, 1.0000e+00, 1.7519e-26, 1.2544e-21,\n",
       "         0.0000e+00, 4.2999e-15, 3.4802e-20, 5.1325e-08],\n",
       "        [1.0239e-35, 2.5879e-17, 1.5416e-39, 7.7898e-37, 7.0414e-25, 1.4203e-11,\n",
       "         5.9057e-09, 1.1963e-34, 3.4540e-13, 2.8026e-45, 1.9371e-30, 9.4231e-18,\n",
       "         2.9145e-24, 1.2627e-22, 9.5651e-23, 9.5960e-05, 1.1526e-24, 1.2564e-27,\n",
       "         0.0000e+00, 1.5082e-13, 4.4199e-17, 9.9990e-01],\n",
       "        [1.4940e-12, 8.9270e-16, 2.9808e-25, 0.0000e+00, 2.5920e-27, 2.7545e-35,\n",
       "         6.1964e-36, 3.4438e-21, 7.0252e-23, 0.0000e+00, 2.4609e-34, 0.0000e+00,\n",
       "         4.3221e-37, 1.3374e-37, 1.0827e-24, 4.8588e-14, 5.9947e-33, 1.0000e+00,\n",
       "         1.5390e-32, 4.4742e-36, 6.1050e-26, 0.0000e+00]],\n",
       "       grad_fn=<SliceBackward0>)"
      ]
     },
     "execution_count": 18,
     "metadata": {},
     "output_type": "execute_result"
    }
   ],
   "source": [
    "hypothesis = F.softmax(x_test.matmul(W)+b,dim=1)\n",
    "hypothesis[:3]"
   ]
  },
  {
   "cell_type": "code",
   "execution_count": 19,
   "id": "a73c6221",
   "metadata": {
    "execution": {
     "iopub.execute_input": "2022-09-26T04:35:00.939751Z",
     "iopub.status.busy": "2022-09-26T04:35:00.938235Z",
     "iopub.status.idle": "2022-09-26T04:35:00.944889Z",
     "shell.execute_reply": "2022-09-26T04:35:00.943671Z"
    },
    "papermill": {
     "duration": 0.018249,
     "end_time": "2022-09-26T04:35:00.947540",
     "exception": false,
     "start_time": "2022-09-26T04:35:00.929291",
     "status": "completed"
    },
    "tags": []
   },
   "outputs": [
    {
     "name": "stdout",
     "output_type": "stream",
     "text": [
      "tensor([15, 21, 17])\n"
     ]
    }
   ],
   "source": [
    "# 학습된 W,b를 통한 클래스 예측\n",
    "predict = torch.argmax(hypothesis,dim=1) #index 반환\n",
    "\n",
    "print(predict[:3])"
   ]
  },
  {
   "cell_type": "code",
   "execution_count": 20,
   "id": "8eb47c09",
   "metadata": {
    "execution": {
     "iopub.execute_input": "2022-09-26T04:35:00.966029Z",
     "iopub.status.busy": "2022-09-26T04:35:00.964537Z",
     "iopub.status.idle": "2022-09-26T04:35:00.973768Z",
     "shell.execute_reply": "2022-09-26T04:35:00.972689Z"
    },
    "papermill": {
     "duration": 0.020012,
     "end_time": "2022-09-26T04:35:00.975730",
     "exception": false,
     "start_time": "2022-09-26T04:35:00.955718",
     "status": "completed"
    },
    "tags": []
   },
   "outputs": [
    {
     "data": {
      "text/plain": [
       "array(['muskmelon', 'watermelon', 'papaya'], dtype=object)"
      ]
     },
     "execution_count": 20,
     "metadata": {},
     "output_type": "execute_result"
    }
   ],
   "source": [
    "hypothesis = encoder.inverse_transform(predict.detach().numpy())\n",
    "hypothesis[:3]"
   ]
  },
  {
   "cell_type": "markdown",
   "id": "83691485",
   "metadata": {
    "papermill": {
     "duration": 0.007821,
     "end_time": "2022-09-26T04:35:00.991641",
     "exception": false,
     "start_time": "2022-09-26T04:35:00.983820",
     "status": "completed"
    },
    "tags": []
   },
   "source": [
    "# 제출용 파일 만들기"
   ]
  },
  {
   "cell_type": "code",
   "execution_count": 21,
   "id": "912be89d",
   "metadata": {
    "execution": {
     "iopub.execute_input": "2022-09-26T04:35:01.009899Z",
     "iopub.status.busy": "2022-09-26T04:35:01.008493Z",
     "iopub.status.idle": "2022-09-26T04:35:01.019723Z",
     "shell.execute_reply": "2022-09-26T04:35:01.018813Z"
    },
    "papermill": {
     "duration": 0.022086,
     "end_time": "2022-09-26T04:35:01.021778",
     "exception": false,
     "start_time": "2022-09-26T04:35:00.999692",
     "status": "completed"
    },
    "tags": []
   },
   "outputs": [
    {
     "data": {
      "text/html": [
       "<div>\n",
       "<style scoped>\n",
       "    .dataframe tbody tr th:only-of-type {\n",
       "        vertical-align: middle;\n",
       "    }\n",
       "\n",
       "    .dataframe tbody tr th {\n",
       "        vertical-align: top;\n",
       "    }\n",
       "\n",
       "    .dataframe thead th {\n",
       "        text-align: right;\n",
       "    }\n",
       "</style>\n",
       "<table border=\"1\" class=\"dataframe\">\n",
       "  <thead>\n",
       "    <tr style=\"text-align: right;\">\n",
       "      <th></th>\n",
       "      <th>label</th>\n",
       "    </tr>\n",
       "  </thead>\n",
       "  <tbody>\n",
       "    <tr>\n",
       "      <th>0</th>\n",
       "      <td>muskmelon</td>\n",
       "    </tr>\n",
       "    <tr>\n",
       "      <th>1</th>\n",
       "      <td>watermelon</td>\n",
       "    </tr>\n",
       "    <tr>\n",
       "      <th>2</th>\n",
       "      <td>papaya</td>\n",
       "    </tr>\n",
       "    <tr>\n",
       "      <th>3</th>\n",
       "      <td>papaya</td>\n",
       "    </tr>\n",
       "    <tr>\n",
       "      <th>4</th>\n",
       "      <td>apple</td>\n",
       "    </tr>\n",
       "    <tr>\n",
       "      <th>...</th>\n",
       "      <td>...</td>\n",
       "    </tr>\n",
       "    <tr>\n",
       "      <th>545</th>\n",
       "      <td>coffee</td>\n",
       "    </tr>\n",
       "    <tr>\n",
       "      <th>546</th>\n",
       "      <td>papaya</td>\n",
       "    </tr>\n",
       "    <tr>\n",
       "      <th>547</th>\n",
       "      <td>chickpea</td>\n",
       "    </tr>\n",
       "    <tr>\n",
       "      <th>548</th>\n",
       "      <td>coffee</td>\n",
       "    </tr>\n",
       "    <tr>\n",
       "      <th>549</th>\n",
       "      <td>jute</td>\n",
       "    </tr>\n",
       "  </tbody>\n",
       "</table>\n",
       "<p>550 rows × 1 columns</p>\n",
       "</div>"
      ],
      "text/plain": [
       "          label\n",
       "0     muskmelon\n",
       "1    watermelon\n",
       "2        papaya\n",
       "3        papaya\n",
       "4         apple\n",
       "..          ...\n",
       "545      coffee\n",
       "546      papaya\n",
       "547    chickpea\n",
       "548      coffee\n",
       "549        jute\n",
       "\n",
       "[550 rows x 1 columns]"
      ]
     },
     "execution_count": 21,
     "metadata": {},
     "output_type": "execute_result"
    }
   ],
   "source": [
    "prediction = pd.DataFrame(hypothesis,columns=['label'])\n",
    "prediction"
   ]
  },
  {
   "cell_type": "code",
   "execution_count": 22,
   "id": "47f972cd",
   "metadata": {
    "execution": {
     "iopub.execute_input": "2022-09-26T04:35:01.039581Z",
     "iopub.status.busy": "2022-09-26T04:35:01.038988Z",
     "iopub.status.idle": "2022-09-26T04:35:01.055145Z",
     "shell.execute_reply": "2022-09-26T04:35:01.054173Z"
    },
    "papermill": {
     "duration": 0.027074,
     "end_time": "2022-09-26T04:35:01.057110",
     "exception": false,
     "start_time": "2022-09-26T04:35:01.030036",
     "status": "completed"
    },
    "tags": []
   },
   "outputs": [
    {
     "data": {
      "text/html": [
       "<div>\n",
       "<style scoped>\n",
       "    .dataframe tbody tr th:only-of-type {\n",
       "        vertical-align: middle;\n",
       "    }\n",
       "\n",
       "    .dataframe tbody tr th {\n",
       "        vertical-align: top;\n",
       "    }\n",
       "\n",
       "    .dataframe thead th {\n",
       "        text-align: right;\n",
       "    }\n",
       "</style>\n",
       "<table border=\"1\" class=\"dataframe\">\n",
       "  <thead>\n",
       "    <tr style=\"text-align: right;\">\n",
       "      <th></th>\n",
       "      <th>id</th>\n",
       "      <th>label</th>\n",
       "    </tr>\n",
       "  </thead>\n",
       "  <tbody>\n",
       "    <tr>\n",
       "      <th>0</th>\n",
       "      <td>0</td>\n",
       "      <td>coffee</td>\n",
       "    </tr>\n",
       "    <tr>\n",
       "      <th>1</th>\n",
       "      <td>1</td>\n",
       "      <td>coffee</td>\n",
       "    </tr>\n",
       "    <tr>\n",
       "      <th>2</th>\n",
       "      <td>2</td>\n",
       "      <td>coffee</td>\n",
       "    </tr>\n",
       "    <tr>\n",
       "      <th>3</th>\n",
       "      <td>3</td>\n",
       "      <td>coffee</td>\n",
       "    </tr>\n",
       "    <tr>\n",
       "      <th>4</th>\n",
       "      <td>4</td>\n",
       "      <td>coffee</td>\n",
       "    </tr>\n",
       "    <tr>\n",
       "      <th>...</th>\n",
       "      <td>...</td>\n",
       "      <td>...</td>\n",
       "    </tr>\n",
       "    <tr>\n",
       "      <th>545</th>\n",
       "      <td>545</td>\n",
       "      <td>coffee</td>\n",
       "    </tr>\n",
       "    <tr>\n",
       "      <th>546</th>\n",
       "      <td>546</td>\n",
       "      <td>coffee</td>\n",
       "    </tr>\n",
       "    <tr>\n",
       "      <th>547</th>\n",
       "      <td>547</td>\n",
       "      <td>coffee</td>\n",
       "    </tr>\n",
       "    <tr>\n",
       "      <th>548</th>\n",
       "      <td>548</td>\n",
       "      <td>coffee</td>\n",
       "    </tr>\n",
       "    <tr>\n",
       "      <th>549</th>\n",
       "      <td>549</td>\n",
       "      <td>coffee</td>\n",
       "    </tr>\n",
       "  </tbody>\n",
       "</table>\n",
       "<p>550 rows × 2 columns</p>\n",
       "</div>"
      ],
      "text/plain": [
       "      id   label\n",
       "0      0  coffee\n",
       "1      1  coffee\n",
       "2      2  coffee\n",
       "3      3  coffee\n",
       "4      4  coffee\n",
       "..   ...     ...\n",
       "545  545  coffee\n",
       "546  546  coffee\n",
       "547  547  coffee\n",
       "548  548  coffee\n",
       "549  549  coffee\n",
       "\n",
       "[550 rows x 2 columns]"
      ]
     },
     "execution_count": 22,
     "metadata": {},
     "output_type": "execute_result"
    }
   ],
   "source": [
    "submit = pd.read_csv('../input/2022-ai-w4p2/sample.csv')\n",
    "submit"
   ]
  },
  {
   "cell_type": "code",
   "execution_count": 23,
   "id": "bc3bb8b7",
   "metadata": {
    "execution": {
     "iopub.execute_input": "2022-09-26T04:35:01.075463Z",
     "iopub.status.busy": "2022-09-26T04:35:01.074656Z",
     "iopub.status.idle": "2022-09-26T04:35:01.088343Z",
     "shell.execute_reply": "2022-09-26T04:35:01.087236Z"
    },
    "papermill": {
     "duration": 0.025025,
     "end_time": "2022-09-26T04:35:01.090472",
     "exception": false,
     "start_time": "2022-09-26T04:35:01.065447",
     "status": "completed"
    },
    "tags": []
   },
   "outputs": [
    {
     "data": {
      "text/html": [
       "<div>\n",
       "<style scoped>\n",
       "    .dataframe tbody tr th:only-of-type {\n",
       "        vertical-align: middle;\n",
       "    }\n",
       "\n",
       "    .dataframe tbody tr th {\n",
       "        vertical-align: top;\n",
       "    }\n",
       "\n",
       "    .dataframe thead th {\n",
       "        text-align: right;\n",
       "    }\n",
       "</style>\n",
       "<table border=\"1\" class=\"dataframe\">\n",
       "  <thead>\n",
       "    <tr style=\"text-align: right;\">\n",
       "      <th></th>\n",
       "      <th>id</th>\n",
       "      <th>label</th>\n",
       "    </tr>\n",
       "  </thead>\n",
       "  <tbody>\n",
       "    <tr>\n",
       "      <th>0</th>\n",
       "      <td>0</td>\n",
       "      <td>muskmelon</td>\n",
       "    </tr>\n",
       "    <tr>\n",
       "      <th>1</th>\n",
       "      <td>1</td>\n",
       "      <td>watermelon</td>\n",
       "    </tr>\n",
       "    <tr>\n",
       "      <th>2</th>\n",
       "      <td>2</td>\n",
       "      <td>papaya</td>\n",
       "    </tr>\n",
       "    <tr>\n",
       "      <th>3</th>\n",
       "      <td>3</td>\n",
       "      <td>papaya</td>\n",
       "    </tr>\n",
       "    <tr>\n",
       "      <th>4</th>\n",
       "      <td>4</td>\n",
       "      <td>apple</td>\n",
       "    </tr>\n",
       "    <tr>\n",
       "      <th>...</th>\n",
       "      <td>...</td>\n",
       "      <td>...</td>\n",
       "    </tr>\n",
       "    <tr>\n",
       "      <th>545</th>\n",
       "      <td>545</td>\n",
       "      <td>coffee</td>\n",
       "    </tr>\n",
       "    <tr>\n",
       "      <th>546</th>\n",
       "      <td>546</td>\n",
       "      <td>papaya</td>\n",
       "    </tr>\n",
       "    <tr>\n",
       "      <th>547</th>\n",
       "      <td>547</td>\n",
       "      <td>chickpea</td>\n",
       "    </tr>\n",
       "    <tr>\n",
       "      <th>548</th>\n",
       "      <td>548</td>\n",
       "      <td>coffee</td>\n",
       "    </tr>\n",
       "    <tr>\n",
       "      <th>549</th>\n",
       "      <td>549</td>\n",
       "      <td>jute</td>\n",
       "    </tr>\n",
       "  </tbody>\n",
       "</table>\n",
       "<p>550 rows × 2 columns</p>\n",
       "</div>"
      ],
      "text/plain": [
       "      id       label\n",
       "0      0   muskmelon\n",
       "1      1  watermelon\n",
       "2      2      papaya\n",
       "3      3      papaya\n",
       "4      4       apple\n",
       "..   ...         ...\n",
       "545  545      coffee\n",
       "546  546      papaya\n",
       "547  547    chickpea\n",
       "548  548      coffee\n",
       "549  549        jute\n",
       "\n",
       "[550 rows x 2 columns]"
      ]
     },
     "execution_count": 23,
     "metadata": {},
     "output_type": "execute_result"
    }
   ],
   "source": [
    "submit.update(prediction)\n",
    "submit"
   ]
  },
  {
   "cell_type": "code",
   "execution_count": 24,
   "id": "482d6628",
   "metadata": {
    "execution": {
     "iopub.execute_input": "2022-09-26T04:35:01.109572Z",
     "iopub.status.busy": "2022-09-26T04:35:01.108182Z",
     "iopub.status.idle": "2022-09-26T04:35:01.121092Z",
     "shell.execute_reply": "2022-09-26T04:35:01.120128Z"
    },
    "papermill": {
     "duration": 0.023891,
     "end_time": "2022-09-26T04:35:01.123089",
     "exception": false,
     "start_time": "2022-09-26T04:35:01.099198",
     "status": "completed"
    },
    "tags": []
   },
   "outputs": [
    {
     "data": {
      "text/html": [
       "<div>\n",
       "<style scoped>\n",
       "    .dataframe tbody tr th:only-of-type {\n",
       "        vertical-align: middle;\n",
       "    }\n",
       "\n",
       "    .dataframe tbody tr th {\n",
       "        vertical-align: top;\n",
       "    }\n",
       "\n",
       "    .dataframe thead th {\n",
       "        text-align: right;\n",
       "    }\n",
       "</style>\n",
       "<table border=\"1\" class=\"dataframe\">\n",
       "  <thead>\n",
       "    <tr style=\"text-align: right;\">\n",
       "      <th></th>\n",
       "      <th>id</th>\n",
       "      <th>label</th>\n",
       "    </tr>\n",
       "  </thead>\n",
       "  <tbody>\n",
       "    <tr>\n",
       "      <th>0</th>\n",
       "      <td>0</td>\n",
       "      <td>muskmelon</td>\n",
       "    </tr>\n",
       "    <tr>\n",
       "      <th>1</th>\n",
       "      <td>1</td>\n",
       "      <td>watermelon</td>\n",
       "    </tr>\n",
       "    <tr>\n",
       "      <th>2</th>\n",
       "      <td>2</td>\n",
       "      <td>papaya</td>\n",
       "    </tr>\n",
       "    <tr>\n",
       "      <th>3</th>\n",
       "      <td>3</td>\n",
       "      <td>papaya</td>\n",
       "    </tr>\n",
       "    <tr>\n",
       "      <th>4</th>\n",
       "      <td>4</td>\n",
       "      <td>apple</td>\n",
       "    </tr>\n",
       "    <tr>\n",
       "      <th>...</th>\n",
       "      <td>...</td>\n",
       "      <td>...</td>\n",
       "    </tr>\n",
       "    <tr>\n",
       "      <th>545</th>\n",
       "      <td>545</td>\n",
       "      <td>coffee</td>\n",
       "    </tr>\n",
       "    <tr>\n",
       "      <th>546</th>\n",
       "      <td>546</td>\n",
       "      <td>papaya</td>\n",
       "    </tr>\n",
       "    <tr>\n",
       "      <th>547</th>\n",
       "      <td>547</td>\n",
       "      <td>chickpea</td>\n",
       "    </tr>\n",
       "    <tr>\n",
       "      <th>548</th>\n",
       "      <td>548</td>\n",
       "      <td>coffee</td>\n",
       "    </tr>\n",
       "    <tr>\n",
       "      <th>549</th>\n",
       "      <td>549</td>\n",
       "      <td>jute</td>\n",
       "    </tr>\n",
       "  </tbody>\n",
       "</table>\n",
       "<p>550 rows × 2 columns</p>\n",
       "</div>"
      ],
      "text/plain": [
       "      id       label\n",
       "0      0   muskmelon\n",
       "1      1  watermelon\n",
       "2      2      papaya\n",
       "3      3      papaya\n",
       "4      4       apple\n",
       "..   ...         ...\n",
       "545  545      coffee\n",
       "546  546      papaya\n",
       "547  547    chickpea\n",
       "548  548      coffee\n",
       "549  549        jute\n",
       "\n",
       "[550 rows x 2 columns]"
      ]
     },
     "execution_count": 24,
     "metadata": {},
     "output_type": "execute_result"
    }
   ],
   "source": [
    "submit.to_csv('submit.csv',index=False)\n",
    "submit"
   ]
  }
 ],
 "metadata": {
  "kernelspec": {
   "display_name": "Python 3",
   "language": "python",
   "name": "python3"
  },
  "language_info": {
   "codemirror_mode": {
    "name": "ipython",
    "version": 3
   },
   "file_extension": ".py",
   "mimetype": "text/x-python",
   "name": "python",
   "nbconvert_exporter": "python",
   "pygments_lexer": "ipython3",
   "version": "3.7.12"
  },
  "papermill": {
   "default_parameters": {},
   "duration": 87.135446,
   "end_time": "2022-09-26T04:35:02.053049",
   "environment_variables": {},
   "exception": null,
   "input_path": "__notebook__.ipynb",
   "output_path": "__notebook__.ipynb",
   "parameters": {},
   "start_time": "2022-09-26T04:33:34.917603",
   "version": "2.3.4"
  }
 },
 "nbformat": 4,
 "nbformat_minor": 5
}
