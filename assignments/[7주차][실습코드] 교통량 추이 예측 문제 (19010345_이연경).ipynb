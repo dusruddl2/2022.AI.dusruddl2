{
 "cells": [
  {
   "cell_type": "code",
   "execution_count": 1,
   "id": "cf39c837",
   "metadata": {
    "_cell_guid": "b1076dfc-b9ad-4769-8c92-a6c4dae69d19",
    "_uuid": "8f2839f25d086af736a60e9eeb907d3b93b6e0e5",
    "execution": {
     "iopub.execute_input": "2022-10-13T08:53:39.542543Z",
     "iopub.status.busy": "2022-10-13T08:53:39.542113Z",
     "iopub.status.idle": "2022-10-13T08:53:39.555006Z",
     "shell.execute_reply": "2022-10-13T08:53:39.553756Z"
    },
    "papermill": {
     "duration": 0.026171,
     "end_time": "2022-10-13T08:53:39.557442",
     "exception": false,
     "start_time": "2022-10-13T08:53:39.531271",
     "status": "completed"
    },
    "tags": []
   },
   "outputs": [
    {
     "name": "stdout",
     "output_type": "stream",
     "text": [
      "/kaggle/input/2022-ai-w7p2/sample_submission.csv\n",
      "/kaggle/input/2022-ai-w7p2/x_test.csv\n",
      "/kaggle/input/2022-ai-w7p2/y_train.csv\n",
      "/kaggle/input/2022-ai-w7p2/x_train.csv\n"
     ]
    }
   ],
   "source": [
    "# This Python 3 environment comes with many helpful analytics libraries installed\n",
    "# It is defined by the kaggle/python Docker image: https://github.com/kaggle/docker-python\n",
    "# For example, here's several helpful packages to load\n",
    "\n",
    "import numpy as np # linear algebra\n",
    "import pandas as pd # data processing, CSV file I/O (e.g. pd.read_csv)\n",
    "\n",
    "# Input data files are available in the read-only \"../input/\" directory\n",
    "# For example, running this (by clicking run or pressing Shift+Enter) will list all files under the input directory\n",
    "\n",
    "import os\n",
    "for dirname, _, filenames in os.walk('/kaggle/input'):\n",
    "    for filename in filenames:\n",
    "        print(os.path.join(dirname, filename))\n",
    "\n",
    "# You can write up to 20GB to the current directory (/kaggle/working/) that gets preserved as output when you create a version using \"Save & Run All\" \n",
    "# You can also write temporary files to /kaggle/temp/, but they won't be saved outside of the current session"
   ]
  },
  {
   "cell_type": "code",
   "execution_count": 2,
   "id": "de048cdd",
   "metadata": {
    "execution": {
     "iopub.execute_input": "2022-10-13T08:53:39.575926Z",
     "iopub.status.busy": "2022-10-13T08:53:39.575522Z",
     "iopub.status.idle": "2022-10-13T08:53:41.296405Z",
     "shell.execute_reply": "2022-10-13T08:53:41.295104Z"
    },
    "papermill": {
     "duration": 1.73307,
     "end_time": "2022-10-13T08:53:41.299135",
     "exception": false,
     "start_time": "2022-10-13T08:53:39.566065",
     "status": "completed"
    },
    "tags": []
   },
   "outputs": [],
   "source": [
    "import random\n",
    "import torch\n",
    "import torch.nn as nn\n",
    "import torch.optim as optim\n",
    "\n",
    "seed = 42\n",
    "random.seed(seed)\n",
    "np.random.seed(seed)\n",
    "torch.manual_seed(seed)\n",
    "if torch.cuda.is_available():\n",
    "    torch.cuda.manual_seed(seed)\n",
    "    torch.cuda.manual_seed_all(seed)\n",
    "torch.backends.cudnn.benchmark = False\n",
    "torch.backends.cudnn.deterministic = True"
   ]
  },
  {
   "cell_type": "code",
   "execution_count": 3,
   "id": "07517f3f",
   "metadata": {
    "execution": {
     "iopub.execute_input": "2022-10-13T08:53:41.317265Z",
     "iopub.status.busy": "2022-10-13T08:53:41.316718Z",
     "iopub.status.idle": "2022-10-13T08:53:41.325915Z",
     "shell.execute_reply": "2022-10-13T08:53:41.324375Z"
    },
    "papermill": {
     "duration": 0.021271,
     "end_time": "2022-10-13T08:53:41.328669",
     "exception": false,
     "start_time": "2022-10-13T08:53:41.307398",
     "status": "completed"
    },
    "tags": []
   },
   "outputs": [
    {
     "data": {
      "text/plain": [
       "'cpu'"
      ]
     },
     "execution_count": 3,
     "metadata": {},
     "output_type": "execute_result"
    }
   ],
   "source": [
    "device = \"cpu\"\n",
    "device"
   ]
  },
  {
   "cell_type": "code",
   "execution_count": 4,
   "id": "fe43a132",
   "metadata": {
    "execution": {
     "iopub.execute_input": "2022-10-13T08:53:41.346408Z",
     "iopub.status.busy": "2022-10-13T08:53:41.346042Z",
     "iopub.status.idle": "2022-10-13T08:53:41.350550Z",
     "shell.execute_reply": "2022-10-13T08:53:41.349564Z"
    },
    "papermill": {
     "duration": 0.015615,
     "end_time": "2022-10-13T08:53:41.352550",
     "exception": false,
     "start_time": "2022-10-13T08:53:41.336935",
     "status": "completed"
    },
    "tags": []
   },
   "outputs": [],
   "source": [
    "# device = \"cuda\" if torch.cuda.is_available else \"cpu\"\n",
    "# device"
   ]
  },
  {
   "cell_type": "markdown",
   "id": "9e081fe8",
   "metadata": {
    "papermill": {
     "duration": 0.009438,
     "end_time": "2022-10-13T08:53:41.372126",
     "exception": false,
     "start_time": "2022-10-13T08:53:41.362688",
     "status": "completed"
    },
    "tags": []
   },
   "source": [
    "# 데이터 전처리"
   ]
  },
  {
   "cell_type": "markdown",
   "id": "32345d2a",
   "metadata": {
    "papermill": {
     "duration": 0.010811,
     "end_time": "2022-10-13T08:53:41.395635",
     "exception": false,
     "start_time": "2022-10-13T08:53:41.384824",
     "status": "completed"
    },
    "tags": []
   },
   "source": [
    "## X_train, y_train, X_test"
   ]
  },
  {
   "cell_type": "code",
   "execution_count": 5,
   "id": "daacd2c9",
   "metadata": {
    "execution": {
     "iopub.execute_input": "2022-10-13T08:53:41.417759Z",
     "iopub.status.busy": "2022-10-13T08:53:41.416621Z",
     "iopub.status.idle": "2022-10-13T08:53:41.739239Z",
     "shell.execute_reply": "2022-10-13T08:53:41.738040Z"
    },
    "papermill": {
     "duration": 0.334913,
     "end_time": "2022-10-13T08:53:41.741498",
     "exception": false,
     "start_time": "2022-10-13T08:53:41.406585",
     "status": "completed"
    },
    "tags": []
   },
   "outputs": [
    {
     "data": {
      "text/html": [
       "<div>\n",
       "<style scoped>\n",
       "    .dataframe tbody tr th:only-of-type {\n",
       "        vertical-align: middle;\n",
       "    }\n",
       "\n",
       "    .dataframe tbody tr th {\n",
       "        vertical-align: top;\n",
       "    }\n",
       "\n",
       "    .dataframe thead th {\n",
       "        text-align: right;\n",
       "    }\n",
       "</style>\n",
       "<table border=\"1\" class=\"dataframe\">\n",
       "  <thead>\n",
       "    <tr style=\"text-align: right;\">\n",
       "      <th></th>\n",
       "      <th>시도명</th>\n",
       "      <th>읍면동명</th>\n",
       "      <th>거주인구</th>\n",
       "      <th>근무인구</th>\n",
       "      <th>방문인구</th>\n",
       "      <th>총 유동인구</th>\n",
       "      <th>평균 속도</th>\n",
       "      <th>평균 소요 시간</th>\n",
       "      <th>평균 기온</th>\n",
       "      <th>일강수량</th>\n",
       "      <th>평균 풍속</th>\n",
       "      <th>월</th>\n",
       "      <th>일</th>\n",
       "      <th>년</th>\n",
       "    </tr>\n",
       "  </thead>\n",
       "  <tbody>\n",
       "    <tr>\n",
       "      <th>0</th>\n",
       "      <td>0</td>\n",
       "      <td>26</td>\n",
       "      <td>76018.965</td>\n",
       "      <td>5009.811</td>\n",
       "      <td>36887.341</td>\n",
       "      <td>117916.117</td>\n",
       "      <td>40.467</td>\n",
       "      <td>21.667</td>\n",
       "      <td>17.750</td>\n",
       "      <td>0.000</td>\n",
       "      <td>2.725</td>\n",
       "      <td>9</td>\n",
       "      <td>25</td>\n",
       "      <td>2019</td>\n",
       "    </tr>\n",
       "    <tr>\n",
       "      <th>1</th>\n",
       "      <td>1</td>\n",
       "      <td>24</td>\n",
       "      <td>1232416.968</td>\n",
       "      <td>76043.955</td>\n",
       "      <td>451558.268</td>\n",
       "      <td>1760019.191</td>\n",
       "      <td>38.126</td>\n",
       "      <td>31.632</td>\n",
       "      <td>13.300</td>\n",
       "      <td>14.500</td>\n",
       "      <td>4.500</td>\n",
       "      <td>3</td>\n",
       "      <td>4</td>\n",
       "      <td>2018</td>\n",
       "    </tr>\n",
       "    <tr>\n",
       "      <th>2</th>\n",
       "      <td>1</td>\n",
       "      <td>23</td>\n",
       "      <td>134260.946</td>\n",
       "      <td>8412.761</td>\n",
       "      <td>78177.981</td>\n",
       "      <td>220851.688</td>\n",
       "      <td>51.107</td>\n",
       "      <td>45.643</td>\n",
       "      <td>5.250</td>\n",
       "      <td>0.500</td>\n",
       "      <td>4.950</td>\n",
       "      <td>4</td>\n",
       "      <td>7</td>\n",
       "      <td>2018</td>\n",
       "    </tr>\n",
       "    <tr>\n",
       "      <th>3</th>\n",
       "      <td>1</td>\n",
       "      <td>25</td>\n",
       "      <td>289327.429</td>\n",
       "      <td>39102.424</td>\n",
       "      <td>287029.303</td>\n",
       "      <td>615459.156</td>\n",
       "      <td>33.067</td>\n",
       "      <td>48.000</td>\n",
       "      <td>26.300</td>\n",
       "      <td>0.500</td>\n",
       "      <td>1.500</td>\n",
       "      <td>8</td>\n",
       "      <td>14</td>\n",
       "      <td>2019</td>\n",
       "    </tr>\n",
       "    <tr>\n",
       "      <th>4</th>\n",
       "      <td>1</td>\n",
       "      <td>7</td>\n",
       "      <td>1116617.660</td>\n",
       "      <td>96560.651</td>\n",
       "      <td>524905.301</td>\n",
       "      <td>1738083.612</td>\n",
       "      <td>40.392</td>\n",
       "      <td>26.961</td>\n",
       "      <td>8.400</td>\n",
       "      <td>44.000</td>\n",
       "      <td>4.300</td>\n",
       "      <td>12</td>\n",
       "      <td>1</td>\n",
       "      <td>2019</td>\n",
       "    </tr>\n",
       "    <tr>\n",
       "      <th>...</th>\n",
       "      <td>...</td>\n",
       "      <td>...</td>\n",
       "      <td>...</td>\n",
       "      <td>...</td>\n",
       "      <td>...</td>\n",
       "      <td>...</td>\n",
       "      <td>...</td>\n",
       "      <td>...</td>\n",
       "      <td>...</td>\n",
       "      <td>...</td>\n",
       "      <td>...</td>\n",
       "      <td>...</td>\n",
       "      <td>...</td>\n",
       "      <td>...</td>\n",
       "    </tr>\n",
       "    <tr>\n",
       "      <th>21481</th>\n",
       "      <td>0</td>\n",
       "      <td>6</td>\n",
       "      <td>91977.598</td>\n",
       "      <td>14802.819</td>\n",
       "      <td>79885.446</td>\n",
       "      <td>186665.863</td>\n",
       "      <td>41.676</td>\n",
       "      <td>21.676</td>\n",
       "      <td>6.400</td>\n",
       "      <td>0.000</td>\n",
       "      <td>1.600</td>\n",
       "      <td>3</td>\n",
       "      <td>5</td>\n",
       "      <td>2020</td>\n",
       "    </tr>\n",
       "    <tr>\n",
       "      <th>21482</th>\n",
       "      <td>0</td>\n",
       "      <td>9</td>\n",
       "      <td>63673.610</td>\n",
       "      <td>3725.663</td>\n",
       "      <td>65813.385</td>\n",
       "      <td>133212.658</td>\n",
       "      <td>48.737</td>\n",
       "      <td>26.105</td>\n",
       "      <td>18.300</td>\n",
       "      <td>7.000</td>\n",
       "      <td>3.700</td>\n",
       "      <td>5</td>\n",
       "      <td>26</td>\n",
       "      <td>2018</td>\n",
       "    </tr>\n",
       "    <tr>\n",
       "      <th>21483</th>\n",
       "      <td>1</td>\n",
       "      <td>3</td>\n",
       "      <td>406035.642</td>\n",
       "      <td>46335.550</td>\n",
       "      <td>258079.137</td>\n",
       "      <td>710450.329</td>\n",
       "      <td>49.314</td>\n",
       "      <td>50.943</td>\n",
       "      <td>-6.133</td>\n",
       "      <td>0.833</td>\n",
       "      <td>6.067</td>\n",
       "      <td>1</td>\n",
       "      <td>25</td>\n",
       "      <td>2018</td>\n",
       "    </tr>\n",
       "    <tr>\n",
       "      <th>21484</th>\n",
       "      <td>1</td>\n",
       "      <td>25</td>\n",
       "      <td>315737.894</td>\n",
       "      <td>25379.224</td>\n",
       "      <td>283079.548</td>\n",
       "      <td>624196.666</td>\n",
       "      <td>35.312</td>\n",
       "      <td>43.688</td>\n",
       "      <td>8.600</td>\n",
       "      <td>0.000</td>\n",
       "      <td>3.100</td>\n",
       "      <td>3</td>\n",
       "      <td>17</td>\n",
       "      <td>2019</td>\n",
       "    </tr>\n",
       "    <tr>\n",
       "      <th>21485</th>\n",
       "      <td>1</td>\n",
       "      <td>27</td>\n",
       "      <td>1092141.759</td>\n",
       "      <td>185878.376</td>\n",
       "      <td>518636.283</td>\n",
       "      <td>1796656.419</td>\n",
       "      <td>33.438</td>\n",
       "      <td>43.688</td>\n",
       "      <td>21.500</td>\n",
       "      <td>57.500</td>\n",
       "      <td>3.000</td>\n",
       "      <td>10</td>\n",
       "      <td>1</td>\n",
       "      <td>2019</td>\n",
       "    </tr>\n",
       "  </tbody>\n",
       "</table>\n",
       "<p>21486 rows × 14 columns</p>\n",
       "</div>"
      ],
      "text/plain": [
       "       시도명  읍면동명         거주인구        근무인구        방문인구       총 유동인구   평균 속도  \\\n",
       "0        0    26    76018.965    5009.811   36887.341   117916.117  40.467   \n",
       "1        1    24  1232416.968   76043.955  451558.268  1760019.191  38.126   \n",
       "2        1    23   134260.946    8412.761   78177.981   220851.688  51.107   \n",
       "3        1    25   289327.429   39102.424  287029.303   615459.156  33.067   \n",
       "4        1     7  1116617.660   96560.651  524905.301  1738083.612  40.392   \n",
       "...    ...   ...          ...         ...         ...          ...     ...   \n",
       "21481    0     6    91977.598   14802.819   79885.446   186665.863  41.676   \n",
       "21482    0     9    63673.610    3725.663   65813.385   133212.658  48.737   \n",
       "21483    1     3   406035.642   46335.550  258079.137   710450.329  49.314   \n",
       "21484    1    25   315737.894   25379.224  283079.548   624196.666  35.312   \n",
       "21485    1    27  1092141.759  185878.376  518636.283  1796656.419  33.438   \n",
       "\n",
       "       평균 소요 시간   평균 기온    일강수량  평균 풍속   월   일     년  \n",
       "0        21.667  17.750   0.000  2.725   9  25  2019  \n",
       "1        31.632  13.300  14.500  4.500   3   4  2018  \n",
       "2        45.643   5.250   0.500  4.950   4   7  2018  \n",
       "3        48.000  26.300   0.500  1.500   8  14  2019  \n",
       "4        26.961   8.400  44.000  4.300  12   1  2019  \n",
       "...         ...     ...     ...    ...  ..  ..   ...  \n",
       "21481    21.676   6.400   0.000  1.600   3   5  2020  \n",
       "21482    26.105  18.300   7.000  3.700   5  26  2018  \n",
       "21483    50.943  -6.133   0.833  6.067   1  25  2018  \n",
       "21484    43.688   8.600   0.000  3.100   3  17  2019  \n",
       "21485    43.688  21.500  57.500  3.000  10   1  2019  \n",
       "\n",
       "[21486 rows x 14 columns]"
      ]
     },
     "execution_count": 5,
     "metadata": {},
     "output_type": "execute_result"
    }
   ],
   "source": [
    "X_train = pd.DataFrame(pd.read_csv('../input/2022-ai-w7p2/x_train.csv',engine='python',encoding='CP949'))\n",
    "X_train"
   ]
  },
  {
   "cell_type": "code",
   "execution_count": 6,
   "id": "e202c206",
   "metadata": {
    "execution": {
     "iopub.execute_input": "2022-10-13T08:53:41.760610Z",
     "iopub.status.busy": "2022-10-13T08:53:41.760227Z",
     "iopub.status.idle": "2022-10-13T08:53:41.837547Z",
     "shell.execute_reply": "2022-10-13T08:53:41.836456Z"
    },
    "papermill": {
     "duration": 0.091658,
     "end_time": "2022-10-13T08:53:41.841817",
     "exception": false,
     "start_time": "2022-10-13T08:53:41.750159",
     "status": "completed"
    },
    "tags": []
   },
   "outputs": [
    {
     "data": {
      "text/html": [
       "<div>\n",
       "<style scoped>\n",
       "    .dataframe tbody tr th:only-of-type {\n",
       "        vertical-align: middle;\n",
       "    }\n",
       "\n",
       "    .dataframe tbody tr th {\n",
       "        vertical-align: top;\n",
       "    }\n",
       "\n",
       "    .dataframe thead th {\n",
       "        text-align: right;\n",
       "    }\n",
       "</style>\n",
       "<table border=\"1\" class=\"dataframe\">\n",
       "  <thead>\n",
       "    <tr style=\"text-align: right;\">\n",
       "      <th></th>\n",
       "      <th>교통량</th>\n",
       "    </tr>\n",
       "  </thead>\n",
       "  <tbody>\n",
       "    <tr>\n",
       "      <th>0</th>\n",
       "      <td>0.000</td>\n",
       "    </tr>\n",
       "    <tr>\n",
       "      <th>1</th>\n",
       "      <td>1532.989</td>\n",
       "    </tr>\n",
       "    <tr>\n",
       "      <th>2</th>\n",
       "      <td>710.107</td>\n",
       "    </tr>\n",
       "    <tr>\n",
       "      <th>3</th>\n",
       "      <td>374.200</td>\n",
       "    </tr>\n",
       "    <tr>\n",
       "      <th>4</th>\n",
       "      <td>535.882</td>\n",
       "    </tr>\n",
       "    <tr>\n",
       "      <th>...</th>\n",
       "      <td>...</td>\n",
       "    </tr>\n",
       "    <tr>\n",
       "      <th>21481</th>\n",
       "      <td>91.000</td>\n",
       "    </tr>\n",
       "    <tr>\n",
       "      <th>21482</th>\n",
       "      <td>0.000</td>\n",
       "    </tr>\n",
       "    <tr>\n",
       "      <th>21483</th>\n",
       "      <td>0.000</td>\n",
       "    </tr>\n",
       "    <tr>\n",
       "      <th>21484</th>\n",
       "      <td>283.625</td>\n",
       "    </tr>\n",
       "    <tr>\n",
       "      <th>21485</th>\n",
       "      <td>254.188</td>\n",
       "    </tr>\n",
       "  </tbody>\n",
       "</table>\n",
       "<p>21486 rows × 1 columns</p>\n",
       "</div>"
      ],
      "text/plain": [
       "            교통량\n",
       "0         0.000\n",
       "1      1532.989\n",
       "2       710.107\n",
       "3       374.200\n",
       "4       535.882\n",
       "...         ...\n",
       "21481    91.000\n",
       "21482     0.000\n",
       "21483     0.000\n",
       "21484   283.625\n",
       "21485   254.188\n",
       "\n",
       "[21486 rows x 1 columns]"
      ]
     },
     "execution_count": 6,
     "metadata": {},
     "output_type": "execute_result"
    }
   ],
   "source": [
    "y_train = pd.DataFrame(pd.read_csv('../input/2022-ai-w7p2/y_train.csv',engine='python',encoding='CP949'))\n",
    "y_train"
   ]
  },
  {
   "cell_type": "code",
   "execution_count": 7,
   "id": "47b97333",
   "metadata": {
    "execution": {
     "iopub.execute_input": "2022-10-13T08:53:41.866637Z",
     "iopub.status.busy": "2022-10-13T08:53:41.865714Z",
     "iopub.status.idle": "2022-10-13T08:53:42.027414Z",
     "shell.execute_reply": "2022-10-13T08:53:42.026289Z"
    },
    "papermill": {
     "duration": 0.176055,
     "end_time": "2022-10-13T08:53:42.029715",
     "exception": false,
     "start_time": "2022-10-13T08:53:41.853660",
     "status": "completed"
    },
    "tags": []
   },
   "outputs": [
    {
     "data": {
      "text/html": [
       "<div>\n",
       "<style scoped>\n",
       "    .dataframe tbody tr th:only-of-type {\n",
       "        vertical-align: middle;\n",
       "    }\n",
       "\n",
       "    .dataframe tbody tr th {\n",
       "        vertical-align: top;\n",
       "    }\n",
       "\n",
       "    .dataframe thead th {\n",
       "        text-align: right;\n",
       "    }\n",
       "</style>\n",
       "<table border=\"1\" class=\"dataframe\">\n",
       "  <thead>\n",
       "    <tr style=\"text-align: right;\">\n",
       "      <th></th>\n",
       "      <th>시도명</th>\n",
       "      <th>읍면동명</th>\n",
       "      <th>거주인구</th>\n",
       "      <th>근무인구</th>\n",
       "      <th>방문인구</th>\n",
       "      <th>총 유동인구</th>\n",
       "      <th>평균 속도</th>\n",
       "      <th>평균 소요 시간</th>\n",
       "      <th>평균 기온</th>\n",
       "      <th>일강수량</th>\n",
       "      <th>평균 풍속</th>\n",
       "      <th>월</th>\n",
       "      <th>일</th>\n",
       "      <th>년</th>\n",
       "    </tr>\n",
       "  </thead>\n",
       "  <tbody>\n",
       "    <tr>\n",
       "      <th>0</th>\n",
       "      <td>0</td>\n",
       "      <td>28</td>\n",
       "      <td>45737.828</td>\n",
       "      <td>8703.034</td>\n",
       "      <td>91775.025</td>\n",
       "      <td>146215.887</td>\n",
       "      <td>57.286</td>\n",
       "      <td>35.000</td>\n",
       "      <td>6.500</td>\n",
       "      <td>0.0</td>\n",
       "      <td>2.9</td>\n",
       "      <td>1</td>\n",
       "      <td>12</td>\n",
       "      <td>2020</td>\n",
       "    </tr>\n",
       "    <tr>\n",
       "      <th>1</th>\n",
       "      <td>1</td>\n",
       "      <td>21</td>\n",
       "      <td>289284.270</td>\n",
       "      <td>48392.749</td>\n",
       "      <td>179649.272</td>\n",
       "      <td>517326.291</td>\n",
       "      <td>50.500</td>\n",
       "      <td>58.912</td>\n",
       "      <td>18.833</td>\n",
       "      <td>0.0</td>\n",
       "      <td>2.3</td>\n",
       "      <td>6</td>\n",
       "      <td>10</td>\n",
       "      <td>2019</td>\n",
       "    </tr>\n",
       "    <tr>\n",
       "      <th>2</th>\n",
       "      <td>1</td>\n",
       "      <td>4</td>\n",
       "      <td>72684.218</td>\n",
       "      <td>45632.065</td>\n",
       "      <td>120931.098</td>\n",
       "      <td>239247.380</td>\n",
       "      <td>34.727</td>\n",
       "      <td>60.000</td>\n",
       "      <td>13.200</td>\n",
       "      <td>0.0</td>\n",
       "      <td>1.8</td>\n",
       "      <td>5</td>\n",
       "      <td>10</td>\n",
       "      <td>2019</td>\n",
       "    </tr>\n",
       "    <tr>\n",
       "      <th>3</th>\n",
       "      <td>1</td>\n",
       "      <td>12</td>\n",
       "      <td>235752.513</td>\n",
       "      <td>34212.805</td>\n",
       "      <td>186910.679</td>\n",
       "      <td>456875.997</td>\n",
       "      <td>37.167</td>\n",
       "      <td>26.500</td>\n",
       "      <td>11.700</td>\n",
       "      <td>0.0</td>\n",
       "      <td>4.8</td>\n",
       "      <td>3</td>\n",
       "      <td>19</td>\n",
       "      <td>2020</td>\n",
       "    </tr>\n",
       "    <tr>\n",
       "      <th>4</th>\n",
       "      <td>1</td>\n",
       "      <td>17</td>\n",
       "      <td>544250.956</td>\n",
       "      <td>64188.293</td>\n",
       "      <td>205182.677</td>\n",
       "      <td>813621.925</td>\n",
       "      <td>31.462</td>\n",
       "      <td>37.769</td>\n",
       "      <td>22.233</td>\n",
       "      <td>0.0</td>\n",
       "      <td>2.3</td>\n",
       "      <td>9</td>\n",
       "      <td>5</td>\n",
       "      <td>2018</td>\n",
       "    </tr>\n",
       "    <tr>\n",
       "      <th>...</th>\n",
       "      <td>...</td>\n",
       "      <td>...</td>\n",
       "      <td>...</td>\n",
       "      <td>...</td>\n",
       "      <td>...</td>\n",
       "      <td>...</td>\n",
       "      <td>...</td>\n",
       "      <td>...</td>\n",
       "      <td>...</td>\n",
       "      <td>...</td>\n",
       "      <td>...</td>\n",
       "      <td>...</td>\n",
       "      <td>...</td>\n",
       "      <td>...</td>\n",
       "    </tr>\n",
       "    <tr>\n",
       "      <th>10578</th>\n",
       "      <td>1</td>\n",
       "      <td>37</td>\n",
       "      <td>30949.221</td>\n",
       "      <td>7243.292</td>\n",
       "      <td>73243.733</td>\n",
       "      <td>111436.245</td>\n",
       "      <td>27.500</td>\n",
       "      <td>26.000</td>\n",
       "      <td>0.100</td>\n",
       "      <td>1.0</td>\n",
       "      <td>2.7</td>\n",
       "      <td>2</td>\n",
       "      <td>9</td>\n",
       "      <td>2019</td>\n",
       "    </tr>\n",
       "    <tr>\n",
       "      <th>10579</th>\n",
       "      <td>0</td>\n",
       "      <td>39</td>\n",
       "      <td>287544.537</td>\n",
       "      <td>19901.138</td>\n",
       "      <td>230494.219</td>\n",
       "      <td>537939.894</td>\n",
       "      <td>49.130</td>\n",
       "      <td>55.130</td>\n",
       "      <td>20.600</td>\n",
       "      <td>9.0</td>\n",
       "      <td>4.3</td>\n",
       "      <td>7</td>\n",
       "      <td>8</td>\n",
       "      <td>2018</td>\n",
       "    </tr>\n",
       "    <tr>\n",
       "      <th>10580</th>\n",
       "      <td>1</td>\n",
       "      <td>35</td>\n",
       "      <td>217597.813</td>\n",
       "      <td>18838.618</td>\n",
       "      <td>150540.187</td>\n",
       "      <td>386976.617</td>\n",
       "      <td>27.500</td>\n",
       "      <td>30.750</td>\n",
       "      <td>0.000</td>\n",
       "      <td>0.0</td>\n",
       "      <td>5.8</td>\n",
       "      <td>2</td>\n",
       "      <td>12</td>\n",
       "      <td>2018</td>\n",
       "    </tr>\n",
       "    <tr>\n",
       "      <th>10581</th>\n",
       "      <td>0</td>\n",
       "      <td>6</td>\n",
       "      <td>80350.674</td>\n",
       "      <td>26339.878</td>\n",
       "      <td>101347.505</td>\n",
       "      <td>208038.057</td>\n",
       "      <td>41.000</td>\n",
       "      <td>19.968</td>\n",
       "      <td>18.800</td>\n",
       "      <td>1.0</td>\n",
       "      <td>2.4</td>\n",
       "      <td>10</td>\n",
       "      <td>18</td>\n",
       "      <td>2019</td>\n",
       "    </tr>\n",
       "    <tr>\n",
       "      <th>10582</th>\n",
       "      <td>1</td>\n",
       "      <td>7</td>\n",
       "      <td>1042638.731</td>\n",
       "      <td>141129.724</td>\n",
       "      <td>556050.197</td>\n",
       "      <td>1739818.652</td>\n",
       "      <td>38.157</td>\n",
       "      <td>31.549</td>\n",
       "      <td>21.600</td>\n",
       "      <td>0.0</td>\n",
       "      <td>0.8</td>\n",
       "      <td>8</td>\n",
       "      <td>1</td>\n",
       "      <td>2019</td>\n",
       "    </tr>\n",
       "  </tbody>\n",
       "</table>\n",
       "<p>10583 rows × 14 columns</p>\n",
       "</div>"
      ],
      "text/plain": [
       "       시도명  읍면동명         거주인구        근무인구        방문인구       총 유동인구   평균 속도  \\\n",
       "0        0    28    45737.828    8703.034   91775.025   146215.887  57.286   \n",
       "1        1    21   289284.270   48392.749  179649.272   517326.291  50.500   \n",
       "2        1     4    72684.218   45632.065  120931.098   239247.380  34.727   \n",
       "3        1    12   235752.513   34212.805  186910.679   456875.997  37.167   \n",
       "4        1    17   544250.956   64188.293  205182.677   813621.925  31.462   \n",
       "...    ...   ...          ...         ...         ...          ...     ...   \n",
       "10578    1    37    30949.221    7243.292   73243.733   111436.245  27.500   \n",
       "10579    0    39   287544.537   19901.138  230494.219   537939.894  49.130   \n",
       "10580    1    35   217597.813   18838.618  150540.187   386976.617  27.500   \n",
       "10581    0     6    80350.674   26339.878  101347.505   208038.057  41.000   \n",
       "10582    1     7  1042638.731  141129.724  556050.197  1739818.652  38.157   \n",
       "\n",
       "       평균 소요 시간   평균 기온  일강수량  평균 풍속   월   일     년  \n",
       "0        35.000   6.500   0.0    2.9   1  12  2020  \n",
       "1        58.912  18.833   0.0    2.3   6  10  2019  \n",
       "2        60.000  13.200   0.0    1.8   5  10  2019  \n",
       "3        26.500  11.700   0.0    4.8   3  19  2020  \n",
       "4        37.769  22.233   0.0    2.3   9   5  2018  \n",
       "...         ...     ...   ...    ...  ..  ..   ...  \n",
       "10578    26.000   0.100   1.0    2.7   2   9  2019  \n",
       "10579    55.130  20.600   9.0    4.3   7   8  2018  \n",
       "10580    30.750   0.000   0.0    5.8   2  12  2018  \n",
       "10581    19.968  18.800   1.0    2.4  10  18  2019  \n",
       "10582    31.549  21.600   0.0    0.8   8   1  2019  \n",
       "\n",
       "[10583 rows x 14 columns]"
      ]
     },
     "execution_count": 7,
     "metadata": {},
     "output_type": "execute_result"
    }
   ],
   "source": [
    "X_test = pd.DataFrame(pd.read_csv('../input/2022-ai-w7p2/x_test.csv',engine='python',encoding='CP949'))\n",
    "X_test"
   ]
  },
  {
   "cell_type": "markdown",
   "id": "c87df5d7",
   "metadata": {
    "papermill": {
     "duration": 0.008785,
     "end_time": "2022-10-13T08:53:42.047627",
     "exception": false,
     "start_time": "2022-10-13T08:53:42.038842",
     "status": "completed"
    },
    "tags": []
   },
   "source": [
    "## StandardScaler¶\n"
   ]
  },
  {
   "cell_type": "code",
   "execution_count": 8,
   "id": "57c7f2e3",
   "metadata": {
    "execution": {
     "iopub.execute_input": "2022-10-13T08:53:42.068172Z",
     "iopub.status.busy": "2022-10-13T08:53:42.067132Z",
     "iopub.status.idle": "2022-10-13T08:53:42.983673Z",
     "shell.execute_reply": "2022-10-13T08:53:42.982606Z"
    },
    "papermill": {
     "duration": 0.929664,
     "end_time": "2022-10-13T08:53:42.986288",
     "exception": false,
     "start_time": "2022-10-13T08:53:42.056624",
     "status": "completed"
    },
    "tags": []
   },
   "outputs": [
    {
     "data": {
      "text/plain": [
       "array([[-1.21569523,  0.52199292, -0.8078558 , ...,  0.83551911,\n",
       "         1.05121316,  0.38288972],\n",
       "       [ 0.82257459,  0.35319096,  3.06377651, ..., -0.88045638,\n",
       "        -1.33283577, -1.03576323],\n",
       "       [ 0.82257459,  0.26878998, -0.61286105, ..., -0.59446047,\n",
       "        -0.99225735, -1.03576323],\n",
       "       ...,\n",
       "       [ 0.82257459, -1.41922962,  0.2970434 , ..., -1.45244821,\n",
       "         1.05121316, -1.03576323],\n",
       "       [ 0.82257459,  0.43759194, -0.00527438, ..., -0.88045638,\n",
       "         0.14300405,  0.38288972],\n",
       "       [ 0.82257459,  0.6063939 ,  2.59413368, ...,  1.12151502,\n",
       "        -1.67341418,  0.38288972]])"
      ]
     },
     "execution_count": 8,
     "metadata": {},
     "output_type": "execute_result"
    }
   ],
   "source": [
    "from sklearn.preprocessing import StandardScaler\n",
    "scaler = StandardScaler()\n",
    "\n",
    "X_train = scaler.fit_transform(X_train)\n",
    "X_train"
   ]
  },
  {
   "cell_type": "code",
   "execution_count": 9,
   "id": "1716c807",
   "metadata": {
    "execution": {
     "iopub.execute_input": "2022-10-13T08:53:43.016297Z",
     "iopub.status.busy": "2022-10-13T08:53:43.015423Z",
     "iopub.status.idle": "2022-10-13T08:53:43.032444Z",
     "shell.execute_reply": "2022-10-13T08:53:43.030863Z"
    },
    "papermill": {
     "duration": 0.033693,
     "end_time": "2022-10-13T08:53:43.034941",
     "exception": false,
     "start_time": "2022-10-13T08:53:43.001248",
     "status": "completed"
    },
    "tags": []
   },
   "outputs": [
    {
     "data": {
      "text/plain": [
       "array([[-1.23840082,  0.69153784, -0.91622957, ..., -1.45049013,\n",
       "        -0.41645411,  1.80493451],\n",
       "       [ 0.80749301,  0.1072362 , -0.0964397 , ..., -0.02468186,\n",
       "        -0.64337893,  0.38516181],\n",
       "       [ 0.80749301, -1.31178206, -0.82552663, ..., -0.30984351,\n",
       "        -0.64337893,  0.38516181],\n",
       "       ...,\n",
       "       [ 0.80749301,  1.27583948, -0.33774001, ..., -1.16532848,\n",
       "        -0.41645411, -1.03461089],\n",
       "       [-1.23840082, -1.14483874, -0.79972095, ...,  1.11596477,\n",
       "         0.26432035,  0.38516181],\n",
       "       [ 0.80749301, -1.06136708,  2.43939023, ...,  0.54564146,\n",
       "        -1.66454062,  0.38516181]])"
      ]
     },
     "execution_count": 9,
     "metadata": {},
     "output_type": "execute_result"
    }
   ],
   "source": [
    "X_test = scaler.fit_transform(X_test)\n",
    "X_test"
   ]
  },
  {
   "cell_type": "markdown",
   "id": "55558c3b",
   "metadata": {
    "papermill": {
     "duration": 0.009052,
     "end_time": "2022-10-13T08:53:43.056949",
     "exception": false,
     "start_time": "2022-10-13T08:53:43.047897",
     "status": "completed"
    },
    "tags": []
   },
   "source": [
    "## Tensor & GPU"
   ]
  },
  {
   "cell_type": "code",
   "execution_count": 10,
   "id": "8380edb4",
   "metadata": {
    "execution": {
     "iopub.execute_input": "2022-10-13T08:53:43.078147Z",
     "iopub.status.busy": "2022-10-13T08:53:43.077359Z",
     "iopub.status.idle": "2022-10-13T08:53:43.088385Z",
     "shell.execute_reply": "2022-10-13T08:53:43.087409Z"
    },
    "papermill": {
     "duration": 0.024009,
     "end_time": "2022-10-13T08:53:43.090609",
     "exception": false,
     "start_time": "2022-10-13T08:53:43.066600",
     "status": "completed"
    },
    "tags": []
   },
   "outputs": [
    {
     "data": {
      "text/plain": [
       "tensor([[-1.2157,  0.5220, -0.8079,  ...,  0.8355,  1.0512,  0.3829],\n",
       "        [ 0.8226,  0.3532,  3.0638,  ..., -0.8805, -1.3328, -1.0358],\n",
       "        [ 0.8226,  0.2688, -0.6129,  ..., -0.5945, -0.9923, -1.0358],\n",
       "        ...,\n",
       "        [ 0.8226, -1.4192,  0.2970,  ..., -1.4524,  1.0512, -1.0358],\n",
       "        [ 0.8226,  0.4376, -0.0053,  ..., -0.8805,  0.1430,  0.3829],\n",
       "        [ 0.8226,  0.6064,  2.5941,  ...,  1.1215, -1.6734,  0.3829]])"
      ]
     },
     "execution_count": 10,
     "metadata": {},
     "output_type": "execute_result"
    }
   ],
   "source": [
    "X_train = torch.FloatTensor(X_train)\n",
    "X_train"
   ]
  },
  {
   "cell_type": "code",
   "execution_count": 11,
   "id": "d04de944",
   "metadata": {
    "execution": {
     "iopub.execute_input": "2022-10-13T08:53:43.111917Z",
     "iopub.status.busy": "2022-10-13T08:53:43.111242Z",
     "iopub.status.idle": "2022-10-13T08:53:43.118918Z",
     "shell.execute_reply": "2022-10-13T08:53:43.117837Z"
    },
    "papermill": {
     "duration": 0.020682,
     "end_time": "2022-10-13T08:53:43.120931",
     "exception": false,
     "start_time": "2022-10-13T08:53:43.100249",
     "status": "completed"
    },
    "tags": []
   },
   "outputs": [
    {
     "data": {
      "text/plain": [
       "tensor([[   0.0000],\n",
       "        [1532.9890],\n",
       "        [ 710.1070],\n",
       "        ...,\n",
       "        [   0.0000],\n",
       "        [ 283.6250],\n",
       "        [ 254.1880]])"
      ]
     },
     "execution_count": 11,
     "metadata": {},
     "output_type": "execute_result"
    }
   ],
   "source": [
    "y_train = torch.FloatTensor(y_train.to_numpy())\n",
    "y_train"
   ]
  },
  {
   "cell_type": "code",
   "execution_count": 12,
   "id": "a6f8730f",
   "metadata": {
    "execution": {
     "iopub.execute_input": "2022-10-13T08:53:43.141749Z",
     "iopub.status.busy": "2022-10-13T08:53:43.141158Z",
     "iopub.status.idle": "2022-10-13T08:53:43.148980Z",
     "shell.execute_reply": "2022-10-13T08:53:43.148053Z"
    },
    "papermill": {
     "duration": 0.020614,
     "end_time": "2022-10-13T08:53:43.151029",
     "exception": false,
     "start_time": "2022-10-13T08:53:43.130415",
     "status": "completed"
    },
    "tags": []
   },
   "outputs": [
    {
     "data": {
      "text/plain": [
       "tensor([[-1.2384,  0.6915, -0.9162,  ..., -1.4505, -0.4165,  1.8049],\n",
       "        [ 0.8075,  0.1072, -0.0964,  ..., -0.0247, -0.6434,  0.3852],\n",
       "        [ 0.8075, -1.3118, -0.8255,  ..., -0.3098, -0.6434,  0.3852],\n",
       "        ...,\n",
       "        [ 0.8075,  1.2758, -0.3377,  ..., -1.1653, -0.4165, -1.0346],\n",
       "        [-1.2384, -1.1448, -0.7997,  ...,  1.1160,  0.2643,  0.3852],\n",
       "        [ 0.8075, -1.0614,  2.4394,  ...,  0.5456, -1.6645,  0.3852]])"
      ]
     },
     "execution_count": 12,
     "metadata": {},
     "output_type": "execute_result"
    }
   ],
   "source": [
    "X_test = torch.FloatTensor(X_test)\n",
    "X_test"
   ]
  },
  {
   "cell_type": "markdown",
   "id": "d93cd9f3",
   "metadata": {
    "papermill": {
     "duration": 0.009386,
     "end_time": "2022-10-13T08:53:43.169940",
     "exception": false,
     "start_time": "2022-10-13T08:53:43.160554",
     "status": "completed"
    },
    "tags": []
   },
   "source": [
    "## Shape"
   ]
  },
  {
   "cell_type": "code",
   "execution_count": 13,
   "id": "32a4b8a6",
   "metadata": {
    "execution": {
     "iopub.execute_input": "2022-10-13T08:53:43.190869Z",
     "iopub.status.busy": "2022-10-13T08:53:43.190196Z",
     "iopub.status.idle": "2022-10-13T08:53:43.196227Z",
     "shell.execute_reply": "2022-10-13T08:53:43.195074Z"
    },
    "papermill": {
     "duration": 0.018921,
     "end_time": "2022-10-13T08:53:43.198301",
     "exception": false,
     "start_time": "2022-10-13T08:53:43.179380",
     "status": "completed"
    },
    "tags": []
   },
   "outputs": [
    {
     "name": "stdout",
     "output_type": "stream",
     "text": [
      "torch.Size([21486, 14])\n",
      "torch.Size([21486, 1])\n"
     ]
    }
   ],
   "source": [
    "print(X_train.shape)\n",
    "print(y_train.shape)"
   ]
  },
  {
   "cell_type": "markdown",
   "id": "d2947bea",
   "metadata": {
    "papermill": {
     "duration": 0.009318,
     "end_time": "2022-10-13T08:53:43.217122",
     "exception": false,
     "start_time": "2022-10-13T08:53:43.207804",
     "status": "completed"
    },
    "tags": []
   },
   "source": [
    "## DataLoader"
   ]
  },
  {
   "cell_type": "code",
   "execution_count": 14,
   "id": "dc3c5b5a",
   "metadata": {
    "execution": {
     "iopub.execute_input": "2022-10-13T08:53:43.238517Z",
     "iopub.status.busy": "2022-10-13T08:53:43.237801Z",
     "iopub.status.idle": "2022-10-13T08:53:43.243100Z",
     "shell.execute_reply": "2022-10-13T08:53:43.242240Z"
    },
    "papermill": {
     "duration": 0.018534,
     "end_time": "2022-10-13T08:53:43.245283",
     "exception": false,
     "start_time": "2022-10-13T08:53:43.226749",
     "status": "completed"
    },
    "tags": []
   },
   "outputs": [],
   "source": [
    "mnist_train = torch.utils.data.TensorDataset(X_train, y_train)\n",
    "mnist_test = torch.utils.data.TensorDataset(X_test)"
   ]
  },
  {
   "cell_type": "code",
   "execution_count": 15,
   "id": "9e191dab",
   "metadata": {
    "execution": {
     "iopub.execute_input": "2022-10-13T08:53:43.266777Z",
     "iopub.status.busy": "2022-10-13T08:53:43.266128Z",
     "iopub.status.idle": "2022-10-13T08:53:43.272551Z",
     "shell.execute_reply": "2022-10-13T08:53:43.271665Z"
    },
    "papermill": {
     "duration": 0.01974,
     "end_time": "2022-10-13T08:53:43.274754",
     "exception": false,
     "start_time": "2022-10-13T08:53:43.255014",
     "status": "completed"
    },
    "tags": []
   },
   "outputs": [],
   "source": [
    "\n",
    "data_loader_train = torch.utils.data.DataLoader(dataset=mnist_train,\n",
    "                                          batch_size=100,\n",
    "                                          shuffle=True,\n",
    "                                          drop_last=True)\n",
    "\n",
    "data_loader_test = torch.utils.data.DataLoader(dataset=mnist_test,\n",
    "                                          batch_size=100,\n",
    "                                          shuffle=True,\n",
    "                                          drop_last=True)"
   ]
  },
  {
   "cell_type": "markdown",
   "id": "32fc2fd8",
   "metadata": {
    "papermill": {
     "duration": 0.009327,
     "end_time": "2022-10-13T08:53:43.293735",
     "exception": false,
     "start_time": "2022-10-13T08:53:43.284408",
     "status": "completed"
    },
    "tags": []
   },
   "source": [
    "# Model Training"
   ]
  },
  {
   "cell_type": "code",
   "execution_count": 16,
   "id": "79d3e850",
   "metadata": {
    "execution": {
     "iopub.execute_input": "2022-10-13T08:53:43.315317Z",
     "iopub.status.busy": "2022-10-13T08:53:43.314329Z",
     "iopub.status.idle": "2022-10-13T08:53:43.319522Z",
     "shell.execute_reply": "2022-10-13T08:53:43.318368Z"
    },
    "papermill": {
     "duration": 0.018765,
     "end_time": "2022-10-13T08:53:43.322244",
     "exception": false,
     "start_time": "2022-10-13T08:53:43.303479",
     "status": "completed"
    },
    "tags": []
   },
   "outputs": [],
   "source": [
    "learning_rate = 0.001\n",
    "training_epochs = 50\n",
    "#batch_size = 100\n",
    "drop_prob = 0.3"
   ]
  },
  {
   "cell_type": "code",
   "execution_count": 17,
   "id": "70e0400d",
   "metadata": {
    "execution": {
     "iopub.execute_input": "2022-10-13T08:53:43.343421Z",
     "iopub.status.busy": "2022-10-13T08:53:43.342754Z",
     "iopub.status.idle": "2022-10-13T08:53:43.361195Z",
     "shell.execute_reply": "2022-10-13T08:53:43.360146Z"
    },
    "papermill": {
     "duration": 0.031853,
     "end_time": "2022-10-13T08:53:43.363639",
     "exception": false,
     "start_time": "2022-10-13T08:53:43.331786",
     "status": "completed"
    },
    "tags": []
   },
   "outputs": [],
   "source": [
    "linear1 = nn.Linear(14,512)\n",
    "linear2 = nn.Linear(512,512)\n",
    "linear3 = nn.Linear(512,512)\n",
    "linear4 = nn.Linear(512,512)\n",
    "linear5 = nn.Linear(512,1)\n",
    "relu = nn.ReLU()\n",
    "dropout = torch.nn.Dropout(p=drop_prob)"
   ]
  },
  {
   "cell_type": "code",
   "execution_count": 18,
   "id": "c73509f6",
   "metadata": {
    "execution": {
     "iopub.execute_input": "2022-10-13T08:53:43.384726Z",
     "iopub.status.busy": "2022-10-13T08:53:43.384074Z",
     "iopub.status.idle": "2022-10-13T08:53:43.407361Z",
     "shell.execute_reply": "2022-10-13T08:53:43.406196Z"
    },
    "papermill": {
     "duration": 0.036318,
     "end_time": "2022-10-13T08:53:43.409615",
     "exception": false,
     "start_time": "2022-10-13T08:53:43.373297",
     "status": "completed"
    },
    "tags": []
   },
   "outputs": [
    {
     "data": {
      "text/plain": [
       "Parameter containing:\n",
       "tensor([[ 4.7736e-02, -4.0885e-02, -3.8723e-02, -7.8612e-02, -3.4084e-02,\n",
       "         -1.2083e-01, -5.2914e-03, -4.5715e-03,  8.7628e-02, -8.9595e-04,\n",
       "          4.6987e-02,  6.8555e-02, -5.8412e-02,  1.0007e-01,  1.1593e-01,\n",
       "         -1.3659e-01, -6.8932e-02, -5.2407e-02,  8.6386e-03, -7.5976e-03,\n",
       "          1.5534e-03,  4.1615e-02, -2.3635e-02,  1.2259e-02, -4.5175e-02,\n",
       "          3.8747e-02, -2.4261e-03,  1.2810e-01, -5.9116e-02,  8.4108e-02,\n",
       "         -7.0621e-03, -1.1676e-01,  4.3033e-02,  3.1111e-02, -8.7739e-03,\n",
       "         -3.1920e-02, -4.9295e-03,  1.2657e-02, -5.8699e-02, -4.7530e-02,\n",
       "          4.7330e-02, -4.9904e-02,  1.4290e-02, -1.6321e-02, -3.1511e-02,\n",
       "          2.2081e-03, -1.0119e-02,  5.1972e-02, -1.1343e-02, -3.1370e-02,\n",
       "         -3.2920e-02,  8.3638e-02,  4.5859e-02,  4.5177e-02, -1.8922e-02,\n",
       "          2.8109e-02, -4.6881e-02,  5.7868e-02,  8.3437e-02,  6.4408e-02,\n",
       "         -9.8256e-02, -8.7944e-02, -2.3549e-02, -7.9030e-02,  3.9257e-02,\n",
       "          2.0275e-02,  4.9621e-02,  1.2655e-02, -4.3261e-02, -6.8123e-02,\n",
       "          6.7637e-02,  9.3923e-03, -1.2526e-01,  8.0093e-02,  3.0383e-02,\n",
       "          6.9302e-03,  7.4328e-02,  1.2188e-01, -3.2320e-02,  1.0007e-01,\n",
       "          6.1334e-02,  3.8650e-02,  3.5442e-02, -1.6237e-02, -1.9135e-02,\n",
       "         -2.6292e-02,  5.4531e-02,  1.5411e-02,  2.4848e-02,  4.3149e-03,\n",
       "          1.4207e-02, -7.9792e-02, -1.4866e-02, -1.8075e-01, -1.4294e-01,\n",
       "          1.0008e-02,  6.4084e-02, -3.3837e-02,  5.1625e-02, -1.0234e-01,\n",
       "          4.3983e-02,  9.1450e-02,  1.2607e-01,  7.2528e-02,  5.9017e-02,\n",
       "         -1.9043e-02,  3.7528e-02,  7.2706e-02,  4.1174e-02,  8.7708e-02,\n",
       "         -1.4771e-02,  7.8459e-03,  4.9336e-02, -1.0555e-01,  6.8675e-03,\n",
       "         -3.5046e-02,  1.3153e-02, -8.7849e-03, -5.4020e-04,  6.9723e-02,\n",
       "          5.3915e-02,  6.3487e-02, -2.4145e-02, -2.0621e-02, -2.1247e-02,\n",
       "          4.1834e-02,  1.0167e-01,  5.7747e-02,  4.7423e-02, -2.2307e-02,\n",
       "         -1.5187e-02, -1.6912e-03, -9.4377e-02,  1.3627e-02,  1.5417e-02,\n",
       "          1.3288e-02,  3.1945e-02,  4.9803e-02,  1.2970e-02,  3.7607e-02,\n",
       "         -1.3654e-01,  4.2652e-02, -3.2330e-02, -5.3186e-02, -1.0351e-01,\n",
       "          1.2709e-02,  1.9050e-02, -4.6896e-02,  3.7026e-02,  4.3718e-02,\n",
       "         -6.5720e-02,  1.4676e-02,  4.6067e-02, -1.2420e-02, -2.8683e-02,\n",
       "         -1.1344e-02,  1.7999e-02,  2.0617e-02, -2.8052e-02, -1.4584e-02,\n",
       "          3.9037e-02, -2.8080e-01, -6.9893e-02, -1.3450e-02,  6.0819e-02,\n",
       "         -6.0290e-02, -1.5932e-02, -6.8753e-02, -7.4274e-02,  1.0626e-01,\n",
       "          3.4856e-02, -2.5411e-02, -3.3906e-02,  1.5109e-02,  9.6588e-02,\n",
       "          4.6158e-03, -4.7162e-02, -2.4107e-02, -7.1840e-03, -6.0920e-03,\n",
       "         -1.4743e-02, -9.4543e-02,  4.2523e-02, -8.4700e-02, -4.3256e-02,\n",
       "          7.8720e-02,  1.4461e-02,  3.8552e-02,  8.0796e-02,  4.4150e-02,\n",
       "          6.3429e-02,  1.0688e-01, -2.0985e-01,  6.9274e-02,  1.6456e-02,\n",
       "          3.2472e-02, -2.0452e-03, -5.7024e-02, -1.4697e-02,  8.0666e-02,\n",
       "         -1.6900e-02,  6.5605e-02, -1.2873e-01,  2.2071e-02, -6.2994e-02,\n",
       "          1.1117e-03,  3.4354e-02,  4.1361e-02,  6.7712e-02, -6.6678e-02,\n",
       "         -2.7776e-02,  5.7644e-02, -2.8935e-02, -6.8556e-02,  5.6651e-02,\n",
       "          4.2556e-02, -9.7242e-04, -5.5968e-03, -3.7662e-02, -1.0091e-02,\n",
       "         -1.2814e-01, -5.1645e-02, -2.4724e-02,  8.3652e-02, -2.0920e-02,\n",
       "          3.4062e-02,  1.3026e-02, -2.2300e-02, -1.2767e-02,  3.4300e-02,\n",
       "         -1.7932e-02, -2.8839e-03,  5.5752e-02, -1.0078e-02, -7.4474e-02,\n",
       "         -2.7125e-02, -4.1171e-03,  6.0199e-02,  5.6257e-02,  2.3514e-02,\n",
       "         -3.6846e-02, -6.6872e-02,  9.7965e-03,  8.9947e-02, -6.1432e-03,\n",
       "         -1.1880e-02, -1.8204e-02, -1.0897e-01,  9.0875e-02,  3.2194e-02,\n",
       "         -6.2946e-02,  4.3608e-03, -3.3603e-02, -5.2484e-02, -3.8051e-02,\n",
       "          1.5485e-01, -3.2357e-02, -3.1525e-02,  8.1168e-02, -4.9958e-02,\n",
       "         -2.9478e-02,  1.6066e-02,  2.5261e-02,  1.6892e-02,  1.1224e-01,\n",
       "          5.8783e-02, -8.2055e-03, -2.3293e-02,  4.0183e-02, -2.0722e-02,\n",
       "          5.6334e-02,  2.1470e-02, -2.6637e-02, -2.1779e-02, -1.9737e-02,\n",
       "          2.7554e-02, -6.0617e-02,  8.9633e-02, -7.3575e-03,  1.5591e-02,\n",
       "          1.1856e-01,  4.3462e-02, -6.2084e-02,  8.0053e-03,  1.0024e-01,\n",
       "          5.0917e-02,  1.7398e-01, -1.0981e-02,  5.6693e-02,  9.7954e-02,\n",
       "          1.8621e-02,  3.8010e-02, -6.0965e-03,  3.5437e-02,  9.7025e-02,\n",
       "          3.7593e-02, -7.3400e-03, -2.8947e-02, -2.5970e-03,  5.1197e-02,\n",
       "         -1.2067e-01, -3.7403e-02, -7.2525e-02,  7.7405e-02, -5.9124e-04,\n",
       "         -9.9940e-03,  1.3587e-02, -1.2881e-01, -6.5862e-04,  5.0111e-02,\n",
       "         -9.5570e-05, -9.9390e-03, -2.3782e-02, -1.0560e-01,  3.6890e-02,\n",
       "          3.7961e-02,  5.6218e-02, -5.4058e-02,  4.9569e-02,  6.6142e-02,\n",
       "         -1.5792e-01,  1.5866e-01,  7.1012e-02,  4.1127e-02,  2.5136e-02,\n",
       "         -8.4386e-02, -1.2127e-02,  1.2953e-01, -5.8735e-02, -1.1808e-02,\n",
       "         -9.6799e-02, -1.0582e-02,  1.2825e-02,  6.7144e-02,  1.1481e-01,\n",
       "         -2.2455e-02,  1.8350e-02, -7.6411e-02, -4.3178e-03,  8.1231e-02,\n",
       "         -3.6831e-02, -1.3794e-02,  1.8406e-02, -2.3568e-02, -9.5055e-03,\n",
       "          8.5381e-02,  8.0227e-02, -5.9496e-02, -3.1576e-03, -6.4237e-02,\n",
       "         -4.8602e-02,  4.0869e-02, -9.8276e-02,  7.1664e-02,  2.0881e-02,\n",
       "          1.5669e-02,  6.7670e-03,  6.8280e-02, -7.1631e-02,  2.4875e-02,\n",
       "         -6.0181e-02,  8.6678e-02, -1.7302e-03, -5.1500e-02, -8.2101e-03,\n",
       "          1.1672e-01, -1.8069e-02, -7.0460e-02, -4.3423e-02, -2.6918e-02,\n",
       "         -1.5653e-02,  9.7423e-02, -7.1381e-02, -1.1428e-01,  3.9477e-04,\n",
       "          7.3319e-02, -5.0617e-02,  1.4776e-02,  9.5519e-02,  5.0546e-02,\n",
       "          1.0828e-01,  1.0176e-01,  5.4318e-02,  5.1198e-02, -1.2563e-02,\n",
       "         -9.4014e-03, -8.7716e-02, -5.6806e-02,  2.2338e-02,  2.4394e-02,\n",
       "         -3.6623e-02,  8.3624e-02,  1.3504e-01,  8.5969e-02,  4.0570e-02,\n",
       "         -8.2124e-02,  3.8974e-02, -4.4468e-02, -7.5595e-02,  7.5716e-04,\n",
       "         -3.3636e-02, -8.3499e-02,  4.3782e-02,  1.2144e-01,  7.9043e-02,\n",
       "         -5.9678e-02,  5.3003e-02,  1.8049e-02, -7.1401e-02, -8.5850e-03,\n",
       "         -3.5982e-02,  3.1623e-02, -9.9334e-02,  4.7262e-03, -5.1720e-02,\n",
       "          7.7497e-04,  1.2735e-01,  1.5429e-01,  2.9918e-02,  5.4073e-03,\n",
       "          5.0440e-02, -1.2790e-02, -2.1704e-02,  6.5665e-02,  1.2403e-01,\n",
       "         -1.2522e-01,  7.7684e-02, -5.4214e-03, -4.9031e-02, -2.0648e-02,\n",
       "         -2.4267e-03, -5.1105e-02, -6.8874e-02, -4.1264e-02, -1.7963e-03,\n",
       "          1.7037e-02,  1.1921e-01,  7.4524e-02, -6.9375e-02, -9.4623e-02,\n",
       "         -4.1270e-02, -1.3460e-01, -2.1022e-03,  6.6860e-02,  1.6604e-02,\n",
       "          3.7892e-02, -1.3638e-01,  4.5731e-03,  3.8698e-02, -8.0496e-02,\n",
       "         -6.2436e-02, -4.2130e-03,  1.7898e-02,  2.0845e-01, -9.0478e-03,\n",
       "         -1.1864e-01,  6.0783e-02,  6.5139e-02,  1.7611e-02,  4.3688e-03,\n",
       "          4.5814e-02,  2.2518e-02,  1.0978e-02,  2.9990e-02,  1.7465e-02,\n",
       "         -1.3783e-01, -2.9077e-03,  9.0747e-03,  7.2778e-02,  6.7015e-03,\n",
       "         -1.1923e-01, -1.0405e-01,  1.4131e-02, -8.6319e-02,  2.4429e-02,\n",
       "          3.5367e-02, -1.8053e-02, -1.2424e-02, -3.3537e-02, -2.9877e-02,\n",
       "          1.6084e-02,  4.7427e-02,  1.2118e-02, -1.9596e-02, -2.3547e-02,\n",
       "          6.6344e-03,  8.6553e-04, -8.8780e-02,  3.4320e-02, -9.5465e-02,\n",
       "          3.3805e-02,  2.2880e-02,  5.8047e-03,  6.5686e-02,  1.1660e-01,\n",
       "          4.0873e-02, -3.1907e-02,  4.6396e-02, -4.1894e-03,  3.0077e-02,\n",
       "          2.7327e-02, -8.4940e-02, -8.2443e-03,  6.7729e-02, -4.2953e-02,\n",
       "         -6.0877e-02, -3.3831e-02,  1.8300e-02, -3.0058e-02,  4.4710e-02,\n",
       "          2.9221e-02, -2.6222e-02]], requires_grad=True)"
      ]
     },
     "execution_count": 18,
     "metadata": {},
     "output_type": "execute_result"
    }
   ],
   "source": [
    "nn.init.xavier_normal_(linear1.weight)\n",
    "nn.init.xavier_normal_(linear2.weight)\n",
    "nn.init.xavier_normal_(linear3.weight)\n",
    "nn.init.xavier_normal_(linear4.weight)\n",
    "nn.init.xavier_normal_(linear5.weight)"
   ]
  },
  {
   "cell_type": "code",
   "execution_count": 19,
   "id": "9f7dc959",
   "metadata": {
    "execution": {
     "iopub.execute_input": "2022-10-13T08:53:43.432186Z",
     "iopub.status.busy": "2022-10-13T08:53:43.431747Z",
     "iopub.status.idle": "2022-10-13T08:53:43.441026Z",
     "shell.execute_reply": "2022-10-13T08:53:43.439835Z"
    },
    "papermill": {
     "duration": 0.023191,
     "end_time": "2022-10-13T08:53:43.443339",
     "exception": false,
     "start_time": "2022-10-13T08:53:43.420148",
     "status": "completed"
    },
    "tags": []
   },
   "outputs": [
    {
     "data": {
      "text/plain": [
       "Sequential(\n",
       "  (0): Linear(in_features=14, out_features=512, bias=True)\n",
       "  (1): ReLU()\n",
       "  (2): Dropout(p=0.3, inplace=False)\n",
       "  (3): Linear(in_features=512, out_features=512, bias=True)\n",
       "  (4): ReLU()\n",
       "  (5): Dropout(p=0.3, inplace=False)\n",
       "  (6): Linear(in_features=512, out_features=512, bias=True)\n",
       "  (7): ReLU()\n",
       "  (8): Dropout(p=0.3, inplace=False)\n",
       "  (9): Linear(in_features=512, out_features=512, bias=True)\n",
       "  (10): ReLU()\n",
       "  (11): Dropout(p=0.3, inplace=False)\n",
       "  (12): Linear(in_features=512, out_features=1, bias=True)\n",
       ")"
      ]
     },
     "execution_count": 19,
     "metadata": {},
     "output_type": "execute_result"
    }
   ],
   "source": [
    "model = nn.Sequential(linear1,relu,dropout,\n",
    "                     linear2,relu,dropout,\n",
    "                     linear3,relu,dropout,\n",
    "                     linear4,relu,dropout,\n",
    "                     linear5)\n",
    "model = model.to(device)\n",
    "model"
   ]
  },
  {
   "cell_type": "code",
   "execution_count": 20,
   "id": "08874650",
   "metadata": {
    "execution": {
     "iopub.execute_input": "2022-10-13T08:53:43.465097Z",
     "iopub.status.busy": "2022-10-13T08:53:43.464695Z",
     "iopub.status.idle": "2022-10-13T08:53:43.470203Z",
     "shell.execute_reply": "2022-10-13T08:53:43.469396Z"
    },
    "papermill": {
     "duration": 0.019041,
     "end_time": "2022-10-13T08:53:43.472438",
     "exception": false,
     "start_time": "2022-10-13T08:53:43.453397",
     "status": "completed"
    },
    "tags": []
   },
   "outputs": [],
   "source": [
    "loss = nn.MSELoss().to(device)\n",
    "optimizer = optim.Adam(model.parameters(), lr = learning_rate)"
   ]
  },
  {
   "cell_type": "code",
   "execution_count": 21,
   "id": "3a33911d",
   "metadata": {
    "execution": {
     "iopub.execute_input": "2022-10-13T08:53:43.494620Z",
     "iopub.status.busy": "2022-10-13T08:53:43.493800Z",
     "iopub.status.idle": "2022-10-13T08:55:42.928634Z",
     "shell.execute_reply": "2022-10-13T08:55:42.927122Z"
    },
    "papermill": {
     "duration": 119.449973,
     "end_time": "2022-10-13T08:55:42.932433",
     "exception": false,
     "start_time": "2022-10-13T08:53:43.482460",
     "status": "completed"
    },
    "tags": []
   },
   "outputs": [
    {
     "name": "stdout",
     "output_type": "stream",
     "text": [
      "Epoch: 0001 cost= 166823.234375000\n",
      "Epoch: 0002 cost= 57887.417968750\n",
      "Epoch: 0003 cost= 39194.972656250\n",
      "Epoch: 0004 cost= 30085.683593750\n",
      "Epoch: 0005 cost= 26185.164062500\n",
      "Epoch: 0006 cost= 23485.089843750\n",
      "Epoch: 0007 cost= 21775.996093750\n",
      "Epoch: 0008 cost= 20287.064453125\n",
      "Epoch: 0009 cost= 19543.113281250\n",
      "Epoch: 0010 cost= 17887.886718750\n",
      "Epoch: 0011 cost= 16736.847656250\n",
      "Epoch: 0012 cost= 17184.976562500\n",
      "Epoch: 0013 cost= 15928.783203125\n",
      "Epoch: 0014 cost= 15817.441406250\n",
      "Epoch: 0015 cost= 15601.461914062\n",
      "Epoch: 0016 cost= 14788.504882812\n",
      "Epoch: 0017 cost= 14816.362304688\n",
      "Epoch: 0018 cost= 13718.633789062\n",
      "Epoch: 0019 cost= 13949.270507812\n",
      "Epoch: 0020 cost= 14117.212890625\n",
      "Epoch: 0021 cost= 14098.725585938\n",
      "Epoch: 0022 cost= 13273.527343750\n",
      "Epoch: 0023 cost= 13403.738281250\n",
      "Epoch: 0024 cost= 12565.514648438\n",
      "Epoch: 0025 cost= 13011.339843750\n",
      "Epoch: 0026 cost= 12325.225585938\n",
      "Epoch: 0027 cost= 12399.690429688\n",
      "Epoch: 0028 cost= 12463.539062500\n",
      "Epoch: 0029 cost= 12275.998046875\n",
      "Epoch: 0030 cost= 11906.249023438\n",
      "Epoch: 0031 cost= 12039.483398438\n",
      "Epoch: 0032 cost= 11660.493164062\n",
      "Epoch: 0033 cost= 12059.720703125\n",
      "Epoch: 0034 cost= 11634.373046875\n",
      "Epoch: 0035 cost= 11380.300781250\n",
      "Epoch: 0036 cost= 11447.638671875\n",
      "Epoch: 0037 cost= 11813.854492188\n",
      "Epoch: 0038 cost= 11626.147460938\n",
      "Epoch: 0039 cost= 11128.779296875\n",
      "Epoch: 0040 cost= 11477.043945312\n",
      "Epoch: 0041 cost= 10974.899414062\n",
      "Epoch: 0042 cost= 10738.559570312\n",
      "Epoch: 0043 cost= 10763.722656250\n",
      "Epoch: 0044 cost= 10735.904296875\n",
      "Epoch: 0045 cost= 10649.336914062\n",
      "Epoch: 0046 cost= 10447.769531250\n",
      "Epoch: 0047 cost= 10903.083984375\n",
      "Epoch: 0048 cost= 11010.687500000\n",
      "Epoch: 0049 cost= 10038.099609375\n",
      "Epoch: 0050 cost= 10574.407226562\n"
     ]
    }
   ],
   "source": [
    "total_batch = len(data_loader_train)\n",
    "model.train() # 주의사항 drop_out = True\n",
    "\n",
    "for epoch in range(training_epochs):\n",
    "    avg_cost = 0\n",
    "    \n",
    "    \n",
    "    for X, Y in data_loader_train:\n",
    "        X_train = X.to(device)\n",
    "        y_train = Y.to(device)\n",
    "        \n",
    "        optimizer.zero_grad()\n",
    "        \n",
    "        hypothesis = model(X_train)\n",
    "        cost = loss(hypothesis,y_train)\n",
    "        \n",
    "        cost.backward()\n",
    "        optimizer.step()\n",
    "        \n",
    "        #평균 error 계산\n",
    "        avg_cost += cost / total_batch\n",
    "    \n",
    "    #if epoch%10 == 0:\n",
    "    print('Epoch:','%04d' % (epoch+1), 'cost=','{:.9f}'.format(avg_cost))\n"
   ]
  },
  {
   "cell_type": "code",
   "execution_count": 22,
   "id": "5f83de3e",
   "metadata": {
    "execution": {
     "iopub.execute_input": "2022-10-13T08:55:42.966231Z",
     "iopub.status.busy": "2022-10-13T08:55:42.965593Z",
     "iopub.status.idle": "2022-10-13T08:55:43.913234Z",
     "shell.execute_reply": "2022-10-13T08:55:43.911933Z"
    },
    "papermill": {
     "duration": 0.96585,
     "end_time": "2022-10-13T08:55:43.915954",
     "exception": false,
     "start_time": "2022-10-13T08:55:42.950104",
     "status": "completed"
    },
    "tags": []
   },
   "outputs": [
    {
     "name": "stdout",
     "output_type": "stream",
     "text": [
      "tensor(0.9604, grad_fn=<SqueezeBackward0>)\n"
     ]
    }
   ],
   "source": [
    "from torchmetrics import R2Score\n",
    "r2score = R2Score()\n",
    "\n",
    "print(r2score(hypothesis,y_train))"
   ]
  },
  {
   "cell_type": "markdown",
   "id": "d981b90e",
   "metadata": {
    "papermill": {
     "duration": 0.012992,
     "end_time": "2022-10-13T08:55:43.942129",
     "exception": false,
     "start_time": "2022-10-13T08:55:43.929137",
     "status": "completed"
    },
    "tags": []
   },
   "source": [
    "# Testing model"
   ]
  },
  {
   "cell_type": "code",
   "execution_count": 23,
   "id": "76becb6d",
   "metadata": {
    "execution": {
     "iopub.execute_input": "2022-10-13T08:55:43.975113Z",
     "iopub.status.busy": "2022-10-13T08:55:43.974699Z",
     "iopub.status.idle": "2022-10-13T08:55:44.196820Z",
     "shell.execute_reply": "2022-10-13T08:55:44.195035Z"
    },
    "papermill": {
     "duration": 0.242616,
     "end_time": "2022-10-13T08:55:44.200061",
     "exception": false,
     "start_time": "2022-10-13T08:55:43.957445",
     "status": "completed"
    },
    "tags": []
   },
   "outputs": [
    {
     "name": "stdout",
     "output_type": "stream",
     "text": [
      "[[ 34.570976 ]\n",
      " [ -5.598989 ]\n",
      " [ -3.3920493]\n",
      " ...\n",
      " [  2.026814 ]\n",
      " [  3.8781066]\n",
      " [622.54926  ]]\n"
     ]
    }
   ],
   "source": [
    "with torch.no_grad():\n",
    "    model.eval()  # 주의사항 (dropout=False)\n",
    "    y_test = model(X_test.to(device))\n",
    "    y_test = np.array(y_test.cpu())\n",
    "    print(y_test)"
   ]
  },
  {
   "cell_type": "markdown",
   "id": "bf5bd52b",
   "metadata": {
    "papermill": {
     "duration": 0.013002,
     "end_time": "2022-10-13T08:55:44.226801",
     "exception": false,
     "start_time": "2022-10-13T08:55:44.213799",
     "status": "completed"
    },
    "tags": []
   },
   "source": [
    "# Submit"
   ]
  },
  {
   "cell_type": "code",
   "execution_count": 24,
   "id": "029108e5",
   "metadata": {
    "execution": {
     "iopub.execute_input": "2022-10-13T08:55:44.254926Z",
     "iopub.status.busy": "2022-10-13T08:55:44.253771Z",
     "iopub.status.idle": "2022-10-13T08:55:44.275216Z",
     "shell.execute_reply": "2022-10-13T08:55:44.274158Z"
    },
    "papermill": {
     "duration": 0.037976,
     "end_time": "2022-10-13T08:55:44.277656",
     "exception": false,
     "start_time": "2022-10-13T08:55:44.239680",
     "status": "completed"
    },
    "tags": []
   },
   "outputs": [
    {
     "data": {
      "text/html": [
       "<div>\n",
       "<style scoped>\n",
       "    .dataframe tbody tr th:only-of-type {\n",
       "        vertical-align: middle;\n",
       "    }\n",
       "\n",
       "    .dataframe tbody tr th {\n",
       "        vertical-align: top;\n",
       "    }\n",
       "\n",
       "    .dataframe thead th {\n",
       "        text-align: right;\n",
       "    }\n",
       "</style>\n",
       "<table border=\"1\" class=\"dataframe\">\n",
       "  <thead>\n",
       "    <tr style=\"text-align: right;\">\n",
       "      <th></th>\n",
       "      <th>id</th>\n",
       "      <th>predict</th>\n",
       "    </tr>\n",
       "  </thead>\n",
       "  <tbody>\n",
       "    <tr>\n",
       "      <th>0</th>\n",
       "      <td>0</td>\n",
       "      <td>0</td>\n",
       "    </tr>\n",
       "    <tr>\n",
       "      <th>1</th>\n",
       "      <td>1</td>\n",
       "      <td>0</td>\n",
       "    </tr>\n",
       "    <tr>\n",
       "      <th>2</th>\n",
       "      <td>2</td>\n",
       "      <td>0</td>\n",
       "    </tr>\n",
       "    <tr>\n",
       "      <th>3</th>\n",
       "      <td>3</td>\n",
       "      <td>0</td>\n",
       "    </tr>\n",
       "    <tr>\n",
       "      <th>4</th>\n",
       "      <td>4</td>\n",
       "      <td>0</td>\n",
       "    </tr>\n",
       "    <tr>\n",
       "      <th>...</th>\n",
       "      <td>...</td>\n",
       "      <td>...</td>\n",
       "    </tr>\n",
       "    <tr>\n",
       "      <th>10578</th>\n",
       "      <td>10578</td>\n",
       "      <td>0</td>\n",
       "    </tr>\n",
       "    <tr>\n",
       "      <th>10579</th>\n",
       "      <td>10579</td>\n",
       "      <td>0</td>\n",
       "    </tr>\n",
       "    <tr>\n",
       "      <th>10580</th>\n",
       "      <td>10580</td>\n",
       "      <td>0</td>\n",
       "    </tr>\n",
       "    <tr>\n",
       "      <th>10581</th>\n",
       "      <td>10581</td>\n",
       "      <td>0</td>\n",
       "    </tr>\n",
       "    <tr>\n",
       "      <th>10582</th>\n",
       "      <td>10582</td>\n",
       "      <td>0</td>\n",
       "    </tr>\n",
       "  </tbody>\n",
       "</table>\n",
       "<p>10583 rows × 2 columns</p>\n",
       "</div>"
      ],
      "text/plain": [
       "          id  predict\n",
       "0          0        0\n",
       "1          1        0\n",
       "2          2        0\n",
       "3          3        0\n",
       "4          4        0\n",
       "...      ...      ...\n",
       "10578  10578        0\n",
       "10579  10579        0\n",
       "10580  10580        0\n",
       "10581  10581        0\n",
       "10582  10582        0\n",
       "\n",
       "[10583 rows x 2 columns]"
      ]
     },
     "execution_count": 24,
     "metadata": {},
     "output_type": "execute_result"
    }
   ],
   "source": [
    "submit = pd.read_csv('../input/2022-ai-w7p2/sample_submission.csv')\n",
    "submit"
   ]
  },
  {
   "cell_type": "code",
   "execution_count": 25,
   "id": "819f066a",
   "metadata": {
    "execution": {
     "iopub.execute_input": "2022-10-13T08:55:44.306156Z",
     "iopub.status.busy": "2022-10-13T08:55:44.305739Z",
     "iopub.status.idle": "2022-10-13T08:55:44.321786Z",
     "shell.execute_reply": "2022-10-13T08:55:44.320827Z"
    },
    "papermill": {
     "duration": 0.0327,
     "end_time": "2022-10-13T08:55:44.323763",
     "exception": false,
     "start_time": "2022-10-13T08:55:44.291063",
     "status": "completed"
    },
    "tags": []
   },
   "outputs": [
    {
     "data": {
      "text/html": [
       "<div>\n",
       "<style scoped>\n",
       "    .dataframe tbody tr th:only-of-type {\n",
       "        vertical-align: middle;\n",
       "    }\n",
       "\n",
       "    .dataframe tbody tr th {\n",
       "        vertical-align: top;\n",
       "    }\n",
       "\n",
       "    .dataframe thead th {\n",
       "        text-align: right;\n",
       "    }\n",
       "</style>\n",
       "<table border=\"1\" class=\"dataframe\">\n",
       "  <thead>\n",
       "    <tr style=\"text-align: right;\">\n",
       "      <th></th>\n",
       "      <th>id</th>\n",
       "      <th>predict</th>\n",
       "    </tr>\n",
       "  </thead>\n",
       "  <tbody>\n",
       "    <tr>\n",
       "      <th>0</th>\n",
       "      <td>0</td>\n",
       "      <td>34.570976</td>\n",
       "    </tr>\n",
       "    <tr>\n",
       "      <th>1</th>\n",
       "      <td>1</td>\n",
       "      <td>-5.598989</td>\n",
       "    </tr>\n",
       "    <tr>\n",
       "      <th>2</th>\n",
       "      <td>2</td>\n",
       "      <td>-3.392049</td>\n",
       "    </tr>\n",
       "    <tr>\n",
       "      <th>3</th>\n",
       "      <td>3</td>\n",
       "      <td>1083.594971</td>\n",
       "    </tr>\n",
       "    <tr>\n",
       "      <th>4</th>\n",
       "      <td>4</td>\n",
       "      <td>1753.816895</td>\n",
       "    </tr>\n",
       "    <tr>\n",
       "      <th>...</th>\n",
       "      <td>...</td>\n",
       "      <td>...</td>\n",
       "    </tr>\n",
       "    <tr>\n",
       "      <th>10578</th>\n",
       "      <td>10578</td>\n",
       "      <td>0.148982</td>\n",
       "    </tr>\n",
       "    <tr>\n",
       "      <th>10579</th>\n",
       "      <td>10579</td>\n",
       "      <td>-2.361526</td>\n",
       "    </tr>\n",
       "    <tr>\n",
       "      <th>10580</th>\n",
       "      <td>10580</td>\n",
       "      <td>2.026814</td>\n",
       "    </tr>\n",
       "    <tr>\n",
       "      <th>10581</th>\n",
       "      <td>10581</td>\n",
       "      <td>3.878107</td>\n",
       "    </tr>\n",
       "    <tr>\n",
       "      <th>10582</th>\n",
       "      <td>10582</td>\n",
       "      <td>622.549255</td>\n",
       "    </tr>\n",
       "  </tbody>\n",
       "</table>\n",
       "<p>10583 rows × 2 columns</p>\n",
       "</div>"
      ],
      "text/plain": [
       "          id      predict\n",
       "0          0    34.570976\n",
       "1          1    -5.598989\n",
       "2          2    -3.392049\n",
       "3          3  1083.594971\n",
       "4          4  1753.816895\n",
       "...      ...          ...\n",
       "10578  10578     0.148982\n",
       "10579  10579    -2.361526\n",
       "10580  10580     2.026814\n",
       "10581  10581     3.878107\n",
       "10582  10582   622.549255\n",
       "\n",
       "[10583 rows x 2 columns]"
      ]
     },
     "execution_count": 25,
     "metadata": {},
     "output_type": "execute_result"
    }
   ],
   "source": [
    "submit['predict']  = y_test\n",
    "submit"
   ]
  },
  {
   "cell_type": "code",
   "execution_count": 26,
   "id": "4036753a",
   "metadata": {
    "execution": {
     "iopub.execute_input": "2022-10-13T08:55:44.352818Z",
     "iopub.status.busy": "2022-10-13T08:55:44.351807Z",
     "iopub.status.idle": "2022-10-13T08:55:44.377330Z",
     "shell.execute_reply": "2022-10-13T08:55:44.376426Z"
    },
    "papermill": {
     "duration": 0.042515,
     "end_time": "2022-10-13T08:55:44.379774",
     "exception": false,
     "start_time": "2022-10-13T08:55:44.337259",
     "status": "completed"
    },
    "tags": []
   },
   "outputs": [],
   "source": [
    "submit.to_csv('submit.csv',index=False)\n"
   ]
  },
  {
   "cell_type": "code",
   "execution_count": null,
   "id": "eff7760c",
   "metadata": {
    "papermill": {
     "duration": 0.013107,
     "end_time": "2022-10-13T08:55:44.406477",
     "exception": false,
     "start_time": "2022-10-13T08:55:44.393370",
     "status": "completed"
    },
    "tags": []
   },
   "outputs": [],
   "source": []
  }
 ],
 "metadata": {
  "kernelspec": {
   "display_name": "Python 3",
   "language": "python",
   "name": "python3"
  },
  "language_info": {
   "codemirror_mode": {
    "name": "ipython",
    "version": 3
   },
   "file_extension": ".py",
   "mimetype": "text/x-python",
   "name": "python",
   "nbconvert_exporter": "python",
   "pygments_lexer": "ipython3",
   "version": "3.7.12"
  },
  "papermill": {
   "default_parameters": {},
   "duration": 134.416412,
   "end_time": "2022-10-13T08:55:45.341860",
   "environment_variables": {},
   "exception": null,
   "input_path": "__notebook__.ipynb",
   "output_path": "__notebook__.ipynb",
   "parameters": {},
   "start_time": "2022-10-13T08:53:30.925448",
   "version": "2.3.4"
  }
 },
 "nbformat": 4,
 "nbformat_minor": 5
}
